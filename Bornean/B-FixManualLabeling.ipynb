{
 "cells": [
  {
   "cell_type": "code",
   "execution_count": 11,
   "metadata": {
    "colab": {
     "base_uri": "https://localhost:8080/"
    },
    "id": "hG3LSmJmLylT",
    "outputId": "90648520-16bd-4847-f62e-50cd5684d6ad"
   },
   "outputs": [],
   "source": [
    "import numpy as np\n",
    "import tifffile\n",
    "import glob\n",
    "\n",
    "import napari\n"
   ]
  },
  {
   "cell_type": "code",
   "execution_count": 12,
   "metadata": {},
   "outputs": [],
   "source": [
    "viewer = napari.Viewer()"
   ]
  },
  {
   "cell_type": "code",
   "execution_count": 13,
   "metadata": {},
   "outputs": [],
   "source": [
    "flist = glob.glob('./acrocentric_inferred/*.tif')\n",
    "flist.sort()"
   ]
  },
  {
   "cell_type": "code",
   "execution_count": 14,
   "metadata": {},
   "outputs": [],
   "source": [
    "DAPI_channel = 0\n",
    "rDNA_channel = 1\n",
    "marker_channel = 2"
   ]
  },
  {
   "cell_type": "code",
   "execution_count": 15,
   "metadata": {},
   "outputs": [],
   "source": [
    "just_starting = True\n",
    "idx = 0"
   ]
  },
  {
   "cell_type": "code",
   "execution_count": 16,
   "metadata": {},
   "outputs": [],
   "source": [
    "@viewer.bind_key('Q', overwrite=True)\n",
    "def turn_off_DAPI(viewer):\n",
    "    if viewer.layers[DAPI_channel].visible:\n",
    "        viewer.layers[DAPI_channel].visible=False\n",
    "    else:\n",
    "        viewer.layers[DAPI_channel].visible=True"
   ]
  },
  {
   "cell_type": "code",
   "execution_count": 17,
   "metadata": {},
   "outputs": [],
   "source": [
    "@viewer.bind_key('W', overwrite=True)\n",
    "def turn_off_rDNA(viewer):\n",
    "    if viewer.layers[rDNA_channel].visible:\n",
    "        viewer.layers[rDNA_channel].visible=False\n",
    "    else:\n",
    "        viewer.layers[rDNA_channel].visible=True"
   ]
  },
  {
   "cell_type": "code",
   "execution_count": 18,
   "metadata": {},
   "outputs": [],
   "source": [
    "@viewer.bind_key('E', overwrite=True)\n",
    "def turn_off_rDNA(viewer):\n",
    "    if viewer.layers[-1].visible:\n",
    "        viewer.layers[-1].visible=False\n",
    "    else:\n",
    "        viewer.layers[-1].visible=True"
   ]
  },
  {
   "cell_type": "code",
   "execution_count": 19,
   "metadata": {},
   "outputs": [],
   "source": [
    "@viewer.bind_key('R', overwrite=True)\n",
    "def turn_off_rDNA(viewer):\n",
    "    if viewer.layers[marker_channel].visible:\n",
    "        viewer.layers[marker_channel].visible=False\n",
    "    else:\n",
    "        viewer.layers[marker_channel].visible=True"
   ]
  },
  {
   "cell_type": "code",
   "execution_count": 20,
   "metadata": {},
   "outputs": [],
   "source": [
    "@viewer.bind_key('F', overwrite=True)\n",
    "def go_to_next(viewer):\n",
    "    global just_starting\n",
    "    global idx\n",
    "    global flist\n",
    "    if just_starting:\n",
    "        just_starting=False\n",
    "    else:\n",
    "        tmp = np.array([v.data for v in viewer.layers])\n",
    "        tifffile.imwrite(flist[idx-1], np.array([v.data for v in viewer.layers]).astype(np.ushort), imagej=True)\n",
    "        print(flist[idx-1])\n",
    "    viewer.layers.clear()\n",
    "    img = tifffile.imread(flist[idx])\n",
    "    print(flist[idx])\n",
    "    viewer.add_image(img[0:-1], channel_axis=0)\n",
    "    viewer.layers[DAPI_channel].colormap='cyan'\n",
    "    viewer.layers[marker_channel].contrast_limits=[20,2200]\n",
    "    viewer.layers[rDNA_channel].colormap='green'\n",
    "    viewer.layers[rDNA_channel].contrast_limits=[np.percentile(viewer.layers[rDNA_channel].data, 30),\n",
    "                                                 np.percentile(viewer.layers[rDNA_channel].data, 99.99)]\n",
    "    viewer.layers[marker_channel].colormap='red'\n",
    "    viewer.layers[marker_channel].visible=False\n",
    "    viewer.layers[DAPI_channel].visible=True\n",
    "    viewer.layers[-1].visible=False\n",
    "    viewer.add_labels(img[-1].astype(int))\n",
    "    idx = idx+1\n",
    "    \n"
   ]
  },
  {
   "cell_type": "markdown",
   "metadata": {},
   "source": []
  },
  {
   "cell_type": "markdown",
   "metadata": {},
   "source": []
  },
  {
   "cell_type": "markdown",
   "metadata": {},
   "source": []
  }
 ],
 "metadata": {
  "accelerator": "GPU",
  "colab": {
   "collapsed_sections": [],
   "name": "Copy of run_cellpose_GPU.ipynb",
   "provenance": [],
   "toc_visible": true
  },
  "kernelspec": {
   "display_name": "Python 3 (ipykernel)",
   "language": "python",
   "name": "python3"
  },
  "language_info": {
   "codemirror_mode": {
    "name": "ipython",
    "version": 3
   },
   "file_extension": ".py",
   "mimetype": "text/x-python",
   "name": "python",
   "nbconvert_exporter": "python",
   "pygments_lexer": "ipython3",
   "version": "3.10.13"
  }
 },
 "nbformat": 4,
 "nbformat_minor": 4
}

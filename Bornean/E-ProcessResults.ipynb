{
 "cells": [
  {
   "cell_type": "code",
   "execution_count": 20,
   "metadata": {
    "colab": {
     "base_uri": "https://localhost:8080/"
    },
    "id": "hG3LSmJmLylT",
    "outputId": "90648520-16bd-4847-f62e-50cd5684d6ad"
   },
   "outputs": [],
   "source": [
    "import numpy as np\n",
    "import time, os, sys\n",
    "from urllib.parse import urlparse\n",
    "import skimage.io\n",
    "import scipy as sp\n",
    "import tifffile\n",
    "from cellpose import plot\n",
    "import pandas as pd\n",
    "import glob\n",
    "\n",
    "from urllib.parse import urlparse\n",
    "from cellpose import models\n",
    "import skimage.measure as measure\n",
    "import skimage.transform as transform\n",
    "import plotly.graph_objs as go\n",
    "\n",
    "import cv2\n",
    "import napari\n",
    "import scipy.ndimage as ndimage\n",
    "from roifile import ImagejRoi\n",
    "from cellpose import models\n",
    "import glob\n",
    "import plotly.express as px\n",
    "from scipy import stats\n",
    "import skimage as ski"
   ]
  },
  {
   "cell_type": "code",
   "execution_count": 21,
   "metadata": {},
   "outputs": [],
   "source": [
    "viewer = napari.Viewer()"
   ]
  },
  {
   "cell_type": "code",
   "execution_count": 22,
   "metadata": {},
   "outputs": [],
   "source": [
    "wwidth=65\n",
    "wheight=130\n"
   ]
  },
  {
   "cell_type": "code",
   "execution_count": 23,
   "metadata": {},
   "outputs": [],
   "source": [
    "def merge_rDNA_labels(rDNA_labels, chromosome_labels):\n",
    "    rtn_labels = np.zeros(rDNA_labels.shape)\n",
    "    for a in range(1,np.max(rDNA_labels)+1):\n",
    "        sub = chromosome_labels[rDNA_labels==a]\n",
    "        candidate = stats.mode(sub[sub>0])[0]\n",
    "        if np.isnan(candidate):\n",
    "            candidate = 0\n",
    "        rtn_labels[rDNA_labels==a] = candidate\n",
    "    return rtn_labels.astype(int)"
   ]
  },
  {
   "cell_type": "markdown",
   "metadata": {},
   "source": [
    "# Analysis (no rois)"
   ]
  },
  {
   "cell_type": "markdown",
   "metadata": {},
   "source": [
    "We're going to have a go at just using the marker intensity, this is complicated by the fact that Chromosome 2 actually has 4 pieces instead of just 2."
   ]
  },
  {
   "cell_type": "code",
   "execution_count": 24,
   "metadata": {},
   "outputs": [],
   "source": [
    "df = pd.read_csv('Results.csv')\n",
    "df = df.fillna(0)"
   ]
  },
  {
   "cell_type": "code",
   "execution_count": 25,
   "metadata": {},
   "outputs": [],
   "source": [
    "df = df.merge(df.groupby(['File']).agg({'Areas':len}).reset_index().rename(columns={'Areas':'ChromCount'}), on='File')\n",
    "df = df[df['ChromCount']>=18]"
   ]
  },
  {
   "cell_type": "code",
   "execution_count": 26,
   "metadata": {},
   "outputs": [
    {
     "data": {
      "text/html": [
       "<div>\n",
       "<style scoped>\n",
       "    .dataframe tbody tr th:only-of-type {\n",
       "        vertical-align: middle;\n",
       "    }\n",
       "\n",
       "    .dataframe tbody tr th {\n",
       "        vertical-align: top;\n",
       "    }\n",
       "\n",
       "    .dataframe thead th {\n",
       "        text-align: right;\n",
       "    }\n",
       "</style>\n",
       "<table border=\"1\" class=\"dataframe\">\n",
       "  <thead>\n",
       "    <tr style=\"text-align: right;\">\n",
       "      <th></th>\n",
       "      <th>Unnamed: 0</th>\n",
       "      <th>File</th>\n",
       "      <th>IntDens</th>\n",
       "      <th>rDNA_Areas</th>\n",
       "      <th>Areas</th>\n",
       "      <th>Mean</th>\n",
       "      <th>Marker_Mean</th>\n",
       "      <th>UBF_Mean</th>\n",
       "      <th>UBF_IntDens</th>\n",
       "      <th>labels</th>\n",
       "      <th>Chromosome</th>\n",
       "      <th>ChromCount</th>\n",
       "    </tr>\n",
       "  </thead>\n",
       "  <tbody>\n",
       "    <tr>\n",
       "      <th>0</th>\n",
       "      <td>14</td>\n",
       "      <td>./acrocentric_inferred\\B.Orang_chr13_UBF_1001-...</td>\n",
       "      <td>0.074889</td>\n",
       "      <td>129</td>\n",
       "      <td>441.0</td>\n",
       "      <td>589.550388</td>\n",
       "      <td>3117.4377</td>\n",
       "      <td>2648432.0</td>\n",
       "      <td>0.223231</td>\n",
       "      <td>15.0</td>\n",
       "      <td>chr13</td>\n",
       "      <td>18</td>\n",
       "    </tr>\n",
       "    <tr>\n",
       "      <th>1</th>\n",
       "      <td>6</td>\n",
       "      <td>./acrocentric_inferred\\B.Orang_chr13_UBF_1001-...</td>\n",
       "      <td>0.110767</td>\n",
       "      <td>150</td>\n",
       "      <td>475.0</td>\n",
       "      <td>749.913333</td>\n",
       "      <td>3101.4336</td>\n",
       "      <td>3426991.0</td>\n",
       "      <td>0.288854</td>\n",
       "      <td>7.0</td>\n",
       "      <td>chr13</td>\n",
       "      <td>18</td>\n",
       "    </tr>\n",
       "    <tr>\n",
       "      <th>2</th>\n",
       "      <td>8</td>\n",
       "      <td>./acrocentric_inferred\\B.Orang_chr13_UBF_1001-...</td>\n",
       "      <td>0.014362</td>\n",
       "      <td>93</td>\n",
       "      <td>460.0</td>\n",
       "      <td>156.827957</td>\n",
       "      <td>2178.2173</td>\n",
       "      <td>-7312.0</td>\n",
       "      <td>-0.000616</td>\n",
       "      <td>9.0</td>\n",
       "      <td>chr13</td>\n",
       "      <td>18</td>\n",
       "    </tr>\n",
       "    <tr>\n",
       "      <th>3</th>\n",
       "      <td>11</td>\n",
       "      <td>./acrocentric_inferred\\B.Orang_chr13_UBF_1001-...</td>\n",
       "      <td>0.000000</td>\n",
       "      <td>0</td>\n",
       "      <td>333.0</td>\n",
       "      <td>0.000000</td>\n",
       "      <td>2159.1230</td>\n",
       "      <td>0.0</td>\n",
       "      <td>0.000000</td>\n",
       "      <td>12.0</td>\n",
       "      <td>chr13</td>\n",
       "      <td>18</td>\n",
       "    </tr>\n",
       "    <tr>\n",
       "      <th>4</th>\n",
       "      <td>17</td>\n",
       "      <td>./acrocentric_inferred\\B.Orang_chr13_UBF_1001-...</td>\n",
       "      <td>0.024165</td>\n",
       "      <td>68</td>\n",
       "      <td>509.0</td>\n",
       "      <td>360.882353</td>\n",
       "      <td>2143.4520</td>\n",
       "      <td>183059.0</td>\n",
       "      <td>0.015430</td>\n",
       "      <td>18.0</td>\n",
       "      <td>chr13</td>\n",
       "      <td>18</td>\n",
       "    </tr>\n",
       "    <tr>\n",
       "      <th>...</th>\n",
       "      <td>...</td>\n",
       "      <td>...</td>\n",
       "      <td>...</td>\n",
       "      <td>...</td>\n",
       "      <td>...</td>\n",
       "      <td>...</td>\n",
       "      <td>...</td>\n",
       "      <td>...</td>\n",
       "      <td>...</td>\n",
       "      <td>...</td>\n",
       "      <td>...</td>\n",
       "      <td>...</td>\n",
       "    </tr>\n",
       "    <tr>\n",
       "      <th>3025</th>\n",
       "      <td>10</td>\n",
       "      <td>./acrocentric_inferred\\B.Orang_chr9_UBF_1035-1...</td>\n",
       "      <td>0.080987</td>\n",
       "      <td>102</td>\n",
       "      <td>410.0</td>\n",
       "      <td>692.833333</td>\n",
       "      <td>2486.5293</td>\n",
       "      <td>173986.0</td>\n",
       "      <td>0.063036</td>\n",
       "      <td>11.0</td>\n",
       "      <td>chr9</td>\n",
       "      <td>18</td>\n",
       "    </tr>\n",
       "    <tr>\n",
       "      <th>3026</th>\n",
       "      <td>7</td>\n",
       "      <td>./acrocentric_inferred\\B.Orang_chr9_UBF_1035-1...</td>\n",
       "      <td>0.254754</td>\n",
       "      <td>189</td>\n",
       "      <td>467.0</td>\n",
       "      <td>1176.169312</td>\n",
       "      <td>2476.8093</td>\n",
       "      <td>-2622.0</td>\n",
       "      <td>-0.000950</td>\n",
       "      <td>8.0</td>\n",
       "      <td>chr9</td>\n",
       "      <td>18</td>\n",
       "    </tr>\n",
       "    <tr>\n",
       "      <th>3027</th>\n",
       "      <td>3</td>\n",
       "      <td>./acrocentric_inferred\\B.Orang_chr9_UBF_1035-1...</td>\n",
       "      <td>0.024907</td>\n",
       "      <td>68</td>\n",
       "      <td>349.0</td>\n",
       "      <td>319.617647</td>\n",
       "      <td>2446.9856</td>\n",
       "      <td>138608.0</td>\n",
       "      <td>0.050218</td>\n",
       "      <td>4.0</td>\n",
       "      <td>chr9</td>\n",
       "      <td>18</td>\n",
       "    </tr>\n",
       "    <tr>\n",
       "      <th>3028</th>\n",
       "      <td>9</td>\n",
       "      <td>./acrocentric_inferred\\B.Orang_chr9_UBF_1035-1...</td>\n",
       "      <td>0.095712</td>\n",
       "      <td>140</td>\n",
       "      <td>500.0</td>\n",
       "      <td>596.557143</td>\n",
       "      <td>2443.4780</td>\n",
       "      <td>241533.0</td>\n",
       "      <td>0.087509</td>\n",
       "      <td>10.0</td>\n",
       "      <td>chr9</td>\n",
       "      <td>18</td>\n",
       "    </tr>\n",
       "    <tr>\n",
       "      <th>3029</th>\n",
       "      <td>0</td>\n",
       "      <td>./acrocentric_inferred\\B.Orang_chr9_UBF_1035-1...</td>\n",
       "      <td>0.020922</td>\n",
       "      <td>86</td>\n",
       "      <td>290.0</td>\n",
       "      <td>212.279070</td>\n",
       "      <td>2330.5620</td>\n",
       "      <td>37834.0</td>\n",
       "      <td>0.013707</td>\n",
       "      <td>1.0</td>\n",
       "      <td>chr9</td>\n",
       "      <td>18</td>\n",
       "    </tr>\n",
       "  </tbody>\n",
       "</table>\n",
       "<p>2590 rows × 12 columns</p>\n",
       "</div>"
      ],
      "text/plain": [
       "      Unnamed: 0                                               File   IntDens  \\\n",
       "0             14  ./acrocentric_inferred\\B.Orang_chr13_UBF_1001-...  0.074889   \n",
       "1              6  ./acrocentric_inferred\\B.Orang_chr13_UBF_1001-...  0.110767   \n",
       "2              8  ./acrocentric_inferred\\B.Orang_chr13_UBF_1001-...  0.014362   \n",
       "3             11  ./acrocentric_inferred\\B.Orang_chr13_UBF_1001-...  0.000000   \n",
       "4             17  ./acrocentric_inferred\\B.Orang_chr13_UBF_1001-...  0.024165   \n",
       "...          ...                                                ...       ...   \n",
       "3025          10  ./acrocentric_inferred\\B.Orang_chr9_UBF_1035-1...  0.080987   \n",
       "3026           7  ./acrocentric_inferred\\B.Orang_chr9_UBF_1035-1...  0.254754   \n",
       "3027           3  ./acrocentric_inferred\\B.Orang_chr9_UBF_1035-1...  0.024907   \n",
       "3028           9  ./acrocentric_inferred\\B.Orang_chr9_UBF_1035-1...  0.095712   \n",
       "3029           0  ./acrocentric_inferred\\B.Orang_chr9_UBF_1035-1...  0.020922   \n",
       "\n",
       "      rDNA_Areas  Areas         Mean  Marker_Mean   UBF_Mean  UBF_IntDens  \\\n",
       "0            129  441.0   589.550388    3117.4377  2648432.0     0.223231   \n",
       "1            150  475.0   749.913333    3101.4336  3426991.0     0.288854   \n",
       "2             93  460.0   156.827957    2178.2173    -7312.0    -0.000616   \n",
       "3              0  333.0     0.000000    2159.1230        0.0     0.000000   \n",
       "4             68  509.0   360.882353    2143.4520   183059.0     0.015430   \n",
       "...          ...    ...          ...          ...        ...          ...   \n",
       "3025         102  410.0   692.833333    2486.5293   173986.0     0.063036   \n",
       "3026         189  467.0  1176.169312    2476.8093    -2622.0    -0.000950   \n",
       "3027          68  349.0   319.617647    2446.9856   138608.0     0.050218   \n",
       "3028         140  500.0   596.557143    2443.4780   241533.0     0.087509   \n",
       "3029          86  290.0   212.279070    2330.5620    37834.0     0.013707   \n",
       "\n",
       "      labels Chromosome  ChromCount  \n",
       "0       15.0      chr13          18  \n",
       "1        7.0      chr13          18  \n",
       "2        9.0      chr13          18  \n",
       "3       12.0      chr13          18  \n",
       "4       18.0      chr13          18  \n",
       "...      ...        ...         ...  \n",
       "3025    11.0       chr9          18  \n",
       "3026     8.0       chr9          18  \n",
       "3027     4.0       chr9          18  \n",
       "3028    10.0       chr9          18  \n",
       "3029     1.0       chr9          18  \n",
       "\n",
       "[2590 rows x 12 columns]"
      ]
     },
     "execution_count": 26,
     "metadata": {},
     "output_type": "execute_result"
    }
   ],
   "source": [
    "df"
   ]
  },
  {
   "cell_type": "code",
   "execution_count": 27,
   "metadata": {},
   "outputs": [],
   "source": [
    "df['MarkerRank'] = df.groupby(['File']).rank(ascending=False)['Marker_Mean']"
   ]
  },
  {
   "cell_type": "code",
   "execution_count": 28,
   "metadata": {},
   "outputs": [],
   "source": [
    "sub_df = df[df['MarkerRank']<3]\n",
    "chr2_df = df[(df['MarkerRank']>2) & (df['MarkerRank']<5) & (df['Chromosome']=='chr2')]"
   ]
  },
  {
   "cell_type": "code",
   "execution_count": 29,
   "metadata": {},
   "outputs": [
    {
     "data": {
      "text/html": [
       "<div>\n",
       "<style scoped>\n",
       "    .dataframe tbody tr th:only-of-type {\n",
       "        vertical-align: middle;\n",
       "    }\n",
       "\n",
       "    .dataframe tbody tr th {\n",
       "        vertical-align: top;\n",
       "    }\n",
       "\n",
       "    .dataframe thead th {\n",
       "        text-align: right;\n",
       "    }\n",
       "</style>\n",
       "<table border=\"1\" class=\"dataframe\">\n",
       "  <thead>\n",
       "    <tr style=\"text-align: right;\">\n",
       "      <th></th>\n",
       "      <th>Unnamed: 0</th>\n",
       "      <th>File</th>\n",
       "      <th>IntDens</th>\n",
       "      <th>rDNA_Areas</th>\n",
       "      <th>Areas</th>\n",
       "      <th>Mean</th>\n",
       "      <th>Marker_Mean</th>\n",
       "      <th>UBF_Mean</th>\n",
       "      <th>UBF_IntDens</th>\n",
       "      <th>labels</th>\n",
       "      <th>Chromosome</th>\n",
       "      <th>ChromCount</th>\n",
       "      <th>MarkerRank</th>\n",
       "    </tr>\n",
       "  </thead>\n",
       "  <tbody>\n",
       "    <tr>\n",
       "      <th>0</th>\n",
       "      <td>14</td>\n",
       "      <td>./acrocentric_inferred\\B.Orang_chr13_UBF_1001-...</td>\n",
       "      <td>0.074889</td>\n",
       "      <td>129</td>\n",
       "      <td>441.0</td>\n",
       "      <td>589.550388</td>\n",
       "      <td>3117.4377</td>\n",
       "      <td>2648432.0</td>\n",
       "      <td>0.223231</td>\n",
       "      <td>15.0</td>\n",
       "      <td>chr13</td>\n",
       "      <td>18</td>\n",
       "      <td>1.0</td>\n",
       "    </tr>\n",
       "    <tr>\n",
       "      <th>1</th>\n",
       "      <td>6</td>\n",
       "      <td>./acrocentric_inferred\\B.Orang_chr13_UBF_1001-...</td>\n",
       "      <td>0.110767</td>\n",
       "      <td>150</td>\n",
       "      <td>475.0</td>\n",
       "      <td>749.913333</td>\n",
       "      <td>3101.4336</td>\n",
       "      <td>3426991.0</td>\n",
       "      <td>0.288854</td>\n",
       "      <td>7.0</td>\n",
       "      <td>chr13</td>\n",
       "      <td>18</td>\n",
       "      <td>2.0</td>\n",
       "    </tr>\n",
       "    <tr>\n",
       "      <th>18</th>\n",
       "      <td>13</td>\n",
       "      <td>./acrocentric_inferred\\B.Orang_chr13_UBF_1002-...</td>\n",
       "      <td>0.105508</td>\n",
       "      <td>167</td>\n",
       "      <td>562.0</td>\n",
       "      <td>803.161677</td>\n",
       "      <td>3574.3718</td>\n",
       "      <td>839983.0</td>\n",
       "      <td>0.191019</td>\n",
       "      <td>14.0</td>\n",
       "      <td>chr13</td>\n",
       "      <td>18</td>\n",
       "      <td>1.0</td>\n",
       "    </tr>\n",
       "    <tr>\n",
       "      <th>19</th>\n",
       "      <td>0</td>\n",
       "      <td>./acrocentric_inferred\\B.Orang_chr13_UBF_1002-...</td>\n",
       "      <td>0.074928</td>\n",
       "      <td>124</td>\n",
       "      <td>531.0</td>\n",
       "      <td>768.169355</td>\n",
       "      <td>3543.2354</td>\n",
       "      <td>1187958.0</td>\n",
       "      <td>0.270152</td>\n",
       "      <td>1.0</td>\n",
       "      <td>chr13</td>\n",
       "      <td>18</td>\n",
       "      <td>2.0</td>\n",
       "    </tr>\n",
       "    <tr>\n",
       "      <th>36</th>\n",
       "      <td>15</td>\n",
       "      <td>./acrocentric_inferred\\B.Orang_chr13_UBF_1003-...</td>\n",
       "      <td>0.063970</td>\n",
       "      <td>84</td>\n",
       "      <td>580.0</td>\n",
       "      <td>805.750000</td>\n",
       "      <td>2975.4312</td>\n",
       "      <td>1017432.0</td>\n",
       "      <td>0.111017</td>\n",
       "      <td>16.0</td>\n",
       "      <td>chr13</td>\n",
       "      <td>18</td>\n",
       "      <td>1.0</td>\n",
       "    </tr>\n",
       "    <tr>\n",
       "      <th>...</th>\n",
       "      <td>...</td>\n",
       "      <td>...</td>\n",
       "      <td>...</td>\n",
       "      <td>...</td>\n",
       "      <td>...</td>\n",
       "      <td>...</td>\n",
       "      <td>...</td>\n",
       "      <td>...</td>\n",
       "      <td>...</td>\n",
       "      <td>...</td>\n",
       "      <td>...</td>\n",
       "      <td>...</td>\n",
       "      <td>...</td>\n",
       "    </tr>\n",
       "    <tr>\n",
       "      <th>2505</th>\n",
       "      <td>0</td>\n",
       "      <td>./acrocentric_inferred\\B.Orang_chr2_UBF_1024-1...</td>\n",
       "      <td>0.089535</td>\n",
       "      <td>69</td>\n",
       "      <td>456.0</td>\n",
       "      <td>1557.565217</td>\n",
       "      <td>3670.0986</td>\n",
       "      <td>714491.0</td>\n",
       "      <td>0.210838</td>\n",
       "      <td>1.0</td>\n",
       "      <td>chr2</td>\n",
       "      <td>18</td>\n",
       "      <td>4.0</td>\n",
       "    </tr>\n",
       "    <tr>\n",
       "      <th>2522</th>\n",
       "      <td>4</td>\n",
       "      <td>./acrocentric_inferred\\B.Orang_chr2_UBF_1025-1...</td>\n",
       "      <td>0.016688</td>\n",
       "      <td>89</td>\n",
       "      <td>494.0</td>\n",
       "      <td>199.044944</td>\n",
       "      <td>4265.5510</td>\n",
       "      <td>-1822.0</td>\n",
       "      <td>-0.000912</td>\n",
       "      <td>5.0</td>\n",
       "      <td>chr2</td>\n",
       "      <td>18</td>\n",
       "      <td>3.0</td>\n",
       "    </tr>\n",
       "    <tr>\n",
       "      <th>2523</th>\n",
       "      <td>1</td>\n",
       "      <td>./acrocentric_inferred\\B.Orang_chr2_UBF_1025-1...</td>\n",
       "      <td>0.046181</td>\n",
       "      <td>80</td>\n",
       "      <td>522.0</td>\n",
       "      <td>612.775000</td>\n",
       "      <td>3881.4368</td>\n",
       "      <td>-9869.0</td>\n",
       "      <td>-0.004941</td>\n",
       "      <td>2.0</td>\n",
       "      <td>chr2</td>\n",
       "      <td>18</td>\n",
       "      <td>4.0</td>\n",
       "    </tr>\n",
       "    <tr>\n",
       "      <th>2540</th>\n",
       "      <td>4</td>\n",
       "      <td>./acrocentric_inferred\\B.Orang_chr2_UBF_1026-1...</td>\n",
       "      <td>0.040228</td>\n",
       "      <td>95</td>\n",
       "      <td>457.0</td>\n",
       "      <td>577.800000</td>\n",
       "      <td>6445.4180</td>\n",
       "      <td>2223.0</td>\n",
       "      <td>0.000655</td>\n",
       "      <td>5.0</td>\n",
       "      <td>chr2</td>\n",
       "      <td>18</td>\n",
       "      <td>3.0</td>\n",
       "    </tr>\n",
       "    <tr>\n",
       "      <th>2541</th>\n",
       "      <td>17</td>\n",
       "      <td>./acrocentric_inferred\\B.Orang_chr2_UBF_1026-1...</td>\n",
       "      <td>0.040701</td>\n",
       "      <td>81</td>\n",
       "      <td>636.0</td>\n",
       "      <td>685.635802</td>\n",
       "      <td>5746.8380</td>\n",
       "      <td>445172.5</td>\n",
       "      <td>0.131267</td>\n",
       "      <td>18.0</td>\n",
       "      <td>chr2</td>\n",
       "      <td>18</td>\n",
       "      <td>4.0</td>\n",
       "    </tr>\n",
       "  </tbody>\n",
       "</table>\n",
       "<p>326 rows × 13 columns</p>\n",
       "</div>"
      ],
      "text/plain": [
       "      Unnamed: 0                                               File   IntDens  \\\n",
       "0             14  ./acrocentric_inferred\\B.Orang_chr13_UBF_1001-...  0.074889   \n",
       "1              6  ./acrocentric_inferred\\B.Orang_chr13_UBF_1001-...  0.110767   \n",
       "18            13  ./acrocentric_inferred\\B.Orang_chr13_UBF_1002-...  0.105508   \n",
       "19             0  ./acrocentric_inferred\\B.Orang_chr13_UBF_1002-...  0.074928   \n",
       "36            15  ./acrocentric_inferred\\B.Orang_chr13_UBF_1003-...  0.063970   \n",
       "...          ...                                                ...       ...   \n",
       "2505           0  ./acrocentric_inferred\\B.Orang_chr2_UBF_1024-1...  0.089535   \n",
       "2522           4  ./acrocentric_inferred\\B.Orang_chr2_UBF_1025-1...  0.016688   \n",
       "2523           1  ./acrocentric_inferred\\B.Orang_chr2_UBF_1025-1...  0.046181   \n",
       "2540           4  ./acrocentric_inferred\\B.Orang_chr2_UBF_1026-1...  0.040228   \n",
       "2541          17  ./acrocentric_inferred\\B.Orang_chr2_UBF_1026-1...  0.040701   \n",
       "\n",
       "      rDNA_Areas  Areas         Mean  Marker_Mean   UBF_Mean  UBF_IntDens  \\\n",
       "0            129  441.0   589.550388    3117.4377  2648432.0     0.223231   \n",
       "1            150  475.0   749.913333    3101.4336  3426991.0     0.288854   \n",
       "18           167  562.0   803.161677    3574.3718   839983.0     0.191019   \n",
       "19           124  531.0   768.169355    3543.2354  1187958.0     0.270152   \n",
       "36            84  580.0   805.750000    2975.4312  1017432.0     0.111017   \n",
       "...          ...    ...          ...          ...        ...          ...   \n",
       "2505          69  456.0  1557.565217    3670.0986   714491.0     0.210838   \n",
       "2522          89  494.0   199.044944    4265.5510    -1822.0    -0.000912   \n",
       "2523          80  522.0   612.775000    3881.4368    -9869.0    -0.004941   \n",
       "2540          95  457.0   577.800000    6445.4180     2223.0     0.000655   \n",
       "2541          81  636.0   685.635802    5746.8380   445172.5     0.131267   \n",
       "\n",
       "      labels Chromosome  ChromCount  MarkerRank  \n",
       "0       15.0      chr13          18         1.0  \n",
       "1        7.0      chr13          18         2.0  \n",
       "18      14.0      chr13          18         1.0  \n",
       "19       1.0      chr13          18         2.0  \n",
       "36      16.0      chr13          18         1.0  \n",
       "...      ...        ...         ...         ...  \n",
       "2505     1.0       chr2          18         4.0  \n",
       "2522     5.0       chr2          18         3.0  \n",
       "2523     2.0       chr2          18         4.0  \n",
       "2540     5.0       chr2          18         3.0  \n",
       "2541    18.0       chr2          18         4.0  \n",
       "\n",
       "[326 rows x 13 columns]"
      ]
     },
     "execution_count": 29,
     "metadata": {},
     "output_type": "execute_result"
    }
   ],
   "source": [
    "combined_df = pd.concat([sub_df, chr2_df])\n",
    "combined_df"
   ]
  },
  {
   "cell_type": "code",
   "execution_count": 30,
   "metadata": {},
   "outputs": [],
   "source": [
    "combined_df['rDNARank'] = combined_df.groupby(['File']).rank(ascending=False)['IntDens']"
   ]
  },
  {
   "cell_type": "code",
   "execution_count": 31,
   "metadata": {},
   "outputs": [],
   "source": [
    "\n",
    "combined_df.to_csv('CombinedResults.csv')"
   ]
  },
  {
   "cell_type": "code",
   "execution_count": null,
   "metadata": {},
   "outputs": [],
   "source": []
  },
  {
   "cell_type": "markdown",
   "metadata": {},
   "source": [
    "# Visualize"
   ]
  },
  {
   "cell_type": "code",
   "execution_count": 32,
   "metadata": {},
   "outputs": [
    {
     "data": {
      "application/vnd.plotly.v1+json": {
       "config": {
        "plotlyServerURL": "https://plot.ly"
       },
       "data": [
        {
         "alignmentgroup": "True",
         "boxpoints": "all",
         "customdata": [
          [
           "./acrocentric_inferred\\B.Orang_chr13_UBF_1001-1.tif"
          ],
          [
           "./acrocentric_inferred\\B.Orang_chr13_UBF_1002-1.tif"
          ],
          [
           "./acrocentric_inferred\\B.Orang_chr13_UBF_1003-1.tif"
          ],
          [
           "./acrocentric_inferred\\B.Orang_chr13_UBF_1006-1.tif"
          ],
          [
           "./acrocentric_inferred\\B.Orang_chr13_UBF_1009-1.tif"
          ],
          [
           "./acrocentric_inferred\\B.Orang_chr13_UBF_1012-1.tif"
          ],
          [
           "./acrocentric_inferred\\B.Orang_chr13_UBF_1013-1.tif"
          ],
          [
           "./acrocentric_inferred\\B.Orang_chr13_UBF_1014-1.tif"
          ],
          [
           "./acrocentric_inferred\\B.Orang_chr13_UBF_1015-1.tif"
          ],
          [
           "./acrocentric_inferred\\B.Orang_chr13_UBF_1017-1.tif"
          ],
          [
           "./acrocentric_inferred\\B.Orang_chr13_UBF_1018-1.tif"
          ],
          [
           "./acrocentric_inferred\\B.Orang_chr13_UBF_1019-1.tif"
          ],
          [
           "./acrocentric_inferred\\B.Orang_chr13_UBF_1020-1.tif"
          ],
          [
           "./acrocentric_inferred\\B.Orang_chr13_UBF_1021-1.tif"
          ],
          [
           "./acrocentric_inferred\\B.Orang_chr14_UBF_1001-1.tif"
          ],
          [
           "./acrocentric_inferred\\B.Orang_chr14_UBF_1002-1.tif"
          ],
          [
           "./acrocentric_inferred\\B.Orang_chr14_UBF_1004-1.tif"
          ],
          [
           "./acrocentric_inferred\\B.Orang_chr14_UBF_1005-1.tif"
          ],
          [
           "./acrocentric_inferred\\B.Orang_chr14_UBF_1007-1.tif"
          ],
          [
           "./acrocentric_inferred\\B.Orang_chr14_UBF_1009-1.tif"
          ],
          [
           "./acrocentric_inferred\\B.Orang_chr14_UBF_1010-1.tif"
          ],
          [
           "./acrocentric_inferred\\B.Orang_chr14_UBF_1011-1.tif"
          ],
          [
           "./acrocentric_inferred\\B.Orang_chr14_UBF_1012-1.tif"
          ],
          [
           "./acrocentric_inferred\\B.Orang_chr14_UBF_1013-1.tif"
          ],
          [
           "./acrocentric_inferred\\B.Orang_chr14_UBF_1014-1.tif"
          ],
          [
           "./acrocentric_inferred\\B.Orang_chr14_UBF_1015-1.tif"
          ],
          [
           "./acrocentric_inferred\\B.Orang_chr14_UBF_1016-1.tif"
          ],
          [
           "./acrocentric_inferred\\B.Orang_chr14_UBF_1017-1.tif"
          ],
          [
           "./acrocentric_inferred\\B.Orang_chr14_UBF_1018-1.tif"
          ],
          [
           "./acrocentric_inferred\\B.Orang_chr14_UBF_1019-1.tif"
          ],
          [
           "./acrocentric_inferred\\B.Orang_chr14_UBF_1020-1.tif"
          ],
          [
           "./acrocentric_inferred\\B.Orang_chr14_UBF_1021-1.tif"
          ],
          [
           "./acrocentric_inferred\\B.Orang_chr14_UBF_1022-1.tif"
          ],
          [
           "./acrocentric_inferred\\B.Orang_chr15_UBF_1002-1.tif"
          ],
          [
           "./acrocentric_inferred\\B.Orang_chr15_UBF_1003-1.tif"
          ],
          [
           "./acrocentric_inferred\\B.Orang_chr15_UBF_1004-1.tif"
          ],
          [
           "./acrocentric_inferred\\B.Orang_chr15_UBF_1005-1.tif"
          ],
          [
           "./acrocentric_inferred\\B.Orang_chr15_UBF_1006-1.tif"
          ],
          [
           "./acrocentric_inferred\\B.Orang_chr15_UBF_1008-1.tif"
          ],
          [
           "./acrocentric_inferred\\B.Orang_chr15_UBF_1009-1.tif"
          ],
          [
           "./acrocentric_inferred\\B.Orang_chr15_UBF_1010-1.tif"
          ],
          [
           "./acrocentric_inferred\\B.Orang_chr15_UBF_1011-1.tif"
          ],
          [
           "./acrocentric_inferred\\B.Orang_chr15_UBF_1012-1.tif"
          ],
          [
           "./acrocentric_inferred\\B.Orang_chr15_UBF_1013-1.tif"
          ],
          [
           "./acrocentric_inferred\\B.Orang_chr15_UBF_1014-1.tif"
          ],
          [
           "./acrocentric_inferred\\B.Orang_chr15_UBF_1015-1.tif"
          ],
          [
           "./acrocentric_inferred\\B.Orang_chr15_UBF_1017-1.tif"
          ],
          [
           "./acrocentric_inferred\\B.Orang_chr15_UBF_1018-1.tif"
          ],
          [
           "./acrocentric_inferred\\B.Orang_chr15_UBF_1019-1.tif"
          ],
          [
           "./acrocentric_inferred\\B.Orang_chr15_UBF_1020-1.tif"
          ],
          [
           "./acrocentric_inferred\\B.Orang_chr18_UBF_1001-1.tif"
          ],
          [
           "./acrocentric_inferred\\B.Orang_chr18_UBF_1003-1.tif"
          ],
          [
           "./acrocentric_inferred\\B.Orang_chr18_UBF_1004-1.tif"
          ],
          [
           "./acrocentric_inferred\\B.Orang_chr18_UBF_1005-1.tif"
          ],
          [
           "./acrocentric_inferred\\B.Orang_chr18_UBF_1007-1.tif"
          ],
          [
           "./acrocentric_inferred\\B.Orang_chr18_UBF_1008-1.tif"
          ],
          [
           "./acrocentric_inferred\\B.Orang_chr18_UBF_1009-1.tif"
          ],
          [
           "./acrocentric_inferred\\B.Orang_chr18_UBF_1010-1.tif"
          ],
          [
           "./acrocentric_inferred\\B.Orang_chr18_UBF_1012-1.tif"
          ],
          [
           "./acrocentric_inferred\\B.Orang_chr18_UBF_1013-1.tif"
          ],
          [
           "./acrocentric_inferred\\B.Orang_chr18_UBF_1016-1.tif"
          ],
          [
           "./acrocentric_inferred\\B.Orang_chr18_UBF_1017-1.tif"
          ],
          [
           "./acrocentric_inferred\\B.Orang_chr18_UBF_1018-1.tif"
          ],
          [
           "./acrocentric_inferred\\B.Orang_chr18_UBF_1019-1.tif"
          ],
          [
           "./acrocentric_inferred\\B.Orang_chr18_UBF_1020-1.tif"
          ],
          [
           "./acrocentric_inferred\\B.Orang_chr21_UBF_1002-1.tif"
          ],
          [
           "./acrocentric_inferred\\B.Orang_chr21_UBF_1004-1.tif"
          ],
          [
           "./acrocentric_inferred\\B.Orang_chr21_UBF_1005-1.tif"
          ],
          [
           "./acrocentric_inferred\\B.Orang_chr21_UBF_1007-1.tif"
          ],
          [
           "./acrocentric_inferred\\B.Orang_chr21_UBF_1009-1.tif"
          ],
          [
           "./acrocentric_inferred\\B.Orang_chr21_UBF_1010-1.tif"
          ],
          [
           "./acrocentric_inferred\\B.Orang_chr21_UBF_1011-1.tif"
          ],
          [
           "./acrocentric_inferred\\B.Orang_chr21_UBF_1012-1.tif"
          ],
          [
           "./acrocentric_inferred\\B.Orang_chr21_UBF_1013-1.tif"
          ],
          [
           "./acrocentric_inferred\\B.Orang_chr21_UBF_1014-1.tif"
          ],
          [
           "./acrocentric_inferred\\B.Orang_chr21_UBF_1015-1.tif"
          ],
          [
           "./acrocentric_inferred\\B.Orang_chr21_UBF_1016-1.tif"
          ],
          [
           "./acrocentric_inferred\\B.Orang_chr21_UBF_1018-1.tif"
          ],
          [
           "./acrocentric_inferred\\B.Orang_chr21_UBF_1019-1.tif"
          ],
          [
           "./acrocentric_inferred\\B.Orang_chr22_UBF_1001-1.tif"
          ],
          [
           "./acrocentric_inferred\\B.Orang_chr22_UBF_1002-1.tif"
          ],
          [
           "./acrocentric_inferred\\B.Orang_chr22_UBF_1004-1.tif"
          ],
          [
           "./acrocentric_inferred\\B.Orang_chr22_UBF_1005-1.tif"
          ],
          [
           "./acrocentric_inferred\\B.Orang_chr22_UBF_1006-1.tif"
          ],
          [
           "./acrocentric_inferred\\B.Orang_chr22_UBF_1007-1.tif"
          ],
          [
           "./acrocentric_inferred\\B.Orang_chr22_UBF_1008-1.tif"
          ],
          [
           "./acrocentric_inferred\\B.Orang_chr22_UBF_1009-1.tif"
          ],
          [
           "./acrocentric_inferred\\B.Orang_chr22_UBF_1010-1.tif"
          ],
          [
           "./acrocentric_inferred\\B.Orang_chr22_UBF_1011-1.tif"
          ],
          [
           "./acrocentric_inferred\\B.Orang_chr22_UBF_1013-1.tif"
          ],
          [
           "./acrocentric_inferred\\B.Orang_chr22_UBF_1014-1.tif"
          ],
          [
           "./acrocentric_inferred\\B.Orang_chr22_UBF_1015-1.tif"
          ],
          [
           "./acrocentric_inferred\\B.Orang_chr22_UBF_1017-1.tif"
          ],
          [
           "./acrocentric_inferred\\B.Orang_chr22_UBF_1018-1.tif"
          ],
          [
           "./acrocentric_inferred\\B.Orang_chr22_UBF_1019-1.tif"
          ],
          [
           "./acrocentric_inferred\\B.Orang_chr22_UBF_1020-1.tif"
          ],
          [
           "./acrocentric_inferred\\B.Orang_chr2_UBF_1003-1.tif"
          ],
          [
           "./acrocentric_inferred\\B.Orang_chr2_UBF_1004-1.tif"
          ],
          [
           "./acrocentric_inferred\\B.Orang_chr2_UBF_1008-1.tif"
          ],
          [
           "./acrocentric_inferred\\B.Orang_chr2_UBF_1010-1.tif"
          ],
          [
           "./acrocentric_inferred\\B.Orang_chr2_UBF_1011-1.tif"
          ],
          [
           "./acrocentric_inferred\\B.Orang_chr2_UBF_1014-1.tif"
          ],
          [
           "./acrocentric_inferred\\B.Orang_chr2_UBF_1015-1.tif"
          ],
          [
           "./acrocentric_inferred\\B.Orang_chr2_UBF_1018-2.tif"
          ],
          [
           "./acrocentric_inferred\\B.Orang_chr2_UBF_1018.tif"
          ],
          [
           "./acrocentric_inferred\\B.Orang_chr2_UBF_1020-1.tif"
          ],
          [
           "./acrocentric_inferred\\B.Orang_chr2_UBF_1021-1.tif"
          ],
          [
           "./acrocentric_inferred\\B.Orang_chr2_UBF_1022-1.tif"
          ],
          [
           "./acrocentric_inferred\\B.Orang_chr2_UBF_1025-1.tif"
          ],
          [
           "./acrocentric_inferred\\B.Orang_chr2_UBF_1026-1.tif"
          ],
          [
           "./acrocentric_inferred\\B.Orang_chr9_UBF_1009-1.tif"
          ],
          [
           "./acrocentric_inferred\\B.Orang_chr9_UBF_1014-1.tif"
          ],
          [
           "./acrocentric_inferred\\B.Orang_chr9_UBF_1017-1.tif"
          ],
          [
           "./acrocentric_inferred\\B.Orang_chr9_UBF_1017-2.tif"
          ],
          [
           "./acrocentric_inferred\\B.Orang_chr9_UBF_1018-1.tif"
          ],
          [
           "./acrocentric_inferred\\B.Orang_chr9_UBF_1019-1.tif"
          ],
          [
           "./acrocentric_inferred\\B.Orang_chr9_UBF_1020-1.tif"
          ],
          [
           "./acrocentric_inferred\\B.Orang_chr9_UBF_1021-1.tif"
          ],
          [
           "./acrocentric_inferred\\B.Orang_chr9_UBF_1022-1.tif"
          ],
          [
           "./acrocentric_inferred\\B.Orang_chr9_UBF_1024-1.tif"
          ],
          [
           "./acrocentric_inferred\\B.Orang_chr9_UBF_1025-1.tif"
          ],
          [
           "./acrocentric_inferred\\B.Orang_chr9_UBF_1026-1.tif"
          ],
          [
           "./acrocentric_inferred\\B.Orang_chr9_UBF_1027-1.tif"
          ],
          [
           "./acrocentric_inferred\\B.Orang_chr9_UBF_1028-1.tif"
          ],
          [
           "./acrocentric_inferred\\B.Orang_chr9_UBF_1029-1.tif"
          ],
          [
           "./acrocentric_inferred\\B.Orang_chr9_UBF_1030-1.tif"
          ],
          [
           "./acrocentric_inferred\\B.Orang_chr9_UBF_1031-1.tif"
          ],
          [
           "./acrocentric_inferred\\B.Orang_chr9_UBF_1032-1.tif"
          ],
          [
           "./acrocentric_inferred\\B.Orang_chr9_UBF_1033-1.tif"
          ],
          [
           "./acrocentric_inferred\\B.Orang_chr9_UBF_1034-1.tif"
          ],
          [
           "./acrocentric_inferred\\B.Orang_chr9_UBF_1035-1.tif"
          ],
          [
           "./acrocentric_inferred\\B.Orang_chr2_UBF_1001-1.tif"
          ],
          [
           "./acrocentric_inferred\\B.Orang_chr2_UBF_1007-1.tif"
          ],
          [
           "./acrocentric_inferred\\B.Orang_chr2_UBF_1012-1.tif"
          ],
          [
           "./acrocentric_inferred\\B.Orang_chr2_UBF_1013-1.tif"
          ],
          [
           "./acrocentric_inferred\\B.Orang_chr2_UBF_1016-1.tif"
          ],
          [
           "./acrocentric_inferred\\B.Orang_chr2_UBF_1017-1.tif"
          ],
          [
           "./acrocentric_inferred\\B.Orang_chr2_UBF_1024-1.tif"
          ]
         ],
         "hovertemplate": "rDNARank=1.0<br>Chromosome=%{x}<br>IntDens=%{y}<br>File=%{customdata[0]}<extra></extra>",
         "legendgroup": "1.0",
         "marker": {
          "color": "#636efa"
         },
         "name": "1.0",
         "notched": false,
         "offsetgroup": "1.0",
         "orientation": "v",
         "showlegend": true,
         "type": "box",
         "x": [
          "chr13",
          "chr13",
          "chr13",
          "chr13",
          "chr13",
          "chr13",
          "chr13",
          "chr13",
          "chr13",
          "chr13",
          "chr13",
          "chr13",
          "chr13",
          "chr13",
          "chr14",
          "chr14",
          "chr14",
          "chr14",
          "chr14",
          "chr14",
          "chr14",
          "chr14",
          "chr14",
          "chr14",
          "chr14",
          "chr14",
          "chr14",
          "chr14",
          "chr14",
          "chr14",
          "chr14",
          "chr14",
          "chr14",
          "chr15",
          "chr15",
          "chr15",
          "chr15",
          "chr15",
          "chr15",
          "chr15",
          "chr15",
          "chr15",
          "chr15",
          "chr15",
          "chr15",
          "chr15",
          "chr15",
          "chr15",
          "chr15",
          "chr15",
          "chr18",
          "chr18",
          "chr18",
          "chr18",
          "chr18",
          "chr18",
          "chr18",
          "chr18",
          "chr18",
          "chr18",
          "chr18",
          "chr18",
          "chr18",
          "chr18",
          "chr18",
          "chr21",
          "chr21",
          "chr21",
          "chr21",
          "chr21",
          "chr21",
          "chr21",
          "chr21",
          "chr21",
          "chr21",
          "chr21",
          "chr21",
          "chr21",
          "chr21",
          "chr22",
          "chr22",
          "chr22",
          "chr22",
          "chr22",
          "chr22",
          "chr22",
          "chr22",
          "chr22",
          "chr22",
          "chr22",
          "chr22",
          "chr22",
          "chr22",
          "chr22",
          "chr22",
          "chr22",
          "chr2",
          "chr2",
          "chr2",
          "chr2",
          "chr2",
          "chr2",
          "chr2",
          "chr2",
          "chr2",
          "chr2",
          "chr2",
          "chr2",
          "chr2",
          "chr2",
          "chr9",
          "chr9",
          "chr9",
          "chr9",
          "chr9",
          "chr9",
          "chr9",
          "chr9",
          "chr9",
          "chr9",
          "chr9",
          "chr9",
          "chr9",
          "chr9",
          "chr9",
          "chr9",
          "chr9",
          "chr9",
          "chr9",
          "chr9",
          "chr9",
          "chr2",
          "chr2",
          "chr2",
          "chr2",
          "chr2",
          "chr2",
          "chr2"
         ],
         "x0": " ",
         "xaxis": "x",
         "y": [
          0.1107666281154252,
          0.1055075477998481,
          0.1442481861585217,
          0.0912377537455288,
          0.1142374109407076,
          0.1035309295661129,
          0.0970672796083363,
          0.0665402046533457,
          0.1006768052057992,
          0.1102925792562738,
          0.0904716716212683,
          0.0992549687144796,
          0.108736321860193,
          0.1394224319410814,
          0.0610982193541031,
          0.0705971800173152,
          0.1147829336410242,
          0.0670316509052888,
          0.0515167547040881,
          0.0776747598977192,
          0.0575658777073949,
          0.0725061682552461,
          0.0768462491034354,
          0.0587038968914286,
          0.0512774790769433,
          0.0698994997521294,
          0.0804034155976206,
          0.0665762091652388,
          0.0507143568848167,
          0.0860318724905171,
          0.076201545572202,
          0.0769834277309008,
          0.071943211422759,
          0.2464608706321887,
          0.2651386946262505,
          0.2062935488422499,
          0.1049150317596939,
          0.103482105388894,
          0.214895766470111,
          0.2098132788869397,
          0.1882259109459365,
          0.2205875195550147,
          0.2060113012892316,
          0.214555060669832,
          0.2022831452750352,
          0.2087168795524121,
          0.2343739308084781,
          0.2124298432498163,
          0.2014463809802946,
          0.2193713173380941,
          0.0447485450598994,
          0.052516585398699,
          0.0551779534191992,
          0.0372575678393633,
          0.0414325905317318,
          0.0284613690201063,
          0.0565986384357005,
          0.0478197209956362,
          0.0432706226981215,
          0.0506235672771899,
          0.0503761751617828,
          0.055771660211292,
          0.0908227899483489,
          0.0454921881764715,
          0.0368801987285368,
          0.0295177684345349,
          0.0316460459284308,
          0.0234608818575849,
          0.0745973512237128,
          0.0303357834358273,
          0.0290484091450758,
          0.0222778138682167,
          0.0690626506326419,
          0.028906407683526,
          0.0235971297446116,
          0.0237614896772962,
          0.027563008638145,
          0.0071412823776361,
          0.0312500249513681,
          0.0567919303104131,
          0.0534689385170762,
          0.0672619426952633,
          0.0572896124895642,
          0.0725281078805224,
          0.0679861551714355,
          0.0661591456180094,
          0.0808811958315909,
          0.0828835138323001,
          0.0713443144227235,
          0.0730510588567013,
          0.0876685411267096,
          0.066600440681323,
          0.0757228786125645,
          0.0805604862230529,
          0.0675958745261908,
          0.0145689980934468,
          0.0994095088971749,
          0.1022619253074295,
          0.0894485023796331,
          0.0941594921436101,
          0.0934940925818322,
          0.1016783720494868,
          0.1039998664771484,
          0.138737283280608,
          0.0518762691636529,
          0.1040109770755233,
          0.107289505017495,
          0.1045360760609233,
          0.1246913004546827,
          0.0945615804920019,
          0.0303321929369322,
          0.0271056519430408,
          0.0473636750678947,
          0.0437173956743966,
          0.0320757183968234,
          0.0317343581285018,
          0.0303411715414527,
          0.0287657418886263,
          0.026409763736353,
          0.0264743815421504,
          0.0363470687241369,
          0.0328829440263053,
          0.0431349480185979,
          0.0354158505275631,
          0.0252198056455344,
          0.0355893110038636,
          0.0398051025941523,
          0.1402435682065138,
          0.0328202150909796,
          0.024893339851098,
          0.0416494526368264,
          0.1588638837021915,
          0.1870285651074381,
          0.0985077129902792,
          0.0968684432986252,
          0.0957342740824764,
          0.0977738552191785,
          0.0895351539947664
         ],
         "y0": " ",
         "yaxis": "y"
        },
        {
         "alignmentgroup": "True",
         "boxpoints": "all",
         "customdata": [
          [
           "./acrocentric_inferred\\B.Orang_chr13_UBF_1001-1.tif"
          ],
          [
           "./acrocentric_inferred\\B.Orang_chr13_UBF_1002-1.tif"
          ],
          [
           "./acrocentric_inferred\\B.Orang_chr13_UBF_1003-1.tif"
          ],
          [
           "./acrocentric_inferred\\B.Orang_chr13_UBF_1006-1.tif"
          ],
          [
           "./acrocentric_inferred\\B.Orang_chr13_UBF_1009-1.tif"
          ],
          [
           "./acrocentric_inferred\\B.Orang_chr13_UBF_1012-1.tif"
          ],
          [
           "./acrocentric_inferred\\B.Orang_chr13_UBF_1013-1.tif"
          ],
          [
           "./acrocentric_inferred\\B.Orang_chr13_UBF_1014-1.tif"
          ],
          [
           "./acrocentric_inferred\\B.Orang_chr13_UBF_1015-1.tif"
          ],
          [
           "./acrocentric_inferred\\B.Orang_chr13_UBF_1017-1.tif"
          ],
          [
           "./acrocentric_inferred\\B.Orang_chr13_UBF_1018-1.tif"
          ],
          [
           "./acrocentric_inferred\\B.Orang_chr13_UBF_1019-1.tif"
          ],
          [
           "./acrocentric_inferred\\B.Orang_chr13_UBF_1020-1.tif"
          ],
          [
           "./acrocentric_inferred\\B.Orang_chr13_UBF_1021-1.tif"
          ],
          [
           "./acrocentric_inferred\\B.Orang_chr14_UBF_1001-1.tif"
          ],
          [
           "./acrocentric_inferred\\B.Orang_chr14_UBF_1002-1.tif"
          ],
          [
           "./acrocentric_inferred\\B.Orang_chr14_UBF_1004-1.tif"
          ],
          [
           "./acrocentric_inferred\\B.Orang_chr14_UBF_1005-1.tif"
          ],
          [
           "./acrocentric_inferred\\B.Orang_chr14_UBF_1007-1.tif"
          ],
          [
           "./acrocentric_inferred\\B.Orang_chr14_UBF_1009-1.tif"
          ],
          [
           "./acrocentric_inferred\\B.Orang_chr14_UBF_1010-1.tif"
          ],
          [
           "./acrocentric_inferred\\B.Orang_chr14_UBF_1011-1.tif"
          ],
          [
           "./acrocentric_inferred\\B.Orang_chr14_UBF_1012-1.tif"
          ],
          [
           "./acrocentric_inferred\\B.Orang_chr14_UBF_1013-1.tif"
          ],
          [
           "./acrocentric_inferred\\B.Orang_chr14_UBF_1014-1.tif"
          ],
          [
           "./acrocentric_inferred\\B.Orang_chr14_UBF_1015-1.tif"
          ],
          [
           "./acrocentric_inferred\\B.Orang_chr14_UBF_1016-1.tif"
          ],
          [
           "./acrocentric_inferred\\B.Orang_chr14_UBF_1017-1.tif"
          ],
          [
           "./acrocentric_inferred\\B.Orang_chr14_UBF_1018-1.tif"
          ],
          [
           "./acrocentric_inferred\\B.Orang_chr14_UBF_1019-1.tif"
          ],
          [
           "./acrocentric_inferred\\B.Orang_chr14_UBF_1020-1.tif"
          ],
          [
           "./acrocentric_inferred\\B.Orang_chr14_UBF_1021-1.tif"
          ],
          [
           "./acrocentric_inferred\\B.Orang_chr14_UBF_1022-1.tif"
          ],
          [
           "./acrocentric_inferred\\B.Orang_chr15_UBF_1002-1.tif"
          ],
          [
           "./acrocentric_inferred\\B.Orang_chr15_UBF_1003-1.tif"
          ],
          [
           "./acrocentric_inferred\\B.Orang_chr15_UBF_1004-1.tif"
          ],
          [
           "./acrocentric_inferred\\B.Orang_chr15_UBF_1005-1.tif"
          ],
          [
           "./acrocentric_inferred\\B.Orang_chr15_UBF_1006-1.tif"
          ],
          [
           "./acrocentric_inferred\\B.Orang_chr15_UBF_1008-1.tif"
          ],
          [
           "./acrocentric_inferred\\B.Orang_chr15_UBF_1009-1.tif"
          ],
          [
           "./acrocentric_inferred\\B.Orang_chr15_UBF_1010-1.tif"
          ],
          [
           "./acrocentric_inferred\\B.Orang_chr15_UBF_1011-1.tif"
          ],
          [
           "./acrocentric_inferred\\B.Orang_chr15_UBF_1012-1.tif"
          ],
          [
           "./acrocentric_inferred\\B.Orang_chr15_UBF_1013-1.tif"
          ],
          [
           "./acrocentric_inferred\\B.Orang_chr15_UBF_1014-1.tif"
          ],
          [
           "./acrocentric_inferred\\B.Orang_chr15_UBF_1015-1.tif"
          ],
          [
           "./acrocentric_inferred\\B.Orang_chr15_UBF_1017-1.tif"
          ],
          [
           "./acrocentric_inferred\\B.Orang_chr15_UBF_1018-1.tif"
          ],
          [
           "./acrocentric_inferred\\B.Orang_chr15_UBF_1019-1.tif"
          ],
          [
           "./acrocentric_inferred\\B.Orang_chr15_UBF_1020-1.tif"
          ],
          [
           "./acrocentric_inferred\\B.Orang_chr18_UBF_1001-1.tif"
          ],
          [
           "./acrocentric_inferred\\B.Orang_chr18_UBF_1003-1.tif"
          ],
          [
           "./acrocentric_inferred\\B.Orang_chr18_UBF_1004-1.tif"
          ],
          [
           "./acrocentric_inferred\\B.Orang_chr18_UBF_1005-1.tif"
          ],
          [
           "./acrocentric_inferred\\B.Orang_chr18_UBF_1007-1.tif"
          ],
          [
           "./acrocentric_inferred\\B.Orang_chr18_UBF_1008-1.tif"
          ],
          [
           "./acrocentric_inferred\\B.Orang_chr18_UBF_1009-1.tif"
          ],
          [
           "./acrocentric_inferred\\B.Orang_chr18_UBF_1010-1.tif"
          ],
          [
           "./acrocentric_inferred\\B.Orang_chr18_UBF_1012-1.tif"
          ],
          [
           "./acrocentric_inferred\\B.Orang_chr18_UBF_1013-1.tif"
          ],
          [
           "./acrocentric_inferred\\B.Orang_chr18_UBF_1016-1.tif"
          ],
          [
           "./acrocentric_inferred\\B.Orang_chr18_UBF_1017-1.tif"
          ],
          [
           "./acrocentric_inferred\\B.Orang_chr18_UBF_1018-1.tif"
          ],
          [
           "./acrocentric_inferred\\B.Orang_chr18_UBF_1019-1.tif"
          ],
          [
           "./acrocentric_inferred\\B.Orang_chr18_UBF_1020-1.tif"
          ],
          [
           "./acrocentric_inferred\\B.Orang_chr21_UBF_1002-1.tif"
          ],
          [
           "./acrocentric_inferred\\B.Orang_chr21_UBF_1004-1.tif"
          ],
          [
           "./acrocentric_inferred\\B.Orang_chr21_UBF_1005-1.tif"
          ],
          [
           "./acrocentric_inferred\\B.Orang_chr21_UBF_1007-1.tif"
          ],
          [
           "./acrocentric_inferred\\B.Orang_chr21_UBF_1009-1.tif"
          ],
          [
           "./acrocentric_inferred\\B.Orang_chr21_UBF_1010-1.tif"
          ],
          [
           "./acrocentric_inferred\\B.Orang_chr21_UBF_1011-1.tif"
          ],
          [
           "./acrocentric_inferred\\B.Orang_chr21_UBF_1012-1.tif"
          ],
          [
           "./acrocentric_inferred\\B.Orang_chr21_UBF_1013-1.tif"
          ],
          [
           "./acrocentric_inferred\\B.Orang_chr21_UBF_1014-1.tif"
          ],
          [
           "./acrocentric_inferred\\B.Orang_chr21_UBF_1015-1.tif"
          ],
          [
           "./acrocentric_inferred\\B.Orang_chr21_UBF_1016-1.tif"
          ],
          [
           "./acrocentric_inferred\\B.Orang_chr21_UBF_1018-1.tif"
          ],
          [
           "./acrocentric_inferred\\B.Orang_chr21_UBF_1019-1.tif"
          ],
          [
           "./acrocentric_inferred\\B.Orang_chr22_UBF_1001-1.tif"
          ],
          [
           "./acrocentric_inferred\\B.Orang_chr22_UBF_1002-1.tif"
          ],
          [
           "./acrocentric_inferred\\B.Orang_chr22_UBF_1004-1.tif"
          ],
          [
           "./acrocentric_inferred\\B.Orang_chr22_UBF_1005-1.tif"
          ],
          [
           "./acrocentric_inferred\\B.Orang_chr22_UBF_1006-1.tif"
          ],
          [
           "./acrocentric_inferred\\B.Orang_chr22_UBF_1007-1.tif"
          ],
          [
           "./acrocentric_inferred\\B.Orang_chr22_UBF_1008-1.tif"
          ],
          [
           "./acrocentric_inferred\\B.Orang_chr22_UBF_1009-1.tif"
          ],
          [
           "./acrocentric_inferred\\B.Orang_chr22_UBF_1010-1.tif"
          ],
          [
           "./acrocentric_inferred\\B.Orang_chr22_UBF_1011-1.tif"
          ],
          [
           "./acrocentric_inferred\\B.Orang_chr22_UBF_1013-1.tif"
          ],
          [
           "./acrocentric_inferred\\B.Orang_chr22_UBF_1014-1.tif"
          ],
          [
           "./acrocentric_inferred\\B.Orang_chr22_UBF_1015-1.tif"
          ],
          [
           "./acrocentric_inferred\\B.Orang_chr22_UBF_1017-1.tif"
          ],
          [
           "./acrocentric_inferred\\B.Orang_chr22_UBF_1018-1.tif"
          ],
          [
           "./acrocentric_inferred\\B.Orang_chr22_UBF_1019-1.tif"
          ],
          [
           "./acrocentric_inferred\\B.Orang_chr22_UBF_1020-1.tif"
          ],
          [
           "./acrocentric_inferred\\B.Orang_chr2_UBF_1007-1.tif"
          ],
          [
           "./acrocentric_inferred\\B.Orang_chr2_UBF_1012-1.tif"
          ],
          [
           "./acrocentric_inferred\\B.Orang_chr2_UBF_1013-1.tif"
          ],
          [
           "./acrocentric_inferred\\B.Orang_chr2_UBF_1014-1.tif"
          ],
          [
           "./acrocentric_inferred\\B.Orang_chr2_UBF_1016-1.tif"
          ],
          [
           "./acrocentric_inferred\\B.Orang_chr2_UBF_1017-1.tif"
          ],
          [
           "./acrocentric_inferred\\B.Orang_chr2_UBF_1020-1.tif"
          ],
          [
           "./acrocentric_inferred\\B.Orang_chr2_UBF_1021-1.tif"
          ],
          [
           "./acrocentric_inferred\\B.Orang_chr9_UBF_1009-1.tif"
          ],
          [
           "./acrocentric_inferred\\B.Orang_chr9_UBF_1014-1.tif"
          ],
          [
           "./acrocentric_inferred\\B.Orang_chr9_UBF_1017-1.tif"
          ],
          [
           "./acrocentric_inferred\\B.Orang_chr9_UBF_1017-2.tif"
          ],
          [
           "./acrocentric_inferred\\B.Orang_chr9_UBF_1018-1.tif"
          ],
          [
           "./acrocentric_inferred\\B.Orang_chr9_UBF_1019-1.tif"
          ],
          [
           "./acrocentric_inferred\\B.Orang_chr9_UBF_1020-1.tif"
          ],
          [
           "./acrocentric_inferred\\B.Orang_chr9_UBF_1021-1.tif"
          ],
          [
           "./acrocentric_inferred\\B.Orang_chr9_UBF_1022-1.tif"
          ],
          [
           "./acrocentric_inferred\\B.Orang_chr9_UBF_1024-1.tif"
          ],
          [
           "./acrocentric_inferred\\B.Orang_chr9_UBF_1025-1.tif"
          ],
          [
           "./acrocentric_inferred\\B.Orang_chr9_UBF_1026-1.tif"
          ],
          [
           "./acrocentric_inferred\\B.Orang_chr9_UBF_1027-1.tif"
          ],
          [
           "./acrocentric_inferred\\B.Orang_chr9_UBF_1028-1.tif"
          ],
          [
           "./acrocentric_inferred\\B.Orang_chr9_UBF_1029-1.tif"
          ],
          [
           "./acrocentric_inferred\\B.Orang_chr9_UBF_1030-1.tif"
          ],
          [
           "./acrocentric_inferred\\B.Orang_chr9_UBF_1031-1.tif"
          ],
          [
           "./acrocentric_inferred\\B.Orang_chr9_UBF_1032-1.tif"
          ],
          [
           "./acrocentric_inferred\\B.Orang_chr9_UBF_1033-1.tif"
          ],
          [
           "./acrocentric_inferred\\B.Orang_chr9_UBF_1034-1.tif"
          ],
          [
           "./acrocentric_inferred\\B.Orang_chr9_UBF_1035-1.tif"
          ],
          [
           "./acrocentric_inferred\\B.Orang_chr2_UBF_1001-1.tif"
          ],
          [
           "./acrocentric_inferred\\B.Orang_chr2_UBF_1003-1.tif"
          ],
          [
           "./acrocentric_inferred\\B.Orang_chr2_UBF_1004-1.tif"
          ],
          [
           "./acrocentric_inferred\\B.Orang_chr2_UBF_1008-1.tif"
          ],
          [
           "./acrocentric_inferred\\B.Orang_chr2_UBF_1010-1.tif"
          ],
          [
           "./acrocentric_inferred\\B.Orang_chr2_UBF_1011-1.tif"
          ],
          [
           "./acrocentric_inferred\\B.Orang_chr2_UBF_1015-1.tif"
          ],
          [
           "./acrocentric_inferred\\B.Orang_chr2_UBF_1018-2.tif"
          ],
          [
           "./acrocentric_inferred\\B.Orang_chr2_UBF_1018.tif"
          ],
          [
           "./acrocentric_inferred\\B.Orang_chr2_UBF_1022-1.tif"
          ],
          [
           "./acrocentric_inferred\\B.Orang_chr2_UBF_1024-1.tif"
          ],
          [
           "./acrocentric_inferred\\B.Orang_chr2_UBF_1025-1.tif"
          ],
          [
           "./acrocentric_inferred\\B.Orang_chr2_UBF_1026-1.tif"
          ]
         ],
         "hovertemplate": "rDNARank=2.0<br>Chromosome=%{x}<br>IntDens=%{y}<br>File=%{customdata[0]}<extra></extra>",
         "legendgroup": "2.0",
         "marker": {
          "color": "#EF553B"
         },
         "name": "2.0",
         "notched": false,
         "offsetgroup": "2.0",
         "orientation": "v",
         "showlegend": true,
         "type": "box",
         "x": [
          "chr13",
          "chr13",
          "chr13",
          "chr13",
          "chr13",
          "chr13",
          "chr13",
          "chr13",
          "chr13",
          "chr13",
          "chr13",
          "chr13",
          "chr13",
          "chr13",
          "chr14",
          "chr14",
          "chr14",
          "chr14",
          "chr14",
          "chr14",
          "chr14",
          "chr14",
          "chr14",
          "chr14",
          "chr14",
          "chr14",
          "chr14",
          "chr14",
          "chr14",
          "chr14",
          "chr14",
          "chr14",
          "chr14",
          "chr15",
          "chr15",
          "chr15",
          "chr15",
          "chr15",
          "chr15",
          "chr15",
          "chr15",
          "chr15",
          "chr15",
          "chr15",
          "chr15",
          "chr15",
          "chr15",
          "chr15",
          "chr15",
          "chr15",
          "chr18",
          "chr18",
          "chr18",
          "chr18",
          "chr18",
          "chr18",
          "chr18",
          "chr18",
          "chr18",
          "chr18",
          "chr18",
          "chr18",
          "chr18",
          "chr18",
          "chr18",
          "chr21",
          "chr21",
          "chr21",
          "chr21",
          "chr21",
          "chr21",
          "chr21",
          "chr21",
          "chr21",
          "chr21",
          "chr21",
          "chr21",
          "chr21",
          "chr21",
          "chr22",
          "chr22",
          "chr22",
          "chr22",
          "chr22",
          "chr22",
          "chr22",
          "chr22",
          "chr22",
          "chr22",
          "chr22",
          "chr22",
          "chr22",
          "chr22",
          "chr22",
          "chr22",
          "chr22",
          "chr2",
          "chr2",
          "chr2",
          "chr2",
          "chr2",
          "chr2",
          "chr2",
          "chr2",
          "chr9",
          "chr9",
          "chr9",
          "chr9",
          "chr9",
          "chr9",
          "chr9",
          "chr9",
          "chr9",
          "chr9",
          "chr9",
          "chr9",
          "chr9",
          "chr9",
          "chr9",
          "chr9",
          "chr9",
          "chr9",
          "chr9",
          "chr9",
          "chr9",
          "chr2",
          "chr2",
          "chr2",
          "chr2",
          "chr2",
          "chr2",
          "chr2",
          "chr2",
          "chr2",
          "chr2",
          "chr2",
          "chr2",
          "chr2"
         ],
         "x0": " ",
         "xaxis": "x",
         "y": [
          0.0748888636147672,
          0.0749277589360829,
          0.0639698991866599,
          0.0701366492958458,
          0.0735113906638034,
          0.1019819325661577,
          0.0853510492757153,
          0.0507565720320131,
          0.0871791802234355,
          0,
          0.0853908648119994,
          0.0739989461138638,
          0.0802337486521696,
          0.0683979350089087,
          0.0431801285903279,
          0.0661555478707879,
          0.0537742404972006,
          0,
          0.0243574798444601,
          0.032765716927897,
          0.0535424204998007,
          0.0546225771639283,
          0.0578308454135577,
          0.0312321741498836,
          0.0473016666202669,
          0.0602722498706995,
          0.0173340012601961,
          0.0642847897576075,
          0.0311833996562904,
          0.0520325361957247,
          0.0498863640447315,
          0.0523491114147267,
          0.0525719890533045,
          0.1131482760920578,
          0.101728077387117,
          0.0972922289301907,
          0.0632714014094443,
          0.0364678830590975,
          0.1180705791437845,
          0.1138180756379879,
          0.0995169645312635,
          0.0775404892721377,
          0.0940766333002761,
          0.111816227228154,
          0.094477886359057,
          0.1085174405453092,
          0.1258780349719461,
          0.1057686066529076,
          0.1080964163105243,
          0.1162001492755634,
          0,
          0.0054004274322202,
          0,
          0,
          0,
          0,
          0,
          0,
          0,
          0,
          0,
          0,
          0.0462098838709211,
          0,
          0,
          0,
          0.0104764598280991,
          0,
          0.0151790260163385,
          0.0030439202312546,
          0,
          0,
          0.0079892214313495,
          0,
          0.0086542475358872,
          0,
          0,
          0,
          0.005683322824926,
          0.0169184793087129,
          0.0184326146318411,
          0.0202703271412922,
          0.0058159641537983,
          0,
          0,
          0.018880643575362,
          0.0218038953456164,
          0.0191943064471809,
          0,
          0,
          0.0237234690264908,
          0.0211915416419092,
          0.0164981766212565,
          0.0160384539181312,
          0.0107991202965962,
          0,
          0.0802596170801402,
          0.0542756442471949,
          0.0446666483000486,
          0.0474630313361431,
          0.0515845613312787,
          0.0438632600525537,
          0.0428155685769943,
          0.0510410051563987,
          0.0194186497639429,
          0,
          0.014649922387144,
          0,
          0,
          0.0245925333922817,
          0.027600511082102,
          0.0251183957777203,
          0.0232708888522312,
          0.0188432963312489,
          0.0304683715920476,
          0.0240142791720211,
          0,
          0.0306091284551687,
          0.0179739318216874,
          0,
          0.0235403135387816,
          0.0220368931350136,
          0.0274845296943341,
          0.0181239074852774,
          0,
          0.0479745182679076,
          0.0436366290256233,
          0.0446460123484474,
          0.0537371511398853,
          0.0465847520272021,
          0.0506507844276583,
          0.0380485996114304,
          0.0998696491452083,
          0.0327997579184047,
          0.0452628850480564,
          0.0468569971832816,
          0.0461814048767345,
          0.040701392062142
         ],
         "y0": " ",
         "yaxis": "y"
        },
        {
         "alignmentgroup": "True",
         "boxpoints": "all",
         "customdata": [
          [
           "./acrocentric_inferred\\B.Orang_chr2_UBF_1001-1.tif"
          ],
          [
           "./acrocentric_inferred\\B.Orang_chr2_UBF_1007-1.tif"
          ],
          [
           "./acrocentric_inferred\\B.Orang_chr2_UBF_1010-1.tif"
          ],
          [
           "./acrocentric_inferred\\B.Orang_chr2_UBF_1012-1.tif"
          ],
          [
           "./acrocentric_inferred\\B.Orang_chr2_UBF_1013-1.tif"
          ],
          [
           "./acrocentric_inferred\\B.Orang_chr2_UBF_1015-1.tif"
          ],
          [
           "./acrocentric_inferred\\B.Orang_chr2_UBF_1016-1.tif"
          ],
          [
           "./acrocentric_inferred\\B.Orang_chr2_UBF_1017-1.tif"
          ],
          [
           "./acrocentric_inferred\\B.Orang_chr2_UBF_1018.tif"
          ],
          [
           "./acrocentric_inferred\\B.Orang_chr2_UBF_1022-1.tif"
          ],
          [
           "./acrocentric_inferred\\B.Orang_chr2_UBF_1024-1.tif"
          ],
          [
           "./acrocentric_inferred\\B.Orang_chr2_UBF_1025-1.tif"
          ],
          [
           "./acrocentric_inferred\\B.Orang_chr2_UBF_1003-1.tif"
          ],
          [
           "./acrocentric_inferred\\B.Orang_chr2_UBF_1004-1.tif"
          ],
          [
           "./acrocentric_inferred\\B.Orang_chr2_UBF_1008-1.tif"
          ],
          [
           "./acrocentric_inferred\\B.Orang_chr2_UBF_1011-1.tif"
          ],
          [
           "./acrocentric_inferred\\B.Orang_chr2_UBF_1014-1.tif"
          ],
          [
           "./acrocentric_inferred\\B.Orang_chr2_UBF_1018-2.tif"
          ],
          [
           "./acrocentric_inferred\\B.Orang_chr2_UBF_1020-1.tif"
          ],
          [
           "./acrocentric_inferred\\B.Orang_chr2_UBF_1021-1.tif"
          ],
          [
           "./acrocentric_inferred\\B.Orang_chr2_UBF_1026-1.tif"
          ]
         ],
         "hovertemplate": "rDNARank=3.0<br>Chromosome=%{x}<br>IntDens=%{y}<br>File=%{customdata[0]}<extra></extra>",
         "legendgroup": "3.0",
         "marker": {
          "color": "#00cc96"
         },
         "name": "3.0",
         "notched": false,
         "offsetgroup": "3.0",
         "orientation": "v",
         "showlegend": true,
         "type": "box",
         "x": [
          "chr2",
          "chr2",
          "chr2",
          "chr2",
          "chr2",
          "chr2",
          "chr2",
          "chr2",
          "chr2",
          "chr2",
          "chr2",
          "chr2",
          "chr2",
          "chr2",
          "chr2",
          "chr2",
          "chr2",
          "chr2",
          "chr2",
          "chr2",
          "chr2"
         ],
         "x0": " ",
         "xaxis": "x",
         "y": [
          0.007853904266597,
          0.0267984758558525,
          0.0404667006350079,
          0.0414090600438769,
          0.0349787406396706,
          0.0081322634063032,
          0.0326416217376833,
          0.0378463817319357,
          0.0212571060852549,
          0.0359078891434851,
          0.0468461668553643,
          0.0375936343480675,
          0.0322978729050835,
          0.0307423665548598,
          0.042400448327515,
          0.0327987604106139,
          0.0213130113965919,
          0.0391871951623376,
          0.0325814896693548,
          0.0352261597603384,
          0.0402283203241659
         ],
         "y0": " ",
         "yaxis": "y"
        },
        {
         "alignmentgroup": "True",
         "boxpoints": "all",
         "customdata": [
          [
           "./acrocentric_inferred\\B.Orang_chr2_UBF_1001-1.tif"
          ],
          [
           "./acrocentric_inferred\\B.Orang_chr2_UBF_1003-1.tif"
          ],
          [
           "./acrocentric_inferred\\B.Orang_chr2_UBF_1004-1.tif"
          ],
          [
           "./acrocentric_inferred\\B.Orang_chr2_UBF_1008-1.tif"
          ],
          [
           "./acrocentric_inferred\\B.Orang_chr2_UBF_1011-1.tif"
          ],
          [
           "./acrocentric_inferred\\B.Orang_chr2_UBF_1018-2.tif"
          ],
          [
           "./acrocentric_inferred\\B.Orang_chr2_UBF_1024-1.tif"
          ],
          [
           "./acrocentric_inferred\\B.Orang_chr2_UBF_1026-1.tif"
          ],
          [
           "./acrocentric_inferred\\B.Orang_chr2_UBF_1007-1.tif"
          ],
          [
           "./acrocentric_inferred\\B.Orang_chr2_UBF_1010-1.tif"
          ],
          [
           "./acrocentric_inferred\\B.Orang_chr2_UBF_1012-1.tif"
          ],
          [
           "./acrocentric_inferred\\B.Orang_chr2_UBF_1013-1.tif"
          ],
          [
           "./acrocentric_inferred\\B.Orang_chr2_UBF_1014-1.tif"
          ],
          [
           "./acrocentric_inferred\\B.Orang_chr2_UBF_1015-1.tif"
          ],
          [
           "./acrocentric_inferred\\B.Orang_chr2_UBF_1016-1.tif"
          ],
          [
           "./acrocentric_inferred\\B.Orang_chr2_UBF_1017-1.tif"
          ],
          [
           "./acrocentric_inferred\\B.Orang_chr2_UBF_1018.tif"
          ],
          [
           "./acrocentric_inferred\\B.Orang_chr2_UBF_1020-1.tif"
          ],
          [
           "./acrocentric_inferred\\B.Orang_chr2_UBF_1021-1.tif"
          ],
          [
           "./acrocentric_inferred\\B.Orang_chr2_UBF_1022-1.tif"
          ],
          [
           "./acrocentric_inferred\\B.Orang_chr2_UBF_1025-1.tif"
          ]
         ],
         "hovertemplate": "rDNARank=4.0<br>Chromosome=%{x}<br>IntDens=%{y}<br>File=%{customdata[0]}<extra></extra>",
         "legendgroup": "4.0",
         "marker": {
          "color": "#ab63fa"
         },
         "name": "4.0",
         "notched": false,
         "offsetgroup": "4.0",
         "orientation": "v",
         "showlegend": true,
         "type": "box",
         "x": [
          "chr2",
          "chr2",
          "chr2",
          "chr2",
          "chr2",
          "chr2",
          "chr2",
          "chr2",
          "chr2",
          "chr2",
          "chr2",
          "chr2",
          "chr2",
          "chr2",
          "chr2",
          "chr2",
          "chr2",
          "chr2",
          "chr2",
          "chr2",
          "chr2"
         ],
         "x0": " ",
         "xaxis": "x",
         "y": [
          0,
          0.0104191823356908,
          0.008115677957313,
          0.0387577872677513,
          0.0144358899864419,
          0.0145536831798234,
          0,
          0.0112987559788975,
          0.0215281527473694,
          0.0133123398359113,
          0.0073427820912405,
          0.0091001758845339,
          0.004888524799788,
          0,
          0.014344090276146,
          0.0249834882363599,
          0.0192423130611885,
          0.0113827703281659,
          0.0095081433658329,
          0.0038154879781024,
          0.0166884987840429
         ],
         "y0": " ",
         "yaxis": "y"
        },
        {
         "alignmentgroup": "True",
         "boxpoints": "all",
         "customdata": [
          [
           "./acrocentric_inferred\\B.Orang_chr13_UBF_1011-1.tif"
          ],
          [
           "./acrocentric_inferred\\B.Orang_chr13_UBF_1011-1.tif"
          ],
          [
           "./acrocentric_inferred\\B.Orang_chr18_UBF_1015-1.tif"
          ],
          [
           "./acrocentric_inferred\\B.Orang_chr18_UBF_1015-1.tif"
          ],
          [
           "./acrocentric_inferred\\B.Orang_chr9_UBF_1004-1.tif"
          ],
          [
           "./acrocentric_inferred\\B.Orang_chr9_UBF_1004-1.tif"
          ],
          [
           "./acrocentric_inferred\\B.Orang_chr9_UBF_1016-1.tif"
          ],
          [
           "./acrocentric_inferred\\B.Orang_chr9_UBF_1016-1.tif"
          ]
         ],
         "hovertemplate": "rDNARank=1.5<br>Chromosome=%{x}<br>IntDens=%{y}<br>File=%{customdata[0]}<extra></extra>",
         "legendgroup": "1.5",
         "marker": {
          "color": "#FFA15A"
         },
         "name": "1.5",
         "notched": false,
         "offsetgroup": "1.5",
         "orientation": "v",
         "showlegend": true,
         "type": "box",
         "x": [
          "chr13",
          "chr13",
          "chr18",
          "chr18",
          "chr9",
          "chr9",
          "chr9",
          "chr9"
         ],
         "x0": " ",
         "xaxis": "x",
         "y": [
          0,
          0,
          0,
          0,
          0,
          0,
          0,
          0
         ],
         "y0": " ",
         "yaxis": "y"
        }
       ],
       "layout": {
        "boxmode": "group",
        "legend": {
         "title": {
          "text": "rDNARank"
         },
         "tracegroupgap": 0
        },
        "margin": {
         "t": 60
        },
        "template": {
         "data": {
          "bar": [
           {
            "error_x": {
             "color": "#2a3f5f"
            },
            "error_y": {
             "color": "#2a3f5f"
            },
            "marker": {
             "line": {
              "color": "#E5ECF6",
              "width": 0.5
             },
             "pattern": {
              "fillmode": "overlay",
              "size": 10,
              "solidity": 0.2
             }
            },
            "type": "bar"
           }
          ],
          "barpolar": [
           {
            "marker": {
             "line": {
              "color": "#E5ECF6",
              "width": 0.5
             },
             "pattern": {
              "fillmode": "overlay",
              "size": 10,
              "solidity": 0.2
             }
            },
            "type": "barpolar"
           }
          ],
          "carpet": [
           {
            "aaxis": {
             "endlinecolor": "#2a3f5f",
             "gridcolor": "white",
             "linecolor": "white",
             "minorgridcolor": "white",
             "startlinecolor": "#2a3f5f"
            },
            "baxis": {
             "endlinecolor": "#2a3f5f",
             "gridcolor": "white",
             "linecolor": "white",
             "minorgridcolor": "white",
             "startlinecolor": "#2a3f5f"
            },
            "type": "carpet"
           }
          ],
          "choropleth": [
           {
            "colorbar": {
             "outlinewidth": 0,
             "ticks": ""
            },
            "type": "choropleth"
           }
          ],
          "contour": [
           {
            "colorbar": {
             "outlinewidth": 0,
             "ticks": ""
            },
            "colorscale": [
             [
              0,
              "#0d0887"
             ],
             [
              0.1111111111111111,
              "#46039f"
             ],
             [
              0.2222222222222222,
              "#7201a8"
             ],
             [
              0.3333333333333333,
              "#9c179e"
             ],
             [
              0.4444444444444444,
              "#bd3786"
             ],
             [
              0.5555555555555556,
              "#d8576b"
             ],
             [
              0.6666666666666666,
              "#ed7953"
             ],
             [
              0.7777777777777778,
              "#fb9f3a"
             ],
             [
              0.8888888888888888,
              "#fdca26"
             ],
             [
              1,
              "#f0f921"
             ]
            ],
            "type": "contour"
           }
          ],
          "contourcarpet": [
           {
            "colorbar": {
             "outlinewidth": 0,
             "ticks": ""
            },
            "type": "contourcarpet"
           }
          ],
          "heatmap": [
           {
            "colorbar": {
             "outlinewidth": 0,
             "ticks": ""
            },
            "colorscale": [
             [
              0,
              "#0d0887"
             ],
             [
              0.1111111111111111,
              "#46039f"
             ],
             [
              0.2222222222222222,
              "#7201a8"
             ],
             [
              0.3333333333333333,
              "#9c179e"
             ],
             [
              0.4444444444444444,
              "#bd3786"
             ],
             [
              0.5555555555555556,
              "#d8576b"
             ],
             [
              0.6666666666666666,
              "#ed7953"
             ],
             [
              0.7777777777777778,
              "#fb9f3a"
             ],
             [
              0.8888888888888888,
              "#fdca26"
             ],
             [
              1,
              "#f0f921"
             ]
            ],
            "type": "heatmap"
           }
          ],
          "heatmapgl": [
           {
            "colorbar": {
             "outlinewidth": 0,
             "ticks": ""
            },
            "colorscale": [
             [
              0,
              "#0d0887"
             ],
             [
              0.1111111111111111,
              "#46039f"
             ],
             [
              0.2222222222222222,
              "#7201a8"
             ],
             [
              0.3333333333333333,
              "#9c179e"
             ],
             [
              0.4444444444444444,
              "#bd3786"
             ],
             [
              0.5555555555555556,
              "#d8576b"
             ],
             [
              0.6666666666666666,
              "#ed7953"
             ],
             [
              0.7777777777777778,
              "#fb9f3a"
             ],
             [
              0.8888888888888888,
              "#fdca26"
             ],
             [
              1,
              "#f0f921"
             ]
            ],
            "type": "heatmapgl"
           }
          ],
          "histogram": [
           {
            "marker": {
             "pattern": {
              "fillmode": "overlay",
              "size": 10,
              "solidity": 0.2
             }
            },
            "type": "histogram"
           }
          ],
          "histogram2d": [
           {
            "colorbar": {
             "outlinewidth": 0,
             "ticks": ""
            },
            "colorscale": [
             [
              0,
              "#0d0887"
             ],
             [
              0.1111111111111111,
              "#46039f"
             ],
             [
              0.2222222222222222,
              "#7201a8"
             ],
             [
              0.3333333333333333,
              "#9c179e"
             ],
             [
              0.4444444444444444,
              "#bd3786"
             ],
             [
              0.5555555555555556,
              "#d8576b"
             ],
             [
              0.6666666666666666,
              "#ed7953"
             ],
             [
              0.7777777777777778,
              "#fb9f3a"
             ],
             [
              0.8888888888888888,
              "#fdca26"
             ],
             [
              1,
              "#f0f921"
             ]
            ],
            "type": "histogram2d"
           }
          ],
          "histogram2dcontour": [
           {
            "colorbar": {
             "outlinewidth": 0,
             "ticks": ""
            },
            "colorscale": [
             [
              0,
              "#0d0887"
             ],
             [
              0.1111111111111111,
              "#46039f"
             ],
             [
              0.2222222222222222,
              "#7201a8"
             ],
             [
              0.3333333333333333,
              "#9c179e"
             ],
             [
              0.4444444444444444,
              "#bd3786"
             ],
             [
              0.5555555555555556,
              "#d8576b"
             ],
             [
              0.6666666666666666,
              "#ed7953"
             ],
             [
              0.7777777777777778,
              "#fb9f3a"
             ],
             [
              0.8888888888888888,
              "#fdca26"
             ],
             [
              1,
              "#f0f921"
             ]
            ],
            "type": "histogram2dcontour"
           }
          ],
          "mesh3d": [
           {
            "colorbar": {
             "outlinewidth": 0,
             "ticks": ""
            },
            "type": "mesh3d"
           }
          ],
          "parcoords": [
           {
            "line": {
             "colorbar": {
              "outlinewidth": 0,
              "ticks": ""
             }
            },
            "type": "parcoords"
           }
          ],
          "pie": [
           {
            "automargin": true,
            "type": "pie"
           }
          ],
          "scatter": [
           {
            "fillpattern": {
             "fillmode": "overlay",
             "size": 10,
             "solidity": 0.2
            },
            "type": "scatter"
           }
          ],
          "scatter3d": [
           {
            "line": {
             "colorbar": {
              "outlinewidth": 0,
              "ticks": ""
             }
            },
            "marker": {
             "colorbar": {
              "outlinewidth": 0,
              "ticks": ""
             }
            },
            "type": "scatter3d"
           }
          ],
          "scattercarpet": [
           {
            "marker": {
             "colorbar": {
              "outlinewidth": 0,
              "ticks": ""
             }
            },
            "type": "scattercarpet"
           }
          ],
          "scattergeo": [
           {
            "marker": {
             "colorbar": {
              "outlinewidth": 0,
              "ticks": ""
             }
            },
            "type": "scattergeo"
           }
          ],
          "scattergl": [
           {
            "marker": {
             "colorbar": {
              "outlinewidth": 0,
              "ticks": ""
             }
            },
            "type": "scattergl"
           }
          ],
          "scattermapbox": [
           {
            "marker": {
             "colorbar": {
              "outlinewidth": 0,
              "ticks": ""
             }
            },
            "type": "scattermapbox"
           }
          ],
          "scatterpolar": [
           {
            "marker": {
             "colorbar": {
              "outlinewidth": 0,
              "ticks": ""
             }
            },
            "type": "scatterpolar"
           }
          ],
          "scatterpolargl": [
           {
            "marker": {
             "colorbar": {
              "outlinewidth": 0,
              "ticks": ""
             }
            },
            "type": "scatterpolargl"
           }
          ],
          "scatterternary": [
           {
            "marker": {
             "colorbar": {
              "outlinewidth": 0,
              "ticks": ""
             }
            },
            "type": "scatterternary"
           }
          ],
          "surface": [
           {
            "colorbar": {
             "outlinewidth": 0,
             "ticks": ""
            },
            "colorscale": [
             [
              0,
              "#0d0887"
             ],
             [
              0.1111111111111111,
              "#46039f"
             ],
             [
              0.2222222222222222,
              "#7201a8"
             ],
             [
              0.3333333333333333,
              "#9c179e"
             ],
             [
              0.4444444444444444,
              "#bd3786"
             ],
             [
              0.5555555555555556,
              "#d8576b"
             ],
             [
              0.6666666666666666,
              "#ed7953"
             ],
             [
              0.7777777777777778,
              "#fb9f3a"
             ],
             [
              0.8888888888888888,
              "#fdca26"
             ],
             [
              1,
              "#f0f921"
             ]
            ],
            "type": "surface"
           }
          ],
          "table": [
           {
            "cells": {
             "fill": {
              "color": "#EBF0F8"
             },
             "line": {
              "color": "white"
             }
            },
            "header": {
             "fill": {
              "color": "#C8D4E3"
             },
             "line": {
              "color": "white"
             }
            },
            "type": "table"
           }
          ]
         },
         "layout": {
          "annotationdefaults": {
           "arrowcolor": "#2a3f5f",
           "arrowhead": 0,
           "arrowwidth": 1
          },
          "autotypenumbers": "strict",
          "coloraxis": {
           "colorbar": {
            "outlinewidth": 0,
            "ticks": ""
           }
          },
          "colorscale": {
           "diverging": [
            [
             0,
             "#8e0152"
            ],
            [
             0.1,
             "#c51b7d"
            ],
            [
             0.2,
             "#de77ae"
            ],
            [
             0.3,
             "#f1b6da"
            ],
            [
             0.4,
             "#fde0ef"
            ],
            [
             0.5,
             "#f7f7f7"
            ],
            [
             0.6,
             "#e6f5d0"
            ],
            [
             0.7,
             "#b8e186"
            ],
            [
             0.8,
             "#7fbc41"
            ],
            [
             0.9,
             "#4d9221"
            ],
            [
             1,
             "#276419"
            ]
           ],
           "sequential": [
            [
             0,
             "#0d0887"
            ],
            [
             0.1111111111111111,
             "#46039f"
            ],
            [
             0.2222222222222222,
             "#7201a8"
            ],
            [
             0.3333333333333333,
             "#9c179e"
            ],
            [
             0.4444444444444444,
             "#bd3786"
            ],
            [
             0.5555555555555556,
             "#d8576b"
            ],
            [
             0.6666666666666666,
             "#ed7953"
            ],
            [
             0.7777777777777778,
             "#fb9f3a"
            ],
            [
             0.8888888888888888,
             "#fdca26"
            ],
            [
             1,
             "#f0f921"
            ]
           ],
           "sequentialminus": [
            [
             0,
             "#0d0887"
            ],
            [
             0.1111111111111111,
             "#46039f"
            ],
            [
             0.2222222222222222,
             "#7201a8"
            ],
            [
             0.3333333333333333,
             "#9c179e"
            ],
            [
             0.4444444444444444,
             "#bd3786"
            ],
            [
             0.5555555555555556,
             "#d8576b"
            ],
            [
             0.6666666666666666,
             "#ed7953"
            ],
            [
             0.7777777777777778,
             "#fb9f3a"
            ],
            [
             0.8888888888888888,
             "#fdca26"
            ],
            [
             1,
             "#f0f921"
            ]
           ]
          },
          "colorway": [
           "#636efa",
           "#EF553B",
           "#00cc96",
           "#ab63fa",
           "#FFA15A",
           "#19d3f3",
           "#FF6692",
           "#B6E880",
           "#FF97FF",
           "#FECB52"
          ],
          "font": {
           "color": "#2a3f5f"
          },
          "geo": {
           "bgcolor": "white",
           "lakecolor": "white",
           "landcolor": "#E5ECF6",
           "showlakes": true,
           "showland": true,
           "subunitcolor": "white"
          },
          "hoverlabel": {
           "align": "left"
          },
          "hovermode": "closest",
          "mapbox": {
           "style": "light"
          },
          "paper_bgcolor": "white",
          "plot_bgcolor": "#E5ECF6",
          "polar": {
           "angularaxis": {
            "gridcolor": "white",
            "linecolor": "white",
            "ticks": ""
           },
           "bgcolor": "#E5ECF6",
           "radialaxis": {
            "gridcolor": "white",
            "linecolor": "white",
            "ticks": ""
           }
          },
          "scene": {
           "xaxis": {
            "backgroundcolor": "#E5ECF6",
            "gridcolor": "white",
            "gridwidth": 2,
            "linecolor": "white",
            "showbackground": true,
            "ticks": "",
            "zerolinecolor": "white"
           },
           "yaxis": {
            "backgroundcolor": "#E5ECF6",
            "gridcolor": "white",
            "gridwidth": 2,
            "linecolor": "white",
            "showbackground": true,
            "ticks": "",
            "zerolinecolor": "white"
           },
           "zaxis": {
            "backgroundcolor": "#E5ECF6",
            "gridcolor": "white",
            "gridwidth": 2,
            "linecolor": "white",
            "showbackground": true,
            "ticks": "",
            "zerolinecolor": "white"
           }
          },
          "shapedefaults": {
           "line": {
            "color": "#2a3f5f"
           }
          },
          "ternary": {
           "aaxis": {
            "gridcolor": "white",
            "linecolor": "white",
            "ticks": ""
           },
           "baxis": {
            "gridcolor": "white",
            "linecolor": "white",
            "ticks": ""
           },
           "bgcolor": "#E5ECF6",
           "caxis": {
            "gridcolor": "white",
            "linecolor": "white",
            "ticks": ""
           }
          },
          "title": {
           "x": 0.05
          },
          "xaxis": {
           "automargin": true,
           "gridcolor": "white",
           "linecolor": "white",
           "ticks": "",
           "title": {
            "standoff": 15
           },
           "zerolinecolor": "white",
           "zerolinewidth": 2
          },
          "yaxis": {
           "automargin": true,
           "gridcolor": "white",
           "linecolor": "white",
           "ticks": "",
           "title": {
            "standoff": 15
           },
           "zerolinecolor": "white",
           "zerolinewidth": 2
          }
         }
        },
        "xaxis": {
         "anchor": "y",
         "categoryarray": [
          "chr2",
          "chr9",
          "chr13",
          "chr14",
          "chr15",
          "chr18",
          "chr21",
          "chr22"
         ],
         "categoryorder": "array",
         "domain": [
          0,
          1
         ],
         "title": {
          "text": "Chromosome"
         }
        },
        "yaxis": {
         "anchor": "x",
         "domain": [
          0,
          1
         ],
         "title": {
          "text": "IntDens"
         }
        }
       }
      }
     },
     "metadata": {},
     "output_type": "display_data"
    }
   ],
   "source": [
    "f = px.box(combined_df, x='Chromosome', y='IntDens', points='all', color='rDNARank', hover_data='File',\n",
    "           category_orders={'rDNARank':[1.0, 2.0, 3.0, 4.0], 'Chromosome':['chr2', 'chr9', 'chr13', 'chr14', 'chr15', 'chr18', 'chr21', 'chr22']})\n",
    "f.write_html('rDNA.html')\n",
    "f"
   ]
  },
  {
   "cell_type": "markdown",
   "metadata": {},
   "source": [
    "### Summing total intensity (copy number)"
   ]
  },
  {
   "cell_type": "code",
   "execution_count": 33,
   "metadata": {},
   "outputs": [
    {
     "name": "stderr",
     "output_type": "stream",
     "text": [
      "C:\\Users\\smc\\AppData\\Local\\Temp\\ipykernel_22784\\593718832.py:1: FutureWarning:\n",
      "\n",
      "The provided callable <function median at 0x000002012B620700> is currently using SeriesGroupBy.median. In a future version of pandas, the provided callable will be used directly. To keep current behavior pass the string \"median\" instead.\n",
      "\n"
     ]
    },
    {
     "data": {
      "text/plain": [
       "1.0229668289006797"
      ]
     },
     "execution_count": 33,
     "metadata": {},
     "output_type": "execute_result"
    }
   ],
   "source": [
    "combined_df.groupby(['Chromosome', 'rDNARank']).agg({'IntDens': np.median}).reset_index()['IntDens'].sum()"
   ]
  },
  {
   "cell_type": "markdown",
   "metadata": {},
   "source": [
    "This should be close to 1.0"
   ]
  },
  {
   "cell_type": "code",
   "execution_count": 43,
   "metadata": {},
   "outputs": [
    {
     "name": "stderr",
     "output_type": "stream",
     "text": [
      "C:\\Users\\smc\\AppData\\Local\\Temp\\ipykernel_22784\\615909716.py:1: FutureWarning:\n",
      "\n",
      "The provided callable <function median at 0x000002012B620700> is currently using SeriesGroupBy.median. In a future version of pandas, the provided callable will be used directly. To keep current behavior pass the string \"median\" instead.\n",
      "\n"
     ]
    },
    {
     "data": {
      "text/html": [
       "<div>\n",
       "<style scoped>\n",
       "    .dataframe tbody tr th:only-of-type {\n",
       "        vertical-align: middle;\n",
       "    }\n",
       "\n",
       "    .dataframe tbody tr th {\n",
       "        vertical-align: top;\n",
       "    }\n",
       "\n",
       "    .dataframe thead th {\n",
       "        text-align: right;\n",
       "    }\n",
       "</style>\n",
       "<table border=\"1\" class=\"dataframe\">\n",
       "  <thead>\n",
       "    <tr style=\"text-align: right;\">\n",
       "      <th></th>\n",
       "      <th>Chromosome</th>\n",
       "      <th>rDNARank</th>\n",
       "      <th>IntDens</th>\n",
       "    </tr>\n",
       "  </thead>\n",
       "  <tbody>\n",
       "    <tr>\n",
       "      <th>0</th>\n",
       "      <td>chr13</td>\n",
       "      <td>1.0</td>\n",
       "      <td>0.104519</td>\n",
       "    </tr>\n",
       "    <tr>\n",
       "      <th>1</th>\n",
       "      <td>chr13</td>\n",
       "      <td>1.5</td>\n",
       "      <td>0.000000</td>\n",
       "    </tr>\n",
       "    <tr>\n",
       "      <th>2</th>\n",
       "      <td>chr13</td>\n",
       "      <td>2.0</td>\n",
       "      <td>0.074444</td>\n",
       "    </tr>\n",
       "    <tr>\n",
       "      <th>3</th>\n",
       "      <td>chr14</td>\n",
       "      <td>1.0</td>\n",
       "      <td>0.070597</td>\n",
       "    </tr>\n",
       "    <tr>\n",
       "      <th>4</th>\n",
       "      <td>chr14</td>\n",
       "      <td>2.0</td>\n",
       "      <td>0.052033</td>\n",
       "    </tr>\n",
       "    <tr>\n",
       "      <th>5</th>\n",
       "      <td>chr15</td>\n",
       "      <td>1.0</td>\n",
       "      <td>0.209813</td>\n",
       "    </tr>\n",
       "    <tr>\n",
       "      <th>6</th>\n",
       "      <td>chr15</td>\n",
       "      <td>2.0</td>\n",
       "      <td>0.105769</td>\n",
       "    </tr>\n",
       "    <tr>\n",
       "      <th>7</th>\n",
       "      <td>chr18</td>\n",
       "      <td>1.0</td>\n",
       "      <td>0.047820</td>\n",
       "    </tr>\n",
       "    <tr>\n",
       "      <th>8</th>\n",
       "      <td>chr18</td>\n",
       "      <td>1.5</td>\n",
       "      <td>0.000000</td>\n",
       "    </tr>\n",
       "    <tr>\n",
       "      <th>9</th>\n",
       "      <td>chr18</td>\n",
       "      <td>2.0</td>\n",
       "      <td>0.000000</td>\n",
       "    </tr>\n",
       "    <tr>\n",
       "      <th>10</th>\n",
       "      <td>chr2</td>\n",
       "      <td>1.0</td>\n",
       "      <td>0.099410</td>\n",
       "    </tr>\n",
       "    <tr>\n",
       "      <th>11</th>\n",
       "      <td>chr2</td>\n",
       "      <td>2.0</td>\n",
       "      <td>0.046585</td>\n",
       "    </tr>\n",
       "    <tr>\n",
       "      <th>12</th>\n",
       "      <td>chr2</td>\n",
       "      <td>3.0</td>\n",
       "      <td>0.034979</td>\n",
       "    </tr>\n",
       "    <tr>\n",
       "      <th>13</th>\n",
       "      <td>chr2</td>\n",
       "      <td>4.0</td>\n",
       "      <td>0.011299</td>\n",
       "    </tr>\n",
       "    <tr>\n",
       "      <th>14</th>\n",
       "      <td>chr21</td>\n",
       "      <td>1.0</td>\n",
       "      <td>0.028977</td>\n",
       "    </tr>\n",
       "    <tr>\n",
       "      <th>15</th>\n",
       "      <td>chr21</td>\n",
       "      <td>2.0</td>\n",
       "      <td>0.000000</td>\n",
       "    </tr>\n",
       "    <tr>\n",
       "      <th>16</th>\n",
       "      <td>chr22</td>\n",
       "      <td>1.0</td>\n",
       "      <td>0.067986</td>\n",
       "    </tr>\n",
       "    <tr>\n",
       "      <th>17</th>\n",
       "      <td>chr22</td>\n",
       "      <td>2.0</td>\n",
       "      <td>0.016498</td>\n",
       "    </tr>\n",
       "    <tr>\n",
       "      <th>18</th>\n",
       "      <td>chr9</td>\n",
       "      <td>1.0</td>\n",
       "      <td>0.032820</td>\n",
       "    </tr>\n",
       "    <tr>\n",
       "      <th>19</th>\n",
       "      <td>chr9</td>\n",
       "      <td>1.5</td>\n",
       "      <td>0.000000</td>\n",
       "    </tr>\n",
       "    <tr>\n",
       "      <th>20</th>\n",
       "      <td>chr9</td>\n",
       "      <td>2.0</td>\n",
       "      <td>0.019419</td>\n",
       "    </tr>\n",
       "  </tbody>\n",
       "</table>\n",
       "</div>"
      ],
      "text/plain": [
       "   Chromosome  rDNARank   IntDens\n",
       "0       chr13       1.0  0.104519\n",
       "1       chr13       1.5  0.000000\n",
       "2       chr13       2.0  0.074444\n",
       "3       chr14       1.0  0.070597\n",
       "4       chr14       2.0  0.052033\n",
       "5       chr15       1.0  0.209813\n",
       "6       chr15       2.0  0.105769\n",
       "7       chr18       1.0  0.047820\n",
       "8       chr18       1.5  0.000000\n",
       "9       chr18       2.0  0.000000\n",
       "10       chr2       1.0  0.099410\n",
       "11       chr2       2.0  0.046585\n",
       "12       chr2       3.0  0.034979\n",
       "13       chr2       4.0  0.011299\n",
       "14      chr21       1.0  0.028977\n",
       "15      chr21       2.0  0.000000\n",
       "16      chr22       1.0  0.067986\n",
       "17      chr22       2.0  0.016498\n",
       "18       chr9       1.0  0.032820\n",
       "19       chr9       1.5  0.000000\n",
       "20       chr9       2.0  0.019419"
      ]
     },
     "execution_count": 43,
     "metadata": {},
     "output_type": "execute_result"
    }
   ],
   "source": [
    "combined_df.groupby(['Chromosome', 'rDNARank']).agg({'IntDens': np.median}).reset_index()"
   ]
  },
  {
   "cell_type": "markdown",
   "metadata": {},
   "source": [
    "### Interactive versions"
   ]
  },
  {
   "cell_type": "code",
   "execution_count": 34,
   "metadata": {},
   "outputs": [],
   "source": [
    "def examine_file(fname, labeled_chromosomes):\n",
    "    print(fname)\n",
    "    img = tifffile.imread(fname)\n",
    "    chromosomes = img[-1].astype(int)\n",
    "    img = img[0:-1]\n",
    "    rDNA = tifffile.imread(fname.replace('acrocentric_inferred', 'rDNA_inferred'))[-1].astype(int)\n",
    "    rDNA_merged = merge_rDNA_labels(rDNA, chromosomes)\n",
    "\n",
    "    marker_img = np.zeros_like(chromosomes)\n",
    "    for c in labeled_chromosomes:\n",
    "        marker_img[chromosomes==c] = 1\n",
    "    marker_img = ski.morphology.binary_dilation(marker_img, ski.morphology.disk(3))\n",
    "    marker_img = ski.feature.canny(marker_img)\n",
    "\n",
    "    viewer.layers.clear()\n",
    "    viewer.add_image(img, channel_axis=0, name='img')\n",
    "    viewer.add_labels(chromosomes, name='chromosomes')\n",
    "    viewer.layers[-1].contour = 2\n",
    "    viewer.add_labels(rDNA, name='rDNA', visible=False)\n",
    "    viewer.add_labels(rDNA_merged, name='rDNA_merged')\n",
    "    viewer.add_image(marker_img, name='marker', blending='additive', colormap='gray', opacity=0.4)"
   ]
  },
  {
   "cell_type": "code",
   "execution_count": 35,
   "metadata": {},
   "outputs": [
    {
     "data": {
      "application/vnd.jupyter.widget-view+json": {
       "model_id": "b8491aeb2c98458aa2d9c555901f2007",
       "version_major": 2,
       "version_minor": 0
      },
      "text/plain": [
       "FigureWidget({\n",
       "    'data': [{'alignmentgroup': 'True',\n",
       "              'boxpoints': 'all',\n",
       "              'customdata': array([['./acrocentric_inferred\\\\B.Orang_chr13_UBF_1001-1.tif'],\n",
       "                                   ['./acrocentric_inferred\\\\B.Orang_chr13_UBF_1002-1.tif'],\n",
       "                                   ['./acrocentric_inferred\\\\B.Orang_chr13_UBF_1003-1.tif'],\n",
       "                                   ['./acrocentric_inferred\\\\B.Orang_chr13_UBF_1006-1.tif'],\n",
       "                                   ['./acrocentric_inferred\\\\B.Orang_chr13_UBF_1009-1.tif'],\n",
       "                                   ['./acrocentric_inferred\\\\B.Orang_chr13_UBF_1012-1.tif'],\n",
       "                                   ['./acrocentric_inferred\\\\B.Orang_chr13_UBF_1013-1.tif'],\n",
       "                                   ['./acrocentric_inferred\\\\B.Orang_chr13_UBF_1014-1.tif'],\n",
       "                                   ['./acrocentric_inferred\\\\B.Orang_chr13_UBF_1015-1.tif'],\n",
       "                                   ['./acrocentric_inferred\\\\B.Orang_chr13_UBF_1017-1.tif'],\n",
       "                                   ['./acrocentric_inferred\\\\B.Orang_chr13_UBF_1018-1.tif'],\n",
       "                                   ['./acrocentric_inferred\\\\B.Orang_chr13_UBF_1019-1.tif'],\n",
       "                                   ['./acrocentric_inferred\\\\B.Orang_chr13_UBF_1020-1.tif'],\n",
       "                                   ['./acrocentric_inferred\\\\B.Orang_chr13_UBF_1021-1.tif'],\n",
       "                                   ['./acrocentric_inferred\\\\B.Orang_chr14_UBF_1001-1.tif'],\n",
       "                                   ['./acrocentric_inferred\\\\B.Orang_chr14_UBF_1002-1.tif'],\n",
       "                                   ['./acrocentric_inferred\\\\B.Orang_chr14_UBF_1004-1.tif'],\n",
       "                                   ['./acrocentric_inferred\\\\B.Orang_chr14_UBF_1005-1.tif'],\n",
       "                                   ['./acrocentric_inferred\\\\B.Orang_chr14_UBF_1007-1.tif'],\n",
       "                                   ['./acrocentric_inferred\\\\B.Orang_chr14_UBF_1009-1.tif'],\n",
       "                                   ['./acrocentric_inferred\\\\B.Orang_chr14_UBF_1010-1.tif'],\n",
       "                                   ['./acrocentric_inferred\\\\B.Orang_chr14_UBF_1011-1.tif'],\n",
       "                                   ['./acrocentric_inferred\\\\B.Orang_chr14_UBF_1012-1.tif'],\n",
       "                                   ['./acrocentric_inferred\\\\B.Orang_chr14_UBF_1013-1.tif'],\n",
       "                                   ['./acrocentric_inferred\\\\B.Orang_chr14_UBF_1014-1.tif'],\n",
       "                                   ['./acrocentric_inferred\\\\B.Orang_chr14_UBF_1015-1.tif'],\n",
       "                                   ['./acrocentric_inferred\\\\B.Orang_chr14_UBF_1016-1.tif'],\n",
       "                                   ['./acrocentric_inferred\\\\B.Orang_chr14_UBF_1017-1.tif'],\n",
       "                                   ['./acrocentric_inferred\\\\B.Orang_chr14_UBF_1018-1.tif'],\n",
       "                                   ['./acrocentric_inferred\\\\B.Orang_chr14_UBF_1019-1.tif'],\n",
       "                                   ['./acrocentric_inferred\\\\B.Orang_chr14_UBF_1020-1.tif'],\n",
       "                                   ['./acrocentric_inferred\\\\B.Orang_chr14_UBF_1021-1.tif'],\n",
       "                                   ['./acrocentric_inferred\\\\B.Orang_chr14_UBF_1022-1.tif'],\n",
       "                                   ['./acrocentric_inferred\\\\B.Orang_chr15_UBF_1002-1.tif'],\n",
       "                                   ['./acrocentric_inferred\\\\B.Orang_chr15_UBF_1003-1.tif'],\n",
       "                                   ['./acrocentric_inferred\\\\B.Orang_chr15_UBF_1004-1.tif'],\n",
       "                                   ['./acrocentric_inferred\\\\B.Orang_chr15_UBF_1005-1.tif'],\n",
       "                                   ['./acrocentric_inferred\\\\B.Orang_chr15_UBF_1006-1.tif'],\n",
       "                                   ['./acrocentric_inferred\\\\B.Orang_chr15_UBF_1008-1.tif'],\n",
       "                                   ['./acrocentric_inferred\\\\B.Orang_chr15_UBF_1009-1.tif'],\n",
       "                                   ['./acrocentric_inferred\\\\B.Orang_chr15_UBF_1010-1.tif'],\n",
       "                                   ['./acrocentric_inferred\\\\B.Orang_chr15_UBF_1011-1.tif'],\n",
       "                                   ['./acrocentric_inferred\\\\B.Orang_chr15_UBF_1012-1.tif'],\n",
       "                                   ['./acrocentric_inferred\\\\B.Orang_chr15_UBF_1013-1.tif'],\n",
       "                                   ['./acrocentric_inferred\\\\B.Orang_chr15_UBF_1014-1.tif'],\n",
       "                                   ['./acrocentric_inferred\\\\B.Orang_chr15_UBF_1015-1.tif'],\n",
       "                                   ['./acrocentric_inferred\\\\B.Orang_chr15_UBF_1017-1.tif'],\n",
       "                                   ['./acrocentric_inferred\\\\B.Orang_chr15_UBF_1018-1.tif'],\n",
       "                                   ['./acrocentric_inferred\\\\B.Orang_chr15_UBF_1019-1.tif'],\n",
       "                                   ['./acrocentric_inferred\\\\B.Orang_chr15_UBF_1020-1.tif'],\n",
       "                                   ['./acrocentric_inferred\\\\B.Orang_chr18_UBF_1001-1.tif'],\n",
       "                                   ['./acrocentric_inferred\\\\B.Orang_chr18_UBF_1003-1.tif'],\n",
       "                                   ['./acrocentric_inferred\\\\B.Orang_chr18_UBF_1004-1.tif'],\n",
       "                                   ['./acrocentric_inferred\\\\B.Orang_chr18_UBF_1005-1.tif'],\n",
       "                                   ['./acrocentric_inferred\\\\B.Orang_chr18_UBF_1007-1.tif'],\n",
       "                                   ['./acrocentric_inferred\\\\B.Orang_chr18_UBF_1008-1.tif'],\n",
       "                                   ['./acrocentric_inferred\\\\B.Orang_chr18_UBF_1009-1.tif'],\n",
       "                                   ['./acrocentric_inferred\\\\B.Orang_chr18_UBF_1010-1.tif'],\n",
       "                                   ['./acrocentric_inferred\\\\B.Orang_chr18_UBF_1012-1.tif'],\n",
       "                                   ['./acrocentric_inferred\\\\B.Orang_chr18_UBF_1013-1.tif'],\n",
       "                                   ['./acrocentric_inferred\\\\B.Orang_chr18_UBF_1016-1.tif'],\n",
       "                                   ['./acrocentric_inferred\\\\B.Orang_chr18_UBF_1017-1.tif'],\n",
       "                                   ['./acrocentric_inferred\\\\B.Orang_chr18_UBF_1018-1.tif'],\n",
       "                                   ['./acrocentric_inferred\\\\B.Orang_chr18_UBF_1019-1.tif'],\n",
       "                                   ['./acrocentric_inferred\\\\B.Orang_chr18_UBF_1020-1.tif'],\n",
       "                                   ['./acrocentric_inferred\\\\B.Orang_chr21_UBF_1002-1.tif'],\n",
       "                                   ['./acrocentric_inferred\\\\B.Orang_chr21_UBF_1004-1.tif'],\n",
       "                                   ['./acrocentric_inferred\\\\B.Orang_chr21_UBF_1005-1.tif'],\n",
       "                                   ['./acrocentric_inferred\\\\B.Orang_chr21_UBF_1007-1.tif'],\n",
       "                                   ['./acrocentric_inferred\\\\B.Orang_chr21_UBF_1009-1.tif'],\n",
       "                                   ['./acrocentric_inferred\\\\B.Orang_chr21_UBF_1010-1.tif'],\n",
       "                                   ['./acrocentric_inferred\\\\B.Orang_chr21_UBF_1011-1.tif'],\n",
       "                                   ['./acrocentric_inferred\\\\B.Orang_chr21_UBF_1012-1.tif'],\n",
       "                                   ['./acrocentric_inferred\\\\B.Orang_chr21_UBF_1013-1.tif'],\n",
       "                                   ['./acrocentric_inferred\\\\B.Orang_chr21_UBF_1014-1.tif'],\n",
       "                                   ['./acrocentric_inferred\\\\B.Orang_chr21_UBF_1015-1.tif'],\n",
       "                                   ['./acrocentric_inferred\\\\B.Orang_chr21_UBF_1016-1.tif'],\n",
       "                                   ['./acrocentric_inferred\\\\B.Orang_chr21_UBF_1018-1.tif'],\n",
       "                                   ['./acrocentric_inferred\\\\B.Orang_chr21_UBF_1019-1.tif'],\n",
       "                                   ['./acrocentric_inferred\\\\B.Orang_chr22_UBF_1001-1.tif'],\n",
       "                                   ['./acrocentric_inferred\\\\B.Orang_chr22_UBF_1002-1.tif'],\n",
       "                                   ['./acrocentric_inferred\\\\B.Orang_chr22_UBF_1004-1.tif'],\n",
       "                                   ['./acrocentric_inferred\\\\B.Orang_chr22_UBF_1005-1.tif'],\n",
       "                                   ['./acrocentric_inferred\\\\B.Orang_chr22_UBF_1006-1.tif'],\n",
       "                                   ['./acrocentric_inferred\\\\B.Orang_chr22_UBF_1007-1.tif'],\n",
       "                                   ['./acrocentric_inferred\\\\B.Orang_chr22_UBF_1008-1.tif'],\n",
       "                                   ['./acrocentric_inferred\\\\B.Orang_chr22_UBF_1009-1.tif'],\n",
       "                                   ['./acrocentric_inferred\\\\B.Orang_chr22_UBF_1010-1.tif'],\n",
       "                                   ['./acrocentric_inferred\\\\B.Orang_chr22_UBF_1011-1.tif'],\n",
       "                                   ['./acrocentric_inferred\\\\B.Orang_chr22_UBF_1013-1.tif'],\n",
       "                                   ['./acrocentric_inferred\\\\B.Orang_chr22_UBF_1014-1.tif'],\n",
       "                                   ['./acrocentric_inferred\\\\B.Orang_chr22_UBF_1015-1.tif'],\n",
       "                                   ['./acrocentric_inferred\\\\B.Orang_chr22_UBF_1017-1.tif'],\n",
       "                                   ['./acrocentric_inferred\\\\B.Orang_chr22_UBF_1018-1.tif'],\n",
       "                                   ['./acrocentric_inferred\\\\B.Orang_chr22_UBF_1019-1.tif'],\n",
       "                                   ['./acrocentric_inferred\\\\B.Orang_chr22_UBF_1020-1.tif'],\n",
       "                                   ['./acrocentric_inferred\\\\B.Orang_chr2_UBF_1003-1.tif'],\n",
       "                                   ['./acrocentric_inferred\\\\B.Orang_chr2_UBF_1004-1.tif'],\n",
       "                                   ['./acrocentric_inferred\\\\B.Orang_chr2_UBF_1008-1.tif'],\n",
       "                                   ['./acrocentric_inferred\\\\B.Orang_chr2_UBF_1010-1.tif'],\n",
       "                                   ['./acrocentric_inferred\\\\B.Orang_chr2_UBF_1011-1.tif'],\n",
       "                                   ['./acrocentric_inferred\\\\B.Orang_chr2_UBF_1014-1.tif'],\n",
       "                                   ['./acrocentric_inferred\\\\B.Orang_chr2_UBF_1015-1.tif'],\n",
       "                                   ['./acrocentric_inferred\\\\B.Orang_chr2_UBF_1018-2.tif'],\n",
       "                                   ['./acrocentric_inferred\\\\B.Orang_chr2_UBF_1018.tif'],\n",
       "                                   ['./acrocentric_inferred\\\\B.Orang_chr2_UBF_1020-1.tif'],\n",
       "                                   ['./acrocentric_inferred\\\\B.Orang_chr2_UBF_1021-1.tif'],\n",
       "                                   ['./acrocentric_inferred\\\\B.Orang_chr2_UBF_1022-1.tif'],\n",
       "                                   ['./acrocentric_inferred\\\\B.Orang_chr2_UBF_1025-1.tif'],\n",
       "                                   ['./acrocentric_inferred\\\\B.Orang_chr2_UBF_1026-1.tif'],\n",
       "                                   ['./acrocentric_inferred\\\\B.Orang_chr9_UBF_1009-1.tif'],\n",
       "                                   ['./acrocentric_inferred\\\\B.Orang_chr9_UBF_1014-1.tif'],\n",
       "                                   ['./acrocentric_inferred\\\\B.Orang_chr9_UBF_1017-1.tif'],\n",
       "                                   ['./acrocentric_inferred\\\\B.Orang_chr9_UBF_1017-2.tif'],\n",
       "                                   ['./acrocentric_inferred\\\\B.Orang_chr9_UBF_1018-1.tif'],\n",
       "                                   ['./acrocentric_inferred\\\\B.Orang_chr9_UBF_1019-1.tif'],\n",
       "                                   ['./acrocentric_inferred\\\\B.Orang_chr9_UBF_1020-1.tif'],\n",
       "                                   ['./acrocentric_inferred\\\\B.Orang_chr9_UBF_1021-1.tif'],\n",
       "                                   ['./acrocentric_inferred\\\\B.Orang_chr9_UBF_1022-1.tif'],\n",
       "                                   ['./acrocentric_inferred\\\\B.Orang_chr9_UBF_1024-1.tif'],\n",
       "                                   ['./acrocentric_inferred\\\\B.Orang_chr9_UBF_1025-1.tif'],\n",
       "                                   ['./acrocentric_inferred\\\\B.Orang_chr9_UBF_1026-1.tif'],\n",
       "                                   ['./acrocentric_inferred\\\\B.Orang_chr9_UBF_1027-1.tif'],\n",
       "                                   ['./acrocentric_inferred\\\\B.Orang_chr9_UBF_1028-1.tif'],\n",
       "                                   ['./acrocentric_inferred\\\\B.Orang_chr9_UBF_1029-1.tif'],\n",
       "                                   ['./acrocentric_inferred\\\\B.Orang_chr9_UBF_1030-1.tif'],\n",
       "                                   ['./acrocentric_inferred\\\\B.Orang_chr9_UBF_1031-1.tif'],\n",
       "                                   ['./acrocentric_inferred\\\\B.Orang_chr9_UBF_1032-1.tif'],\n",
       "                                   ['./acrocentric_inferred\\\\B.Orang_chr9_UBF_1033-1.tif'],\n",
       "                                   ['./acrocentric_inferred\\\\B.Orang_chr9_UBF_1034-1.tif'],\n",
       "                                   ['./acrocentric_inferred\\\\B.Orang_chr9_UBF_1035-1.tif'],\n",
       "                                   ['./acrocentric_inferred\\\\B.Orang_chr2_UBF_1001-1.tif'],\n",
       "                                   ['./acrocentric_inferred\\\\B.Orang_chr2_UBF_1007-1.tif'],\n",
       "                                   ['./acrocentric_inferred\\\\B.Orang_chr2_UBF_1012-1.tif'],\n",
       "                                   ['./acrocentric_inferred\\\\B.Orang_chr2_UBF_1013-1.tif'],\n",
       "                                   ['./acrocentric_inferred\\\\B.Orang_chr2_UBF_1016-1.tif'],\n",
       "                                   ['./acrocentric_inferred\\\\B.Orang_chr2_UBF_1017-1.tif'],\n",
       "                                   ['./acrocentric_inferred\\\\B.Orang_chr2_UBF_1024-1.tif']], dtype=object),\n",
       "              'hovertemplate': ('rDNARank=1.0<br>Chromosome=%{x' ... '{customdata[0]}<extra></extra>'),\n",
       "              'legendgroup': '1.0',\n",
       "              'marker': {'color': '#636efa'},\n",
       "              'name': '1.0',\n",
       "              'notched': False,\n",
       "              'offsetgroup': '1.0',\n",
       "              'orientation': 'v',\n",
       "              'showlegend': True,\n",
       "              'type': 'box',\n",
       "              'uid': 'cf3acc68-a448-4405-b372-039d27e2357c',\n",
       "              'x': array(['chr13', 'chr13', 'chr13', 'chr13', 'chr13', 'chr13', 'chr13', 'chr13',\n",
       "                          'chr13', 'chr13', 'chr13', 'chr13', 'chr13', 'chr13', 'chr14', 'chr14',\n",
       "                          'chr14', 'chr14', 'chr14', 'chr14', 'chr14', 'chr14', 'chr14', 'chr14',\n",
       "                          'chr14', 'chr14', 'chr14', 'chr14', 'chr14', 'chr14', 'chr14', 'chr14',\n",
       "                          'chr14', 'chr15', 'chr15', 'chr15', 'chr15', 'chr15', 'chr15', 'chr15',\n",
       "                          'chr15', 'chr15', 'chr15', 'chr15', 'chr15', 'chr15', 'chr15', 'chr15',\n",
       "                          'chr15', 'chr15', 'chr18', 'chr18', 'chr18', 'chr18', 'chr18', 'chr18',\n",
       "                          'chr18', 'chr18', 'chr18', 'chr18', 'chr18', 'chr18', 'chr18', 'chr18',\n",
       "                          'chr18', 'chr21', 'chr21', 'chr21', 'chr21', 'chr21', 'chr21', 'chr21',\n",
       "                          'chr21', 'chr21', 'chr21', 'chr21', 'chr21', 'chr21', 'chr21', 'chr22',\n",
       "                          'chr22', 'chr22', 'chr22', 'chr22', 'chr22', 'chr22', 'chr22', 'chr22',\n",
       "                          'chr22', 'chr22', 'chr22', 'chr22', 'chr22', 'chr22', 'chr22', 'chr22',\n",
       "                          'chr2', 'chr2', 'chr2', 'chr2', 'chr2', 'chr2', 'chr2', 'chr2', 'chr2',\n",
       "                          'chr2', 'chr2', 'chr2', 'chr2', 'chr2', 'chr9', 'chr9', 'chr9', 'chr9',\n",
       "                          'chr9', 'chr9', 'chr9', 'chr9', 'chr9', 'chr9', 'chr9', 'chr9', 'chr9',\n",
       "                          'chr9', 'chr9', 'chr9', 'chr9', 'chr9', 'chr9', 'chr9', 'chr9', 'chr2',\n",
       "                          'chr2', 'chr2', 'chr2', 'chr2', 'chr2', 'chr2'], dtype=object),\n",
       "              'x0': ' ',\n",
       "              'xaxis': 'x',\n",
       "              'y': array([0.11076663, 0.10550755, 0.14424819, 0.09123775, 0.11423741, 0.10353093,\n",
       "                          0.09706728, 0.0665402 , 0.10067681, 0.11029258, 0.09047167, 0.09925497,\n",
       "                          0.10873632, 0.13942243, 0.06109822, 0.07059718, 0.11478293, 0.06703165,\n",
       "                          0.05151675, 0.07767476, 0.05756588, 0.07250617, 0.07684625, 0.0587039 ,\n",
       "                          0.05127748, 0.0698995 , 0.08040342, 0.06657621, 0.05071436, 0.08603187,\n",
       "                          0.07620155, 0.07698343, 0.07194321, 0.24646087, 0.26513869, 0.20629355,\n",
       "                          0.10491503, 0.10348211, 0.21489577, 0.20981328, 0.18822591, 0.22058752,\n",
       "                          0.2060113 , 0.21455506, 0.20228315, 0.20871688, 0.23437393, 0.21242984,\n",
       "                          0.20144638, 0.21937132, 0.04474855, 0.05251659, 0.05517795, 0.03725757,\n",
       "                          0.04143259, 0.02846137, 0.05659864, 0.04781972, 0.04327062, 0.05062357,\n",
       "                          0.05037618, 0.05577166, 0.09082279, 0.04549219, 0.0368802 , 0.02951777,\n",
       "                          0.03164605, 0.02346088, 0.07459735, 0.03033578, 0.02904841, 0.02227781,\n",
       "                          0.06906265, 0.02890641, 0.02359713, 0.02376149, 0.02756301, 0.00714128,\n",
       "                          0.03125002, 0.05679193, 0.05346894, 0.06726194, 0.05728961, 0.07252811,\n",
       "                          0.06798616, 0.06615915, 0.0808812 , 0.08288351, 0.07134431, 0.07305106,\n",
       "                          0.08766854, 0.06660044, 0.07572288, 0.08056049, 0.06759587, 0.014569  ,\n",
       "                          0.09940951, 0.10226193, 0.0894485 , 0.09415949, 0.09349409, 0.10167837,\n",
       "                          0.10399987, 0.13873728, 0.05187627, 0.10401098, 0.10728951, 0.10453608,\n",
       "                          0.1246913 , 0.09456158, 0.03033219, 0.02710565, 0.04736368, 0.0437174 ,\n",
       "                          0.03207572, 0.03173436, 0.03034117, 0.02876574, 0.02640976, 0.02647438,\n",
       "                          0.03634707, 0.03288294, 0.04313495, 0.03541585, 0.02521981, 0.03558931,\n",
       "                          0.0398051 , 0.14024357, 0.03282022, 0.02489334, 0.04164945, 0.15886388,\n",
       "                          0.18702857, 0.09850771, 0.09686844, 0.09573427, 0.09777386, 0.08953515]),\n",
       "              'y0': ' ',\n",
       "              'yaxis': 'y'},\n",
       "             {'alignmentgroup': 'True',\n",
       "              'boxpoints': 'all',\n",
       "              'customdata': array([['./acrocentric_inferred\\\\B.Orang_chr13_UBF_1001-1.tif'],\n",
       "                                   ['./acrocentric_inferred\\\\B.Orang_chr13_UBF_1002-1.tif'],\n",
       "                                   ['./acrocentric_inferred\\\\B.Orang_chr13_UBF_1003-1.tif'],\n",
       "                                   ['./acrocentric_inferred\\\\B.Orang_chr13_UBF_1006-1.tif'],\n",
       "                                   ['./acrocentric_inferred\\\\B.Orang_chr13_UBF_1009-1.tif'],\n",
       "                                   ['./acrocentric_inferred\\\\B.Orang_chr13_UBF_1012-1.tif'],\n",
       "                                   ['./acrocentric_inferred\\\\B.Orang_chr13_UBF_1013-1.tif'],\n",
       "                                   ['./acrocentric_inferred\\\\B.Orang_chr13_UBF_1014-1.tif'],\n",
       "                                   ['./acrocentric_inferred\\\\B.Orang_chr13_UBF_1015-1.tif'],\n",
       "                                   ['./acrocentric_inferred\\\\B.Orang_chr13_UBF_1017-1.tif'],\n",
       "                                   ['./acrocentric_inferred\\\\B.Orang_chr13_UBF_1018-1.tif'],\n",
       "                                   ['./acrocentric_inferred\\\\B.Orang_chr13_UBF_1019-1.tif'],\n",
       "                                   ['./acrocentric_inferred\\\\B.Orang_chr13_UBF_1020-1.tif'],\n",
       "                                   ['./acrocentric_inferred\\\\B.Orang_chr13_UBF_1021-1.tif'],\n",
       "                                   ['./acrocentric_inferred\\\\B.Orang_chr14_UBF_1001-1.tif'],\n",
       "                                   ['./acrocentric_inferred\\\\B.Orang_chr14_UBF_1002-1.tif'],\n",
       "                                   ['./acrocentric_inferred\\\\B.Orang_chr14_UBF_1004-1.tif'],\n",
       "                                   ['./acrocentric_inferred\\\\B.Orang_chr14_UBF_1005-1.tif'],\n",
       "                                   ['./acrocentric_inferred\\\\B.Orang_chr14_UBF_1007-1.tif'],\n",
       "                                   ['./acrocentric_inferred\\\\B.Orang_chr14_UBF_1009-1.tif'],\n",
       "                                   ['./acrocentric_inferred\\\\B.Orang_chr14_UBF_1010-1.tif'],\n",
       "                                   ['./acrocentric_inferred\\\\B.Orang_chr14_UBF_1011-1.tif'],\n",
       "                                   ['./acrocentric_inferred\\\\B.Orang_chr14_UBF_1012-1.tif'],\n",
       "                                   ['./acrocentric_inferred\\\\B.Orang_chr14_UBF_1013-1.tif'],\n",
       "                                   ['./acrocentric_inferred\\\\B.Orang_chr14_UBF_1014-1.tif'],\n",
       "                                   ['./acrocentric_inferred\\\\B.Orang_chr14_UBF_1015-1.tif'],\n",
       "                                   ['./acrocentric_inferred\\\\B.Orang_chr14_UBF_1016-1.tif'],\n",
       "                                   ['./acrocentric_inferred\\\\B.Orang_chr14_UBF_1017-1.tif'],\n",
       "                                   ['./acrocentric_inferred\\\\B.Orang_chr14_UBF_1018-1.tif'],\n",
       "                                   ['./acrocentric_inferred\\\\B.Orang_chr14_UBF_1019-1.tif'],\n",
       "                                   ['./acrocentric_inferred\\\\B.Orang_chr14_UBF_1020-1.tif'],\n",
       "                                   ['./acrocentric_inferred\\\\B.Orang_chr14_UBF_1021-1.tif'],\n",
       "                                   ['./acrocentric_inferred\\\\B.Orang_chr14_UBF_1022-1.tif'],\n",
       "                                   ['./acrocentric_inferred\\\\B.Orang_chr15_UBF_1002-1.tif'],\n",
       "                                   ['./acrocentric_inferred\\\\B.Orang_chr15_UBF_1003-1.tif'],\n",
       "                                   ['./acrocentric_inferred\\\\B.Orang_chr15_UBF_1004-1.tif'],\n",
       "                                   ['./acrocentric_inferred\\\\B.Orang_chr15_UBF_1005-1.tif'],\n",
       "                                   ['./acrocentric_inferred\\\\B.Orang_chr15_UBF_1006-1.tif'],\n",
       "                                   ['./acrocentric_inferred\\\\B.Orang_chr15_UBF_1008-1.tif'],\n",
       "                                   ['./acrocentric_inferred\\\\B.Orang_chr15_UBF_1009-1.tif'],\n",
       "                                   ['./acrocentric_inferred\\\\B.Orang_chr15_UBF_1010-1.tif'],\n",
       "                                   ['./acrocentric_inferred\\\\B.Orang_chr15_UBF_1011-1.tif'],\n",
       "                                   ['./acrocentric_inferred\\\\B.Orang_chr15_UBF_1012-1.tif'],\n",
       "                                   ['./acrocentric_inferred\\\\B.Orang_chr15_UBF_1013-1.tif'],\n",
       "                                   ['./acrocentric_inferred\\\\B.Orang_chr15_UBF_1014-1.tif'],\n",
       "                                   ['./acrocentric_inferred\\\\B.Orang_chr15_UBF_1015-1.tif'],\n",
       "                                   ['./acrocentric_inferred\\\\B.Orang_chr15_UBF_1017-1.tif'],\n",
       "                                   ['./acrocentric_inferred\\\\B.Orang_chr15_UBF_1018-1.tif'],\n",
       "                                   ['./acrocentric_inferred\\\\B.Orang_chr15_UBF_1019-1.tif'],\n",
       "                                   ['./acrocentric_inferred\\\\B.Orang_chr15_UBF_1020-1.tif'],\n",
       "                                   ['./acrocentric_inferred\\\\B.Orang_chr18_UBF_1001-1.tif'],\n",
       "                                   ['./acrocentric_inferred\\\\B.Orang_chr18_UBF_1003-1.tif'],\n",
       "                                   ['./acrocentric_inferred\\\\B.Orang_chr18_UBF_1004-1.tif'],\n",
       "                                   ['./acrocentric_inferred\\\\B.Orang_chr18_UBF_1005-1.tif'],\n",
       "                                   ['./acrocentric_inferred\\\\B.Orang_chr18_UBF_1007-1.tif'],\n",
       "                                   ['./acrocentric_inferred\\\\B.Orang_chr18_UBF_1008-1.tif'],\n",
       "                                   ['./acrocentric_inferred\\\\B.Orang_chr18_UBF_1009-1.tif'],\n",
       "                                   ['./acrocentric_inferred\\\\B.Orang_chr18_UBF_1010-1.tif'],\n",
       "                                   ['./acrocentric_inferred\\\\B.Orang_chr18_UBF_1012-1.tif'],\n",
       "                                   ['./acrocentric_inferred\\\\B.Orang_chr18_UBF_1013-1.tif'],\n",
       "                                   ['./acrocentric_inferred\\\\B.Orang_chr18_UBF_1016-1.tif'],\n",
       "                                   ['./acrocentric_inferred\\\\B.Orang_chr18_UBF_1017-1.tif'],\n",
       "                                   ['./acrocentric_inferred\\\\B.Orang_chr18_UBF_1018-1.tif'],\n",
       "                                   ['./acrocentric_inferred\\\\B.Orang_chr18_UBF_1019-1.tif'],\n",
       "                                   ['./acrocentric_inferred\\\\B.Orang_chr18_UBF_1020-1.tif'],\n",
       "                                   ['./acrocentric_inferred\\\\B.Orang_chr21_UBF_1002-1.tif'],\n",
       "                                   ['./acrocentric_inferred\\\\B.Orang_chr21_UBF_1004-1.tif'],\n",
       "                                   ['./acrocentric_inferred\\\\B.Orang_chr21_UBF_1005-1.tif'],\n",
       "                                   ['./acrocentric_inferred\\\\B.Orang_chr21_UBF_1007-1.tif'],\n",
       "                                   ['./acrocentric_inferred\\\\B.Orang_chr21_UBF_1009-1.tif'],\n",
       "                                   ['./acrocentric_inferred\\\\B.Orang_chr21_UBF_1010-1.tif'],\n",
       "                                   ['./acrocentric_inferred\\\\B.Orang_chr21_UBF_1011-1.tif'],\n",
       "                                   ['./acrocentric_inferred\\\\B.Orang_chr21_UBF_1012-1.tif'],\n",
       "                                   ['./acrocentric_inferred\\\\B.Orang_chr21_UBF_1013-1.tif'],\n",
       "                                   ['./acrocentric_inferred\\\\B.Orang_chr21_UBF_1014-1.tif'],\n",
       "                                   ['./acrocentric_inferred\\\\B.Orang_chr21_UBF_1015-1.tif'],\n",
       "                                   ['./acrocentric_inferred\\\\B.Orang_chr21_UBF_1016-1.tif'],\n",
       "                                   ['./acrocentric_inferred\\\\B.Orang_chr21_UBF_1018-1.tif'],\n",
       "                                   ['./acrocentric_inferred\\\\B.Orang_chr21_UBF_1019-1.tif'],\n",
       "                                   ['./acrocentric_inferred\\\\B.Orang_chr22_UBF_1001-1.tif'],\n",
       "                                   ['./acrocentric_inferred\\\\B.Orang_chr22_UBF_1002-1.tif'],\n",
       "                                   ['./acrocentric_inferred\\\\B.Orang_chr22_UBF_1004-1.tif'],\n",
       "                                   ['./acrocentric_inferred\\\\B.Orang_chr22_UBF_1005-1.tif'],\n",
       "                                   ['./acrocentric_inferred\\\\B.Orang_chr22_UBF_1006-1.tif'],\n",
       "                                   ['./acrocentric_inferred\\\\B.Orang_chr22_UBF_1007-1.tif'],\n",
       "                                   ['./acrocentric_inferred\\\\B.Orang_chr22_UBF_1008-1.tif'],\n",
       "                                   ['./acrocentric_inferred\\\\B.Orang_chr22_UBF_1009-1.tif'],\n",
       "                                   ['./acrocentric_inferred\\\\B.Orang_chr22_UBF_1010-1.tif'],\n",
       "                                   ['./acrocentric_inferred\\\\B.Orang_chr22_UBF_1011-1.tif'],\n",
       "                                   ['./acrocentric_inferred\\\\B.Orang_chr22_UBF_1013-1.tif'],\n",
       "                                   ['./acrocentric_inferred\\\\B.Orang_chr22_UBF_1014-1.tif'],\n",
       "                                   ['./acrocentric_inferred\\\\B.Orang_chr22_UBF_1015-1.tif'],\n",
       "                                   ['./acrocentric_inferred\\\\B.Orang_chr22_UBF_1017-1.tif'],\n",
       "                                   ['./acrocentric_inferred\\\\B.Orang_chr22_UBF_1018-1.tif'],\n",
       "                                   ['./acrocentric_inferred\\\\B.Orang_chr22_UBF_1019-1.tif'],\n",
       "                                   ['./acrocentric_inferred\\\\B.Orang_chr22_UBF_1020-1.tif'],\n",
       "                                   ['./acrocentric_inferred\\\\B.Orang_chr2_UBF_1007-1.tif'],\n",
       "                                   ['./acrocentric_inferred\\\\B.Orang_chr2_UBF_1012-1.tif'],\n",
       "                                   ['./acrocentric_inferred\\\\B.Orang_chr2_UBF_1013-1.tif'],\n",
       "                                   ['./acrocentric_inferred\\\\B.Orang_chr2_UBF_1014-1.tif'],\n",
       "                                   ['./acrocentric_inferred\\\\B.Orang_chr2_UBF_1016-1.tif'],\n",
       "                                   ['./acrocentric_inferred\\\\B.Orang_chr2_UBF_1017-1.tif'],\n",
       "                                   ['./acrocentric_inferred\\\\B.Orang_chr2_UBF_1020-1.tif'],\n",
       "                                   ['./acrocentric_inferred\\\\B.Orang_chr2_UBF_1021-1.tif'],\n",
       "                                   ['./acrocentric_inferred\\\\B.Orang_chr9_UBF_1009-1.tif'],\n",
       "                                   ['./acrocentric_inferred\\\\B.Orang_chr9_UBF_1014-1.tif'],\n",
       "                                   ['./acrocentric_inferred\\\\B.Orang_chr9_UBF_1017-1.tif'],\n",
       "                                   ['./acrocentric_inferred\\\\B.Orang_chr9_UBF_1017-2.tif'],\n",
       "                                   ['./acrocentric_inferred\\\\B.Orang_chr9_UBF_1018-1.tif'],\n",
       "                                   ['./acrocentric_inferred\\\\B.Orang_chr9_UBF_1019-1.tif'],\n",
       "                                   ['./acrocentric_inferred\\\\B.Orang_chr9_UBF_1020-1.tif'],\n",
       "                                   ['./acrocentric_inferred\\\\B.Orang_chr9_UBF_1021-1.tif'],\n",
       "                                   ['./acrocentric_inferred\\\\B.Orang_chr9_UBF_1022-1.tif'],\n",
       "                                   ['./acrocentric_inferred\\\\B.Orang_chr9_UBF_1024-1.tif'],\n",
       "                                   ['./acrocentric_inferred\\\\B.Orang_chr9_UBF_1025-1.tif'],\n",
       "                                   ['./acrocentric_inferred\\\\B.Orang_chr9_UBF_1026-1.tif'],\n",
       "                                   ['./acrocentric_inferred\\\\B.Orang_chr9_UBF_1027-1.tif'],\n",
       "                                   ['./acrocentric_inferred\\\\B.Orang_chr9_UBF_1028-1.tif'],\n",
       "                                   ['./acrocentric_inferred\\\\B.Orang_chr9_UBF_1029-1.tif'],\n",
       "                                   ['./acrocentric_inferred\\\\B.Orang_chr9_UBF_1030-1.tif'],\n",
       "                                   ['./acrocentric_inferred\\\\B.Orang_chr9_UBF_1031-1.tif'],\n",
       "                                   ['./acrocentric_inferred\\\\B.Orang_chr9_UBF_1032-1.tif'],\n",
       "                                   ['./acrocentric_inferred\\\\B.Orang_chr9_UBF_1033-1.tif'],\n",
       "                                   ['./acrocentric_inferred\\\\B.Orang_chr9_UBF_1034-1.tif'],\n",
       "                                   ['./acrocentric_inferred\\\\B.Orang_chr9_UBF_1035-1.tif'],\n",
       "                                   ['./acrocentric_inferred\\\\B.Orang_chr2_UBF_1001-1.tif'],\n",
       "                                   ['./acrocentric_inferred\\\\B.Orang_chr2_UBF_1003-1.tif'],\n",
       "                                   ['./acrocentric_inferred\\\\B.Orang_chr2_UBF_1004-1.tif'],\n",
       "                                   ['./acrocentric_inferred\\\\B.Orang_chr2_UBF_1008-1.tif'],\n",
       "                                   ['./acrocentric_inferred\\\\B.Orang_chr2_UBF_1010-1.tif'],\n",
       "                                   ['./acrocentric_inferred\\\\B.Orang_chr2_UBF_1011-1.tif'],\n",
       "                                   ['./acrocentric_inferred\\\\B.Orang_chr2_UBF_1015-1.tif'],\n",
       "                                   ['./acrocentric_inferred\\\\B.Orang_chr2_UBF_1018-2.tif'],\n",
       "                                   ['./acrocentric_inferred\\\\B.Orang_chr2_UBF_1018.tif'],\n",
       "                                   ['./acrocentric_inferred\\\\B.Orang_chr2_UBF_1022-1.tif'],\n",
       "                                   ['./acrocentric_inferred\\\\B.Orang_chr2_UBF_1024-1.tif'],\n",
       "                                   ['./acrocentric_inferred\\\\B.Orang_chr2_UBF_1025-1.tif'],\n",
       "                                   ['./acrocentric_inferred\\\\B.Orang_chr2_UBF_1026-1.tif']], dtype=object),\n",
       "              'hovertemplate': ('rDNARank=2.0<br>Chromosome=%{x' ... '{customdata[0]}<extra></extra>'),\n",
       "              'legendgroup': '2.0',\n",
       "              'marker': {'color': '#EF553B'},\n",
       "              'name': '2.0',\n",
       "              'notched': False,\n",
       "              'offsetgroup': '2.0',\n",
       "              'orientation': 'v',\n",
       "              'showlegend': True,\n",
       "              'type': 'box',\n",
       "              'uid': '6168f3e3-818e-4dc4-bf26-ed3e235a46f0',\n",
       "              'x': array(['chr13', 'chr13', 'chr13', 'chr13', 'chr13', 'chr13', 'chr13', 'chr13',\n",
       "                          'chr13', 'chr13', 'chr13', 'chr13', 'chr13', 'chr13', 'chr14', 'chr14',\n",
       "                          'chr14', 'chr14', 'chr14', 'chr14', 'chr14', 'chr14', 'chr14', 'chr14',\n",
       "                          'chr14', 'chr14', 'chr14', 'chr14', 'chr14', 'chr14', 'chr14', 'chr14',\n",
       "                          'chr14', 'chr15', 'chr15', 'chr15', 'chr15', 'chr15', 'chr15', 'chr15',\n",
       "                          'chr15', 'chr15', 'chr15', 'chr15', 'chr15', 'chr15', 'chr15', 'chr15',\n",
       "                          'chr15', 'chr15', 'chr18', 'chr18', 'chr18', 'chr18', 'chr18', 'chr18',\n",
       "                          'chr18', 'chr18', 'chr18', 'chr18', 'chr18', 'chr18', 'chr18', 'chr18',\n",
       "                          'chr18', 'chr21', 'chr21', 'chr21', 'chr21', 'chr21', 'chr21', 'chr21',\n",
       "                          'chr21', 'chr21', 'chr21', 'chr21', 'chr21', 'chr21', 'chr21', 'chr22',\n",
       "                          'chr22', 'chr22', 'chr22', 'chr22', 'chr22', 'chr22', 'chr22', 'chr22',\n",
       "                          'chr22', 'chr22', 'chr22', 'chr22', 'chr22', 'chr22', 'chr22', 'chr22',\n",
       "                          'chr2', 'chr2', 'chr2', 'chr2', 'chr2', 'chr2', 'chr2', 'chr2', 'chr9',\n",
       "                          'chr9', 'chr9', 'chr9', 'chr9', 'chr9', 'chr9', 'chr9', 'chr9', 'chr9',\n",
       "                          'chr9', 'chr9', 'chr9', 'chr9', 'chr9', 'chr9', 'chr9', 'chr9', 'chr9',\n",
       "                          'chr9', 'chr9', 'chr2', 'chr2', 'chr2', 'chr2', 'chr2', 'chr2', 'chr2',\n",
       "                          'chr2', 'chr2', 'chr2', 'chr2', 'chr2', 'chr2'], dtype=object),\n",
       "              'x0': ' ',\n",
       "              'xaxis': 'x',\n",
       "              'y': array([0.07488886, 0.07492776, 0.0639699 , 0.07013665, 0.07351139, 0.10198193,\n",
       "                          0.08535105, 0.05075657, 0.08717918, 0.        , 0.08539086, 0.07399895,\n",
       "                          0.08023375, 0.06839794, 0.04318013, 0.06615555, 0.05377424, 0.        ,\n",
       "                          0.02435748, 0.03276572, 0.05354242, 0.05462258, 0.05783085, 0.03123217,\n",
       "                          0.04730167, 0.06027225, 0.017334  , 0.06428479, 0.0311834 , 0.05203254,\n",
       "                          0.04988636, 0.05234911, 0.05257199, 0.11314828, 0.10172808, 0.09729223,\n",
       "                          0.0632714 , 0.03646788, 0.11807058, 0.11381808, 0.09951696, 0.07754049,\n",
       "                          0.09407663, 0.11181623, 0.09447789, 0.10851744, 0.12587803, 0.10576861,\n",
       "                          0.10809642, 0.11620015, 0.        , 0.00540043, 0.        , 0.        ,\n",
       "                          0.        , 0.        , 0.        , 0.        , 0.        , 0.        ,\n",
       "                          0.        , 0.        , 0.04620988, 0.        , 0.        , 0.        ,\n",
       "                          0.01047646, 0.        , 0.01517903, 0.00304392, 0.        , 0.        ,\n",
       "                          0.00798922, 0.        , 0.00865425, 0.        , 0.        , 0.        ,\n",
       "                          0.00568332, 0.01691848, 0.01843261, 0.02027033, 0.00581596, 0.        ,\n",
       "                          0.        , 0.01888064, 0.0218039 , 0.01919431, 0.        , 0.        ,\n",
       "                          0.02372347, 0.02119154, 0.01649818, 0.01603845, 0.01079912, 0.        ,\n",
       "                          0.08025962, 0.05427564, 0.04466665, 0.04746303, 0.05158456, 0.04386326,\n",
       "                          0.04281557, 0.05104101, 0.01941865, 0.        , 0.01464992, 0.        ,\n",
       "                          0.        , 0.02459253, 0.02760051, 0.0251184 , 0.02327089, 0.0188433 ,\n",
       "                          0.03046837, 0.02401428, 0.        , 0.03060913, 0.01797393, 0.        ,\n",
       "                          0.02354031, 0.02203689, 0.02748453, 0.01812391, 0.        , 0.04797452,\n",
       "                          0.04363663, 0.04464601, 0.05373715, 0.04658475, 0.05065078, 0.0380486 ,\n",
       "                          0.09986965, 0.03279976, 0.04526289, 0.046857  , 0.0461814 , 0.04070139]),\n",
       "              'y0': ' ',\n",
       "              'yaxis': 'y'},\n",
       "             {'alignmentgroup': 'True',\n",
       "              'boxpoints': 'all',\n",
       "              'customdata': array([['./acrocentric_inferred\\\\B.Orang_chr2_UBF_1001-1.tif'],\n",
       "                                   ['./acrocentric_inferred\\\\B.Orang_chr2_UBF_1007-1.tif'],\n",
       "                                   ['./acrocentric_inferred\\\\B.Orang_chr2_UBF_1010-1.tif'],\n",
       "                                   ['./acrocentric_inferred\\\\B.Orang_chr2_UBF_1012-1.tif'],\n",
       "                                   ['./acrocentric_inferred\\\\B.Orang_chr2_UBF_1013-1.tif'],\n",
       "                                   ['./acrocentric_inferred\\\\B.Orang_chr2_UBF_1015-1.tif'],\n",
       "                                   ['./acrocentric_inferred\\\\B.Orang_chr2_UBF_1016-1.tif'],\n",
       "                                   ['./acrocentric_inferred\\\\B.Orang_chr2_UBF_1017-1.tif'],\n",
       "                                   ['./acrocentric_inferred\\\\B.Orang_chr2_UBF_1018.tif'],\n",
       "                                   ['./acrocentric_inferred\\\\B.Orang_chr2_UBF_1022-1.tif'],\n",
       "                                   ['./acrocentric_inferred\\\\B.Orang_chr2_UBF_1024-1.tif'],\n",
       "                                   ['./acrocentric_inferred\\\\B.Orang_chr2_UBF_1025-1.tif'],\n",
       "                                   ['./acrocentric_inferred\\\\B.Orang_chr2_UBF_1003-1.tif'],\n",
       "                                   ['./acrocentric_inferred\\\\B.Orang_chr2_UBF_1004-1.tif'],\n",
       "                                   ['./acrocentric_inferred\\\\B.Orang_chr2_UBF_1008-1.tif'],\n",
       "                                   ['./acrocentric_inferred\\\\B.Orang_chr2_UBF_1011-1.tif'],\n",
       "                                   ['./acrocentric_inferred\\\\B.Orang_chr2_UBF_1014-1.tif'],\n",
       "                                   ['./acrocentric_inferred\\\\B.Orang_chr2_UBF_1018-2.tif'],\n",
       "                                   ['./acrocentric_inferred\\\\B.Orang_chr2_UBF_1020-1.tif'],\n",
       "                                   ['./acrocentric_inferred\\\\B.Orang_chr2_UBF_1021-1.tif'],\n",
       "                                   ['./acrocentric_inferred\\\\B.Orang_chr2_UBF_1026-1.tif']], dtype=object),\n",
       "              'hovertemplate': ('rDNARank=3.0<br>Chromosome=%{x' ... '{customdata[0]}<extra></extra>'),\n",
       "              'legendgroup': '3.0',\n",
       "              'marker': {'color': '#00cc96'},\n",
       "              'name': '3.0',\n",
       "              'notched': False,\n",
       "              'offsetgroup': '3.0',\n",
       "              'orientation': 'v',\n",
       "              'showlegend': True,\n",
       "              'type': 'box',\n",
       "              'uid': '1de81e70-ecc4-44f7-bd1d-6b78d424de24',\n",
       "              'x': array(['chr2', 'chr2', 'chr2', 'chr2', 'chr2', 'chr2', 'chr2', 'chr2', 'chr2',\n",
       "                          'chr2', 'chr2', 'chr2', 'chr2', 'chr2', 'chr2', 'chr2', 'chr2', 'chr2',\n",
       "                          'chr2', 'chr2', 'chr2'], dtype=object),\n",
       "              'x0': ' ',\n",
       "              'xaxis': 'x',\n",
       "              'y': array([0.0078539 , 0.02679848, 0.0404667 , 0.04140906, 0.03497874, 0.00813226,\n",
       "                          0.03264162, 0.03784638, 0.02125711, 0.03590789, 0.04684617, 0.03759363,\n",
       "                          0.03229787, 0.03074237, 0.04240045, 0.03279876, 0.02131301, 0.0391872 ,\n",
       "                          0.03258149, 0.03522616, 0.04022832]),\n",
       "              'y0': ' ',\n",
       "              'yaxis': 'y'},\n",
       "             {'alignmentgroup': 'True',\n",
       "              'boxpoints': 'all',\n",
       "              'customdata': array([['./acrocentric_inferred\\\\B.Orang_chr2_UBF_1001-1.tif'],\n",
       "                                   ['./acrocentric_inferred\\\\B.Orang_chr2_UBF_1003-1.tif'],\n",
       "                                   ['./acrocentric_inferred\\\\B.Orang_chr2_UBF_1004-1.tif'],\n",
       "                                   ['./acrocentric_inferred\\\\B.Orang_chr2_UBF_1008-1.tif'],\n",
       "                                   ['./acrocentric_inferred\\\\B.Orang_chr2_UBF_1011-1.tif'],\n",
       "                                   ['./acrocentric_inferred\\\\B.Orang_chr2_UBF_1018-2.tif'],\n",
       "                                   ['./acrocentric_inferred\\\\B.Orang_chr2_UBF_1024-1.tif'],\n",
       "                                   ['./acrocentric_inferred\\\\B.Orang_chr2_UBF_1026-1.tif'],\n",
       "                                   ['./acrocentric_inferred\\\\B.Orang_chr2_UBF_1007-1.tif'],\n",
       "                                   ['./acrocentric_inferred\\\\B.Orang_chr2_UBF_1010-1.tif'],\n",
       "                                   ['./acrocentric_inferred\\\\B.Orang_chr2_UBF_1012-1.tif'],\n",
       "                                   ['./acrocentric_inferred\\\\B.Orang_chr2_UBF_1013-1.tif'],\n",
       "                                   ['./acrocentric_inferred\\\\B.Orang_chr2_UBF_1014-1.tif'],\n",
       "                                   ['./acrocentric_inferred\\\\B.Orang_chr2_UBF_1015-1.tif'],\n",
       "                                   ['./acrocentric_inferred\\\\B.Orang_chr2_UBF_1016-1.tif'],\n",
       "                                   ['./acrocentric_inferred\\\\B.Orang_chr2_UBF_1017-1.tif'],\n",
       "                                   ['./acrocentric_inferred\\\\B.Orang_chr2_UBF_1018.tif'],\n",
       "                                   ['./acrocentric_inferred\\\\B.Orang_chr2_UBF_1020-1.tif'],\n",
       "                                   ['./acrocentric_inferred\\\\B.Orang_chr2_UBF_1021-1.tif'],\n",
       "                                   ['./acrocentric_inferred\\\\B.Orang_chr2_UBF_1022-1.tif'],\n",
       "                                   ['./acrocentric_inferred\\\\B.Orang_chr2_UBF_1025-1.tif']], dtype=object),\n",
       "              'hovertemplate': ('rDNARank=4.0<br>Chromosome=%{x' ... '{customdata[0]}<extra></extra>'),\n",
       "              'legendgroup': '4.0',\n",
       "              'marker': {'color': '#ab63fa'},\n",
       "              'name': '4.0',\n",
       "              'notched': False,\n",
       "              'offsetgroup': '4.0',\n",
       "              'orientation': 'v',\n",
       "              'showlegend': True,\n",
       "              'type': 'box',\n",
       "              'uid': 'f15aec0c-3396-4005-bf4c-a7acb0fe6cd1',\n",
       "              'x': array(['chr2', 'chr2', 'chr2', 'chr2', 'chr2', 'chr2', 'chr2', 'chr2', 'chr2',\n",
       "                          'chr2', 'chr2', 'chr2', 'chr2', 'chr2', 'chr2', 'chr2', 'chr2', 'chr2',\n",
       "                          'chr2', 'chr2', 'chr2'], dtype=object),\n",
       "              'x0': ' ',\n",
       "              'xaxis': 'x',\n",
       "              'y': array([0.        , 0.01041918, 0.00811568, 0.03875779, 0.01443589, 0.01455368,\n",
       "                          0.        , 0.01129876, 0.02152815, 0.01331234, 0.00734278, 0.00910018,\n",
       "                          0.00488852, 0.        , 0.01434409, 0.02498349, 0.01924231, 0.01138277,\n",
       "                          0.00950814, 0.00381549, 0.0166885 ]),\n",
       "              'y0': ' ',\n",
       "              'yaxis': 'y'},\n",
       "             {'alignmentgroup': 'True',\n",
       "              'boxpoints': 'all',\n",
       "              'customdata': array([['./acrocentric_inferred\\\\B.Orang_chr13_UBF_1011-1.tif'],\n",
       "                                   ['./acrocentric_inferred\\\\B.Orang_chr13_UBF_1011-1.tif'],\n",
       "                                   ['./acrocentric_inferred\\\\B.Orang_chr18_UBF_1015-1.tif'],\n",
       "                                   ['./acrocentric_inferred\\\\B.Orang_chr18_UBF_1015-1.tif'],\n",
       "                                   ['./acrocentric_inferred\\\\B.Orang_chr9_UBF_1004-1.tif'],\n",
       "                                   ['./acrocentric_inferred\\\\B.Orang_chr9_UBF_1004-1.tif'],\n",
       "                                   ['./acrocentric_inferred\\\\B.Orang_chr9_UBF_1016-1.tif'],\n",
       "                                   ['./acrocentric_inferred\\\\B.Orang_chr9_UBF_1016-1.tif']], dtype=object),\n",
       "              'hovertemplate': ('rDNARank=1.5<br>Chromosome=%{x' ... '{customdata[0]}<extra></extra>'),\n",
       "              'legendgroup': '1.5',\n",
       "              'marker': {'color': '#FFA15A'},\n",
       "              'name': '1.5',\n",
       "              'notched': False,\n",
       "              'offsetgroup': '1.5',\n",
       "              'orientation': 'v',\n",
       "              'showlegend': True,\n",
       "              'type': 'box',\n",
       "              'uid': '7559483c-b490-419f-b219-07e58cd98808',\n",
       "              'x': array(['chr13', 'chr13', 'chr18', 'chr18', 'chr9', 'chr9', 'chr9', 'chr9'],\n",
       "                         dtype=object),\n",
       "              'x0': ' ',\n",
       "              'xaxis': 'x',\n",
       "              'y': array([0., 0., 0., 0., 0., 0., 0., 0.]),\n",
       "              'y0': ' ',\n",
       "              'yaxis': 'y'}],\n",
       "    'layout': {'boxmode': 'group',\n",
       "               'legend': {'title': {'text': 'rDNARank'}, 'tracegroupgap': 0},\n",
       "               'margin': {'t': 60},\n",
       "               'template': '...',\n",
       "               'xaxis': {'anchor': 'y',\n",
       "                         'categoryarray': [chr2, chr9, chr13, chr14, chr15, chr18,\n",
       "                                           chr21, chr22],\n",
       "                         'categoryorder': 'array',\n",
       "                         'domain': [0.0, 1.0],\n",
       "                         'title': {'text': 'Chromosome'}},\n",
       "               'yaxis': {'anchor': 'x', 'domain': [0.0, 1.0], 'title': {'text': 'IntDens'}}}\n",
       "})"
      ]
     },
     "execution_count": 35,
     "metadata": {},
     "output_type": "execute_result"
    },
    {
     "name": "stdout",
     "output_type": "stream",
     "text": [
      "./acrocentric_inferred\\B.Orang_chr14_UBF_1007-1.tif\n",
      "./acrocentric_inferred\\B.Orang_chr14_UBF_1007-1.tif\n",
      "./acrocentric_inferred\\B.Orang_chr14_UBF_1005-1.tif\n",
      "./acrocentric_inferred\\B.Orang_chr14_UBF_1005-1.tif\n",
      "./acrocentric_inferred\\B.Orang_chr14_UBF_1016-1.tif\n",
      "./acrocentric_inferred\\B.Orang_chr14_UBF_1016-1.tif\n"
     ]
    }
   ],
   "source": [
    "f=go.FigureWidget(\n",
    "    px.box(combined_df, x='Chromosome', y='IntDens', points='all', color='rDNARank', hover_data='File',\n",
    "           category_orders={'rDNARank':[1.0, 2.0, 3.0, 4.0], 'Chromosome':['chr2', 'chr9', 'chr13', 'chr14', 'chr15', 'chr18', 'chr21', 'chr22']})\n",
    "    )\n",
    "\n",
    "def click_fn(trace, points, state):\n",
    "    \n",
    "    if (len(points.point_inds)>0):\n",
    "        idx = f.data[points.trace_index]['customdata'][points.point_inds[-1]][0]\n",
    "        print(idx)\n",
    "        cdf = combined_df[combined_df['File']==idx]\n",
    "        examine_file(idx, cdf['labels'].values)\n",
    "\n",
    "for a in f.data:\n",
    "    a.on_click(click_fn)\n",
    "\n",
    "f"
   ]
  },
  {
   "cell_type": "markdown",
   "metadata": {},
   "source": [
    "# Visualize UBF"
   ]
  },
  {
   "cell_type": "code",
   "execution_count": 36,
   "metadata": {},
   "outputs": [],
   "source": [
    "combined_UBF_df = combined_df.copy()\n",
    "combined_UBF_df['UBFRank'] = combined_df.groupby(['File']).rank(ascending=False)['UBF_IntDens']"
   ]
  },
  {
   "cell_type": "code",
   "execution_count": 37,
   "metadata": {},
   "outputs": [
    {
     "data": {
      "application/vnd.plotly.v1+json": {
       "config": {
        "plotlyServerURL": "https://plot.ly"
       },
       "data": [
        {
         "alignmentgroup": "True",
         "boxpoints": "all",
         "customdata": [
          [
           "./acrocentric_inferred\\B.Orang_chr13_UBF_1001-1.tif"
          ],
          [
           "./acrocentric_inferred\\B.Orang_chr13_UBF_1002-1.tif"
          ],
          [
           "./acrocentric_inferred\\B.Orang_chr13_UBF_1003-1.tif"
          ],
          [
           "./acrocentric_inferred\\B.Orang_chr13_UBF_1006-1.tif"
          ],
          [
           "./acrocentric_inferred\\B.Orang_chr13_UBF_1009-1.tif"
          ],
          [
           "./acrocentric_inferred\\B.Orang_chr13_UBF_1012-1.tif"
          ],
          [
           "./acrocentric_inferred\\B.Orang_chr13_UBF_1013-1.tif"
          ],
          [
           "./acrocentric_inferred\\B.Orang_chr13_UBF_1014-1.tif"
          ],
          [
           "./acrocentric_inferred\\B.Orang_chr13_UBF_1015-1.tif"
          ],
          [
           "./acrocentric_inferred\\B.Orang_chr13_UBF_1017-1.tif"
          ],
          [
           "./acrocentric_inferred\\B.Orang_chr13_UBF_1018-1.tif"
          ],
          [
           "./acrocentric_inferred\\B.Orang_chr13_UBF_1019-1.tif"
          ],
          [
           "./acrocentric_inferred\\B.Orang_chr13_UBF_1020-1.tif"
          ],
          [
           "./acrocentric_inferred\\B.Orang_chr13_UBF_1021-1.tif"
          ],
          [
           "./acrocentric_inferred\\B.Orang_chr14_UBF_1001-1.tif"
          ],
          [
           "./acrocentric_inferred\\B.Orang_chr14_UBF_1002-1.tif"
          ],
          [
           "./acrocentric_inferred\\B.Orang_chr14_UBF_1004-1.tif"
          ],
          [
           "./acrocentric_inferred\\B.Orang_chr14_UBF_1005-1.tif"
          ],
          [
           "./acrocentric_inferred\\B.Orang_chr14_UBF_1007-1.tif"
          ],
          [
           "./acrocentric_inferred\\B.Orang_chr14_UBF_1009-1.tif"
          ],
          [
           "./acrocentric_inferred\\B.Orang_chr14_UBF_1010-1.tif"
          ],
          [
           "./acrocentric_inferred\\B.Orang_chr14_UBF_1011-1.tif"
          ],
          [
           "./acrocentric_inferred\\B.Orang_chr14_UBF_1012-1.tif"
          ],
          [
           "./acrocentric_inferred\\B.Orang_chr14_UBF_1013-1.tif"
          ],
          [
           "./acrocentric_inferred\\B.Orang_chr14_UBF_1014-1.tif"
          ],
          [
           "./acrocentric_inferred\\B.Orang_chr14_UBF_1015-1.tif"
          ],
          [
           "./acrocentric_inferred\\B.Orang_chr14_UBF_1016-1.tif"
          ],
          [
           "./acrocentric_inferred\\B.Orang_chr14_UBF_1017-1.tif"
          ],
          [
           "./acrocentric_inferred\\B.Orang_chr14_UBF_1018-1.tif"
          ],
          [
           "./acrocentric_inferred\\B.Orang_chr14_UBF_1019-1.tif"
          ],
          [
           "./acrocentric_inferred\\B.Orang_chr14_UBF_1020-1.tif"
          ],
          [
           "./acrocentric_inferred\\B.Orang_chr14_UBF_1021-1.tif"
          ],
          [
           "./acrocentric_inferred\\B.Orang_chr14_UBF_1022-1.tif"
          ],
          [
           "./acrocentric_inferred\\B.Orang_chr15_UBF_1002-1.tif"
          ],
          [
           "./acrocentric_inferred\\B.Orang_chr15_UBF_1003-1.tif"
          ],
          [
           "./acrocentric_inferred\\B.Orang_chr15_UBF_1004-1.tif"
          ],
          [
           "./acrocentric_inferred\\B.Orang_chr15_UBF_1005-1.tif"
          ],
          [
           "./acrocentric_inferred\\B.Orang_chr15_UBF_1006-1.tif"
          ],
          [
           "./acrocentric_inferred\\B.Orang_chr15_UBF_1008-1.tif"
          ],
          [
           "./acrocentric_inferred\\B.Orang_chr15_UBF_1009-1.tif"
          ],
          [
           "./acrocentric_inferred\\B.Orang_chr15_UBF_1010-1.tif"
          ],
          [
           "./acrocentric_inferred\\B.Orang_chr15_UBF_1011-1.tif"
          ],
          [
           "./acrocentric_inferred\\B.Orang_chr15_UBF_1012-1.tif"
          ],
          [
           "./acrocentric_inferred\\B.Orang_chr15_UBF_1013-1.tif"
          ],
          [
           "./acrocentric_inferred\\B.Orang_chr15_UBF_1014-1.tif"
          ],
          [
           "./acrocentric_inferred\\B.Orang_chr15_UBF_1015-1.tif"
          ],
          [
           "./acrocentric_inferred\\B.Orang_chr15_UBF_1017-1.tif"
          ],
          [
           "./acrocentric_inferred\\B.Orang_chr15_UBF_1018-1.tif"
          ],
          [
           "./acrocentric_inferred\\B.Orang_chr15_UBF_1019-1.tif"
          ],
          [
           "./acrocentric_inferred\\B.Orang_chr15_UBF_1020-1.tif"
          ],
          [
           "./acrocentric_inferred\\B.Orang_chr18_UBF_1001-1.tif"
          ],
          [
           "./acrocentric_inferred\\B.Orang_chr18_UBF_1003-1.tif"
          ],
          [
           "./acrocentric_inferred\\B.Orang_chr18_UBF_1004-1.tif"
          ],
          [
           "./acrocentric_inferred\\B.Orang_chr18_UBF_1005-1.tif"
          ],
          [
           "./acrocentric_inferred\\B.Orang_chr18_UBF_1007-1.tif"
          ],
          [
           "./acrocentric_inferred\\B.Orang_chr18_UBF_1008-1.tif"
          ],
          [
           "./acrocentric_inferred\\B.Orang_chr18_UBF_1009-1.tif"
          ],
          [
           "./acrocentric_inferred\\B.Orang_chr18_UBF_1010-1.tif"
          ],
          [
           "./acrocentric_inferred\\B.Orang_chr18_UBF_1012-1.tif"
          ],
          [
           "./acrocentric_inferred\\B.Orang_chr18_UBF_1013-1.tif"
          ],
          [
           "./acrocentric_inferred\\B.Orang_chr18_UBF_1016-1.tif"
          ],
          [
           "./acrocentric_inferred\\B.Orang_chr18_UBF_1017-1.tif"
          ],
          [
           "./acrocentric_inferred\\B.Orang_chr18_UBF_1018-1.tif"
          ],
          [
           "./acrocentric_inferred\\B.Orang_chr18_UBF_1019-1.tif"
          ],
          [
           "./acrocentric_inferred\\B.Orang_chr18_UBF_1020-1.tif"
          ],
          [
           "./acrocentric_inferred\\B.Orang_chr21_UBF_1002-1.tif"
          ],
          [
           "./acrocentric_inferred\\B.Orang_chr21_UBF_1004-1.tif"
          ],
          [
           "./acrocentric_inferred\\B.Orang_chr21_UBF_1005-1.tif"
          ],
          [
           "./acrocentric_inferred\\B.Orang_chr21_UBF_1007-1.tif"
          ],
          [
           "./acrocentric_inferred\\B.Orang_chr21_UBF_1009-1.tif"
          ],
          [
           "./acrocentric_inferred\\B.Orang_chr21_UBF_1010-1.tif"
          ],
          [
           "./acrocentric_inferred\\B.Orang_chr21_UBF_1011-1.tif"
          ],
          [
           "./acrocentric_inferred\\B.Orang_chr21_UBF_1012-1.tif"
          ],
          [
           "./acrocentric_inferred\\B.Orang_chr21_UBF_1013-1.tif"
          ],
          [
           "./acrocentric_inferred\\B.Orang_chr21_UBF_1014-1.tif"
          ],
          [
           "./acrocentric_inferred\\B.Orang_chr21_UBF_1015-1.tif"
          ],
          [
           "./acrocentric_inferred\\B.Orang_chr21_UBF_1016-1.tif"
          ],
          [
           "./acrocentric_inferred\\B.Orang_chr21_UBF_1018-1.tif"
          ],
          [
           "./acrocentric_inferred\\B.Orang_chr21_UBF_1019-1.tif"
          ],
          [
           "./acrocentric_inferred\\B.Orang_chr22_UBF_1001-1.tif"
          ],
          [
           "./acrocentric_inferred\\B.Orang_chr22_UBF_1002-1.tif"
          ],
          [
           "./acrocentric_inferred\\B.Orang_chr22_UBF_1004-1.tif"
          ],
          [
           "./acrocentric_inferred\\B.Orang_chr22_UBF_1005-1.tif"
          ],
          [
           "./acrocentric_inferred\\B.Orang_chr22_UBF_1006-1.tif"
          ],
          [
           "./acrocentric_inferred\\B.Orang_chr22_UBF_1007-1.tif"
          ],
          [
           "./acrocentric_inferred\\B.Orang_chr22_UBF_1008-1.tif"
          ],
          [
           "./acrocentric_inferred\\B.Orang_chr22_UBF_1009-1.tif"
          ],
          [
           "./acrocentric_inferred\\B.Orang_chr22_UBF_1010-1.tif"
          ],
          [
           "./acrocentric_inferred\\B.Orang_chr22_UBF_1011-1.tif"
          ],
          [
           "./acrocentric_inferred\\B.Orang_chr22_UBF_1013-1.tif"
          ],
          [
           "./acrocentric_inferred\\B.Orang_chr22_UBF_1014-1.tif"
          ],
          [
           "./acrocentric_inferred\\B.Orang_chr22_UBF_1015-1.tif"
          ],
          [
           "./acrocentric_inferred\\B.Orang_chr22_UBF_1017-1.tif"
          ],
          [
           "./acrocentric_inferred\\B.Orang_chr22_UBF_1018-1.tif"
          ],
          [
           "./acrocentric_inferred\\B.Orang_chr22_UBF_1019-1.tif"
          ],
          [
           "./acrocentric_inferred\\B.Orang_chr22_UBF_1020-1.tif"
          ],
          [
           "./acrocentric_inferred\\B.Orang_chr2_UBF_1003-1.tif"
          ],
          [
           "./acrocentric_inferred\\B.Orang_chr2_UBF_1004-1.tif"
          ],
          [
           "./acrocentric_inferred\\B.Orang_chr2_UBF_1008-1.tif"
          ],
          [
           "./acrocentric_inferred\\B.Orang_chr2_UBF_1010-1.tif"
          ],
          [
           "./acrocentric_inferred\\B.Orang_chr2_UBF_1011-1.tif"
          ],
          [
           "./acrocentric_inferred\\B.Orang_chr2_UBF_1014-1.tif"
          ],
          [
           "./acrocentric_inferred\\B.Orang_chr2_UBF_1015-1.tif"
          ],
          [
           "./acrocentric_inferred\\B.Orang_chr2_UBF_1018-2.tif"
          ],
          [
           "./acrocentric_inferred\\B.Orang_chr2_UBF_1018.tif"
          ],
          [
           "./acrocentric_inferred\\B.Orang_chr2_UBF_1020-1.tif"
          ],
          [
           "./acrocentric_inferred\\B.Orang_chr2_UBF_1021-1.tif"
          ],
          [
           "./acrocentric_inferred\\B.Orang_chr2_UBF_1022-1.tif"
          ],
          [
           "./acrocentric_inferred\\B.Orang_chr2_UBF_1025-1.tif"
          ],
          [
           "./acrocentric_inferred\\B.Orang_chr2_UBF_1026-1.tif"
          ],
          [
           "./acrocentric_inferred\\B.Orang_chr9_UBF_1009-1.tif"
          ],
          [
           "./acrocentric_inferred\\B.Orang_chr9_UBF_1014-1.tif"
          ],
          [
           "./acrocentric_inferred\\B.Orang_chr9_UBF_1017-1.tif"
          ],
          [
           "./acrocentric_inferred\\B.Orang_chr9_UBF_1017-2.tif"
          ],
          [
           "./acrocentric_inferred\\B.Orang_chr9_UBF_1018-1.tif"
          ],
          [
           "./acrocentric_inferred\\B.Orang_chr9_UBF_1019-1.tif"
          ],
          [
           "./acrocentric_inferred\\B.Orang_chr9_UBF_1020-1.tif"
          ],
          [
           "./acrocentric_inferred\\B.Orang_chr9_UBF_1021-1.tif"
          ],
          [
           "./acrocentric_inferred\\B.Orang_chr9_UBF_1022-1.tif"
          ],
          [
           "./acrocentric_inferred\\B.Orang_chr9_UBF_1024-1.tif"
          ],
          [
           "./acrocentric_inferred\\B.Orang_chr9_UBF_1025-1.tif"
          ],
          [
           "./acrocentric_inferred\\B.Orang_chr9_UBF_1026-1.tif"
          ],
          [
           "./acrocentric_inferred\\B.Orang_chr9_UBF_1027-1.tif"
          ],
          [
           "./acrocentric_inferred\\B.Orang_chr9_UBF_1028-1.tif"
          ],
          [
           "./acrocentric_inferred\\B.Orang_chr9_UBF_1029-1.tif"
          ],
          [
           "./acrocentric_inferred\\B.Orang_chr9_UBF_1030-1.tif"
          ],
          [
           "./acrocentric_inferred\\B.Orang_chr9_UBF_1031-1.tif"
          ],
          [
           "./acrocentric_inferred\\B.Orang_chr9_UBF_1032-1.tif"
          ],
          [
           "./acrocentric_inferred\\B.Orang_chr9_UBF_1033-1.tif"
          ],
          [
           "./acrocentric_inferred\\B.Orang_chr9_UBF_1034-1.tif"
          ],
          [
           "./acrocentric_inferred\\B.Orang_chr9_UBF_1035-1.tif"
          ],
          [
           "./acrocentric_inferred\\B.Orang_chr2_UBF_1001-1.tif"
          ],
          [
           "./acrocentric_inferred\\B.Orang_chr2_UBF_1007-1.tif"
          ],
          [
           "./acrocentric_inferred\\B.Orang_chr2_UBF_1012-1.tif"
          ],
          [
           "./acrocentric_inferred\\B.Orang_chr2_UBF_1013-1.tif"
          ],
          [
           "./acrocentric_inferred\\B.Orang_chr2_UBF_1016-1.tif"
          ],
          [
           "./acrocentric_inferred\\B.Orang_chr2_UBF_1017-1.tif"
          ],
          [
           "./acrocentric_inferred\\B.Orang_chr2_UBF_1024-1.tif"
          ]
         ],
         "hovertemplate": "rDNARank=1.0<br>Chromosome=%{x}<br>UBF_IntDens=%{y}<br>File=%{customdata[0]}<extra></extra>",
         "legendgroup": "1.0",
         "marker": {
          "color": "#636efa"
         },
         "name": "1.0",
         "notched": false,
         "offsetgroup": "1.0",
         "orientation": "v",
         "showlegend": true,
         "type": "box",
         "x": [
          "chr13",
          "chr13",
          "chr13",
          "chr13",
          "chr13",
          "chr13",
          "chr13",
          "chr13",
          "chr13",
          "chr13",
          "chr13",
          "chr13",
          "chr13",
          "chr13",
          "chr14",
          "chr14",
          "chr14",
          "chr14",
          "chr14",
          "chr14",
          "chr14",
          "chr14",
          "chr14",
          "chr14",
          "chr14",
          "chr14",
          "chr14",
          "chr14",
          "chr14",
          "chr14",
          "chr14",
          "chr14",
          "chr14",
          "chr15",
          "chr15",
          "chr15",
          "chr15",
          "chr15",
          "chr15",
          "chr15",
          "chr15",
          "chr15",
          "chr15",
          "chr15",
          "chr15",
          "chr15",
          "chr15",
          "chr15",
          "chr15",
          "chr15",
          "chr18",
          "chr18",
          "chr18",
          "chr18",
          "chr18",
          "chr18",
          "chr18",
          "chr18",
          "chr18",
          "chr18",
          "chr18",
          "chr18",
          "chr18",
          "chr18",
          "chr18",
          "chr21",
          "chr21",
          "chr21",
          "chr21",
          "chr21",
          "chr21",
          "chr21",
          "chr21",
          "chr21",
          "chr21",
          "chr21",
          "chr21",
          "chr21",
          "chr21",
          "chr22",
          "chr22",
          "chr22",
          "chr22",
          "chr22",
          "chr22",
          "chr22",
          "chr22",
          "chr22",
          "chr22",
          "chr22",
          "chr22",
          "chr22",
          "chr22",
          "chr22",
          "chr22",
          "chr22",
          "chr2",
          "chr2",
          "chr2",
          "chr2",
          "chr2",
          "chr2",
          "chr2",
          "chr2",
          "chr2",
          "chr2",
          "chr2",
          "chr2",
          "chr2",
          "chr2",
          "chr9",
          "chr9",
          "chr9",
          "chr9",
          "chr9",
          "chr9",
          "chr9",
          "chr9",
          "chr9",
          "chr9",
          "chr9",
          "chr9",
          "chr9",
          "chr9",
          "chr9",
          "chr9",
          "chr9",
          "chr9",
          "chr9",
          "chr9",
          "chr9",
          "chr2",
          "chr2",
          "chr2",
          "chr2",
          "chr2",
          "chr2",
          "chr2"
         ],
         "x0": " ",
         "xaxis": "x",
         "y": [
          0.2888539749555275,
          0.1910192093031876,
          0.2756926704228278,
          0.1809785818429702,
          0.1957881486571538,
          0.1749049971985431,
          0.1886163148184024,
          0.2381790315079949,
          0.1353306600257423,
          0.2444551503463873,
          0.1648200808080275,
          0.2777687382481968,
          0.3252343690193486,
          0.3836005026191456,
          0.1482267496910874,
          0.2044546824307384,
          0.2493668579772888,
          -0.0023636650674981,
          0.0132172300833318,
          0.0005635165092056,
          -0.0030186687378289,
          0.1335537240357352,
          0.1355516635580645,
          0.1035041197548383,
          0.0025999604214753,
          0.1457987073218984,
          0.1592845011867559,
          0.140874230669987,
          -0.0024842291895244,
          0.2177735543892211,
          0.0803344599542546,
          0.2073937901994149,
          0.2141912975960496,
          -0.0055203820867644,
          -0.0010140149381554,
          0.0001886292683017,
          0.0013679488322877,
          -0.0043698302885779,
          0.0007426642872896,
          -0.0091200576726736,
          0.0082021881675871,
          -0.001296247449015,
          -0.0116146265296988,
          -0.0167673085035871,
          -0.0093130085207845,
          -0.0062757285728468,
          0.0025063991116481,
          0.0023662854764455,
          -0.000204789741522,
          0.0060773283827986,
          0.0552535181451818,
          0.1009841605176197,
          0.0792438398434475,
          0.1305088163407591,
          0.0520450075754485,
          0.050507025859264,
          0.0833350309259956,
          0.0420242120847541,
          0.1169323321854754,
          0.1426232386572486,
          0.0586967231455104,
          0.1734518632302909,
          0.0089156074404775,
          0.066644279753956,
          0.0563531284329421,
          0.0003910477097188,
          -0.0032423496317701,
          -0.0009762625097876,
          0.2085855226205218,
          -0.0009691491849721,
          -0.000961766616689,
          -0.0027456274433441,
          0.1870862134706874,
          0.0001879017621061,
          -0.0004573600695354,
          0.0009741901882288,
          -0.0003399301008443,
          0.0121231039671349,
          0.0264242254872477,
          0.0532889578364969,
          -0.0067347017601138,
          0.0593506224524622,
          0.0829616831367753,
          0.0452946319664728,
          0.0910168418893878,
          0.0975648722747205,
          0.0801009700126271,
          0.0903749926471084,
          0.0613393665158371,
          0.1220919093476179,
          0.0616333425640812,
          0.0566851167258256,
          0.095699269370206,
          0.0773533858011598,
          0.1135762029189521,
          -0.000007750476597321936,
          0.125897968884716,
          0.1229672948200174,
          0.1197334668654134,
          0.1155544816129275,
          0.1880285912019438,
          0.1365907478520807,
          0.1336672313035267,
          0.309115711977211,
          0.182036203583399,
          0.1436497641229209,
          0.2470611948320825,
          0.2211129067664443,
          0.2584500118146975,
          0.2025288461907046,
          0.0047160037002775,
          0.0095399618401526,
          0.0268571681225879,
          0.0128854429691244,
          0.0454709085330269,
          0.020375826696557,
          0.0160816480739875,
          -0.0019241263362426,
          0.0562662024782069,
          0.0040547304650539,
          0.0212918827902367,
          0.015062429101696,
          0.0305925737307148,
          0.0300700093111859,
          -0.0012722161229278,
          0.0365990562179329,
          0.037150185585926,
          0.1902178564802188,
          0.0175281209338367,
          -0.0001890151431899,
          0.1375422311832339,
          0.2737390353291383,
          -0.0037466719057553,
          0.0540787115693439,
          0.088152250543762,
          0.1367562695283977,
          0.0976170995778397,
          0.2108380067958858
         ],
         "y0": " ",
         "yaxis": "y"
        },
        {
         "alignmentgroup": "True",
         "boxpoints": "all",
         "customdata": [
          [
           "./acrocentric_inferred\\B.Orang_chr13_UBF_1001-1.tif"
          ],
          [
           "./acrocentric_inferred\\B.Orang_chr13_UBF_1002-1.tif"
          ],
          [
           "./acrocentric_inferred\\B.Orang_chr13_UBF_1003-1.tif"
          ],
          [
           "./acrocentric_inferred\\B.Orang_chr13_UBF_1006-1.tif"
          ],
          [
           "./acrocentric_inferred\\B.Orang_chr13_UBF_1009-1.tif"
          ],
          [
           "./acrocentric_inferred\\B.Orang_chr13_UBF_1012-1.tif"
          ],
          [
           "./acrocentric_inferred\\B.Orang_chr13_UBF_1013-1.tif"
          ],
          [
           "./acrocentric_inferred\\B.Orang_chr13_UBF_1014-1.tif"
          ],
          [
           "./acrocentric_inferred\\B.Orang_chr13_UBF_1015-1.tif"
          ],
          [
           "./acrocentric_inferred\\B.Orang_chr13_UBF_1017-1.tif"
          ],
          [
           "./acrocentric_inferred\\B.Orang_chr13_UBF_1018-1.tif"
          ],
          [
           "./acrocentric_inferred\\B.Orang_chr13_UBF_1019-1.tif"
          ],
          [
           "./acrocentric_inferred\\B.Orang_chr13_UBF_1020-1.tif"
          ],
          [
           "./acrocentric_inferred\\B.Orang_chr13_UBF_1021-1.tif"
          ],
          [
           "./acrocentric_inferred\\B.Orang_chr14_UBF_1001-1.tif"
          ],
          [
           "./acrocentric_inferred\\B.Orang_chr14_UBF_1002-1.tif"
          ],
          [
           "./acrocentric_inferred\\B.Orang_chr14_UBF_1004-1.tif"
          ],
          [
           "./acrocentric_inferred\\B.Orang_chr14_UBF_1005-1.tif"
          ],
          [
           "./acrocentric_inferred\\B.Orang_chr14_UBF_1007-1.tif"
          ],
          [
           "./acrocentric_inferred\\B.Orang_chr14_UBF_1009-1.tif"
          ],
          [
           "./acrocentric_inferred\\B.Orang_chr14_UBF_1010-1.tif"
          ],
          [
           "./acrocentric_inferred\\B.Orang_chr14_UBF_1011-1.tif"
          ],
          [
           "./acrocentric_inferred\\B.Orang_chr14_UBF_1012-1.tif"
          ],
          [
           "./acrocentric_inferred\\B.Orang_chr14_UBF_1013-1.tif"
          ],
          [
           "./acrocentric_inferred\\B.Orang_chr14_UBF_1014-1.tif"
          ],
          [
           "./acrocentric_inferred\\B.Orang_chr14_UBF_1015-1.tif"
          ],
          [
           "./acrocentric_inferred\\B.Orang_chr14_UBF_1016-1.tif"
          ],
          [
           "./acrocentric_inferred\\B.Orang_chr14_UBF_1017-1.tif"
          ],
          [
           "./acrocentric_inferred\\B.Orang_chr14_UBF_1018-1.tif"
          ],
          [
           "./acrocentric_inferred\\B.Orang_chr14_UBF_1019-1.tif"
          ],
          [
           "./acrocentric_inferred\\B.Orang_chr14_UBF_1020-1.tif"
          ],
          [
           "./acrocentric_inferred\\B.Orang_chr14_UBF_1021-1.tif"
          ],
          [
           "./acrocentric_inferred\\B.Orang_chr14_UBF_1022-1.tif"
          ],
          [
           "./acrocentric_inferred\\B.Orang_chr15_UBF_1002-1.tif"
          ],
          [
           "./acrocentric_inferred\\B.Orang_chr15_UBF_1003-1.tif"
          ],
          [
           "./acrocentric_inferred\\B.Orang_chr15_UBF_1004-1.tif"
          ],
          [
           "./acrocentric_inferred\\B.Orang_chr15_UBF_1005-1.tif"
          ],
          [
           "./acrocentric_inferred\\B.Orang_chr15_UBF_1006-1.tif"
          ],
          [
           "./acrocentric_inferred\\B.Orang_chr15_UBF_1008-1.tif"
          ],
          [
           "./acrocentric_inferred\\B.Orang_chr15_UBF_1009-1.tif"
          ],
          [
           "./acrocentric_inferred\\B.Orang_chr15_UBF_1010-1.tif"
          ],
          [
           "./acrocentric_inferred\\B.Orang_chr15_UBF_1011-1.tif"
          ],
          [
           "./acrocentric_inferred\\B.Orang_chr15_UBF_1012-1.tif"
          ],
          [
           "./acrocentric_inferred\\B.Orang_chr15_UBF_1013-1.tif"
          ],
          [
           "./acrocentric_inferred\\B.Orang_chr15_UBF_1014-1.tif"
          ],
          [
           "./acrocentric_inferred\\B.Orang_chr15_UBF_1015-1.tif"
          ],
          [
           "./acrocentric_inferred\\B.Orang_chr15_UBF_1017-1.tif"
          ],
          [
           "./acrocentric_inferred\\B.Orang_chr15_UBF_1018-1.tif"
          ],
          [
           "./acrocentric_inferred\\B.Orang_chr15_UBF_1019-1.tif"
          ],
          [
           "./acrocentric_inferred\\B.Orang_chr15_UBF_1020-1.tif"
          ],
          [
           "./acrocentric_inferred\\B.Orang_chr18_UBF_1001-1.tif"
          ],
          [
           "./acrocentric_inferred\\B.Orang_chr18_UBF_1003-1.tif"
          ],
          [
           "./acrocentric_inferred\\B.Orang_chr18_UBF_1004-1.tif"
          ],
          [
           "./acrocentric_inferred\\B.Orang_chr18_UBF_1005-1.tif"
          ],
          [
           "./acrocentric_inferred\\B.Orang_chr18_UBF_1007-1.tif"
          ],
          [
           "./acrocentric_inferred\\B.Orang_chr18_UBF_1008-1.tif"
          ],
          [
           "./acrocentric_inferred\\B.Orang_chr18_UBF_1009-1.tif"
          ],
          [
           "./acrocentric_inferred\\B.Orang_chr18_UBF_1010-1.tif"
          ],
          [
           "./acrocentric_inferred\\B.Orang_chr18_UBF_1012-1.tif"
          ],
          [
           "./acrocentric_inferred\\B.Orang_chr18_UBF_1013-1.tif"
          ],
          [
           "./acrocentric_inferred\\B.Orang_chr18_UBF_1016-1.tif"
          ],
          [
           "./acrocentric_inferred\\B.Orang_chr18_UBF_1017-1.tif"
          ],
          [
           "./acrocentric_inferred\\B.Orang_chr18_UBF_1018-1.tif"
          ],
          [
           "./acrocentric_inferred\\B.Orang_chr18_UBF_1019-1.tif"
          ],
          [
           "./acrocentric_inferred\\B.Orang_chr18_UBF_1020-1.tif"
          ],
          [
           "./acrocentric_inferred\\B.Orang_chr21_UBF_1002-1.tif"
          ],
          [
           "./acrocentric_inferred\\B.Orang_chr21_UBF_1004-1.tif"
          ],
          [
           "./acrocentric_inferred\\B.Orang_chr21_UBF_1005-1.tif"
          ],
          [
           "./acrocentric_inferred\\B.Orang_chr21_UBF_1007-1.tif"
          ],
          [
           "./acrocentric_inferred\\B.Orang_chr21_UBF_1009-1.tif"
          ],
          [
           "./acrocentric_inferred\\B.Orang_chr21_UBF_1010-1.tif"
          ],
          [
           "./acrocentric_inferred\\B.Orang_chr21_UBF_1011-1.tif"
          ],
          [
           "./acrocentric_inferred\\B.Orang_chr21_UBF_1012-1.tif"
          ],
          [
           "./acrocentric_inferred\\B.Orang_chr21_UBF_1013-1.tif"
          ],
          [
           "./acrocentric_inferred\\B.Orang_chr21_UBF_1014-1.tif"
          ],
          [
           "./acrocentric_inferred\\B.Orang_chr21_UBF_1015-1.tif"
          ],
          [
           "./acrocentric_inferred\\B.Orang_chr21_UBF_1016-1.tif"
          ],
          [
           "./acrocentric_inferred\\B.Orang_chr21_UBF_1018-1.tif"
          ],
          [
           "./acrocentric_inferred\\B.Orang_chr21_UBF_1019-1.tif"
          ],
          [
           "./acrocentric_inferred\\B.Orang_chr22_UBF_1001-1.tif"
          ],
          [
           "./acrocentric_inferred\\B.Orang_chr22_UBF_1002-1.tif"
          ],
          [
           "./acrocentric_inferred\\B.Orang_chr22_UBF_1004-1.tif"
          ],
          [
           "./acrocentric_inferred\\B.Orang_chr22_UBF_1005-1.tif"
          ],
          [
           "./acrocentric_inferred\\B.Orang_chr22_UBF_1006-1.tif"
          ],
          [
           "./acrocentric_inferred\\B.Orang_chr22_UBF_1007-1.tif"
          ],
          [
           "./acrocentric_inferred\\B.Orang_chr22_UBF_1008-1.tif"
          ],
          [
           "./acrocentric_inferred\\B.Orang_chr22_UBF_1009-1.tif"
          ],
          [
           "./acrocentric_inferred\\B.Orang_chr22_UBF_1010-1.tif"
          ],
          [
           "./acrocentric_inferred\\B.Orang_chr22_UBF_1011-1.tif"
          ],
          [
           "./acrocentric_inferred\\B.Orang_chr22_UBF_1013-1.tif"
          ],
          [
           "./acrocentric_inferred\\B.Orang_chr22_UBF_1014-1.tif"
          ],
          [
           "./acrocentric_inferred\\B.Orang_chr22_UBF_1015-1.tif"
          ],
          [
           "./acrocentric_inferred\\B.Orang_chr22_UBF_1017-1.tif"
          ],
          [
           "./acrocentric_inferred\\B.Orang_chr22_UBF_1018-1.tif"
          ],
          [
           "./acrocentric_inferred\\B.Orang_chr22_UBF_1019-1.tif"
          ],
          [
           "./acrocentric_inferred\\B.Orang_chr22_UBF_1020-1.tif"
          ],
          [
           "./acrocentric_inferred\\B.Orang_chr2_UBF_1007-1.tif"
          ],
          [
           "./acrocentric_inferred\\B.Orang_chr2_UBF_1012-1.tif"
          ],
          [
           "./acrocentric_inferred\\B.Orang_chr2_UBF_1013-1.tif"
          ],
          [
           "./acrocentric_inferred\\B.Orang_chr2_UBF_1014-1.tif"
          ],
          [
           "./acrocentric_inferred\\B.Orang_chr2_UBF_1016-1.tif"
          ],
          [
           "./acrocentric_inferred\\B.Orang_chr2_UBF_1017-1.tif"
          ],
          [
           "./acrocentric_inferred\\B.Orang_chr2_UBF_1020-1.tif"
          ],
          [
           "./acrocentric_inferred\\B.Orang_chr2_UBF_1021-1.tif"
          ],
          [
           "./acrocentric_inferred\\B.Orang_chr9_UBF_1009-1.tif"
          ],
          [
           "./acrocentric_inferred\\B.Orang_chr9_UBF_1014-1.tif"
          ],
          [
           "./acrocentric_inferred\\B.Orang_chr9_UBF_1017-1.tif"
          ],
          [
           "./acrocentric_inferred\\B.Orang_chr9_UBF_1017-2.tif"
          ],
          [
           "./acrocentric_inferred\\B.Orang_chr9_UBF_1018-1.tif"
          ],
          [
           "./acrocentric_inferred\\B.Orang_chr9_UBF_1019-1.tif"
          ],
          [
           "./acrocentric_inferred\\B.Orang_chr9_UBF_1020-1.tif"
          ],
          [
           "./acrocentric_inferred\\B.Orang_chr9_UBF_1021-1.tif"
          ],
          [
           "./acrocentric_inferred\\B.Orang_chr9_UBF_1022-1.tif"
          ],
          [
           "./acrocentric_inferred\\B.Orang_chr9_UBF_1024-1.tif"
          ],
          [
           "./acrocentric_inferred\\B.Orang_chr9_UBF_1025-1.tif"
          ],
          [
           "./acrocentric_inferred\\B.Orang_chr9_UBF_1026-1.tif"
          ],
          [
           "./acrocentric_inferred\\B.Orang_chr9_UBF_1027-1.tif"
          ],
          [
           "./acrocentric_inferred\\B.Orang_chr9_UBF_1028-1.tif"
          ],
          [
           "./acrocentric_inferred\\B.Orang_chr9_UBF_1029-1.tif"
          ],
          [
           "./acrocentric_inferred\\B.Orang_chr9_UBF_1030-1.tif"
          ],
          [
           "./acrocentric_inferred\\B.Orang_chr9_UBF_1031-1.tif"
          ],
          [
           "./acrocentric_inferred\\B.Orang_chr9_UBF_1032-1.tif"
          ],
          [
           "./acrocentric_inferred\\B.Orang_chr9_UBF_1033-1.tif"
          ],
          [
           "./acrocentric_inferred\\B.Orang_chr9_UBF_1034-1.tif"
          ],
          [
           "./acrocentric_inferred\\B.Orang_chr9_UBF_1035-1.tif"
          ],
          [
           "./acrocentric_inferred\\B.Orang_chr2_UBF_1001-1.tif"
          ],
          [
           "./acrocentric_inferred\\B.Orang_chr2_UBF_1003-1.tif"
          ],
          [
           "./acrocentric_inferred\\B.Orang_chr2_UBF_1004-1.tif"
          ],
          [
           "./acrocentric_inferred\\B.Orang_chr2_UBF_1008-1.tif"
          ],
          [
           "./acrocentric_inferred\\B.Orang_chr2_UBF_1010-1.tif"
          ],
          [
           "./acrocentric_inferred\\B.Orang_chr2_UBF_1011-1.tif"
          ],
          [
           "./acrocentric_inferred\\B.Orang_chr2_UBF_1015-1.tif"
          ],
          [
           "./acrocentric_inferred\\B.Orang_chr2_UBF_1018-2.tif"
          ],
          [
           "./acrocentric_inferred\\B.Orang_chr2_UBF_1018.tif"
          ],
          [
           "./acrocentric_inferred\\B.Orang_chr2_UBF_1022-1.tif"
          ],
          [
           "./acrocentric_inferred\\B.Orang_chr2_UBF_1024-1.tif"
          ],
          [
           "./acrocentric_inferred\\B.Orang_chr2_UBF_1025-1.tif"
          ],
          [
           "./acrocentric_inferred\\B.Orang_chr2_UBF_1026-1.tif"
          ]
         ],
         "hovertemplate": "rDNARank=2.0<br>Chromosome=%{x}<br>UBF_IntDens=%{y}<br>File=%{customdata[0]}<extra></extra>",
         "legendgroup": "2.0",
         "marker": {
          "color": "#EF553B"
         },
         "name": "2.0",
         "notched": false,
         "offsetgroup": "2.0",
         "orientation": "v",
         "showlegend": true,
         "type": "box",
         "x": [
          "chr13",
          "chr13",
          "chr13",
          "chr13",
          "chr13",
          "chr13",
          "chr13",
          "chr13",
          "chr13",
          "chr13",
          "chr13",
          "chr13",
          "chr13",
          "chr13",
          "chr14",
          "chr14",
          "chr14",
          "chr14",
          "chr14",
          "chr14",
          "chr14",
          "chr14",
          "chr14",
          "chr14",
          "chr14",
          "chr14",
          "chr14",
          "chr14",
          "chr14",
          "chr14",
          "chr14",
          "chr14",
          "chr14",
          "chr15",
          "chr15",
          "chr15",
          "chr15",
          "chr15",
          "chr15",
          "chr15",
          "chr15",
          "chr15",
          "chr15",
          "chr15",
          "chr15",
          "chr15",
          "chr15",
          "chr15",
          "chr15",
          "chr15",
          "chr18",
          "chr18",
          "chr18",
          "chr18",
          "chr18",
          "chr18",
          "chr18",
          "chr18",
          "chr18",
          "chr18",
          "chr18",
          "chr18",
          "chr18",
          "chr18",
          "chr18",
          "chr21",
          "chr21",
          "chr21",
          "chr21",
          "chr21",
          "chr21",
          "chr21",
          "chr21",
          "chr21",
          "chr21",
          "chr21",
          "chr21",
          "chr21",
          "chr21",
          "chr22",
          "chr22",
          "chr22",
          "chr22",
          "chr22",
          "chr22",
          "chr22",
          "chr22",
          "chr22",
          "chr22",
          "chr22",
          "chr22",
          "chr22",
          "chr22",
          "chr22",
          "chr22",
          "chr22",
          "chr2",
          "chr2",
          "chr2",
          "chr2",
          "chr2",
          "chr2",
          "chr2",
          "chr2",
          "chr9",
          "chr9",
          "chr9",
          "chr9",
          "chr9",
          "chr9",
          "chr9",
          "chr9",
          "chr9",
          "chr9",
          "chr9",
          "chr9",
          "chr9",
          "chr9",
          "chr9",
          "chr9",
          "chr9",
          "chr9",
          "chr9",
          "chr9",
          "chr9",
          "chr2",
          "chr2",
          "chr2",
          "chr2",
          "chr2",
          "chr2",
          "chr2",
          "chr2",
          "chr2",
          "chr2",
          "chr2",
          "chr2",
          "chr2"
         ],
         "x0": " ",
         "xaxis": "x",
         "y": [
          0.2232308490449545,
          0.2701516552661139,
          0.1110166906064109,
          0.2488118361121976,
          0.1439929946395614,
          0.2922804594734273,
          0.1762988784741487,
          0.1767260097615776,
          0.1797755092746835,
          0,
          0.3623072192882151,
          0.2022559580783439,
          0.324607163092082,
          0.2251272885279243,
          -0.0035418674916929,
          -0.0032972188451676,
          0.0007788920260928,
          0,
          0.0503496670666594,
          0.0791463022639403,
          0.1142102971200413,
          0.1047679608442142,
          -0.0010755058949677,
          -0.0027871433528882,
          0.1036719691138647,
          -0.0008618248890289,
          -0.0024028773485108,
          -0.0029024983472096,
          0.0942640783399867,
          -0.003350730298257,
          -0.0017574318046014,
          -0.0027918932218318,
          -0.0073887248378065,
          -0.0012836177555357,
          -0.0032523386064055,
          -0.0042778992650631,
          0.0001205352778912,
          0.0751394313005486,
          -0.0031542391215901,
          -0.0082787462232513,
          -0.0090014350113786,
          -0.0004929821882245,
          -0.0054595226518132,
          -0.0109596250098603,
          -0.0022546236129814,
          -0.0048534407243849,
          0.0017199524516157,
          0.0005948874647765,
          -0.0004008989490176,
          -0.0053587139015203,
          0,
          -0.0005514685695541,
          0,
          0,
          0,
          0,
          0,
          0,
          0,
          0,
          0,
          0,
          0.0582261079340401,
          0,
          0,
          0,
          0.0159511617137027,
          0,
          0.0008514598761207,
          0.0129386824839505,
          0,
          0,
          0.0108832031405076,
          0,
          -0.0001025658737173,
          0,
          0,
          0,
          0.025658000012435,
          -0.0028015616671965,
          -0.002517519516333,
          -0.0005880095231705,
          0.0002095381845952,
          0,
          0,
          -0.0019343688497776,
          -0.0013585034874459,
          -0.0011325863759839,
          0,
          0,
          -0.0069482357174082,
          -0.0004876587972858,
          -0.0039287861611261,
          -0.0025573411685635,
          0.0048005250108134,
          0,
          0.1377220324906768,
          0.1247442389341986,
          -0.002553582309172,
          -0.003141354342245,
          -0.0040144905130057,
          -0.0047014046287894,
          -0.0003645378878561,
          -0.0015396999980092,
          0.0298075855689176,
          0,
          -0.0007584897159111,
          0,
          0,
          -0.0055663998065398,
          0.0156756079925479,
          -0.0014790187866928,
          0.0382576950435334,
          0.0256041783056634,
          0.147677328940875,
          0.0311606673948107,
          0,
          0.0126287748310054,
          0.0151831694670737,
          0,
          0.0165315438323514,
          0.0178598294851327,
          0.0293995512318061,
          0.0114617903690191,
          0,
          -0.0024025124068113,
          -0.0012032000477631,
          -0.0018145221834082,
          -0.0032571565035657,
          -0.0046426539807193,
          -0.0026067063141422,
          -0.00133647990729,
          0.1836091777384285,
          0.0654076433058724,
          -0.0004702673879139,
          0.0032017091520192,
          -0.0049406461638278,
          0.1312670857526016
         ],
         "y0": " ",
         "yaxis": "y"
        },
        {
         "alignmentgroup": "True",
         "boxpoints": "all",
         "customdata": [
          [
           "./acrocentric_inferred\\B.Orang_chr2_UBF_1001-1.tif"
          ],
          [
           "./acrocentric_inferred\\B.Orang_chr2_UBF_1007-1.tif"
          ],
          [
           "./acrocentric_inferred\\B.Orang_chr2_UBF_1010-1.tif"
          ],
          [
           "./acrocentric_inferred\\B.Orang_chr2_UBF_1012-1.tif"
          ],
          [
           "./acrocentric_inferred\\B.Orang_chr2_UBF_1013-1.tif"
          ],
          [
           "./acrocentric_inferred\\B.Orang_chr2_UBF_1015-1.tif"
          ],
          [
           "./acrocentric_inferred\\B.Orang_chr2_UBF_1016-1.tif"
          ],
          [
           "./acrocentric_inferred\\B.Orang_chr2_UBF_1017-1.tif"
          ],
          [
           "./acrocentric_inferred\\B.Orang_chr2_UBF_1018.tif"
          ],
          [
           "./acrocentric_inferred\\B.Orang_chr2_UBF_1022-1.tif"
          ],
          [
           "./acrocentric_inferred\\B.Orang_chr2_UBF_1024-1.tif"
          ],
          [
           "./acrocentric_inferred\\B.Orang_chr2_UBF_1025-1.tif"
          ],
          [
           "./acrocentric_inferred\\B.Orang_chr2_UBF_1003-1.tif"
          ],
          [
           "./acrocentric_inferred\\B.Orang_chr2_UBF_1004-1.tif"
          ],
          [
           "./acrocentric_inferred\\B.Orang_chr2_UBF_1008-1.tif"
          ],
          [
           "./acrocentric_inferred\\B.Orang_chr2_UBF_1011-1.tif"
          ],
          [
           "./acrocentric_inferred\\B.Orang_chr2_UBF_1014-1.tif"
          ],
          [
           "./acrocentric_inferred\\B.Orang_chr2_UBF_1018-2.tif"
          ],
          [
           "./acrocentric_inferred\\B.Orang_chr2_UBF_1020-1.tif"
          ],
          [
           "./acrocentric_inferred\\B.Orang_chr2_UBF_1021-1.tif"
          ],
          [
           "./acrocentric_inferred\\B.Orang_chr2_UBF_1026-1.tif"
          ]
         ],
         "hovertemplate": "rDNARank=3.0<br>Chromosome=%{x}<br>UBF_IntDens=%{y}<br>File=%{customdata[0]}<extra></extra>",
         "legendgroup": "3.0",
         "marker": {
          "color": "#00cc96"
         },
         "name": "3.0",
         "notched": false,
         "offsetgroup": "3.0",
         "orientation": "v",
         "showlegend": true,
         "type": "box",
         "x": [
          "chr2",
          "chr2",
          "chr2",
          "chr2",
          "chr2",
          "chr2",
          "chr2",
          "chr2",
          "chr2",
          "chr2",
          "chr2",
          "chr2",
          "chr2",
          "chr2",
          "chr2",
          "chr2",
          "chr2",
          "chr2",
          "chr2",
          "chr2",
          "chr2"
         ],
         "x0": " ",
         "xaxis": "x",
         "y": [
          -0.0026145676000581,
          0.0673366912370098,
          0.1125324070578167,
          -0.0135896651583108,
          0.0628634363506475,
          0.0003173872549612,
          0.0861693509082813,
          0.1272293036443318,
          0.0402033258160358,
          0.094053272807098,
          0.0911628401078253,
          0.0808711036529442,
          0.0797729509268931,
          0.0842443439252585,
          -0.0017106187389124,
          0.1504520452293883,
          0.0482585826947207,
          -0.002114702989421,
          0.0524287176217332,
          0.0435178319033304,
          0.0006554913693636
         ],
         "y0": " ",
         "yaxis": "y"
        },
        {
         "alignmentgroup": "True",
         "boxpoints": "all",
         "customdata": [
          [
           "./acrocentric_inferred\\B.Orang_chr2_UBF_1001-1.tif"
          ],
          [
           "./acrocentric_inferred\\B.Orang_chr2_UBF_1003-1.tif"
          ],
          [
           "./acrocentric_inferred\\B.Orang_chr2_UBF_1004-1.tif"
          ],
          [
           "./acrocentric_inferred\\B.Orang_chr2_UBF_1008-1.tif"
          ],
          [
           "./acrocentric_inferred\\B.Orang_chr2_UBF_1011-1.tif"
          ],
          [
           "./acrocentric_inferred\\B.Orang_chr2_UBF_1018-2.tif"
          ],
          [
           "./acrocentric_inferred\\B.Orang_chr2_UBF_1024-1.tif"
          ],
          [
           "./acrocentric_inferred\\B.Orang_chr2_UBF_1026-1.tif"
          ],
          [
           "./acrocentric_inferred\\B.Orang_chr2_UBF_1007-1.tif"
          ],
          [
           "./acrocentric_inferred\\B.Orang_chr2_UBF_1010-1.tif"
          ],
          [
           "./acrocentric_inferred\\B.Orang_chr2_UBF_1012-1.tif"
          ],
          [
           "./acrocentric_inferred\\B.Orang_chr2_UBF_1013-1.tif"
          ],
          [
           "./acrocentric_inferred\\B.Orang_chr2_UBF_1014-1.tif"
          ],
          [
           "./acrocentric_inferred\\B.Orang_chr2_UBF_1015-1.tif"
          ],
          [
           "./acrocentric_inferred\\B.Orang_chr2_UBF_1016-1.tif"
          ],
          [
           "./acrocentric_inferred\\B.Orang_chr2_UBF_1017-1.tif"
          ],
          [
           "./acrocentric_inferred\\B.Orang_chr2_UBF_1018.tif"
          ],
          [
           "./acrocentric_inferred\\B.Orang_chr2_UBF_1020-1.tif"
          ],
          [
           "./acrocentric_inferred\\B.Orang_chr2_UBF_1021-1.tif"
          ],
          [
           "./acrocentric_inferred\\B.Orang_chr2_UBF_1022-1.tif"
          ],
          [
           "./acrocentric_inferred\\B.Orang_chr2_UBF_1025-1.tif"
          ]
         ],
         "hovertemplate": "rDNARank=4.0<br>Chromosome=%{x}<br>UBF_IntDens=%{y}<br>File=%{customdata[0]}<extra></extra>",
         "legendgroup": "4.0",
         "marker": {
          "color": "#ab63fa"
         },
         "name": "4.0",
         "notched": false,
         "offsetgroup": "4.0",
         "orientation": "v",
         "showlegend": true,
         "type": "box",
         "x": [
          "chr2",
          "chr2",
          "chr2",
          "chr2",
          "chr2",
          "chr2",
          "chr2",
          "chr2",
          "chr2",
          "chr2",
          "chr2",
          "chr2",
          "chr2",
          "chr2",
          "chr2",
          "chr2",
          "chr2",
          "chr2",
          "chr2",
          "chr2",
          "chr2"
         ],
         "x0": " ",
         "xaxis": "x",
         "y": [
          0,
          -0.0013409544295237,
          -0.0012337456637661,
          0.0811571348299606,
          -0.0023762549161279,
          -0.0032050022579804,
          0,
          -0.0002140741044345,
          0.036207863506314,
          -0.0028589695184877,
          -0.0049941982052671,
          -0.0008895322356932,
          -0.0005641814135531,
          0,
          -0.0008594191012411,
          0.00805280577109,
          0.0005401829672908,
          -0.0020213998383342,
          -0.0004401364640773,
          -0.0004623835235836,
          -0.0009121346955612
         ],
         "y0": " ",
         "yaxis": "y"
        },
        {
         "alignmentgroup": "True",
         "boxpoints": "all",
         "customdata": [
          [
           "./acrocentric_inferred\\B.Orang_chr13_UBF_1011-1.tif"
          ],
          [
           "./acrocentric_inferred\\B.Orang_chr13_UBF_1011-1.tif"
          ],
          [
           "./acrocentric_inferred\\B.Orang_chr18_UBF_1015-1.tif"
          ],
          [
           "./acrocentric_inferred\\B.Orang_chr18_UBF_1015-1.tif"
          ],
          [
           "./acrocentric_inferred\\B.Orang_chr9_UBF_1004-1.tif"
          ],
          [
           "./acrocentric_inferred\\B.Orang_chr9_UBF_1004-1.tif"
          ],
          [
           "./acrocentric_inferred\\B.Orang_chr9_UBF_1016-1.tif"
          ],
          [
           "./acrocentric_inferred\\B.Orang_chr9_UBF_1016-1.tif"
          ]
         ],
         "hovertemplate": "rDNARank=1.5<br>Chromosome=%{x}<br>UBF_IntDens=%{y}<br>File=%{customdata[0]}<extra></extra>",
         "legendgroup": "1.5",
         "marker": {
          "color": "#FFA15A"
         },
         "name": "1.5",
         "notched": false,
         "offsetgroup": "1.5",
         "orientation": "v",
         "showlegend": true,
         "type": "box",
         "x": [
          "chr13",
          "chr13",
          "chr18",
          "chr18",
          "chr9",
          "chr9",
          "chr9",
          "chr9"
         ],
         "x0": " ",
         "xaxis": "x",
         "y": [
          0,
          0,
          0,
          0,
          0,
          0,
          0,
          0
         ],
         "y0": " ",
         "yaxis": "y"
        }
       ],
       "layout": {
        "boxmode": "group",
        "legend": {
         "title": {
          "text": "rDNARank"
         },
         "tracegroupgap": 0
        },
        "margin": {
         "t": 60
        },
        "template": {
         "data": {
          "bar": [
           {
            "error_x": {
             "color": "#2a3f5f"
            },
            "error_y": {
             "color": "#2a3f5f"
            },
            "marker": {
             "line": {
              "color": "#E5ECF6",
              "width": 0.5
             },
             "pattern": {
              "fillmode": "overlay",
              "size": 10,
              "solidity": 0.2
             }
            },
            "type": "bar"
           }
          ],
          "barpolar": [
           {
            "marker": {
             "line": {
              "color": "#E5ECF6",
              "width": 0.5
             },
             "pattern": {
              "fillmode": "overlay",
              "size": 10,
              "solidity": 0.2
             }
            },
            "type": "barpolar"
           }
          ],
          "carpet": [
           {
            "aaxis": {
             "endlinecolor": "#2a3f5f",
             "gridcolor": "white",
             "linecolor": "white",
             "minorgridcolor": "white",
             "startlinecolor": "#2a3f5f"
            },
            "baxis": {
             "endlinecolor": "#2a3f5f",
             "gridcolor": "white",
             "linecolor": "white",
             "minorgridcolor": "white",
             "startlinecolor": "#2a3f5f"
            },
            "type": "carpet"
           }
          ],
          "choropleth": [
           {
            "colorbar": {
             "outlinewidth": 0,
             "ticks": ""
            },
            "type": "choropleth"
           }
          ],
          "contour": [
           {
            "colorbar": {
             "outlinewidth": 0,
             "ticks": ""
            },
            "colorscale": [
             [
              0,
              "#0d0887"
             ],
             [
              0.1111111111111111,
              "#46039f"
             ],
             [
              0.2222222222222222,
              "#7201a8"
             ],
             [
              0.3333333333333333,
              "#9c179e"
             ],
             [
              0.4444444444444444,
              "#bd3786"
             ],
             [
              0.5555555555555556,
              "#d8576b"
             ],
             [
              0.6666666666666666,
              "#ed7953"
             ],
             [
              0.7777777777777778,
              "#fb9f3a"
             ],
             [
              0.8888888888888888,
              "#fdca26"
             ],
             [
              1,
              "#f0f921"
             ]
            ],
            "type": "contour"
           }
          ],
          "contourcarpet": [
           {
            "colorbar": {
             "outlinewidth": 0,
             "ticks": ""
            },
            "type": "contourcarpet"
           }
          ],
          "heatmap": [
           {
            "colorbar": {
             "outlinewidth": 0,
             "ticks": ""
            },
            "colorscale": [
             [
              0,
              "#0d0887"
             ],
             [
              0.1111111111111111,
              "#46039f"
             ],
             [
              0.2222222222222222,
              "#7201a8"
             ],
             [
              0.3333333333333333,
              "#9c179e"
             ],
             [
              0.4444444444444444,
              "#bd3786"
             ],
             [
              0.5555555555555556,
              "#d8576b"
             ],
             [
              0.6666666666666666,
              "#ed7953"
             ],
             [
              0.7777777777777778,
              "#fb9f3a"
             ],
             [
              0.8888888888888888,
              "#fdca26"
             ],
             [
              1,
              "#f0f921"
             ]
            ],
            "type": "heatmap"
           }
          ],
          "heatmapgl": [
           {
            "colorbar": {
             "outlinewidth": 0,
             "ticks": ""
            },
            "colorscale": [
             [
              0,
              "#0d0887"
             ],
             [
              0.1111111111111111,
              "#46039f"
             ],
             [
              0.2222222222222222,
              "#7201a8"
             ],
             [
              0.3333333333333333,
              "#9c179e"
             ],
             [
              0.4444444444444444,
              "#bd3786"
             ],
             [
              0.5555555555555556,
              "#d8576b"
             ],
             [
              0.6666666666666666,
              "#ed7953"
             ],
             [
              0.7777777777777778,
              "#fb9f3a"
             ],
             [
              0.8888888888888888,
              "#fdca26"
             ],
             [
              1,
              "#f0f921"
             ]
            ],
            "type": "heatmapgl"
           }
          ],
          "histogram": [
           {
            "marker": {
             "pattern": {
              "fillmode": "overlay",
              "size": 10,
              "solidity": 0.2
             }
            },
            "type": "histogram"
           }
          ],
          "histogram2d": [
           {
            "colorbar": {
             "outlinewidth": 0,
             "ticks": ""
            },
            "colorscale": [
             [
              0,
              "#0d0887"
             ],
             [
              0.1111111111111111,
              "#46039f"
             ],
             [
              0.2222222222222222,
              "#7201a8"
             ],
             [
              0.3333333333333333,
              "#9c179e"
             ],
             [
              0.4444444444444444,
              "#bd3786"
             ],
             [
              0.5555555555555556,
              "#d8576b"
             ],
             [
              0.6666666666666666,
              "#ed7953"
             ],
             [
              0.7777777777777778,
              "#fb9f3a"
             ],
             [
              0.8888888888888888,
              "#fdca26"
             ],
             [
              1,
              "#f0f921"
             ]
            ],
            "type": "histogram2d"
           }
          ],
          "histogram2dcontour": [
           {
            "colorbar": {
             "outlinewidth": 0,
             "ticks": ""
            },
            "colorscale": [
             [
              0,
              "#0d0887"
             ],
             [
              0.1111111111111111,
              "#46039f"
             ],
             [
              0.2222222222222222,
              "#7201a8"
             ],
             [
              0.3333333333333333,
              "#9c179e"
             ],
             [
              0.4444444444444444,
              "#bd3786"
             ],
             [
              0.5555555555555556,
              "#d8576b"
             ],
             [
              0.6666666666666666,
              "#ed7953"
             ],
             [
              0.7777777777777778,
              "#fb9f3a"
             ],
             [
              0.8888888888888888,
              "#fdca26"
             ],
             [
              1,
              "#f0f921"
             ]
            ],
            "type": "histogram2dcontour"
           }
          ],
          "mesh3d": [
           {
            "colorbar": {
             "outlinewidth": 0,
             "ticks": ""
            },
            "type": "mesh3d"
           }
          ],
          "parcoords": [
           {
            "line": {
             "colorbar": {
              "outlinewidth": 0,
              "ticks": ""
             }
            },
            "type": "parcoords"
           }
          ],
          "pie": [
           {
            "automargin": true,
            "type": "pie"
           }
          ],
          "scatter": [
           {
            "fillpattern": {
             "fillmode": "overlay",
             "size": 10,
             "solidity": 0.2
            },
            "type": "scatter"
           }
          ],
          "scatter3d": [
           {
            "line": {
             "colorbar": {
              "outlinewidth": 0,
              "ticks": ""
             }
            },
            "marker": {
             "colorbar": {
              "outlinewidth": 0,
              "ticks": ""
             }
            },
            "type": "scatter3d"
           }
          ],
          "scattercarpet": [
           {
            "marker": {
             "colorbar": {
              "outlinewidth": 0,
              "ticks": ""
             }
            },
            "type": "scattercarpet"
           }
          ],
          "scattergeo": [
           {
            "marker": {
             "colorbar": {
              "outlinewidth": 0,
              "ticks": ""
             }
            },
            "type": "scattergeo"
           }
          ],
          "scattergl": [
           {
            "marker": {
             "colorbar": {
              "outlinewidth": 0,
              "ticks": ""
             }
            },
            "type": "scattergl"
           }
          ],
          "scattermapbox": [
           {
            "marker": {
             "colorbar": {
              "outlinewidth": 0,
              "ticks": ""
             }
            },
            "type": "scattermapbox"
           }
          ],
          "scatterpolar": [
           {
            "marker": {
             "colorbar": {
              "outlinewidth": 0,
              "ticks": ""
             }
            },
            "type": "scatterpolar"
           }
          ],
          "scatterpolargl": [
           {
            "marker": {
             "colorbar": {
              "outlinewidth": 0,
              "ticks": ""
             }
            },
            "type": "scatterpolargl"
           }
          ],
          "scatterternary": [
           {
            "marker": {
             "colorbar": {
              "outlinewidth": 0,
              "ticks": ""
             }
            },
            "type": "scatterternary"
           }
          ],
          "surface": [
           {
            "colorbar": {
             "outlinewidth": 0,
             "ticks": ""
            },
            "colorscale": [
             [
              0,
              "#0d0887"
             ],
             [
              0.1111111111111111,
              "#46039f"
             ],
             [
              0.2222222222222222,
              "#7201a8"
             ],
             [
              0.3333333333333333,
              "#9c179e"
             ],
             [
              0.4444444444444444,
              "#bd3786"
             ],
             [
              0.5555555555555556,
              "#d8576b"
             ],
             [
              0.6666666666666666,
              "#ed7953"
             ],
             [
              0.7777777777777778,
              "#fb9f3a"
             ],
             [
              0.8888888888888888,
              "#fdca26"
             ],
             [
              1,
              "#f0f921"
             ]
            ],
            "type": "surface"
           }
          ],
          "table": [
           {
            "cells": {
             "fill": {
              "color": "#EBF0F8"
             },
             "line": {
              "color": "white"
             }
            },
            "header": {
             "fill": {
              "color": "#C8D4E3"
             },
             "line": {
              "color": "white"
             }
            },
            "type": "table"
           }
          ]
         },
         "layout": {
          "annotationdefaults": {
           "arrowcolor": "#2a3f5f",
           "arrowhead": 0,
           "arrowwidth": 1
          },
          "autotypenumbers": "strict",
          "coloraxis": {
           "colorbar": {
            "outlinewidth": 0,
            "ticks": ""
           }
          },
          "colorscale": {
           "diverging": [
            [
             0,
             "#8e0152"
            ],
            [
             0.1,
             "#c51b7d"
            ],
            [
             0.2,
             "#de77ae"
            ],
            [
             0.3,
             "#f1b6da"
            ],
            [
             0.4,
             "#fde0ef"
            ],
            [
             0.5,
             "#f7f7f7"
            ],
            [
             0.6,
             "#e6f5d0"
            ],
            [
             0.7,
             "#b8e186"
            ],
            [
             0.8,
             "#7fbc41"
            ],
            [
             0.9,
             "#4d9221"
            ],
            [
             1,
             "#276419"
            ]
           ],
           "sequential": [
            [
             0,
             "#0d0887"
            ],
            [
             0.1111111111111111,
             "#46039f"
            ],
            [
             0.2222222222222222,
             "#7201a8"
            ],
            [
             0.3333333333333333,
             "#9c179e"
            ],
            [
             0.4444444444444444,
             "#bd3786"
            ],
            [
             0.5555555555555556,
             "#d8576b"
            ],
            [
             0.6666666666666666,
             "#ed7953"
            ],
            [
             0.7777777777777778,
             "#fb9f3a"
            ],
            [
             0.8888888888888888,
             "#fdca26"
            ],
            [
             1,
             "#f0f921"
            ]
           ],
           "sequentialminus": [
            [
             0,
             "#0d0887"
            ],
            [
             0.1111111111111111,
             "#46039f"
            ],
            [
             0.2222222222222222,
             "#7201a8"
            ],
            [
             0.3333333333333333,
             "#9c179e"
            ],
            [
             0.4444444444444444,
             "#bd3786"
            ],
            [
             0.5555555555555556,
             "#d8576b"
            ],
            [
             0.6666666666666666,
             "#ed7953"
            ],
            [
             0.7777777777777778,
             "#fb9f3a"
            ],
            [
             0.8888888888888888,
             "#fdca26"
            ],
            [
             1,
             "#f0f921"
            ]
           ]
          },
          "colorway": [
           "#636efa",
           "#EF553B",
           "#00cc96",
           "#ab63fa",
           "#FFA15A",
           "#19d3f3",
           "#FF6692",
           "#B6E880",
           "#FF97FF",
           "#FECB52"
          ],
          "font": {
           "color": "#2a3f5f"
          },
          "geo": {
           "bgcolor": "white",
           "lakecolor": "white",
           "landcolor": "#E5ECF6",
           "showlakes": true,
           "showland": true,
           "subunitcolor": "white"
          },
          "hoverlabel": {
           "align": "left"
          },
          "hovermode": "closest",
          "mapbox": {
           "style": "light"
          },
          "paper_bgcolor": "white",
          "plot_bgcolor": "#E5ECF6",
          "polar": {
           "angularaxis": {
            "gridcolor": "white",
            "linecolor": "white",
            "ticks": ""
           },
           "bgcolor": "#E5ECF6",
           "radialaxis": {
            "gridcolor": "white",
            "linecolor": "white",
            "ticks": ""
           }
          },
          "scene": {
           "xaxis": {
            "backgroundcolor": "#E5ECF6",
            "gridcolor": "white",
            "gridwidth": 2,
            "linecolor": "white",
            "showbackground": true,
            "ticks": "",
            "zerolinecolor": "white"
           },
           "yaxis": {
            "backgroundcolor": "#E5ECF6",
            "gridcolor": "white",
            "gridwidth": 2,
            "linecolor": "white",
            "showbackground": true,
            "ticks": "",
            "zerolinecolor": "white"
           },
           "zaxis": {
            "backgroundcolor": "#E5ECF6",
            "gridcolor": "white",
            "gridwidth": 2,
            "linecolor": "white",
            "showbackground": true,
            "ticks": "",
            "zerolinecolor": "white"
           }
          },
          "shapedefaults": {
           "line": {
            "color": "#2a3f5f"
           }
          },
          "ternary": {
           "aaxis": {
            "gridcolor": "white",
            "linecolor": "white",
            "ticks": ""
           },
           "baxis": {
            "gridcolor": "white",
            "linecolor": "white",
            "ticks": ""
           },
           "bgcolor": "#E5ECF6",
           "caxis": {
            "gridcolor": "white",
            "linecolor": "white",
            "ticks": ""
           }
          },
          "title": {
           "x": 0.05
          },
          "xaxis": {
           "automargin": true,
           "gridcolor": "white",
           "linecolor": "white",
           "ticks": "",
           "title": {
            "standoff": 15
           },
           "zerolinecolor": "white",
           "zerolinewidth": 2
          },
          "yaxis": {
           "automargin": true,
           "gridcolor": "white",
           "linecolor": "white",
           "ticks": "",
           "title": {
            "standoff": 15
           },
           "zerolinecolor": "white",
           "zerolinewidth": 2
          }
         }
        },
        "xaxis": {
         "anchor": "y",
         "categoryarray": [
          "chr2",
          "chr9",
          "chr13",
          "chr14",
          "chr15",
          "chr18",
          "chr21",
          "chr22"
         ],
         "categoryorder": "array",
         "domain": [
          0,
          1
         ],
         "title": {
          "text": "Chromosome"
         }
        },
        "yaxis": {
         "anchor": "x",
         "domain": [
          0,
          1
         ],
         "title": {
          "text": "UBF_IntDens"
         }
        }
       }
      }
     },
     "metadata": {},
     "output_type": "display_data"
    }
   ],
   "source": [
    "f = px.box(combined_df, x='Chromosome', y='UBF_IntDens', points='all', color='rDNARank', hover_data='File',\n",
    "           category_orders={'rDNARank':[1.0, 2.0, 3.0, 4.0], 'Chromosome':['chr2', 'chr9', 'chr13', 'chr14', 'chr15', 'chr18', 'chr21', 'chr22']})\n",
    "f.write_html('UBF.html')\n",
    "f"
   ]
  },
  {
   "cell_type": "code",
   "execution_count": 47,
   "metadata": {},
   "outputs": [
    {
     "data": {
      "application/vnd.plotly.v1+json": {
       "config": {
        "plotlyServerURL": "https://plot.ly"
       },
       "data": [
        {
         "alignmentgroup": "True",
         "boxpoints": "all",
         "customdata": [
          [
           "./acrocentric_inferred\\B.Orang_chr13_UBF_1001-1.tif"
          ],
          [
           "./acrocentric_inferred\\B.Orang_chr13_UBF_1002-1.tif"
          ],
          [
           "./acrocentric_inferred\\B.Orang_chr13_UBF_1003-1.tif"
          ],
          [
           "./acrocentric_inferred\\B.Orang_chr13_UBF_1006-1.tif"
          ],
          [
           "./acrocentric_inferred\\B.Orang_chr13_UBF_1009-1.tif"
          ],
          [
           "./acrocentric_inferred\\B.Orang_chr13_UBF_1012-1.tif"
          ],
          [
           "./acrocentric_inferred\\B.Orang_chr13_UBF_1013-1.tif"
          ],
          [
           "./acrocentric_inferred\\B.Orang_chr13_UBF_1014-1.tif"
          ],
          [
           "./acrocentric_inferred\\B.Orang_chr13_UBF_1015-1.tif"
          ],
          [
           "./acrocentric_inferred\\B.Orang_chr13_UBF_1017-1.tif"
          ],
          [
           "./acrocentric_inferred\\B.Orang_chr13_UBF_1018-1.tif"
          ],
          [
           "./acrocentric_inferred\\B.Orang_chr13_UBF_1019-1.tif"
          ],
          [
           "./acrocentric_inferred\\B.Orang_chr13_UBF_1020-1.tif"
          ],
          [
           "./acrocentric_inferred\\B.Orang_chr13_UBF_1021-1.tif"
          ],
          [
           "./acrocentric_inferred\\B.Orang_chr14_UBF_1001-1.tif"
          ],
          [
           "./acrocentric_inferred\\B.Orang_chr14_UBF_1002-1.tif"
          ],
          [
           "./acrocentric_inferred\\B.Orang_chr14_UBF_1004-1.tif"
          ],
          [
           "./acrocentric_inferred\\B.Orang_chr14_UBF_1005-1.tif"
          ],
          [
           "./acrocentric_inferred\\B.Orang_chr14_UBF_1007-1.tif"
          ],
          [
           "./acrocentric_inferred\\B.Orang_chr14_UBF_1009-1.tif"
          ],
          [
           "./acrocentric_inferred\\B.Orang_chr14_UBF_1010-1.tif"
          ],
          [
           "./acrocentric_inferred\\B.Orang_chr14_UBF_1011-1.tif"
          ],
          [
           "./acrocentric_inferred\\B.Orang_chr14_UBF_1012-1.tif"
          ],
          [
           "./acrocentric_inferred\\B.Orang_chr14_UBF_1013-1.tif"
          ],
          [
           "./acrocentric_inferred\\B.Orang_chr14_UBF_1014-1.tif"
          ],
          [
           "./acrocentric_inferred\\B.Orang_chr14_UBF_1015-1.tif"
          ],
          [
           "./acrocentric_inferred\\B.Orang_chr14_UBF_1016-1.tif"
          ],
          [
           "./acrocentric_inferred\\B.Orang_chr14_UBF_1017-1.tif"
          ],
          [
           "./acrocentric_inferred\\B.Orang_chr14_UBF_1018-1.tif"
          ],
          [
           "./acrocentric_inferred\\B.Orang_chr14_UBF_1019-1.tif"
          ],
          [
           "./acrocentric_inferred\\B.Orang_chr14_UBF_1020-1.tif"
          ],
          [
           "./acrocentric_inferred\\B.Orang_chr14_UBF_1021-1.tif"
          ],
          [
           "./acrocentric_inferred\\B.Orang_chr14_UBF_1022-1.tif"
          ],
          [
           "./acrocentric_inferred\\B.Orang_chr15_UBF_1002-1.tif"
          ],
          [
           "./acrocentric_inferred\\B.Orang_chr15_UBF_1003-1.tif"
          ],
          [
           "./acrocentric_inferred\\B.Orang_chr15_UBF_1004-1.tif"
          ],
          [
           "./acrocentric_inferred\\B.Orang_chr15_UBF_1005-1.tif"
          ],
          [
           "./acrocentric_inferred\\B.Orang_chr15_UBF_1006-1.tif"
          ],
          [
           "./acrocentric_inferred\\B.Orang_chr15_UBF_1008-1.tif"
          ],
          [
           "./acrocentric_inferred\\B.Orang_chr15_UBF_1009-1.tif"
          ],
          [
           "./acrocentric_inferred\\B.Orang_chr15_UBF_1010-1.tif"
          ],
          [
           "./acrocentric_inferred\\B.Orang_chr15_UBF_1011-1.tif"
          ],
          [
           "./acrocentric_inferred\\B.Orang_chr15_UBF_1012-1.tif"
          ],
          [
           "./acrocentric_inferred\\B.Orang_chr15_UBF_1013-1.tif"
          ],
          [
           "./acrocentric_inferred\\B.Orang_chr15_UBF_1014-1.tif"
          ],
          [
           "./acrocentric_inferred\\B.Orang_chr15_UBF_1015-1.tif"
          ],
          [
           "./acrocentric_inferred\\B.Orang_chr15_UBF_1017-1.tif"
          ],
          [
           "./acrocentric_inferred\\B.Orang_chr15_UBF_1018-1.tif"
          ],
          [
           "./acrocentric_inferred\\B.Orang_chr15_UBF_1019-1.tif"
          ],
          [
           "./acrocentric_inferred\\B.Orang_chr15_UBF_1020-1.tif"
          ],
          [
           "./acrocentric_inferred\\B.Orang_chr18_UBF_1001-1.tif"
          ],
          [
           "./acrocentric_inferred\\B.Orang_chr18_UBF_1003-1.tif"
          ],
          [
           "./acrocentric_inferred\\B.Orang_chr18_UBF_1004-1.tif"
          ],
          [
           "./acrocentric_inferred\\B.Orang_chr18_UBF_1005-1.tif"
          ],
          [
           "./acrocentric_inferred\\B.Orang_chr18_UBF_1007-1.tif"
          ],
          [
           "./acrocentric_inferred\\B.Orang_chr18_UBF_1008-1.tif"
          ],
          [
           "./acrocentric_inferred\\B.Orang_chr18_UBF_1009-1.tif"
          ],
          [
           "./acrocentric_inferred\\B.Orang_chr18_UBF_1010-1.tif"
          ],
          [
           "./acrocentric_inferred\\B.Orang_chr18_UBF_1012-1.tif"
          ],
          [
           "./acrocentric_inferred\\B.Orang_chr18_UBF_1013-1.tif"
          ],
          [
           "./acrocentric_inferred\\B.Orang_chr18_UBF_1016-1.tif"
          ],
          [
           "./acrocentric_inferred\\B.Orang_chr18_UBF_1017-1.tif"
          ],
          [
           "./acrocentric_inferred\\B.Orang_chr18_UBF_1018-1.tif"
          ],
          [
           "./acrocentric_inferred\\B.Orang_chr18_UBF_1019-1.tif"
          ],
          [
           "./acrocentric_inferred\\B.Orang_chr18_UBF_1020-1.tif"
          ],
          [
           "./acrocentric_inferred\\B.Orang_chr21_UBF_1002-1.tif"
          ],
          [
           "./acrocentric_inferred\\B.Orang_chr21_UBF_1004-1.tif"
          ],
          [
           "./acrocentric_inferred\\B.Orang_chr21_UBF_1005-1.tif"
          ],
          [
           "./acrocentric_inferred\\B.Orang_chr21_UBF_1007-1.tif"
          ],
          [
           "./acrocentric_inferred\\B.Orang_chr21_UBF_1009-1.tif"
          ],
          [
           "./acrocentric_inferred\\B.Orang_chr21_UBF_1010-1.tif"
          ],
          [
           "./acrocentric_inferred\\B.Orang_chr21_UBF_1011-1.tif"
          ],
          [
           "./acrocentric_inferred\\B.Orang_chr21_UBF_1012-1.tif"
          ],
          [
           "./acrocentric_inferred\\B.Orang_chr21_UBF_1013-1.tif"
          ],
          [
           "./acrocentric_inferred\\B.Orang_chr21_UBF_1014-1.tif"
          ],
          [
           "./acrocentric_inferred\\B.Orang_chr21_UBF_1015-1.tif"
          ],
          [
           "./acrocentric_inferred\\B.Orang_chr21_UBF_1016-1.tif"
          ],
          [
           "./acrocentric_inferred\\B.Orang_chr21_UBF_1018-1.tif"
          ],
          [
           "./acrocentric_inferred\\B.Orang_chr21_UBF_1019-1.tif"
          ],
          [
           "./acrocentric_inferred\\B.Orang_chr22_UBF_1001-1.tif"
          ],
          [
           "./acrocentric_inferred\\B.Orang_chr22_UBF_1002-1.tif"
          ],
          [
           "./acrocentric_inferred\\B.Orang_chr22_UBF_1004-1.tif"
          ],
          [
           "./acrocentric_inferred\\B.Orang_chr22_UBF_1005-1.tif"
          ],
          [
           "./acrocentric_inferred\\B.Orang_chr22_UBF_1006-1.tif"
          ],
          [
           "./acrocentric_inferred\\B.Orang_chr22_UBF_1007-1.tif"
          ],
          [
           "./acrocentric_inferred\\B.Orang_chr22_UBF_1008-1.tif"
          ],
          [
           "./acrocentric_inferred\\B.Orang_chr22_UBF_1009-1.tif"
          ],
          [
           "./acrocentric_inferred\\B.Orang_chr22_UBF_1010-1.tif"
          ],
          [
           "./acrocentric_inferred\\B.Orang_chr22_UBF_1011-1.tif"
          ],
          [
           "./acrocentric_inferred\\B.Orang_chr22_UBF_1013-1.tif"
          ],
          [
           "./acrocentric_inferred\\B.Orang_chr22_UBF_1014-1.tif"
          ],
          [
           "./acrocentric_inferred\\B.Orang_chr22_UBF_1015-1.tif"
          ],
          [
           "./acrocentric_inferred\\B.Orang_chr22_UBF_1017-1.tif"
          ],
          [
           "./acrocentric_inferred\\B.Orang_chr22_UBF_1018-1.tif"
          ],
          [
           "./acrocentric_inferred\\B.Orang_chr22_UBF_1019-1.tif"
          ],
          [
           "./acrocentric_inferred\\B.Orang_chr22_UBF_1020-1.tif"
          ],
          [
           "./acrocentric_inferred\\B.Orang_chr2_UBF_1003-1.tif"
          ],
          [
           "./acrocentric_inferred\\B.Orang_chr2_UBF_1004-1.tif"
          ],
          [
           "./acrocentric_inferred\\B.Orang_chr2_UBF_1007-1.tif"
          ],
          [
           "./acrocentric_inferred\\B.Orang_chr2_UBF_1008-1.tif"
          ],
          [
           "./acrocentric_inferred\\B.Orang_chr2_UBF_1010-1.tif"
          ],
          [
           "./acrocentric_inferred\\B.Orang_chr2_UBF_1011-1.tif"
          ],
          [
           "./acrocentric_inferred\\B.Orang_chr2_UBF_1012-1.tif"
          ],
          [
           "./acrocentric_inferred\\B.Orang_chr2_UBF_1014-1.tif"
          ],
          [
           "./acrocentric_inferred\\B.Orang_chr2_UBF_1015-1.tif"
          ],
          [
           "./acrocentric_inferred\\B.Orang_chr2_UBF_1017-1.tif"
          ],
          [
           "./acrocentric_inferred\\B.Orang_chr2_UBF_1018-2.tif"
          ],
          [
           "./acrocentric_inferred\\B.Orang_chr2_UBF_1018.tif"
          ],
          [
           "./acrocentric_inferred\\B.Orang_chr2_UBF_1020-1.tif"
          ],
          [
           "./acrocentric_inferred\\B.Orang_chr2_UBF_1021-1.tif"
          ],
          [
           "./acrocentric_inferred\\B.Orang_chr2_UBF_1022-1.tif"
          ],
          [
           "./acrocentric_inferred\\B.Orang_chr2_UBF_1025-1.tif"
          ],
          [
           "./acrocentric_inferred\\B.Orang_chr2_UBF_1026-1.tif"
          ],
          [
           "./acrocentric_inferred\\B.Orang_chr9_UBF_1009-1.tif"
          ],
          [
           "./acrocentric_inferred\\B.Orang_chr9_UBF_1014-1.tif"
          ],
          [
           "./acrocentric_inferred\\B.Orang_chr9_UBF_1017-1.tif"
          ],
          [
           "./acrocentric_inferred\\B.Orang_chr9_UBF_1017-2.tif"
          ],
          [
           "./acrocentric_inferred\\B.Orang_chr9_UBF_1018-1.tif"
          ],
          [
           "./acrocentric_inferred\\B.Orang_chr9_UBF_1019-1.tif"
          ],
          [
           "./acrocentric_inferred\\B.Orang_chr9_UBF_1020-1.tif"
          ],
          [
           "./acrocentric_inferred\\B.Orang_chr9_UBF_1021-1.tif"
          ],
          [
           "./acrocentric_inferred\\B.Orang_chr9_UBF_1022-1.tif"
          ],
          [
           "./acrocentric_inferred\\B.Orang_chr9_UBF_1024-1.tif"
          ],
          [
           "./acrocentric_inferred\\B.Orang_chr9_UBF_1025-1.tif"
          ],
          [
           "./acrocentric_inferred\\B.Orang_chr9_UBF_1026-1.tif"
          ],
          [
           "./acrocentric_inferred\\B.Orang_chr9_UBF_1027-1.tif"
          ],
          [
           "./acrocentric_inferred\\B.Orang_chr9_UBF_1028-1.tif"
          ],
          [
           "./acrocentric_inferred\\B.Orang_chr9_UBF_1029-1.tif"
          ],
          [
           "./acrocentric_inferred\\B.Orang_chr9_UBF_1030-1.tif"
          ],
          [
           "./acrocentric_inferred\\B.Orang_chr9_UBF_1031-1.tif"
          ],
          [
           "./acrocentric_inferred\\B.Orang_chr9_UBF_1032-1.tif"
          ],
          [
           "./acrocentric_inferred\\B.Orang_chr9_UBF_1033-1.tif"
          ],
          [
           "./acrocentric_inferred\\B.Orang_chr9_UBF_1034-1.tif"
          ],
          [
           "./acrocentric_inferred\\B.Orang_chr9_UBF_1035-1.tif"
          ],
          [
           "./acrocentric_inferred\\B.Orang_chr2_UBF_1001-1.tif"
          ],
          [
           "./acrocentric_inferred\\B.Orang_chr2_UBF_1013-1.tif"
          ],
          [
           "./acrocentric_inferred\\B.Orang_chr2_UBF_1016-1.tif"
          ],
          [
           "./acrocentric_inferred\\B.Orang_chr2_UBF_1024-1.tif"
          ]
         ],
         "hovertemplate": "UBFRank=1.0<br>Chromosome=%{x}<br>UBF_IntDens=%{y}<br>File=%{customdata[0]}<extra></extra>",
         "legendgroup": "1.0",
         "marker": {
          "color": "#636efa"
         },
         "name": "1.0",
         "notched": false,
         "offsetgroup": "1.0",
         "orientation": "v",
         "showlegend": true,
         "type": "box",
         "x": [
          "chr13",
          "chr13",
          "chr13",
          "chr13",
          "chr13",
          "chr13",
          "chr13",
          "chr13",
          "chr13",
          "chr13",
          "chr13",
          "chr13",
          "chr13",
          "chr13",
          "chr14",
          "chr14",
          "chr14",
          "chr14",
          "chr14",
          "chr14",
          "chr14",
          "chr14",
          "chr14",
          "chr14",
          "chr14",
          "chr14",
          "chr14",
          "chr14",
          "chr14",
          "chr14",
          "chr14",
          "chr14",
          "chr14",
          "chr15",
          "chr15",
          "chr15",
          "chr15",
          "chr15",
          "chr15",
          "chr15",
          "chr15",
          "chr15",
          "chr15",
          "chr15",
          "chr15",
          "chr15",
          "chr15",
          "chr15",
          "chr15",
          "chr15",
          "chr18",
          "chr18",
          "chr18",
          "chr18",
          "chr18",
          "chr18",
          "chr18",
          "chr18",
          "chr18",
          "chr18",
          "chr18",
          "chr18",
          "chr18",
          "chr18",
          "chr18",
          "chr21",
          "chr21",
          "chr21",
          "chr21",
          "chr21",
          "chr21",
          "chr21",
          "chr21",
          "chr21",
          "chr21",
          "chr21",
          "chr21",
          "chr21",
          "chr21",
          "chr22",
          "chr22",
          "chr22",
          "chr22",
          "chr22",
          "chr22",
          "chr22",
          "chr22",
          "chr22",
          "chr22",
          "chr22",
          "chr22",
          "chr22",
          "chr22",
          "chr22",
          "chr22",
          "chr22",
          "chr2",
          "chr2",
          "chr2",
          "chr2",
          "chr2",
          "chr2",
          "chr2",
          "chr2",
          "chr2",
          "chr2",
          "chr2",
          "chr2",
          "chr2",
          "chr2",
          "chr2",
          "chr2",
          "chr2",
          "chr9",
          "chr9",
          "chr9",
          "chr9",
          "chr9",
          "chr9",
          "chr9",
          "chr9",
          "chr9",
          "chr9",
          "chr9",
          "chr9",
          "chr9",
          "chr9",
          "chr9",
          "chr9",
          "chr9",
          "chr9",
          "chr9",
          "chr9",
          "chr9",
          "chr2",
          "chr2",
          "chr2",
          "chr2"
         ],
         "x0": " ",
         "xaxis": "x",
         "y": [
          0.2888539749555275,
          0.2701516552661139,
          0.2756926704228278,
          0.2488118361121976,
          0.1957881486571538,
          0.2922804594734273,
          0.1886163148184024,
          0.2381790315079949,
          0.1797755092746835,
          0.2444551503463873,
          0.3623072192882151,
          0.2777687382481968,
          0.3252343690193486,
          0.3836005026191456,
          0.1482267496910874,
          0.2044546824307384,
          0.2493668579772888,
          0,
          0.0503496670666594,
          0.0791463022639403,
          0.1142102971200413,
          0.1335537240357352,
          0.1355516635580645,
          0.1035041197548383,
          0.1036719691138647,
          0.1457987073218984,
          0.1592845011867559,
          0.140874230669987,
          0.0942640783399867,
          0.2177735543892211,
          0.0803344599542546,
          0.2073937901994149,
          0.2141912975960496,
          -0.0012836177555357,
          -0.0010140149381554,
          0.0001886292683017,
          0.0013679488322877,
          0.0751394313005486,
          0.0007426642872896,
          -0.0082787462232513,
          0.0082021881675871,
          -0.0004929821882245,
          -0.0054595226518132,
          -0.0109596250098603,
          -0.0022546236129814,
          -0.0048534407243849,
          0.0025063991116481,
          0.0023662854764455,
          -0.000204789741522,
          0.0060773283827986,
          0.0552535181451818,
          0.1009841605176197,
          0.0792438398434475,
          0.1305088163407591,
          0.0520450075754485,
          0.050507025859264,
          0.0833350309259956,
          0.0420242120847541,
          0.1169323321854754,
          0.1426232386572486,
          0.0586967231455104,
          0.1734518632302909,
          0.0582261079340401,
          0.066644279753956,
          0.0563531284329421,
          0.0003910477097188,
          0.0159511617137027,
          0,
          0.2085855226205218,
          0.0129386824839505,
          0,
          0,
          0.1870862134706874,
          0.0001879017621061,
          -0.0001025658737173,
          0.0009741901882288,
          0,
          0.0121231039671349,
          0.0264242254872477,
          0.0532889578364969,
          -0.002517519516333,
          0.0593506224524622,
          0.0829616831367753,
          0.0452946319664728,
          0.0910168418893878,
          0.0975648722747205,
          0.0801009700126271,
          0.0903749926471084,
          0.0613393665158371,
          0.1220919093476179,
          0.0616333425640812,
          0.0566851167258256,
          0.095699269370206,
          0.0773533858011598,
          0.1135762029189521,
          0,
          0.125897968884716,
          0.1229672948200174,
          0.1377220324906768,
          0.1197334668654134,
          0.1155544816129275,
          0.1880285912019438,
          0.1247442389341986,
          0.1365907478520807,
          0.1336672313035267,
          0.1272293036443318,
          0.309115711977211,
          0.182036203583399,
          0.1436497641229209,
          0.2470611948320825,
          0.2211129067664443,
          0.2584500118146975,
          0.2025288461907046,
          0.0298075855689176,
          0.0095399618401526,
          0.0268571681225879,
          0.0128854429691244,
          0.0454709085330269,
          0.020375826696557,
          0.0160816480739875,
          -0.0014790187866928,
          0.0562662024782069,
          0.0256041783056634,
          0.147677328940875,
          0.0311606673948107,
          0.0305925737307148,
          0.0300700093111859,
          0.0151831694670737,
          0.0365990562179329,
          0.037150185585926,
          0.1902178564802188,
          0.0293995512318061,
          0.0114617903690191,
          0.1375422311832339,
          0.2737390353291383,
          0.088152250543762,
          0.1367562695283977,
          0.2108380067958858
         ],
         "y0": " ",
         "yaxis": "y"
        },
        {
         "alignmentgroup": "True",
         "boxpoints": "all",
         "customdata": [
          [
           "./acrocentric_inferred\\B.Orang_chr13_UBF_1001-1.tif"
          ],
          [
           "./acrocentric_inferred\\B.Orang_chr13_UBF_1002-1.tif"
          ],
          [
           "./acrocentric_inferred\\B.Orang_chr13_UBF_1003-1.tif"
          ],
          [
           "./acrocentric_inferred\\B.Orang_chr13_UBF_1006-1.tif"
          ],
          [
           "./acrocentric_inferred\\B.Orang_chr13_UBF_1009-1.tif"
          ],
          [
           "./acrocentric_inferred\\B.Orang_chr13_UBF_1012-1.tif"
          ],
          [
           "./acrocentric_inferred\\B.Orang_chr13_UBF_1013-1.tif"
          ],
          [
           "./acrocentric_inferred\\B.Orang_chr13_UBF_1014-1.tif"
          ],
          [
           "./acrocentric_inferred\\B.Orang_chr13_UBF_1015-1.tif"
          ],
          [
           "./acrocentric_inferred\\B.Orang_chr13_UBF_1017-1.tif"
          ],
          [
           "./acrocentric_inferred\\B.Orang_chr13_UBF_1018-1.tif"
          ],
          [
           "./acrocentric_inferred\\B.Orang_chr13_UBF_1019-1.tif"
          ],
          [
           "./acrocentric_inferred\\B.Orang_chr13_UBF_1020-1.tif"
          ],
          [
           "./acrocentric_inferred\\B.Orang_chr13_UBF_1021-1.tif"
          ],
          [
           "./acrocentric_inferred\\B.Orang_chr14_UBF_1001-1.tif"
          ],
          [
           "./acrocentric_inferred\\B.Orang_chr14_UBF_1002-1.tif"
          ],
          [
           "./acrocentric_inferred\\B.Orang_chr14_UBF_1004-1.tif"
          ],
          [
           "./acrocentric_inferred\\B.Orang_chr14_UBF_1005-1.tif"
          ],
          [
           "./acrocentric_inferred\\B.Orang_chr14_UBF_1007-1.tif"
          ],
          [
           "./acrocentric_inferred\\B.Orang_chr14_UBF_1009-1.tif"
          ],
          [
           "./acrocentric_inferred\\B.Orang_chr14_UBF_1010-1.tif"
          ],
          [
           "./acrocentric_inferred\\B.Orang_chr14_UBF_1011-1.tif"
          ],
          [
           "./acrocentric_inferred\\B.Orang_chr14_UBF_1012-1.tif"
          ],
          [
           "./acrocentric_inferred\\B.Orang_chr14_UBF_1013-1.tif"
          ],
          [
           "./acrocentric_inferred\\B.Orang_chr14_UBF_1014-1.tif"
          ],
          [
           "./acrocentric_inferred\\B.Orang_chr14_UBF_1015-1.tif"
          ],
          [
           "./acrocentric_inferred\\B.Orang_chr14_UBF_1016-1.tif"
          ],
          [
           "./acrocentric_inferred\\B.Orang_chr14_UBF_1017-1.tif"
          ],
          [
           "./acrocentric_inferred\\B.Orang_chr14_UBF_1018-1.tif"
          ],
          [
           "./acrocentric_inferred\\B.Orang_chr14_UBF_1019-1.tif"
          ],
          [
           "./acrocentric_inferred\\B.Orang_chr14_UBF_1020-1.tif"
          ],
          [
           "./acrocentric_inferred\\B.Orang_chr14_UBF_1021-1.tif"
          ],
          [
           "./acrocentric_inferred\\B.Orang_chr14_UBF_1022-1.tif"
          ],
          [
           "./acrocentric_inferred\\B.Orang_chr15_UBF_1002-1.tif"
          ],
          [
           "./acrocentric_inferred\\B.Orang_chr15_UBF_1003-1.tif"
          ],
          [
           "./acrocentric_inferred\\B.Orang_chr15_UBF_1004-1.tif"
          ],
          [
           "./acrocentric_inferred\\B.Orang_chr15_UBF_1005-1.tif"
          ],
          [
           "./acrocentric_inferred\\B.Orang_chr15_UBF_1006-1.tif"
          ],
          [
           "./acrocentric_inferred\\B.Orang_chr15_UBF_1008-1.tif"
          ],
          [
           "./acrocentric_inferred\\B.Orang_chr15_UBF_1009-1.tif"
          ],
          [
           "./acrocentric_inferred\\B.Orang_chr15_UBF_1010-1.tif"
          ],
          [
           "./acrocentric_inferred\\B.Orang_chr15_UBF_1011-1.tif"
          ],
          [
           "./acrocentric_inferred\\B.Orang_chr15_UBF_1012-1.tif"
          ],
          [
           "./acrocentric_inferred\\B.Orang_chr15_UBF_1013-1.tif"
          ],
          [
           "./acrocentric_inferred\\B.Orang_chr15_UBF_1014-1.tif"
          ],
          [
           "./acrocentric_inferred\\B.Orang_chr15_UBF_1015-1.tif"
          ],
          [
           "./acrocentric_inferred\\B.Orang_chr15_UBF_1017-1.tif"
          ],
          [
           "./acrocentric_inferred\\B.Orang_chr15_UBF_1018-1.tif"
          ],
          [
           "./acrocentric_inferred\\B.Orang_chr15_UBF_1019-1.tif"
          ],
          [
           "./acrocentric_inferred\\B.Orang_chr15_UBF_1020-1.tif"
          ],
          [
           "./acrocentric_inferred\\B.Orang_chr18_UBF_1001-1.tif"
          ],
          [
           "./acrocentric_inferred\\B.Orang_chr18_UBF_1003-1.tif"
          ],
          [
           "./acrocentric_inferred\\B.Orang_chr18_UBF_1004-1.tif"
          ],
          [
           "./acrocentric_inferred\\B.Orang_chr18_UBF_1005-1.tif"
          ],
          [
           "./acrocentric_inferred\\B.Orang_chr18_UBF_1007-1.tif"
          ],
          [
           "./acrocentric_inferred\\B.Orang_chr18_UBF_1008-1.tif"
          ],
          [
           "./acrocentric_inferred\\B.Orang_chr18_UBF_1009-1.tif"
          ],
          [
           "./acrocentric_inferred\\B.Orang_chr18_UBF_1010-1.tif"
          ],
          [
           "./acrocentric_inferred\\B.Orang_chr18_UBF_1012-1.tif"
          ],
          [
           "./acrocentric_inferred\\B.Orang_chr18_UBF_1013-1.tif"
          ],
          [
           "./acrocentric_inferred\\B.Orang_chr18_UBF_1016-1.tif"
          ],
          [
           "./acrocentric_inferred\\B.Orang_chr18_UBF_1017-1.tif"
          ],
          [
           "./acrocentric_inferred\\B.Orang_chr18_UBF_1018-1.tif"
          ],
          [
           "./acrocentric_inferred\\B.Orang_chr18_UBF_1019-1.tif"
          ],
          [
           "./acrocentric_inferred\\B.Orang_chr18_UBF_1020-1.tif"
          ],
          [
           "./acrocentric_inferred\\B.Orang_chr21_UBF_1002-1.tif"
          ],
          [
           "./acrocentric_inferred\\B.Orang_chr21_UBF_1004-1.tif"
          ],
          [
           "./acrocentric_inferred\\B.Orang_chr21_UBF_1005-1.tif"
          ],
          [
           "./acrocentric_inferred\\B.Orang_chr21_UBF_1007-1.tif"
          ],
          [
           "./acrocentric_inferred\\B.Orang_chr21_UBF_1009-1.tif"
          ],
          [
           "./acrocentric_inferred\\B.Orang_chr21_UBF_1010-1.tif"
          ],
          [
           "./acrocentric_inferred\\B.Orang_chr21_UBF_1011-1.tif"
          ],
          [
           "./acrocentric_inferred\\B.Orang_chr21_UBF_1012-1.tif"
          ],
          [
           "./acrocentric_inferred\\B.Orang_chr21_UBF_1013-1.tif"
          ],
          [
           "./acrocentric_inferred\\B.Orang_chr21_UBF_1014-1.tif"
          ],
          [
           "./acrocentric_inferred\\B.Orang_chr21_UBF_1015-1.tif"
          ],
          [
           "./acrocentric_inferred\\B.Orang_chr21_UBF_1016-1.tif"
          ],
          [
           "./acrocentric_inferred\\B.Orang_chr21_UBF_1018-1.tif"
          ],
          [
           "./acrocentric_inferred\\B.Orang_chr21_UBF_1019-1.tif"
          ],
          [
           "./acrocentric_inferred\\B.Orang_chr22_UBF_1001-1.tif"
          ],
          [
           "./acrocentric_inferred\\B.Orang_chr22_UBF_1002-1.tif"
          ],
          [
           "./acrocentric_inferred\\B.Orang_chr22_UBF_1004-1.tif"
          ],
          [
           "./acrocentric_inferred\\B.Orang_chr22_UBF_1005-1.tif"
          ],
          [
           "./acrocentric_inferred\\B.Orang_chr22_UBF_1006-1.tif"
          ],
          [
           "./acrocentric_inferred\\B.Orang_chr22_UBF_1007-1.tif"
          ],
          [
           "./acrocentric_inferred\\B.Orang_chr22_UBF_1008-1.tif"
          ],
          [
           "./acrocentric_inferred\\B.Orang_chr22_UBF_1009-1.tif"
          ],
          [
           "./acrocentric_inferred\\B.Orang_chr22_UBF_1010-1.tif"
          ],
          [
           "./acrocentric_inferred\\B.Orang_chr22_UBF_1011-1.tif"
          ],
          [
           "./acrocentric_inferred\\B.Orang_chr22_UBF_1013-1.tif"
          ],
          [
           "./acrocentric_inferred\\B.Orang_chr22_UBF_1014-1.tif"
          ],
          [
           "./acrocentric_inferred\\B.Orang_chr22_UBF_1015-1.tif"
          ],
          [
           "./acrocentric_inferred\\B.Orang_chr22_UBF_1017-1.tif"
          ],
          [
           "./acrocentric_inferred\\B.Orang_chr22_UBF_1018-1.tif"
          ],
          [
           "./acrocentric_inferred\\B.Orang_chr22_UBF_1019-1.tif"
          ],
          [
           "./acrocentric_inferred\\B.Orang_chr22_UBF_1020-1.tif"
          ],
          [
           "./acrocentric_inferred\\B.Orang_chr2_UBF_1001-1.tif"
          ],
          [
           "./acrocentric_inferred\\B.Orang_chr2_UBF_1007-1.tif"
          ],
          [
           "./acrocentric_inferred\\B.Orang_chr2_UBF_1008-1.tif"
          ],
          [
           "./acrocentric_inferred\\B.Orang_chr2_UBF_1010-1.tif"
          ],
          [
           "./acrocentric_inferred\\B.Orang_chr2_UBF_1013-1.tif"
          ],
          [
           "./acrocentric_inferred\\B.Orang_chr2_UBF_1015-1.tif"
          ],
          [
           "./acrocentric_inferred\\B.Orang_chr2_UBF_1016-1.tif"
          ],
          [
           "./acrocentric_inferred\\B.Orang_chr2_UBF_1022-1.tif"
          ],
          [
           "./acrocentric_inferred\\B.Orang_chr2_UBF_1024-1.tif"
          ],
          [
           "./acrocentric_inferred\\B.Orang_chr2_UBF_1025-1.tif"
          ],
          [
           "./acrocentric_inferred\\B.Orang_chr9_UBF_1009-1.tif"
          ],
          [
           "./acrocentric_inferred\\B.Orang_chr9_UBF_1014-1.tif"
          ],
          [
           "./acrocentric_inferred\\B.Orang_chr9_UBF_1017-1.tif"
          ],
          [
           "./acrocentric_inferred\\B.Orang_chr9_UBF_1017-2.tif"
          ],
          [
           "./acrocentric_inferred\\B.Orang_chr9_UBF_1018-1.tif"
          ],
          [
           "./acrocentric_inferred\\B.Orang_chr9_UBF_1019-1.tif"
          ],
          [
           "./acrocentric_inferred\\B.Orang_chr9_UBF_1020-1.tif"
          ],
          [
           "./acrocentric_inferred\\B.Orang_chr9_UBF_1021-1.tif"
          ],
          [
           "./acrocentric_inferred\\B.Orang_chr9_UBF_1022-1.tif"
          ],
          [
           "./acrocentric_inferred\\B.Orang_chr9_UBF_1024-1.tif"
          ],
          [
           "./acrocentric_inferred\\B.Orang_chr9_UBF_1025-1.tif"
          ],
          [
           "./acrocentric_inferred\\B.Orang_chr9_UBF_1026-1.tif"
          ],
          [
           "./acrocentric_inferred\\B.Orang_chr9_UBF_1027-1.tif"
          ],
          [
           "./acrocentric_inferred\\B.Orang_chr9_UBF_1028-1.tif"
          ],
          [
           "./acrocentric_inferred\\B.Orang_chr9_UBF_1029-1.tif"
          ],
          [
           "./acrocentric_inferred\\B.Orang_chr9_UBF_1030-1.tif"
          ],
          [
           "./acrocentric_inferred\\B.Orang_chr9_UBF_1031-1.tif"
          ],
          [
           "./acrocentric_inferred\\B.Orang_chr9_UBF_1032-1.tif"
          ],
          [
           "./acrocentric_inferred\\B.Orang_chr9_UBF_1033-1.tif"
          ],
          [
           "./acrocentric_inferred\\B.Orang_chr9_UBF_1034-1.tif"
          ],
          [
           "./acrocentric_inferred\\B.Orang_chr9_UBF_1035-1.tif"
          ],
          [
           "./acrocentric_inferred\\B.Orang_chr2_UBF_1003-1.tif"
          ],
          [
           "./acrocentric_inferred\\B.Orang_chr2_UBF_1004-1.tif"
          ],
          [
           "./acrocentric_inferred\\B.Orang_chr2_UBF_1011-1.tif"
          ],
          [
           "./acrocentric_inferred\\B.Orang_chr2_UBF_1012-1.tif"
          ],
          [
           "./acrocentric_inferred\\B.Orang_chr2_UBF_1014-1.tif"
          ],
          [
           "./acrocentric_inferred\\B.Orang_chr2_UBF_1017-1.tif"
          ],
          [
           "./acrocentric_inferred\\B.Orang_chr2_UBF_1018-2.tif"
          ],
          [
           "./acrocentric_inferred\\B.Orang_chr2_UBF_1018.tif"
          ],
          [
           "./acrocentric_inferred\\B.Orang_chr2_UBF_1020-1.tif"
          ],
          [
           "./acrocentric_inferred\\B.Orang_chr2_UBF_1021-1.tif"
          ],
          [
           "./acrocentric_inferred\\B.Orang_chr2_UBF_1026-1.tif"
          ]
         ],
         "hovertemplate": "UBFRank=2.0<br>Chromosome=%{x}<br>UBF_IntDens=%{y}<br>File=%{customdata[0]}<extra></extra>",
         "legendgroup": "2.0",
         "marker": {
          "color": "#EF553B"
         },
         "name": "2.0",
         "notched": false,
         "offsetgroup": "2.0",
         "orientation": "v",
         "showlegend": true,
         "type": "box",
         "x": [
          "chr13",
          "chr13",
          "chr13",
          "chr13",
          "chr13",
          "chr13",
          "chr13",
          "chr13",
          "chr13",
          "chr13",
          "chr13",
          "chr13",
          "chr13",
          "chr13",
          "chr14",
          "chr14",
          "chr14",
          "chr14",
          "chr14",
          "chr14",
          "chr14",
          "chr14",
          "chr14",
          "chr14",
          "chr14",
          "chr14",
          "chr14",
          "chr14",
          "chr14",
          "chr14",
          "chr14",
          "chr14",
          "chr14",
          "chr15",
          "chr15",
          "chr15",
          "chr15",
          "chr15",
          "chr15",
          "chr15",
          "chr15",
          "chr15",
          "chr15",
          "chr15",
          "chr15",
          "chr15",
          "chr15",
          "chr15",
          "chr15",
          "chr15",
          "chr18",
          "chr18",
          "chr18",
          "chr18",
          "chr18",
          "chr18",
          "chr18",
          "chr18",
          "chr18",
          "chr18",
          "chr18",
          "chr18",
          "chr18",
          "chr18",
          "chr18",
          "chr21",
          "chr21",
          "chr21",
          "chr21",
          "chr21",
          "chr21",
          "chr21",
          "chr21",
          "chr21",
          "chr21",
          "chr21",
          "chr21",
          "chr21",
          "chr21",
          "chr22",
          "chr22",
          "chr22",
          "chr22",
          "chr22",
          "chr22",
          "chr22",
          "chr22",
          "chr22",
          "chr22",
          "chr22",
          "chr22",
          "chr22",
          "chr22",
          "chr22",
          "chr22",
          "chr22",
          "chr2",
          "chr2",
          "chr2",
          "chr2",
          "chr2",
          "chr2",
          "chr2",
          "chr2",
          "chr2",
          "chr2",
          "chr9",
          "chr9",
          "chr9",
          "chr9",
          "chr9",
          "chr9",
          "chr9",
          "chr9",
          "chr9",
          "chr9",
          "chr9",
          "chr9",
          "chr9",
          "chr9",
          "chr9",
          "chr9",
          "chr9",
          "chr9",
          "chr9",
          "chr9",
          "chr9",
          "chr2",
          "chr2",
          "chr2",
          "chr2",
          "chr2",
          "chr2",
          "chr2",
          "chr2",
          "chr2",
          "chr2",
          "chr2"
         ],
         "x0": " ",
         "xaxis": "x",
         "y": [
          0.2232308490449545,
          0.1910192093031876,
          0.1110166906064109,
          0.1809785818429702,
          0.1439929946395614,
          0.1749049971985431,
          0.1762988784741487,
          0.1767260097615776,
          0.1353306600257423,
          0,
          0.1648200808080275,
          0.2022559580783439,
          0.324607163092082,
          0.2251272885279243,
          -0.0035418674916929,
          -0.0032972188451676,
          0.0007788920260928,
          -0.0023636650674981,
          0.0132172300833318,
          0.0005635165092056,
          -0.0030186687378289,
          0.1047679608442142,
          -0.0010755058949677,
          -0.0027871433528882,
          0.0025999604214753,
          -0.0008618248890289,
          -0.0024028773485108,
          -0.0029024983472096,
          -0.0024842291895244,
          -0.003350730298257,
          -0.0017574318046014,
          -0.0027918932218318,
          -0.0073887248378065,
          -0.0055203820867644,
          -0.0032523386064055,
          -0.0042778992650631,
          0.0001205352778912,
          -0.0043698302885779,
          -0.0031542391215901,
          -0.0091200576726736,
          -0.0090014350113786,
          -0.001296247449015,
          -0.0116146265296988,
          -0.0167673085035871,
          -0.0093130085207845,
          -0.0062757285728468,
          0.0017199524516157,
          0.0005948874647765,
          -0.0004008989490176,
          -0.0053587139015203,
          0,
          -0.0005514685695541,
          0,
          0,
          0,
          0,
          0,
          0,
          0,
          0,
          0,
          0,
          0.0089156074404775,
          0,
          0,
          0,
          -0.0032423496317701,
          -0.0009762625097876,
          0.0008514598761207,
          -0.0009691491849721,
          -0.000961766616689,
          -0.0027456274433441,
          0.0108832031405076,
          0,
          -0.0004573600695354,
          0,
          -0.0003399301008443,
          0,
          0.025658000012435,
          -0.0028015616671965,
          -0.0067347017601138,
          -0.0005880095231705,
          0.0002095381845952,
          0,
          0,
          -0.0019343688497776,
          -0.0013585034874459,
          -0.0011325863759839,
          0,
          0,
          -0.0069482357174082,
          -0.0004876587972858,
          -0.0039287861611261,
          -0.0025573411685635,
          0.0048005250108134,
          -0.000007750476597321936,
          0,
          0.0673366912370098,
          0.0811571348299606,
          0.1125324070578167,
          0.0628634363506475,
          0.0003173872549612,
          0.0861693509082813,
          0.094053272807098,
          0.0911628401078253,
          0.0808711036529442,
          0.0047160037002775,
          0,
          -0.0007584897159111,
          0,
          0,
          -0.0055663998065398,
          0.0156756079925479,
          -0.0019241263362426,
          0.0382576950435334,
          0.0040547304650539,
          0.0212918827902367,
          0.015062429101696,
          0,
          0.0126287748310054,
          -0.0012722161229278,
          0,
          0.0165315438323514,
          0.0178598294851327,
          0.0175281209338367,
          -0.0001890151431899,
          0,
          0.0797729509268931,
          0.0842443439252585,
          0.1504520452293883,
          0.0540787115693439,
          0.0482585826947207,
          0.0976170995778397,
          0.1836091777384285,
          0.0654076433058724,
          0.0524287176217332,
          0.0435178319033304,
          0.1312670857526016
         ],
         "y0": " ",
         "yaxis": "y"
        },
        {
         "alignmentgroup": "True",
         "boxpoints": "all",
         "customdata": [
          [
           "./acrocentric_inferred\\B.Orang_chr2_UBF_1004-1.tif"
          ],
          [
           "./acrocentric_inferred\\B.Orang_chr2_UBF_1011-1.tif"
          ],
          [
           "./acrocentric_inferred\\B.Orang_chr2_UBF_1018.tif"
          ],
          [
           "./acrocentric_inferred\\B.Orang_chr2_UBF_1020-1.tif"
          ],
          [
           "./acrocentric_inferred\\B.Orang_chr2_UBF_1001-1.tif"
          ],
          [
           "./acrocentric_inferred\\B.Orang_chr2_UBF_1003-1.tif"
          ],
          [
           "./acrocentric_inferred\\B.Orang_chr2_UBF_1007-1.tif"
          ],
          [
           "./acrocentric_inferred\\B.Orang_chr2_UBF_1008-1.tif"
          ],
          [
           "./acrocentric_inferred\\B.Orang_chr2_UBF_1010-1.tif"
          ],
          [
           "./acrocentric_inferred\\B.Orang_chr2_UBF_1012-1.tif"
          ],
          [
           "./acrocentric_inferred\\B.Orang_chr2_UBF_1013-1.tif"
          ],
          [
           "./acrocentric_inferred\\B.Orang_chr2_UBF_1014-1.tif"
          ],
          [
           "./acrocentric_inferred\\B.Orang_chr2_UBF_1015-1.tif"
          ],
          [
           "./acrocentric_inferred\\B.Orang_chr2_UBF_1016-1.tif"
          ],
          [
           "./acrocentric_inferred\\B.Orang_chr2_UBF_1017-1.tif"
          ],
          [
           "./acrocentric_inferred\\B.Orang_chr2_UBF_1018-2.tif"
          ],
          [
           "./acrocentric_inferred\\B.Orang_chr2_UBF_1021-1.tif"
          ],
          [
           "./acrocentric_inferred\\B.Orang_chr2_UBF_1022-1.tif"
          ],
          [
           "./acrocentric_inferred\\B.Orang_chr2_UBF_1024-1.tif"
          ],
          [
           "./acrocentric_inferred\\B.Orang_chr2_UBF_1025-1.tif"
          ],
          [
           "./acrocentric_inferred\\B.Orang_chr2_UBF_1026-1.tif"
          ]
         ],
         "hovertemplate": "UBFRank=3.0<br>Chromosome=%{x}<br>UBF_IntDens=%{y}<br>File=%{customdata[0]}<extra></extra>",
         "legendgroup": "3.0",
         "marker": {
          "color": "#00cc96"
         },
         "name": "3.0",
         "notched": false,
         "offsetgroup": "3.0",
         "orientation": "v",
         "showlegend": true,
         "type": "box",
         "x": [
          "chr2",
          "chr2",
          "chr2",
          "chr2",
          "chr2",
          "chr2",
          "chr2",
          "chr2",
          "chr2",
          "chr2",
          "chr2",
          "chr2",
          "chr2",
          "chr2",
          "chr2",
          "chr2",
          "chr2",
          "chr2",
          "chr2",
          "chr2",
          "chr2"
         ],
         "x0": " ",
         "xaxis": "x",
         "y": [
          -0.0012337456637661,
          -0.0023762549161279,
          0.0402033258160358,
          -0.0003645378878561,
          -0.0024025124068113,
          -0.0012032000477631,
          0.036207863506314,
          -0.0017106187389124,
          -0.0028589695184877,
          -0.0049941982052671,
          -0.0008895322356932,
          -0.0005641814135531,
          0,
          -0.0008594191012411,
          0.00805280577109,
          -0.002114702989421,
          -0.0004401364640773,
          -0.0004623835235836,
          0.0032017091520192,
          -0.0009121346955612,
          0.0006554913693636
         ],
         "y0": " ",
         "yaxis": "y"
        },
        {
         "alignmentgroup": "True",
         "boxpoints": "all",
         "customdata": [
          [
           "./acrocentric_inferred\\B.Orang_chr2_UBF_1001-1.tif"
          ],
          [
           "./acrocentric_inferred\\B.Orang_chr2_UBF_1003-1.tif"
          ],
          [
           "./acrocentric_inferred\\B.Orang_chr2_UBF_1012-1.tif"
          ],
          [
           "./acrocentric_inferred\\B.Orang_chr2_UBF_1013-1.tif"
          ],
          [
           "./acrocentric_inferred\\B.Orang_chr2_UBF_1014-1.tif"
          ],
          [
           "./acrocentric_inferred\\B.Orang_chr2_UBF_1016-1.tif"
          ],
          [
           "./acrocentric_inferred\\B.Orang_chr2_UBF_1017-1.tif"
          ],
          [
           "./acrocentric_inferred\\B.Orang_chr2_UBF_1018-2.tif"
          ],
          [
           "./acrocentric_inferred\\B.Orang_chr2_UBF_1021-1.tif"
          ],
          [
           "./acrocentric_inferred\\B.Orang_chr2_UBF_1024-1.tif"
          ],
          [
           "./acrocentric_inferred\\B.Orang_chr2_UBF_1026-1.tif"
          ],
          [
           "./acrocentric_inferred\\B.Orang_chr2_UBF_1004-1.tif"
          ],
          [
           "./acrocentric_inferred\\B.Orang_chr2_UBF_1007-1.tif"
          ],
          [
           "./acrocentric_inferred\\B.Orang_chr2_UBF_1008-1.tif"
          ],
          [
           "./acrocentric_inferred\\B.Orang_chr2_UBF_1010-1.tif"
          ],
          [
           "./acrocentric_inferred\\B.Orang_chr2_UBF_1011-1.tif"
          ],
          [
           "./acrocentric_inferred\\B.Orang_chr2_UBF_1015-1.tif"
          ],
          [
           "./acrocentric_inferred\\B.Orang_chr2_UBF_1018.tif"
          ],
          [
           "./acrocentric_inferred\\B.Orang_chr2_UBF_1020-1.tif"
          ],
          [
           "./acrocentric_inferred\\B.Orang_chr2_UBF_1022-1.tif"
          ],
          [
           "./acrocentric_inferred\\B.Orang_chr2_UBF_1025-1.tif"
          ]
         ],
         "hovertemplate": "UBFRank=4.0<br>Chromosome=%{x}<br>UBF_IntDens=%{y}<br>File=%{customdata[0]}<extra></extra>",
         "legendgroup": "4.0",
         "marker": {
          "color": "#ab63fa"
         },
         "name": "4.0",
         "notched": false,
         "offsetgroup": "4.0",
         "orientation": "v",
         "showlegend": true,
         "type": "box",
         "x": [
          "chr2",
          "chr2",
          "chr2",
          "chr2",
          "chr2",
          "chr2",
          "chr2",
          "chr2",
          "chr2",
          "chr2",
          "chr2",
          "chr2",
          "chr2",
          "chr2",
          "chr2",
          "chr2",
          "chr2",
          "chr2",
          "chr2",
          "chr2",
          "chr2"
         ],
         "x0": " ",
         "xaxis": "x",
         "y": [
          -0.0026145676000581,
          -0.0013409544295237,
          -0.0135896651583108,
          -0.002553582309172,
          -0.003141354342245,
          -0.0040144905130057,
          -0.0047014046287894,
          -0.0032050022579804,
          -0.0015396999980092,
          0,
          -0.0002140741044345,
          -0.0018145221834082,
          -0.0037466719057553,
          -0.0032571565035657,
          -0.0046426539807193,
          -0.0026067063141422,
          -0.00133647990729,
          0.0005401829672908,
          -0.0020213998383342,
          -0.0004702673879139,
          -0.0049406461638278
         ],
         "y0": " ",
         "yaxis": "y"
        },
        {
         "alignmentgroup": "True",
         "boxpoints": "all",
         "customdata": [
          [
           "./acrocentric_inferred\\B.Orang_chr13_UBF_1011-1.tif"
          ],
          [
           "./acrocentric_inferred\\B.Orang_chr13_UBF_1011-1.tif"
          ],
          [
           "./acrocentric_inferred\\B.Orang_chr18_UBF_1015-1.tif"
          ],
          [
           "./acrocentric_inferred\\B.Orang_chr18_UBF_1015-1.tif"
          ],
          [
           "./acrocentric_inferred\\B.Orang_chr9_UBF_1004-1.tif"
          ],
          [
           "./acrocentric_inferred\\B.Orang_chr9_UBF_1004-1.tif"
          ],
          [
           "./acrocentric_inferred\\B.Orang_chr9_UBF_1016-1.tif"
          ],
          [
           "./acrocentric_inferred\\B.Orang_chr9_UBF_1016-1.tif"
          ]
         ],
         "hovertemplate": "UBFRank=1.5<br>Chromosome=%{x}<br>UBF_IntDens=%{y}<br>File=%{customdata[0]}<extra></extra>",
         "legendgroup": "1.5",
         "marker": {
          "color": "#FFA15A"
         },
         "name": "1.5",
         "notched": false,
         "offsetgroup": "1.5",
         "orientation": "v",
         "showlegend": true,
         "type": "box",
         "x": [
          "chr13",
          "chr13",
          "chr18",
          "chr18",
          "chr9",
          "chr9",
          "chr9",
          "chr9"
         ],
         "x0": " ",
         "xaxis": "x",
         "y": [
          0,
          0,
          0,
          0,
          0,
          0,
          0,
          0
         ],
         "y0": " ",
         "yaxis": "y"
        }
       ],
       "layout": {
        "boxmode": "group",
        "legend": {
         "title": {
          "text": "UBFRank"
         },
         "tracegroupgap": 0
        },
        "margin": {
         "t": 60
        },
        "template": {
         "data": {
          "bar": [
           {
            "error_x": {
             "color": "#2a3f5f"
            },
            "error_y": {
             "color": "#2a3f5f"
            },
            "marker": {
             "line": {
              "color": "#E5ECF6",
              "width": 0.5
             },
             "pattern": {
              "fillmode": "overlay",
              "size": 10,
              "solidity": 0.2
             }
            },
            "type": "bar"
           }
          ],
          "barpolar": [
           {
            "marker": {
             "line": {
              "color": "#E5ECF6",
              "width": 0.5
             },
             "pattern": {
              "fillmode": "overlay",
              "size": 10,
              "solidity": 0.2
             }
            },
            "type": "barpolar"
           }
          ],
          "carpet": [
           {
            "aaxis": {
             "endlinecolor": "#2a3f5f",
             "gridcolor": "white",
             "linecolor": "white",
             "minorgridcolor": "white",
             "startlinecolor": "#2a3f5f"
            },
            "baxis": {
             "endlinecolor": "#2a3f5f",
             "gridcolor": "white",
             "linecolor": "white",
             "minorgridcolor": "white",
             "startlinecolor": "#2a3f5f"
            },
            "type": "carpet"
           }
          ],
          "choropleth": [
           {
            "colorbar": {
             "outlinewidth": 0,
             "ticks": ""
            },
            "type": "choropleth"
           }
          ],
          "contour": [
           {
            "colorbar": {
             "outlinewidth": 0,
             "ticks": ""
            },
            "colorscale": [
             [
              0,
              "#0d0887"
             ],
             [
              0.1111111111111111,
              "#46039f"
             ],
             [
              0.2222222222222222,
              "#7201a8"
             ],
             [
              0.3333333333333333,
              "#9c179e"
             ],
             [
              0.4444444444444444,
              "#bd3786"
             ],
             [
              0.5555555555555556,
              "#d8576b"
             ],
             [
              0.6666666666666666,
              "#ed7953"
             ],
             [
              0.7777777777777778,
              "#fb9f3a"
             ],
             [
              0.8888888888888888,
              "#fdca26"
             ],
             [
              1,
              "#f0f921"
             ]
            ],
            "type": "contour"
           }
          ],
          "contourcarpet": [
           {
            "colorbar": {
             "outlinewidth": 0,
             "ticks": ""
            },
            "type": "contourcarpet"
           }
          ],
          "heatmap": [
           {
            "colorbar": {
             "outlinewidth": 0,
             "ticks": ""
            },
            "colorscale": [
             [
              0,
              "#0d0887"
             ],
             [
              0.1111111111111111,
              "#46039f"
             ],
             [
              0.2222222222222222,
              "#7201a8"
             ],
             [
              0.3333333333333333,
              "#9c179e"
             ],
             [
              0.4444444444444444,
              "#bd3786"
             ],
             [
              0.5555555555555556,
              "#d8576b"
             ],
             [
              0.6666666666666666,
              "#ed7953"
             ],
             [
              0.7777777777777778,
              "#fb9f3a"
             ],
             [
              0.8888888888888888,
              "#fdca26"
             ],
             [
              1,
              "#f0f921"
             ]
            ],
            "type": "heatmap"
           }
          ],
          "heatmapgl": [
           {
            "colorbar": {
             "outlinewidth": 0,
             "ticks": ""
            },
            "colorscale": [
             [
              0,
              "#0d0887"
             ],
             [
              0.1111111111111111,
              "#46039f"
             ],
             [
              0.2222222222222222,
              "#7201a8"
             ],
             [
              0.3333333333333333,
              "#9c179e"
             ],
             [
              0.4444444444444444,
              "#bd3786"
             ],
             [
              0.5555555555555556,
              "#d8576b"
             ],
             [
              0.6666666666666666,
              "#ed7953"
             ],
             [
              0.7777777777777778,
              "#fb9f3a"
             ],
             [
              0.8888888888888888,
              "#fdca26"
             ],
             [
              1,
              "#f0f921"
             ]
            ],
            "type": "heatmapgl"
           }
          ],
          "histogram": [
           {
            "marker": {
             "pattern": {
              "fillmode": "overlay",
              "size": 10,
              "solidity": 0.2
             }
            },
            "type": "histogram"
           }
          ],
          "histogram2d": [
           {
            "colorbar": {
             "outlinewidth": 0,
             "ticks": ""
            },
            "colorscale": [
             [
              0,
              "#0d0887"
             ],
             [
              0.1111111111111111,
              "#46039f"
             ],
             [
              0.2222222222222222,
              "#7201a8"
             ],
             [
              0.3333333333333333,
              "#9c179e"
             ],
             [
              0.4444444444444444,
              "#bd3786"
             ],
             [
              0.5555555555555556,
              "#d8576b"
             ],
             [
              0.6666666666666666,
              "#ed7953"
             ],
             [
              0.7777777777777778,
              "#fb9f3a"
             ],
             [
              0.8888888888888888,
              "#fdca26"
             ],
             [
              1,
              "#f0f921"
             ]
            ],
            "type": "histogram2d"
           }
          ],
          "histogram2dcontour": [
           {
            "colorbar": {
             "outlinewidth": 0,
             "ticks": ""
            },
            "colorscale": [
             [
              0,
              "#0d0887"
             ],
             [
              0.1111111111111111,
              "#46039f"
             ],
             [
              0.2222222222222222,
              "#7201a8"
             ],
             [
              0.3333333333333333,
              "#9c179e"
             ],
             [
              0.4444444444444444,
              "#bd3786"
             ],
             [
              0.5555555555555556,
              "#d8576b"
             ],
             [
              0.6666666666666666,
              "#ed7953"
             ],
             [
              0.7777777777777778,
              "#fb9f3a"
             ],
             [
              0.8888888888888888,
              "#fdca26"
             ],
             [
              1,
              "#f0f921"
             ]
            ],
            "type": "histogram2dcontour"
           }
          ],
          "mesh3d": [
           {
            "colorbar": {
             "outlinewidth": 0,
             "ticks": ""
            },
            "type": "mesh3d"
           }
          ],
          "parcoords": [
           {
            "line": {
             "colorbar": {
              "outlinewidth": 0,
              "ticks": ""
             }
            },
            "type": "parcoords"
           }
          ],
          "pie": [
           {
            "automargin": true,
            "type": "pie"
           }
          ],
          "scatter": [
           {
            "fillpattern": {
             "fillmode": "overlay",
             "size": 10,
             "solidity": 0.2
            },
            "type": "scatter"
           }
          ],
          "scatter3d": [
           {
            "line": {
             "colorbar": {
              "outlinewidth": 0,
              "ticks": ""
             }
            },
            "marker": {
             "colorbar": {
              "outlinewidth": 0,
              "ticks": ""
             }
            },
            "type": "scatter3d"
           }
          ],
          "scattercarpet": [
           {
            "marker": {
             "colorbar": {
              "outlinewidth": 0,
              "ticks": ""
             }
            },
            "type": "scattercarpet"
           }
          ],
          "scattergeo": [
           {
            "marker": {
             "colorbar": {
              "outlinewidth": 0,
              "ticks": ""
             }
            },
            "type": "scattergeo"
           }
          ],
          "scattergl": [
           {
            "marker": {
             "colorbar": {
              "outlinewidth": 0,
              "ticks": ""
             }
            },
            "type": "scattergl"
           }
          ],
          "scattermapbox": [
           {
            "marker": {
             "colorbar": {
              "outlinewidth": 0,
              "ticks": ""
             }
            },
            "type": "scattermapbox"
           }
          ],
          "scatterpolar": [
           {
            "marker": {
             "colorbar": {
              "outlinewidth": 0,
              "ticks": ""
             }
            },
            "type": "scatterpolar"
           }
          ],
          "scatterpolargl": [
           {
            "marker": {
             "colorbar": {
              "outlinewidth": 0,
              "ticks": ""
             }
            },
            "type": "scatterpolargl"
           }
          ],
          "scatterternary": [
           {
            "marker": {
             "colorbar": {
              "outlinewidth": 0,
              "ticks": ""
             }
            },
            "type": "scatterternary"
           }
          ],
          "surface": [
           {
            "colorbar": {
             "outlinewidth": 0,
             "ticks": ""
            },
            "colorscale": [
             [
              0,
              "#0d0887"
             ],
             [
              0.1111111111111111,
              "#46039f"
             ],
             [
              0.2222222222222222,
              "#7201a8"
             ],
             [
              0.3333333333333333,
              "#9c179e"
             ],
             [
              0.4444444444444444,
              "#bd3786"
             ],
             [
              0.5555555555555556,
              "#d8576b"
             ],
             [
              0.6666666666666666,
              "#ed7953"
             ],
             [
              0.7777777777777778,
              "#fb9f3a"
             ],
             [
              0.8888888888888888,
              "#fdca26"
             ],
             [
              1,
              "#f0f921"
             ]
            ],
            "type": "surface"
           }
          ],
          "table": [
           {
            "cells": {
             "fill": {
              "color": "#EBF0F8"
             },
             "line": {
              "color": "white"
             }
            },
            "header": {
             "fill": {
              "color": "#C8D4E3"
             },
             "line": {
              "color": "white"
             }
            },
            "type": "table"
           }
          ]
         },
         "layout": {
          "annotationdefaults": {
           "arrowcolor": "#2a3f5f",
           "arrowhead": 0,
           "arrowwidth": 1
          },
          "autotypenumbers": "strict",
          "coloraxis": {
           "colorbar": {
            "outlinewidth": 0,
            "ticks": ""
           }
          },
          "colorscale": {
           "diverging": [
            [
             0,
             "#8e0152"
            ],
            [
             0.1,
             "#c51b7d"
            ],
            [
             0.2,
             "#de77ae"
            ],
            [
             0.3,
             "#f1b6da"
            ],
            [
             0.4,
             "#fde0ef"
            ],
            [
             0.5,
             "#f7f7f7"
            ],
            [
             0.6,
             "#e6f5d0"
            ],
            [
             0.7,
             "#b8e186"
            ],
            [
             0.8,
             "#7fbc41"
            ],
            [
             0.9,
             "#4d9221"
            ],
            [
             1,
             "#276419"
            ]
           ],
           "sequential": [
            [
             0,
             "#0d0887"
            ],
            [
             0.1111111111111111,
             "#46039f"
            ],
            [
             0.2222222222222222,
             "#7201a8"
            ],
            [
             0.3333333333333333,
             "#9c179e"
            ],
            [
             0.4444444444444444,
             "#bd3786"
            ],
            [
             0.5555555555555556,
             "#d8576b"
            ],
            [
             0.6666666666666666,
             "#ed7953"
            ],
            [
             0.7777777777777778,
             "#fb9f3a"
            ],
            [
             0.8888888888888888,
             "#fdca26"
            ],
            [
             1,
             "#f0f921"
            ]
           ],
           "sequentialminus": [
            [
             0,
             "#0d0887"
            ],
            [
             0.1111111111111111,
             "#46039f"
            ],
            [
             0.2222222222222222,
             "#7201a8"
            ],
            [
             0.3333333333333333,
             "#9c179e"
            ],
            [
             0.4444444444444444,
             "#bd3786"
            ],
            [
             0.5555555555555556,
             "#d8576b"
            ],
            [
             0.6666666666666666,
             "#ed7953"
            ],
            [
             0.7777777777777778,
             "#fb9f3a"
            ],
            [
             0.8888888888888888,
             "#fdca26"
            ],
            [
             1,
             "#f0f921"
            ]
           ]
          },
          "colorway": [
           "#636efa",
           "#EF553B",
           "#00cc96",
           "#ab63fa",
           "#FFA15A",
           "#19d3f3",
           "#FF6692",
           "#B6E880",
           "#FF97FF",
           "#FECB52"
          ],
          "font": {
           "color": "#2a3f5f"
          },
          "geo": {
           "bgcolor": "white",
           "lakecolor": "white",
           "landcolor": "#E5ECF6",
           "showlakes": true,
           "showland": true,
           "subunitcolor": "white"
          },
          "hoverlabel": {
           "align": "left"
          },
          "hovermode": "closest",
          "mapbox": {
           "style": "light"
          },
          "paper_bgcolor": "white",
          "plot_bgcolor": "#E5ECF6",
          "polar": {
           "angularaxis": {
            "gridcolor": "white",
            "linecolor": "white",
            "ticks": ""
           },
           "bgcolor": "#E5ECF6",
           "radialaxis": {
            "gridcolor": "white",
            "linecolor": "white",
            "ticks": ""
           }
          },
          "scene": {
           "xaxis": {
            "backgroundcolor": "#E5ECF6",
            "gridcolor": "white",
            "gridwidth": 2,
            "linecolor": "white",
            "showbackground": true,
            "ticks": "",
            "zerolinecolor": "white"
           },
           "yaxis": {
            "backgroundcolor": "#E5ECF6",
            "gridcolor": "white",
            "gridwidth": 2,
            "linecolor": "white",
            "showbackground": true,
            "ticks": "",
            "zerolinecolor": "white"
           },
           "zaxis": {
            "backgroundcolor": "#E5ECF6",
            "gridcolor": "white",
            "gridwidth": 2,
            "linecolor": "white",
            "showbackground": true,
            "ticks": "",
            "zerolinecolor": "white"
           }
          },
          "shapedefaults": {
           "line": {
            "color": "#2a3f5f"
           }
          },
          "ternary": {
           "aaxis": {
            "gridcolor": "white",
            "linecolor": "white",
            "ticks": ""
           },
           "baxis": {
            "gridcolor": "white",
            "linecolor": "white",
            "ticks": ""
           },
           "bgcolor": "#E5ECF6",
           "caxis": {
            "gridcolor": "white",
            "linecolor": "white",
            "ticks": ""
           }
          },
          "title": {
           "x": 0.05
          },
          "xaxis": {
           "automargin": true,
           "gridcolor": "white",
           "linecolor": "white",
           "ticks": "",
           "title": {
            "standoff": 15
           },
           "zerolinecolor": "white",
           "zerolinewidth": 2
          },
          "yaxis": {
           "automargin": true,
           "gridcolor": "white",
           "linecolor": "white",
           "ticks": "",
           "title": {
            "standoff": 15
           },
           "zerolinecolor": "white",
           "zerolinewidth": 2
          }
         }
        },
        "xaxis": {
         "anchor": "y",
         "categoryarray": [
          "chr2",
          "chr9",
          "chr13",
          "chr14",
          "chr15",
          "chr18",
          "chr21",
          "chr22"
         ],
         "categoryorder": "array",
         "domain": [
          0,
          1
         ],
         "title": {
          "text": "Chromosome"
         }
        },
        "yaxis": {
         "anchor": "x",
         "domain": [
          0,
          1
         ],
         "title": {
          "text": "UBF_IntDens"
         }
        }
       }
      }
     },
     "metadata": {},
     "output_type": "display_data"
    }
   ],
   "source": [
    "f = px.box(combined_UBF_df, x='Chromosome', y='UBF_IntDens', points='all', color='UBFRank', hover_data='File',\n",
    "           category_orders={'UBFRank':[1.0, 2.0, 3.0, 4.0], 'Chromosome':['chr2', 'chr9', 'chr13', 'chr14', 'chr15', 'chr18', 'chr21', 'chr22']})\n",
    "f.write_html('UBF_reranked.html')\n",
    "f"
   ]
  },
  {
   "cell_type": "code",
   "execution_count": 48,
   "metadata": {},
   "outputs": [
    {
     "data": {
      "application/vnd.jupyter.widget-view+json": {
       "model_id": "5978c3b337dd4527a5319e6654b3af25",
       "version_major": 2,
       "version_minor": 0
      },
      "text/plain": [
       "FigureWidget({\n",
       "    'data': [{'alignmentgroup': 'True',\n",
       "              'boxpoints': 'all',\n",
       "              'customdata': array([['./acrocentric_inferred\\\\B.Orang_chr13_UBF_1001-1.tif'],\n",
       "                                   ['./acrocentric_inferred\\\\B.Orang_chr13_UBF_1002-1.tif'],\n",
       "                                   ['./acrocentric_inferred\\\\B.Orang_chr13_UBF_1003-1.tif'],\n",
       "                                   ['./acrocentric_inferred\\\\B.Orang_chr13_UBF_1006-1.tif'],\n",
       "                                   ['./acrocentric_inferred\\\\B.Orang_chr13_UBF_1009-1.tif'],\n",
       "                                   ['./acrocentric_inferred\\\\B.Orang_chr13_UBF_1012-1.tif'],\n",
       "                                   ['./acrocentric_inferred\\\\B.Orang_chr13_UBF_1013-1.tif'],\n",
       "                                   ['./acrocentric_inferred\\\\B.Orang_chr13_UBF_1014-1.tif'],\n",
       "                                   ['./acrocentric_inferred\\\\B.Orang_chr13_UBF_1015-1.tif'],\n",
       "                                   ['./acrocentric_inferred\\\\B.Orang_chr13_UBF_1017-1.tif'],\n",
       "                                   ['./acrocentric_inferred\\\\B.Orang_chr13_UBF_1018-1.tif'],\n",
       "                                   ['./acrocentric_inferred\\\\B.Orang_chr13_UBF_1019-1.tif'],\n",
       "                                   ['./acrocentric_inferred\\\\B.Orang_chr13_UBF_1020-1.tif'],\n",
       "                                   ['./acrocentric_inferred\\\\B.Orang_chr13_UBF_1021-1.tif'],\n",
       "                                   ['./acrocentric_inferred\\\\B.Orang_chr14_UBF_1001-1.tif'],\n",
       "                                   ['./acrocentric_inferred\\\\B.Orang_chr14_UBF_1002-1.tif'],\n",
       "                                   ['./acrocentric_inferred\\\\B.Orang_chr14_UBF_1004-1.tif'],\n",
       "                                   ['./acrocentric_inferred\\\\B.Orang_chr14_UBF_1005-1.tif'],\n",
       "                                   ['./acrocentric_inferred\\\\B.Orang_chr14_UBF_1007-1.tif'],\n",
       "                                   ['./acrocentric_inferred\\\\B.Orang_chr14_UBF_1009-1.tif'],\n",
       "                                   ['./acrocentric_inferred\\\\B.Orang_chr14_UBF_1010-1.tif'],\n",
       "                                   ['./acrocentric_inferred\\\\B.Orang_chr14_UBF_1011-1.tif'],\n",
       "                                   ['./acrocentric_inferred\\\\B.Orang_chr14_UBF_1012-1.tif'],\n",
       "                                   ['./acrocentric_inferred\\\\B.Orang_chr14_UBF_1013-1.tif'],\n",
       "                                   ['./acrocentric_inferred\\\\B.Orang_chr14_UBF_1014-1.tif'],\n",
       "                                   ['./acrocentric_inferred\\\\B.Orang_chr14_UBF_1015-1.tif'],\n",
       "                                   ['./acrocentric_inferred\\\\B.Orang_chr14_UBF_1016-1.tif'],\n",
       "                                   ['./acrocentric_inferred\\\\B.Orang_chr14_UBF_1017-1.tif'],\n",
       "                                   ['./acrocentric_inferred\\\\B.Orang_chr14_UBF_1018-1.tif'],\n",
       "                                   ['./acrocentric_inferred\\\\B.Orang_chr14_UBF_1019-1.tif'],\n",
       "                                   ['./acrocentric_inferred\\\\B.Orang_chr14_UBF_1020-1.tif'],\n",
       "                                   ['./acrocentric_inferred\\\\B.Orang_chr14_UBF_1021-1.tif'],\n",
       "                                   ['./acrocentric_inferred\\\\B.Orang_chr14_UBF_1022-1.tif'],\n",
       "                                   ['./acrocentric_inferred\\\\B.Orang_chr15_UBF_1002-1.tif'],\n",
       "                                   ['./acrocentric_inferred\\\\B.Orang_chr15_UBF_1003-1.tif'],\n",
       "                                   ['./acrocentric_inferred\\\\B.Orang_chr15_UBF_1004-1.tif'],\n",
       "                                   ['./acrocentric_inferred\\\\B.Orang_chr15_UBF_1005-1.tif'],\n",
       "                                   ['./acrocentric_inferred\\\\B.Orang_chr15_UBF_1006-1.tif'],\n",
       "                                   ['./acrocentric_inferred\\\\B.Orang_chr15_UBF_1008-1.tif'],\n",
       "                                   ['./acrocentric_inferred\\\\B.Orang_chr15_UBF_1009-1.tif'],\n",
       "                                   ['./acrocentric_inferred\\\\B.Orang_chr15_UBF_1010-1.tif'],\n",
       "                                   ['./acrocentric_inferred\\\\B.Orang_chr15_UBF_1011-1.tif'],\n",
       "                                   ['./acrocentric_inferred\\\\B.Orang_chr15_UBF_1012-1.tif'],\n",
       "                                   ['./acrocentric_inferred\\\\B.Orang_chr15_UBF_1013-1.tif'],\n",
       "                                   ['./acrocentric_inferred\\\\B.Orang_chr15_UBF_1014-1.tif'],\n",
       "                                   ['./acrocentric_inferred\\\\B.Orang_chr15_UBF_1015-1.tif'],\n",
       "                                   ['./acrocentric_inferred\\\\B.Orang_chr15_UBF_1017-1.tif'],\n",
       "                                   ['./acrocentric_inferred\\\\B.Orang_chr15_UBF_1018-1.tif'],\n",
       "                                   ['./acrocentric_inferred\\\\B.Orang_chr15_UBF_1019-1.tif'],\n",
       "                                   ['./acrocentric_inferred\\\\B.Orang_chr15_UBF_1020-1.tif'],\n",
       "                                   ['./acrocentric_inferred\\\\B.Orang_chr18_UBF_1001-1.tif'],\n",
       "                                   ['./acrocentric_inferred\\\\B.Orang_chr18_UBF_1003-1.tif'],\n",
       "                                   ['./acrocentric_inferred\\\\B.Orang_chr18_UBF_1004-1.tif'],\n",
       "                                   ['./acrocentric_inferred\\\\B.Orang_chr18_UBF_1005-1.tif'],\n",
       "                                   ['./acrocentric_inferred\\\\B.Orang_chr18_UBF_1007-1.tif'],\n",
       "                                   ['./acrocentric_inferred\\\\B.Orang_chr18_UBF_1008-1.tif'],\n",
       "                                   ['./acrocentric_inferred\\\\B.Orang_chr18_UBF_1009-1.tif'],\n",
       "                                   ['./acrocentric_inferred\\\\B.Orang_chr18_UBF_1010-1.tif'],\n",
       "                                   ['./acrocentric_inferred\\\\B.Orang_chr18_UBF_1012-1.tif'],\n",
       "                                   ['./acrocentric_inferred\\\\B.Orang_chr18_UBF_1013-1.tif'],\n",
       "                                   ['./acrocentric_inferred\\\\B.Orang_chr18_UBF_1016-1.tif'],\n",
       "                                   ['./acrocentric_inferred\\\\B.Orang_chr18_UBF_1017-1.tif'],\n",
       "                                   ['./acrocentric_inferred\\\\B.Orang_chr18_UBF_1018-1.tif'],\n",
       "                                   ['./acrocentric_inferred\\\\B.Orang_chr18_UBF_1019-1.tif'],\n",
       "                                   ['./acrocentric_inferred\\\\B.Orang_chr18_UBF_1020-1.tif'],\n",
       "                                   ['./acrocentric_inferred\\\\B.Orang_chr21_UBF_1002-1.tif'],\n",
       "                                   ['./acrocentric_inferred\\\\B.Orang_chr21_UBF_1004-1.tif'],\n",
       "                                   ['./acrocentric_inferred\\\\B.Orang_chr21_UBF_1005-1.tif'],\n",
       "                                   ['./acrocentric_inferred\\\\B.Orang_chr21_UBF_1007-1.tif'],\n",
       "                                   ['./acrocentric_inferred\\\\B.Orang_chr21_UBF_1009-1.tif'],\n",
       "                                   ['./acrocentric_inferred\\\\B.Orang_chr21_UBF_1010-1.tif'],\n",
       "                                   ['./acrocentric_inferred\\\\B.Orang_chr21_UBF_1011-1.tif'],\n",
       "                                   ['./acrocentric_inferred\\\\B.Orang_chr21_UBF_1012-1.tif'],\n",
       "                                   ['./acrocentric_inferred\\\\B.Orang_chr21_UBF_1013-1.tif'],\n",
       "                                   ['./acrocentric_inferred\\\\B.Orang_chr21_UBF_1014-1.tif'],\n",
       "                                   ['./acrocentric_inferred\\\\B.Orang_chr21_UBF_1015-1.tif'],\n",
       "                                   ['./acrocentric_inferred\\\\B.Orang_chr21_UBF_1016-1.tif'],\n",
       "                                   ['./acrocentric_inferred\\\\B.Orang_chr21_UBF_1018-1.tif'],\n",
       "                                   ['./acrocentric_inferred\\\\B.Orang_chr21_UBF_1019-1.tif'],\n",
       "                                   ['./acrocentric_inferred\\\\B.Orang_chr22_UBF_1001-1.tif'],\n",
       "                                   ['./acrocentric_inferred\\\\B.Orang_chr22_UBF_1002-1.tif'],\n",
       "                                   ['./acrocentric_inferred\\\\B.Orang_chr22_UBF_1004-1.tif'],\n",
       "                                   ['./acrocentric_inferred\\\\B.Orang_chr22_UBF_1005-1.tif'],\n",
       "                                   ['./acrocentric_inferred\\\\B.Orang_chr22_UBF_1006-1.tif'],\n",
       "                                   ['./acrocentric_inferred\\\\B.Orang_chr22_UBF_1007-1.tif'],\n",
       "                                   ['./acrocentric_inferred\\\\B.Orang_chr22_UBF_1008-1.tif'],\n",
       "                                   ['./acrocentric_inferred\\\\B.Orang_chr22_UBF_1009-1.tif'],\n",
       "                                   ['./acrocentric_inferred\\\\B.Orang_chr22_UBF_1010-1.tif'],\n",
       "                                   ['./acrocentric_inferred\\\\B.Orang_chr22_UBF_1011-1.tif'],\n",
       "                                   ['./acrocentric_inferred\\\\B.Orang_chr22_UBF_1013-1.tif'],\n",
       "                                   ['./acrocentric_inferred\\\\B.Orang_chr22_UBF_1014-1.tif'],\n",
       "                                   ['./acrocentric_inferred\\\\B.Orang_chr22_UBF_1015-1.tif'],\n",
       "                                   ['./acrocentric_inferred\\\\B.Orang_chr22_UBF_1017-1.tif'],\n",
       "                                   ['./acrocentric_inferred\\\\B.Orang_chr22_UBF_1018-1.tif'],\n",
       "                                   ['./acrocentric_inferred\\\\B.Orang_chr22_UBF_1019-1.tif'],\n",
       "                                   ['./acrocentric_inferred\\\\B.Orang_chr22_UBF_1020-1.tif'],\n",
       "                                   ['./acrocentric_inferred\\\\B.Orang_chr2_UBF_1003-1.tif'],\n",
       "                                   ['./acrocentric_inferred\\\\B.Orang_chr2_UBF_1004-1.tif'],\n",
       "                                   ['./acrocentric_inferred\\\\B.Orang_chr2_UBF_1007-1.tif'],\n",
       "                                   ['./acrocentric_inferred\\\\B.Orang_chr2_UBF_1008-1.tif'],\n",
       "                                   ['./acrocentric_inferred\\\\B.Orang_chr2_UBF_1010-1.tif'],\n",
       "                                   ['./acrocentric_inferred\\\\B.Orang_chr2_UBF_1011-1.tif'],\n",
       "                                   ['./acrocentric_inferred\\\\B.Orang_chr2_UBF_1012-1.tif'],\n",
       "                                   ['./acrocentric_inferred\\\\B.Orang_chr2_UBF_1014-1.tif'],\n",
       "                                   ['./acrocentric_inferred\\\\B.Orang_chr2_UBF_1015-1.tif'],\n",
       "                                   ['./acrocentric_inferred\\\\B.Orang_chr2_UBF_1017-1.tif'],\n",
       "                                   ['./acrocentric_inferred\\\\B.Orang_chr2_UBF_1018-2.tif'],\n",
       "                                   ['./acrocentric_inferred\\\\B.Orang_chr2_UBF_1018.tif'],\n",
       "                                   ['./acrocentric_inferred\\\\B.Orang_chr2_UBF_1020-1.tif'],\n",
       "                                   ['./acrocentric_inferred\\\\B.Orang_chr2_UBF_1021-1.tif'],\n",
       "                                   ['./acrocentric_inferred\\\\B.Orang_chr2_UBF_1022-1.tif'],\n",
       "                                   ['./acrocentric_inferred\\\\B.Orang_chr2_UBF_1025-1.tif'],\n",
       "                                   ['./acrocentric_inferred\\\\B.Orang_chr2_UBF_1026-1.tif'],\n",
       "                                   ['./acrocentric_inferred\\\\B.Orang_chr9_UBF_1009-1.tif'],\n",
       "                                   ['./acrocentric_inferred\\\\B.Orang_chr9_UBF_1014-1.tif'],\n",
       "                                   ['./acrocentric_inferred\\\\B.Orang_chr9_UBF_1017-1.tif'],\n",
       "                                   ['./acrocentric_inferred\\\\B.Orang_chr9_UBF_1017-2.tif'],\n",
       "                                   ['./acrocentric_inferred\\\\B.Orang_chr9_UBF_1018-1.tif'],\n",
       "                                   ['./acrocentric_inferred\\\\B.Orang_chr9_UBF_1019-1.tif'],\n",
       "                                   ['./acrocentric_inferred\\\\B.Orang_chr9_UBF_1020-1.tif'],\n",
       "                                   ['./acrocentric_inferred\\\\B.Orang_chr9_UBF_1021-1.tif'],\n",
       "                                   ['./acrocentric_inferred\\\\B.Orang_chr9_UBF_1022-1.tif'],\n",
       "                                   ['./acrocentric_inferred\\\\B.Orang_chr9_UBF_1024-1.tif'],\n",
       "                                   ['./acrocentric_inferred\\\\B.Orang_chr9_UBF_1025-1.tif'],\n",
       "                                   ['./acrocentric_inferred\\\\B.Orang_chr9_UBF_1026-1.tif'],\n",
       "                                   ['./acrocentric_inferred\\\\B.Orang_chr9_UBF_1027-1.tif'],\n",
       "                                   ['./acrocentric_inferred\\\\B.Orang_chr9_UBF_1028-1.tif'],\n",
       "                                   ['./acrocentric_inferred\\\\B.Orang_chr9_UBF_1029-1.tif'],\n",
       "                                   ['./acrocentric_inferred\\\\B.Orang_chr9_UBF_1030-1.tif'],\n",
       "                                   ['./acrocentric_inferred\\\\B.Orang_chr9_UBF_1031-1.tif'],\n",
       "                                   ['./acrocentric_inferred\\\\B.Orang_chr9_UBF_1032-1.tif'],\n",
       "                                   ['./acrocentric_inferred\\\\B.Orang_chr9_UBF_1033-1.tif'],\n",
       "                                   ['./acrocentric_inferred\\\\B.Orang_chr9_UBF_1034-1.tif'],\n",
       "                                   ['./acrocentric_inferred\\\\B.Orang_chr9_UBF_1035-1.tif'],\n",
       "                                   ['./acrocentric_inferred\\\\B.Orang_chr2_UBF_1001-1.tif'],\n",
       "                                   ['./acrocentric_inferred\\\\B.Orang_chr2_UBF_1013-1.tif'],\n",
       "                                   ['./acrocentric_inferred\\\\B.Orang_chr2_UBF_1016-1.tif'],\n",
       "                                   ['./acrocentric_inferred\\\\B.Orang_chr2_UBF_1024-1.tif']], dtype=object),\n",
       "              'hovertemplate': ('UBFRank=1.0<br>Chromosome=%{x}' ... '{customdata[0]}<extra></extra>'),\n",
       "              'legendgroup': '1.0',\n",
       "              'marker': {'color': '#636efa'},\n",
       "              'name': '1.0',\n",
       "              'notched': False,\n",
       "              'offsetgroup': '1.0',\n",
       "              'orientation': 'v',\n",
       "              'showlegend': True,\n",
       "              'type': 'box',\n",
       "              'uid': 'd262bd4d-11f9-4b0e-b840-43927c68e32a',\n",
       "              'x': array(['chr13', 'chr13', 'chr13', 'chr13', 'chr13', 'chr13', 'chr13', 'chr13',\n",
       "                          'chr13', 'chr13', 'chr13', 'chr13', 'chr13', 'chr13', 'chr14', 'chr14',\n",
       "                          'chr14', 'chr14', 'chr14', 'chr14', 'chr14', 'chr14', 'chr14', 'chr14',\n",
       "                          'chr14', 'chr14', 'chr14', 'chr14', 'chr14', 'chr14', 'chr14', 'chr14',\n",
       "                          'chr14', 'chr15', 'chr15', 'chr15', 'chr15', 'chr15', 'chr15', 'chr15',\n",
       "                          'chr15', 'chr15', 'chr15', 'chr15', 'chr15', 'chr15', 'chr15', 'chr15',\n",
       "                          'chr15', 'chr15', 'chr18', 'chr18', 'chr18', 'chr18', 'chr18', 'chr18',\n",
       "                          'chr18', 'chr18', 'chr18', 'chr18', 'chr18', 'chr18', 'chr18', 'chr18',\n",
       "                          'chr18', 'chr21', 'chr21', 'chr21', 'chr21', 'chr21', 'chr21', 'chr21',\n",
       "                          'chr21', 'chr21', 'chr21', 'chr21', 'chr21', 'chr21', 'chr21', 'chr22',\n",
       "                          'chr22', 'chr22', 'chr22', 'chr22', 'chr22', 'chr22', 'chr22', 'chr22',\n",
       "                          'chr22', 'chr22', 'chr22', 'chr22', 'chr22', 'chr22', 'chr22', 'chr22',\n",
       "                          'chr2', 'chr2', 'chr2', 'chr2', 'chr2', 'chr2', 'chr2', 'chr2', 'chr2',\n",
       "                          'chr2', 'chr2', 'chr2', 'chr2', 'chr2', 'chr2', 'chr2', 'chr2', 'chr9',\n",
       "                          'chr9', 'chr9', 'chr9', 'chr9', 'chr9', 'chr9', 'chr9', 'chr9', 'chr9',\n",
       "                          'chr9', 'chr9', 'chr9', 'chr9', 'chr9', 'chr9', 'chr9', 'chr9', 'chr9',\n",
       "                          'chr9', 'chr9', 'chr2', 'chr2', 'chr2', 'chr2'], dtype=object),\n",
       "              'x0': ' ',\n",
       "              'xaxis': 'x',\n",
       "              'y': array([ 2.88853975e-01,  2.70151655e-01,  2.75692670e-01,  2.48811836e-01,\n",
       "                           1.95788149e-01,  2.92280459e-01,  1.88616315e-01,  2.38179032e-01,\n",
       "                           1.79775509e-01,  2.44455150e-01,  3.62307219e-01,  2.77768738e-01,\n",
       "                           3.25234369e-01,  3.83600503e-01,  1.48226750e-01,  2.04454682e-01,\n",
       "                           2.49366858e-01,  0.00000000e+00,  5.03496671e-02,  7.91463023e-02,\n",
       "                           1.14210297e-01,  1.33553724e-01,  1.35551664e-01,  1.03504120e-01,\n",
       "                           1.03671969e-01,  1.45798707e-01,  1.59284501e-01,  1.40874231e-01,\n",
       "                           9.42640783e-02,  2.17773554e-01,  8.03344600e-02,  2.07393790e-01,\n",
       "                           2.14191298e-01, -1.28361776e-03, -1.01401494e-03,  1.88629268e-04,\n",
       "                           1.36794883e-03,  7.51394313e-02,  7.42664287e-04, -8.27874622e-03,\n",
       "                           8.20218817e-03, -4.92982188e-04, -5.45952265e-03, -1.09596250e-02,\n",
       "                          -2.25462361e-03, -4.85344072e-03,  2.50639911e-03,  2.36628548e-03,\n",
       "                          -2.04789742e-04,  6.07732838e-03,  5.52535181e-02,  1.00984161e-01,\n",
       "                           7.92438398e-02,  1.30508816e-01,  5.20450076e-02,  5.05070259e-02,\n",
       "                           8.33350309e-02,  4.20242121e-02,  1.16932332e-01,  1.42623239e-01,\n",
       "                           5.86967231e-02,  1.73451863e-01,  5.82261079e-02,  6.66442798e-02,\n",
       "                           5.63531284e-02,  3.91047710e-04,  1.59511617e-02,  0.00000000e+00,\n",
       "                           2.08585523e-01,  1.29386825e-02,  0.00000000e+00,  0.00000000e+00,\n",
       "                           1.87086213e-01,  1.87901762e-04, -1.02565874e-04,  9.74190188e-04,\n",
       "                           0.00000000e+00,  1.21231040e-02,  2.64242255e-02,  5.32889578e-02,\n",
       "                          -2.51751952e-03,  5.93506225e-02,  8.29616831e-02,  4.52946320e-02,\n",
       "                           9.10168419e-02,  9.75648723e-02,  8.01009700e-02,  9.03749926e-02,\n",
       "                           6.13393665e-02,  1.22091909e-01,  6.16333426e-02,  5.66851167e-02,\n",
       "                           9.56992694e-02,  7.73533858e-02,  1.13576203e-01,  0.00000000e+00,\n",
       "                           1.25897969e-01,  1.22967295e-01,  1.37722032e-01,  1.19733467e-01,\n",
       "                           1.15554482e-01,  1.88028591e-01,  1.24744239e-01,  1.36590748e-01,\n",
       "                           1.33667231e-01,  1.27229304e-01,  3.09115712e-01,  1.82036204e-01,\n",
       "                           1.43649764e-01,  2.47061195e-01,  2.21112907e-01,  2.58450012e-01,\n",
       "                           2.02528846e-01,  2.98075856e-02,  9.53996184e-03,  2.68571681e-02,\n",
       "                           1.28854430e-02,  4.54709085e-02,  2.03758267e-02,  1.60816481e-02,\n",
       "                          -1.47901879e-03,  5.62662025e-02,  2.56041783e-02,  1.47677329e-01,\n",
       "                           3.11606674e-02,  3.05925737e-02,  3.00700093e-02,  1.51831695e-02,\n",
       "                           3.65990562e-02,  3.71501856e-02,  1.90217856e-01,  2.93995512e-02,\n",
       "                           1.14617904e-02,  1.37542231e-01,  2.73739035e-01,  8.81522505e-02,\n",
       "                           1.36756270e-01,  2.10838007e-01]),\n",
       "              'y0': ' ',\n",
       "              'yaxis': 'y'},\n",
       "             {'alignmentgroup': 'True',\n",
       "              'boxpoints': 'all',\n",
       "              'customdata': array([['./acrocentric_inferred\\\\B.Orang_chr13_UBF_1001-1.tif'],\n",
       "                                   ['./acrocentric_inferred\\\\B.Orang_chr13_UBF_1002-1.tif'],\n",
       "                                   ['./acrocentric_inferred\\\\B.Orang_chr13_UBF_1003-1.tif'],\n",
       "                                   ['./acrocentric_inferred\\\\B.Orang_chr13_UBF_1006-1.tif'],\n",
       "                                   ['./acrocentric_inferred\\\\B.Orang_chr13_UBF_1009-1.tif'],\n",
       "                                   ['./acrocentric_inferred\\\\B.Orang_chr13_UBF_1012-1.tif'],\n",
       "                                   ['./acrocentric_inferred\\\\B.Orang_chr13_UBF_1013-1.tif'],\n",
       "                                   ['./acrocentric_inferred\\\\B.Orang_chr13_UBF_1014-1.tif'],\n",
       "                                   ['./acrocentric_inferred\\\\B.Orang_chr13_UBF_1015-1.tif'],\n",
       "                                   ['./acrocentric_inferred\\\\B.Orang_chr13_UBF_1017-1.tif'],\n",
       "                                   ['./acrocentric_inferred\\\\B.Orang_chr13_UBF_1018-1.tif'],\n",
       "                                   ['./acrocentric_inferred\\\\B.Orang_chr13_UBF_1019-1.tif'],\n",
       "                                   ['./acrocentric_inferred\\\\B.Orang_chr13_UBF_1020-1.tif'],\n",
       "                                   ['./acrocentric_inferred\\\\B.Orang_chr13_UBF_1021-1.tif'],\n",
       "                                   ['./acrocentric_inferred\\\\B.Orang_chr14_UBF_1001-1.tif'],\n",
       "                                   ['./acrocentric_inferred\\\\B.Orang_chr14_UBF_1002-1.tif'],\n",
       "                                   ['./acrocentric_inferred\\\\B.Orang_chr14_UBF_1004-1.tif'],\n",
       "                                   ['./acrocentric_inferred\\\\B.Orang_chr14_UBF_1005-1.tif'],\n",
       "                                   ['./acrocentric_inferred\\\\B.Orang_chr14_UBF_1007-1.tif'],\n",
       "                                   ['./acrocentric_inferred\\\\B.Orang_chr14_UBF_1009-1.tif'],\n",
       "                                   ['./acrocentric_inferred\\\\B.Orang_chr14_UBF_1010-1.tif'],\n",
       "                                   ['./acrocentric_inferred\\\\B.Orang_chr14_UBF_1011-1.tif'],\n",
       "                                   ['./acrocentric_inferred\\\\B.Orang_chr14_UBF_1012-1.tif'],\n",
       "                                   ['./acrocentric_inferred\\\\B.Orang_chr14_UBF_1013-1.tif'],\n",
       "                                   ['./acrocentric_inferred\\\\B.Orang_chr14_UBF_1014-1.tif'],\n",
       "                                   ['./acrocentric_inferred\\\\B.Orang_chr14_UBF_1015-1.tif'],\n",
       "                                   ['./acrocentric_inferred\\\\B.Orang_chr14_UBF_1016-1.tif'],\n",
       "                                   ['./acrocentric_inferred\\\\B.Orang_chr14_UBF_1017-1.tif'],\n",
       "                                   ['./acrocentric_inferred\\\\B.Orang_chr14_UBF_1018-1.tif'],\n",
       "                                   ['./acrocentric_inferred\\\\B.Orang_chr14_UBF_1019-1.tif'],\n",
       "                                   ['./acrocentric_inferred\\\\B.Orang_chr14_UBF_1020-1.tif'],\n",
       "                                   ['./acrocentric_inferred\\\\B.Orang_chr14_UBF_1021-1.tif'],\n",
       "                                   ['./acrocentric_inferred\\\\B.Orang_chr14_UBF_1022-1.tif'],\n",
       "                                   ['./acrocentric_inferred\\\\B.Orang_chr15_UBF_1002-1.tif'],\n",
       "                                   ['./acrocentric_inferred\\\\B.Orang_chr15_UBF_1003-1.tif'],\n",
       "                                   ['./acrocentric_inferred\\\\B.Orang_chr15_UBF_1004-1.tif'],\n",
       "                                   ['./acrocentric_inferred\\\\B.Orang_chr15_UBF_1005-1.tif'],\n",
       "                                   ['./acrocentric_inferred\\\\B.Orang_chr15_UBF_1006-1.tif'],\n",
       "                                   ['./acrocentric_inferred\\\\B.Orang_chr15_UBF_1008-1.tif'],\n",
       "                                   ['./acrocentric_inferred\\\\B.Orang_chr15_UBF_1009-1.tif'],\n",
       "                                   ['./acrocentric_inferred\\\\B.Orang_chr15_UBF_1010-1.tif'],\n",
       "                                   ['./acrocentric_inferred\\\\B.Orang_chr15_UBF_1011-1.tif'],\n",
       "                                   ['./acrocentric_inferred\\\\B.Orang_chr15_UBF_1012-1.tif'],\n",
       "                                   ['./acrocentric_inferred\\\\B.Orang_chr15_UBF_1013-1.tif'],\n",
       "                                   ['./acrocentric_inferred\\\\B.Orang_chr15_UBF_1014-1.tif'],\n",
       "                                   ['./acrocentric_inferred\\\\B.Orang_chr15_UBF_1015-1.tif'],\n",
       "                                   ['./acrocentric_inferred\\\\B.Orang_chr15_UBF_1017-1.tif'],\n",
       "                                   ['./acrocentric_inferred\\\\B.Orang_chr15_UBF_1018-1.tif'],\n",
       "                                   ['./acrocentric_inferred\\\\B.Orang_chr15_UBF_1019-1.tif'],\n",
       "                                   ['./acrocentric_inferred\\\\B.Orang_chr15_UBF_1020-1.tif'],\n",
       "                                   ['./acrocentric_inferred\\\\B.Orang_chr18_UBF_1001-1.tif'],\n",
       "                                   ['./acrocentric_inferred\\\\B.Orang_chr18_UBF_1003-1.tif'],\n",
       "                                   ['./acrocentric_inferred\\\\B.Orang_chr18_UBF_1004-1.tif'],\n",
       "                                   ['./acrocentric_inferred\\\\B.Orang_chr18_UBF_1005-1.tif'],\n",
       "                                   ['./acrocentric_inferred\\\\B.Orang_chr18_UBF_1007-1.tif'],\n",
       "                                   ['./acrocentric_inferred\\\\B.Orang_chr18_UBF_1008-1.tif'],\n",
       "                                   ['./acrocentric_inferred\\\\B.Orang_chr18_UBF_1009-1.tif'],\n",
       "                                   ['./acrocentric_inferred\\\\B.Orang_chr18_UBF_1010-1.tif'],\n",
       "                                   ['./acrocentric_inferred\\\\B.Orang_chr18_UBF_1012-1.tif'],\n",
       "                                   ['./acrocentric_inferred\\\\B.Orang_chr18_UBF_1013-1.tif'],\n",
       "                                   ['./acrocentric_inferred\\\\B.Orang_chr18_UBF_1016-1.tif'],\n",
       "                                   ['./acrocentric_inferred\\\\B.Orang_chr18_UBF_1017-1.tif'],\n",
       "                                   ['./acrocentric_inferred\\\\B.Orang_chr18_UBF_1018-1.tif'],\n",
       "                                   ['./acrocentric_inferred\\\\B.Orang_chr18_UBF_1019-1.tif'],\n",
       "                                   ['./acrocentric_inferred\\\\B.Orang_chr18_UBF_1020-1.tif'],\n",
       "                                   ['./acrocentric_inferred\\\\B.Orang_chr21_UBF_1002-1.tif'],\n",
       "                                   ['./acrocentric_inferred\\\\B.Orang_chr21_UBF_1004-1.tif'],\n",
       "                                   ['./acrocentric_inferred\\\\B.Orang_chr21_UBF_1005-1.tif'],\n",
       "                                   ['./acrocentric_inferred\\\\B.Orang_chr21_UBF_1007-1.tif'],\n",
       "                                   ['./acrocentric_inferred\\\\B.Orang_chr21_UBF_1009-1.tif'],\n",
       "                                   ['./acrocentric_inferred\\\\B.Orang_chr21_UBF_1010-1.tif'],\n",
       "                                   ['./acrocentric_inferred\\\\B.Orang_chr21_UBF_1011-1.tif'],\n",
       "                                   ['./acrocentric_inferred\\\\B.Orang_chr21_UBF_1012-1.tif'],\n",
       "                                   ['./acrocentric_inferred\\\\B.Orang_chr21_UBF_1013-1.tif'],\n",
       "                                   ['./acrocentric_inferred\\\\B.Orang_chr21_UBF_1014-1.tif'],\n",
       "                                   ['./acrocentric_inferred\\\\B.Orang_chr21_UBF_1015-1.tif'],\n",
       "                                   ['./acrocentric_inferred\\\\B.Orang_chr21_UBF_1016-1.tif'],\n",
       "                                   ['./acrocentric_inferred\\\\B.Orang_chr21_UBF_1018-1.tif'],\n",
       "                                   ['./acrocentric_inferred\\\\B.Orang_chr21_UBF_1019-1.tif'],\n",
       "                                   ['./acrocentric_inferred\\\\B.Orang_chr22_UBF_1001-1.tif'],\n",
       "                                   ['./acrocentric_inferred\\\\B.Orang_chr22_UBF_1002-1.tif'],\n",
       "                                   ['./acrocentric_inferred\\\\B.Orang_chr22_UBF_1004-1.tif'],\n",
       "                                   ['./acrocentric_inferred\\\\B.Orang_chr22_UBF_1005-1.tif'],\n",
       "                                   ['./acrocentric_inferred\\\\B.Orang_chr22_UBF_1006-1.tif'],\n",
       "                                   ['./acrocentric_inferred\\\\B.Orang_chr22_UBF_1007-1.tif'],\n",
       "                                   ['./acrocentric_inferred\\\\B.Orang_chr22_UBF_1008-1.tif'],\n",
       "                                   ['./acrocentric_inferred\\\\B.Orang_chr22_UBF_1009-1.tif'],\n",
       "                                   ['./acrocentric_inferred\\\\B.Orang_chr22_UBF_1010-1.tif'],\n",
       "                                   ['./acrocentric_inferred\\\\B.Orang_chr22_UBF_1011-1.tif'],\n",
       "                                   ['./acrocentric_inferred\\\\B.Orang_chr22_UBF_1013-1.tif'],\n",
       "                                   ['./acrocentric_inferred\\\\B.Orang_chr22_UBF_1014-1.tif'],\n",
       "                                   ['./acrocentric_inferred\\\\B.Orang_chr22_UBF_1015-1.tif'],\n",
       "                                   ['./acrocentric_inferred\\\\B.Orang_chr22_UBF_1017-1.tif'],\n",
       "                                   ['./acrocentric_inferred\\\\B.Orang_chr22_UBF_1018-1.tif'],\n",
       "                                   ['./acrocentric_inferred\\\\B.Orang_chr22_UBF_1019-1.tif'],\n",
       "                                   ['./acrocentric_inferred\\\\B.Orang_chr22_UBF_1020-1.tif'],\n",
       "                                   ['./acrocentric_inferred\\\\B.Orang_chr2_UBF_1001-1.tif'],\n",
       "                                   ['./acrocentric_inferred\\\\B.Orang_chr2_UBF_1007-1.tif'],\n",
       "                                   ['./acrocentric_inferred\\\\B.Orang_chr2_UBF_1008-1.tif'],\n",
       "                                   ['./acrocentric_inferred\\\\B.Orang_chr2_UBF_1010-1.tif'],\n",
       "                                   ['./acrocentric_inferred\\\\B.Orang_chr2_UBF_1013-1.tif'],\n",
       "                                   ['./acrocentric_inferred\\\\B.Orang_chr2_UBF_1015-1.tif'],\n",
       "                                   ['./acrocentric_inferred\\\\B.Orang_chr2_UBF_1016-1.tif'],\n",
       "                                   ['./acrocentric_inferred\\\\B.Orang_chr2_UBF_1022-1.tif'],\n",
       "                                   ['./acrocentric_inferred\\\\B.Orang_chr2_UBF_1024-1.tif'],\n",
       "                                   ['./acrocentric_inferred\\\\B.Orang_chr2_UBF_1025-1.tif'],\n",
       "                                   ['./acrocentric_inferred\\\\B.Orang_chr9_UBF_1009-1.tif'],\n",
       "                                   ['./acrocentric_inferred\\\\B.Orang_chr9_UBF_1014-1.tif'],\n",
       "                                   ['./acrocentric_inferred\\\\B.Orang_chr9_UBF_1017-1.tif'],\n",
       "                                   ['./acrocentric_inferred\\\\B.Orang_chr9_UBF_1017-2.tif'],\n",
       "                                   ['./acrocentric_inferred\\\\B.Orang_chr9_UBF_1018-1.tif'],\n",
       "                                   ['./acrocentric_inferred\\\\B.Orang_chr9_UBF_1019-1.tif'],\n",
       "                                   ['./acrocentric_inferred\\\\B.Orang_chr9_UBF_1020-1.tif'],\n",
       "                                   ['./acrocentric_inferred\\\\B.Orang_chr9_UBF_1021-1.tif'],\n",
       "                                   ['./acrocentric_inferred\\\\B.Orang_chr9_UBF_1022-1.tif'],\n",
       "                                   ['./acrocentric_inferred\\\\B.Orang_chr9_UBF_1024-1.tif'],\n",
       "                                   ['./acrocentric_inferred\\\\B.Orang_chr9_UBF_1025-1.tif'],\n",
       "                                   ['./acrocentric_inferred\\\\B.Orang_chr9_UBF_1026-1.tif'],\n",
       "                                   ['./acrocentric_inferred\\\\B.Orang_chr9_UBF_1027-1.tif'],\n",
       "                                   ['./acrocentric_inferred\\\\B.Orang_chr9_UBF_1028-1.tif'],\n",
       "                                   ['./acrocentric_inferred\\\\B.Orang_chr9_UBF_1029-1.tif'],\n",
       "                                   ['./acrocentric_inferred\\\\B.Orang_chr9_UBF_1030-1.tif'],\n",
       "                                   ['./acrocentric_inferred\\\\B.Orang_chr9_UBF_1031-1.tif'],\n",
       "                                   ['./acrocentric_inferred\\\\B.Orang_chr9_UBF_1032-1.tif'],\n",
       "                                   ['./acrocentric_inferred\\\\B.Orang_chr9_UBF_1033-1.tif'],\n",
       "                                   ['./acrocentric_inferred\\\\B.Orang_chr9_UBF_1034-1.tif'],\n",
       "                                   ['./acrocentric_inferred\\\\B.Orang_chr9_UBF_1035-1.tif'],\n",
       "                                   ['./acrocentric_inferred\\\\B.Orang_chr2_UBF_1003-1.tif'],\n",
       "                                   ['./acrocentric_inferred\\\\B.Orang_chr2_UBF_1004-1.tif'],\n",
       "                                   ['./acrocentric_inferred\\\\B.Orang_chr2_UBF_1011-1.tif'],\n",
       "                                   ['./acrocentric_inferred\\\\B.Orang_chr2_UBF_1012-1.tif'],\n",
       "                                   ['./acrocentric_inferred\\\\B.Orang_chr2_UBF_1014-1.tif'],\n",
       "                                   ['./acrocentric_inferred\\\\B.Orang_chr2_UBF_1017-1.tif'],\n",
       "                                   ['./acrocentric_inferred\\\\B.Orang_chr2_UBF_1018-2.tif'],\n",
       "                                   ['./acrocentric_inferred\\\\B.Orang_chr2_UBF_1018.tif'],\n",
       "                                   ['./acrocentric_inferred\\\\B.Orang_chr2_UBF_1020-1.tif'],\n",
       "                                   ['./acrocentric_inferred\\\\B.Orang_chr2_UBF_1021-1.tif'],\n",
       "                                   ['./acrocentric_inferred\\\\B.Orang_chr2_UBF_1026-1.tif']], dtype=object),\n",
       "              'hovertemplate': ('UBFRank=2.0<br>Chromosome=%{x}' ... '{customdata[0]}<extra></extra>'),\n",
       "              'legendgroup': '2.0',\n",
       "              'marker': {'color': '#EF553B'},\n",
       "              'name': '2.0',\n",
       "              'notched': False,\n",
       "              'offsetgroup': '2.0',\n",
       "              'orientation': 'v',\n",
       "              'showlegend': True,\n",
       "              'type': 'box',\n",
       "              'uid': 'e386544c-a419-4bf3-ae4a-fb3e7de64b75',\n",
       "              'x': array(['chr13', 'chr13', 'chr13', 'chr13', 'chr13', 'chr13', 'chr13', 'chr13',\n",
       "                          'chr13', 'chr13', 'chr13', 'chr13', 'chr13', 'chr13', 'chr14', 'chr14',\n",
       "                          'chr14', 'chr14', 'chr14', 'chr14', 'chr14', 'chr14', 'chr14', 'chr14',\n",
       "                          'chr14', 'chr14', 'chr14', 'chr14', 'chr14', 'chr14', 'chr14', 'chr14',\n",
       "                          'chr14', 'chr15', 'chr15', 'chr15', 'chr15', 'chr15', 'chr15', 'chr15',\n",
       "                          'chr15', 'chr15', 'chr15', 'chr15', 'chr15', 'chr15', 'chr15', 'chr15',\n",
       "                          'chr15', 'chr15', 'chr18', 'chr18', 'chr18', 'chr18', 'chr18', 'chr18',\n",
       "                          'chr18', 'chr18', 'chr18', 'chr18', 'chr18', 'chr18', 'chr18', 'chr18',\n",
       "                          'chr18', 'chr21', 'chr21', 'chr21', 'chr21', 'chr21', 'chr21', 'chr21',\n",
       "                          'chr21', 'chr21', 'chr21', 'chr21', 'chr21', 'chr21', 'chr21', 'chr22',\n",
       "                          'chr22', 'chr22', 'chr22', 'chr22', 'chr22', 'chr22', 'chr22', 'chr22',\n",
       "                          'chr22', 'chr22', 'chr22', 'chr22', 'chr22', 'chr22', 'chr22', 'chr22',\n",
       "                          'chr2', 'chr2', 'chr2', 'chr2', 'chr2', 'chr2', 'chr2', 'chr2', 'chr2',\n",
       "                          'chr2', 'chr9', 'chr9', 'chr9', 'chr9', 'chr9', 'chr9', 'chr9', 'chr9',\n",
       "                          'chr9', 'chr9', 'chr9', 'chr9', 'chr9', 'chr9', 'chr9', 'chr9', 'chr9',\n",
       "                          'chr9', 'chr9', 'chr9', 'chr9', 'chr2', 'chr2', 'chr2', 'chr2', 'chr2',\n",
       "                          'chr2', 'chr2', 'chr2', 'chr2', 'chr2', 'chr2'], dtype=object),\n",
       "              'x0': ' ',\n",
       "              'xaxis': 'x',\n",
       "              'y': array([ 2.23230849e-01,  1.91019209e-01,  1.11016691e-01,  1.80978582e-01,\n",
       "                           1.43992995e-01,  1.74904997e-01,  1.76298878e-01,  1.76726010e-01,\n",
       "                           1.35330660e-01,  0.00000000e+00,  1.64820081e-01,  2.02255958e-01,\n",
       "                           3.24607163e-01,  2.25127289e-01, -3.54186749e-03, -3.29721885e-03,\n",
       "                           7.78892026e-04, -2.36366507e-03,  1.32172301e-02,  5.63516509e-04,\n",
       "                          -3.01866874e-03,  1.04767961e-01, -1.07550589e-03, -2.78714335e-03,\n",
       "                           2.59996042e-03, -8.61824889e-04, -2.40287735e-03, -2.90249835e-03,\n",
       "                          -2.48422919e-03, -3.35073030e-03, -1.75743180e-03, -2.79189322e-03,\n",
       "                          -7.38872484e-03, -5.52038209e-03, -3.25233861e-03, -4.27789927e-03,\n",
       "                           1.20535278e-04, -4.36983029e-03, -3.15423912e-03, -9.12005767e-03,\n",
       "                          -9.00143501e-03, -1.29624745e-03, -1.16146265e-02, -1.67673085e-02,\n",
       "                          -9.31300852e-03, -6.27572857e-03,  1.71995245e-03,  5.94887465e-04,\n",
       "                          -4.00898949e-04, -5.35871390e-03,  0.00000000e+00, -5.51468570e-04,\n",
       "                           0.00000000e+00,  0.00000000e+00,  0.00000000e+00,  0.00000000e+00,\n",
       "                           0.00000000e+00,  0.00000000e+00,  0.00000000e+00,  0.00000000e+00,\n",
       "                           0.00000000e+00,  0.00000000e+00,  8.91560744e-03,  0.00000000e+00,\n",
       "                           0.00000000e+00,  0.00000000e+00, -3.24234963e-03, -9.76262510e-04,\n",
       "                           8.51459876e-04, -9.69149185e-04, -9.61766617e-04, -2.74562744e-03,\n",
       "                           1.08832031e-02,  0.00000000e+00, -4.57360070e-04,  0.00000000e+00,\n",
       "                          -3.39930101e-04,  0.00000000e+00,  2.56580000e-02, -2.80156167e-03,\n",
       "                          -6.73470176e-03, -5.88009523e-04,  2.09538185e-04,  0.00000000e+00,\n",
       "                           0.00000000e+00, -1.93436885e-03, -1.35850349e-03, -1.13258638e-03,\n",
       "                           0.00000000e+00,  0.00000000e+00, -6.94823572e-03, -4.87658797e-04,\n",
       "                          -3.92878616e-03, -2.55734117e-03,  4.80052501e-03, -7.75047660e-06,\n",
       "                           0.00000000e+00,  6.73366912e-02,  8.11571348e-02,  1.12532407e-01,\n",
       "                           6.28634364e-02,  3.17387255e-04,  8.61693509e-02,  9.40532728e-02,\n",
       "                           9.11628401e-02,  8.08711037e-02,  4.71600370e-03,  0.00000000e+00,\n",
       "                          -7.58489716e-04,  0.00000000e+00,  0.00000000e+00, -5.56639981e-03,\n",
       "                           1.56756080e-02, -1.92412634e-03,  3.82576950e-02,  4.05473047e-03,\n",
       "                           2.12918828e-02,  1.50624291e-02,  0.00000000e+00,  1.26287748e-02,\n",
       "                          -1.27221612e-03,  0.00000000e+00,  1.65315438e-02,  1.78598295e-02,\n",
       "                           1.75281209e-02, -1.89015143e-04,  0.00000000e+00,  7.97729509e-02,\n",
       "                           8.42443439e-02,  1.50452045e-01,  5.40787116e-02,  4.82585827e-02,\n",
       "                           9.76170996e-02,  1.83609178e-01,  6.54076433e-02,  5.24287176e-02,\n",
       "                           4.35178319e-02,  1.31267086e-01]),\n",
       "              'y0': ' ',\n",
       "              'yaxis': 'y'},\n",
       "             {'alignmentgroup': 'True',\n",
       "              'boxpoints': 'all',\n",
       "              'customdata': array([['./acrocentric_inferred\\\\B.Orang_chr2_UBF_1004-1.tif'],\n",
       "                                   ['./acrocentric_inferred\\\\B.Orang_chr2_UBF_1011-1.tif'],\n",
       "                                   ['./acrocentric_inferred\\\\B.Orang_chr2_UBF_1018.tif'],\n",
       "                                   ['./acrocentric_inferred\\\\B.Orang_chr2_UBF_1020-1.tif'],\n",
       "                                   ['./acrocentric_inferred\\\\B.Orang_chr2_UBF_1001-1.tif'],\n",
       "                                   ['./acrocentric_inferred\\\\B.Orang_chr2_UBF_1003-1.tif'],\n",
       "                                   ['./acrocentric_inferred\\\\B.Orang_chr2_UBF_1007-1.tif'],\n",
       "                                   ['./acrocentric_inferred\\\\B.Orang_chr2_UBF_1008-1.tif'],\n",
       "                                   ['./acrocentric_inferred\\\\B.Orang_chr2_UBF_1010-1.tif'],\n",
       "                                   ['./acrocentric_inferred\\\\B.Orang_chr2_UBF_1012-1.tif'],\n",
       "                                   ['./acrocentric_inferred\\\\B.Orang_chr2_UBF_1013-1.tif'],\n",
       "                                   ['./acrocentric_inferred\\\\B.Orang_chr2_UBF_1014-1.tif'],\n",
       "                                   ['./acrocentric_inferred\\\\B.Orang_chr2_UBF_1015-1.tif'],\n",
       "                                   ['./acrocentric_inferred\\\\B.Orang_chr2_UBF_1016-1.tif'],\n",
       "                                   ['./acrocentric_inferred\\\\B.Orang_chr2_UBF_1017-1.tif'],\n",
       "                                   ['./acrocentric_inferred\\\\B.Orang_chr2_UBF_1018-2.tif'],\n",
       "                                   ['./acrocentric_inferred\\\\B.Orang_chr2_UBF_1021-1.tif'],\n",
       "                                   ['./acrocentric_inferred\\\\B.Orang_chr2_UBF_1022-1.tif'],\n",
       "                                   ['./acrocentric_inferred\\\\B.Orang_chr2_UBF_1024-1.tif'],\n",
       "                                   ['./acrocentric_inferred\\\\B.Orang_chr2_UBF_1025-1.tif'],\n",
       "                                   ['./acrocentric_inferred\\\\B.Orang_chr2_UBF_1026-1.tif']], dtype=object),\n",
       "              'hovertemplate': ('UBFRank=3.0<br>Chromosome=%{x}' ... '{customdata[0]}<extra></extra>'),\n",
       "              'legendgroup': '3.0',\n",
       "              'marker': {'color': '#00cc96'},\n",
       "              'name': '3.0',\n",
       "              'notched': False,\n",
       "              'offsetgroup': '3.0',\n",
       "              'orientation': 'v',\n",
       "              'showlegend': True,\n",
       "              'type': 'box',\n",
       "              'uid': '8183b383-4ae1-4353-b1be-ec9069a3656d',\n",
       "              'x': array(['chr2', 'chr2', 'chr2', 'chr2', 'chr2', 'chr2', 'chr2', 'chr2', 'chr2',\n",
       "                          'chr2', 'chr2', 'chr2', 'chr2', 'chr2', 'chr2', 'chr2', 'chr2', 'chr2',\n",
       "                          'chr2', 'chr2', 'chr2'], dtype=object),\n",
       "              'x0': ' ',\n",
       "              'xaxis': 'x',\n",
       "              'y': array([-0.00123375, -0.00237625,  0.04020333, -0.00036454, -0.00240251,\n",
       "                          -0.0012032 ,  0.03620786, -0.00171062, -0.00285897, -0.0049942 ,\n",
       "                          -0.00088953, -0.00056418,  0.        , -0.00085942,  0.00805281,\n",
       "                          -0.0021147 , -0.00044014, -0.00046238,  0.00320171, -0.00091213,\n",
       "                           0.00065549]),\n",
       "              'y0': ' ',\n",
       "              'yaxis': 'y'},\n",
       "             {'alignmentgroup': 'True',\n",
       "              'boxpoints': 'all',\n",
       "              'customdata': array([['./acrocentric_inferred\\\\B.Orang_chr2_UBF_1001-1.tif'],\n",
       "                                   ['./acrocentric_inferred\\\\B.Orang_chr2_UBF_1003-1.tif'],\n",
       "                                   ['./acrocentric_inferred\\\\B.Orang_chr2_UBF_1012-1.tif'],\n",
       "                                   ['./acrocentric_inferred\\\\B.Orang_chr2_UBF_1013-1.tif'],\n",
       "                                   ['./acrocentric_inferred\\\\B.Orang_chr2_UBF_1014-1.tif'],\n",
       "                                   ['./acrocentric_inferred\\\\B.Orang_chr2_UBF_1016-1.tif'],\n",
       "                                   ['./acrocentric_inferred\\\\B.Orang_chr2_UBF_1017-1.tif'],\n",
       "                                   ['./acrocentric_inferred\\\\B.Orang_chr2_UBF_1018-2.tif'],\n",
       "                                   ['./acrocentric_inferred\\\\B.Orang_chr2_UBF_1021-1.tif'],\n",
       "                                   ['./acrocentric_inferred\\\\B.Orang_chr2_UBF_1024-1.tif'],\n",
       "                                   ['./acrocentric_inferred\\\\B.Orang_chr2_UBF_1026-1.tif'],\n",
       "                                   ['./acrocentric_inferred\\\\B.Orang_chr2_UBF_1004-1.tif'],\n",
       "                                   ['./acrocentric_inferred\\\\B.Orang_chr2_UBF_1007-1.tif'],\n",
       "                                   ['./acrocentric_inferred\\\\B.Orang_chr2_UBF_1008-1.tif'],\n",
       "                                   ['./acrocentric_inferred\\\\B.Orang_chr2_UBF_1010-1.tif'],\n",
       "                                   ['./acrocentric_inferred\\\\B.Orang_chr2_UBF_1011-1.tif'],\n",
       "                                   ['./acrocentric_inferred\\\\B.Orang_chr2_UBF_1015-1.tif'],\n",
       "                                   ['./acrocentric_inferred\\\\B.Orang_chr2_UBF_1018.tif'],\n",
       "                                   ['./acrocentric_inferred\\\\B.Orang_chr2_UBF_1020-1.tif'],\n",
       "                                   ['./acrocentric_inferred\\\\B.Orang_chr2_UBF_1022-1.tif'],\n",
       "                                   ['./acrocentric_inferred\\\\B.Orang_chr2_UBF_1025-1.tif']], dtype=object),\n",
       "              'hovertemplate': ('UBFRank=4.0<br>Chromosome=%{x}' ... '{customdata[0]}<extra></extra>'),\n",
       "              'legendgroup': '4.0',\n",
       "              'marker': {'color': '#ab63fa'},\n",
       "              'name': '4.0',\n",
       "              'notched': False,\n",
       "              'offsetgroup': '4.0',\n",
       "              'orientation': 'v',\n",
       "              'showlegend': True,\n",
       "              'type': 'box',\n",
       "              'uid': 'b0252a2e-85e1-47cf-b322-66443cf60169',\n",
       "              'x': array(['chr2', 'chr2', 'chr2', 'chr2', 'chr2', 'chr2', 'chr2', 'chr2', 'chr2',\n",
       "                          'chr2', 'chr2', 'chr2', 'chr2', 'chr2', 'chr2', 'chr2', 'chr2', 'chr2',\n",
       "                          'chr2', 'chr2', 'chr2'], dtype=object),\n",
       "              'x0': ' ',\n",
       "              'xaxis': 'x',\n",
       "              'y': array([-0.00261457, -0.00134095, -0.01358967, -0.00255358, -0.00314135,\n",
       "                          -0.00401449, -0.0047014 , -0.003205  , -0.0015397 ,  0.        ,\n",
       "                          -0.00021407, -0.00181452, -0.00374667, -0.00325716, -0.00464265,\n",
       "                          -0.00260671, -0.00133648,  0.00054018, -0.0020214 , -0.00047027,\n",
       "                          -0.00494065]),\n",
       "              'y0': ' ',\n",
       "              'yaxis': 'y'},\n",
       "             {'alignmentgroup': 'True',\n",
       "              'boxpoints': 'all',\n",
       "              'customdata': array([['./acrocentric_inferred\\\\B.Orang_chr13_UBF_1011-1.tif'],\n",
       "                                   ['./acrocentric_inferred\\\\B.Orang_chr13_UBF_1011-1.tif'],\n",
       "                                   ['./acrocentric_inferred\\\\B.Orang_chr18_UBF_1015-1.tif'],\n",
       "                                   ['./acrocentric_inferred\\\\B.Orang_chr18_UBF_1015-1.tif'],\n",
       "                                   ['./acrocentric_inferred\\\\B.Orang_chr9_UBF_1004-1.tif'],\n",
       "                                   ['./acrocentric_inferred\\\\B.Orang_chr9_UBF_1004-1.tif'],\n",
       "                                   ['./acrocentric_inferred\\\\B.Orang_chr9_UBF_1016-1.tif'],\n",
       "                                   ['./acrocentric_inferred\\\\B.Orang_chr9_UBF_1016-1.tif']], dtype=object),\n",
       "              'hovertemplate': ('UBFRank=1.5<br>Chromosome=%{x}' ... '{customdata[0]}<extra></extra>'),\n",
       "              'legendgroup': '1.5',\n",
       "              'marker': {'color': '#FFA15A'},\n",
       "              'name': '1.5',\n",
       "              'notched': False,\n",
       "              'offsetgroup': '1.5',\n",
       "              'orientation': 'v',\n",
       "              'showlegend': True,\n",
       "              'type': 'box',\n",
       "              'uid': '0c97f5d8-ddee-4eeb-833a-ebe0eb388fa5',\n",
       "              'x': array(['chr13', 'chr13', 'chr18', 'chr18', 'chr9', 'chr9', 'chr9', 'chr9'],\n",
       "                         dtype=object),\n",
       "              'x0': ' ',\n",
       "              'xaxis': 'x',\n",
       "              'y': array([-0., -0.,  0.,  0.,  0.,  0.,  0.,  0.]),\n",
       "              'y0': ' ',\n",
       "              'yaxis': 'y'}],\n",
       "    'layout': {'boxmode': 'group',\n",
       "               'legend': {'title': {'text': 'UBFRank'}, 'tracegroupgap': 0},\n",
       "               'margin': {'t': 60},\n",
       "               'template': '...',\n",
       "               'xaxis': {'anchor': 'y',\n",
       "                         'categoryarray': [chr2, chr9, chr13, chr14, chr15, chr18,\n",
       "                                           chr21, chr22],\n",
       "                         'categoryorder': 'array',\n",
       "                         'domain': [0.0, 1.0],\n",
       "                         'title': {'text': 'Chromosome'}},\n",
       "               'yaxis': {'anchor': 'x', 'domain': [0.0, 1.0], 'title': {'text': 'UBF_IntDens'}}}\n",
       "})"
      ]
     },
     "execution_count": 48,
     "metadata": {},
     "output_type": "execute_result"
    },
    {
     "name": "stdout",
     "output_type": "stream",
     "text": [
      "./acrocentric_inferred\\B.Orang_chr14_UBF_1005-1.tif\n",
      "./acrocentric_inferred\\B.Orang_chr14_UBF_1005-1.tif\n"
     ]
    }
   ],
   "source": [
    "f=go.FigureWidget(\n",
    "    px.box(combined_UBF_df, x='Chromosome', y='UBF_IntDens', points='all', color='UBFRank', hover_data='File',\n",
    "           category_orders={'UBFRank':[1.0, 2.0, 3.0, 4.0], 'Chromosome':['chr2', 'chr9', 'chr13', 'chr14', 'chr15', 'chr18', 'chr21', 'chr22']})\n",
    "    )\n",
    "\n",
    "def click_fn(trace, points, state):\n",
    "    \n",
    "    if (len(points.point_inds)>0):\n",
    "        idx = f.data[points.trace_index]['customdata'][points.point_inds[-1]][0]\n",
    "        print(idx)\n",
    "        cdf = combined_df[combined_df['File']==idx]\n",
    "        examine_file(idx, cdf['labels'].values)\n",
    "\n",
    "for a in f.data:\n",
    "    a.on_click(click_fn)\n",
    "\n",
    "f"
   ]
  },
  {
   "cell_type": "code",
   "execution_count": 40,
   "metadata": {},
   "outputs": [
    {
     "data": {
      "text/html": [
       "<div>\n",
       "<style scoped>\n",
       "    .dataframe tbody tr th:only-of-type {\n",
       "        vertical-align: middle;\n",
       "    }\n",
       "\n",
       "    .dataframe tbody tr th {\n",
       "        vertical-align: top;\n",
       "    }\n",
       "\n",
       "    .dataframe thead th {\n",
       "        text-align: right;\n",
       "    }\n",
       "</style>\n",
       "<table border=\"1\" class=\"dataframe\">\n",
       "  <thead>\n",
       "    <tr style=\"text-align: right;\">\n",
       "      <th></th>\n",
       "      <th>Unnamed: 0</th>\n",
       "      <th>File</th>\n",
       "      <th>IntDens</th>\n",
       "      <th>rDNA_Areas</th>\n",
       "      <th>Areas</th>\n",
       "      <th>Mean</th>\n",
       "      <th>Marker_Mean</th>\n",
       "      <th>UBF_Mean</th>\n",
       "      <th>UBF_IntDens</th>\n",
       "      <th>labels</th>\n",
       "      <th>Chromosome</th>\n",
       "      <th>ChromCount</th>\n",
       "      <th>MarkerRank</th>\n",
       "      <th>rDNARank</th>\n",
       "    </tr>\n",
       "  </thead>\n",
       "  <tbody>\n",
       "    <tr>\n",
       "      <th>563</th>\n",
       "      <td>16</td>\n",
       "      <td>./acrocentric_inferred\\B.Orang_chr14_UBF_1014-...</td>\n",
       "      <td>0.051277</td>\n",
       "      <td>92</td>\n",
       "      <td>347.0</td>\n",
       "      <td>790.804348</td>\n",
       "      <td>3688.3198</td>\n",
       "      <td>19911.0</td>\n",
       "      <td>0.002600</td>\n",
       "      <td>17.0</td>\n",
       "      <td>chr14</td>\n",
       "      <td>19</td>\n",
       "      <td>1.0</td>\n",
       "      <td>1.0</td>\n",
       "    </tr>\n",
       "    <tr>\n",
       "      <th>564</th>\n",
       "      <td>7</td>\n",
       "      <td>./acrocentric_inferred\\B.Orang_chr14_UBF_1014-...</td>\n",
       "      <td>0.047302</td>\n",
       "      <td>80</td>\n",
       "      <td>359.0</td>\n",
       "      <td>838.912500</td>\n",
       "      <td>3369.5989</td>\n",
       "      <td>793940.0</td>\n",
       "      <td>0.103672</td>\n",
       "      <td>8.0</td>\n",
       "      <td>chr14</td>\n",
       "      <td>19</td>\n",
       "      <td>2.0</td>\n",
       "      <td>2.0</td>\n",
       "    </tr>\n",
       "  </tbody>\n",
       "</table>\n",
       "</div>"
      ],
      "text/plain": [
       "     Unnamed: 0                                               File   IntDens  \\\n",
       "563          16  ./acrocentric_inferred\\B.Orang_chr14_UBF_1014-...  0.051277   \n",
       "564           7  ./acrocentric_inferred\\B.Orang_chr14_UBF_1014-...  0.047302   \n",
       "\n",
       "     rDNA_Areas  Areas        Mean  Marker_Mean  UBF_Mean  UBF_IntDens  \\\n",
       "563          92  347.0  790.804348    3688.3198   19911.0     0.002600   \n",
       "564          80  359.0  838.912500    3369.5989  793940.0     0.103672   \n",
       "\n",
       "     labels Chromosome  ChromCount  MarkerRank  rDNARank  \n",
       "563    17.0      chr14          19         1.0       1.0  \n",
       "564     8.0      chr14          19         2.0       2.0  "
      ]
     },
     "execution_count": 40,
     "metadata": {},
     "output_type": "execute_result"
    }
   ],
   "source": [
    "combined_df[combined_df['File']=='./acrocentric_inferred\\B.Orang_chr14_UBF_1014-1.tif']"
   ]
  },
  {
   "cell_type": "code",
   "execution_count": 41,
   "metadata": {},
   "outputs": [
    {
     "data": {
      "application/vnd.plotly.v1+json": {
       "config": {
        "plotlyServerURL": "https://plot.ly"
       },
       "data": [
        {
         "hovertemplate": "Chromosome=chr13<br>IntDens=%{x}<br>UBF_IntDens=%{y}<br>rDNARank=%{marker.color}<extra></extra>",
         "legendgroup": "",
         "marker": {
          "color": [
           2,
           1,
           1,
           2,
           2,
           1,
           2,
           1,
           2,
           1,
           1.5,
           1.5,
           2,
           1,
           1,
           2,
           1,
           2,
           1,
           2,
           1,
           2,
           1,
           2,
           1,
           2,
           2,
           1,
           1,
           2
          ],
          "coloraxis": "coloraxis",
          "symbol": "circle"
         },
         "mode": "markers",
         "name": "",
         "orientation": "v",
         "showlegend": false,
         "type": "scatter",
         "x": [
          0.0748888636147672,
          0.1107666281154252,
          0.1055075477998481,
          0.0749277589360829,
          0.0639698991866599,
          0.1442481861585217,
          0.0701366492958458,
          0.0912377537455288,
          0.0735113906638034,
          0.1142374109407076,
          0,
          0,
          0.1019819325661577,
          0.1035309295661129,
          0.0970672796083363,
          0.0853510492757153,
          0.0665402046533457,
          0.0507565720320131,
          0.1006768052057992,
          0.0871791802234355,
          0.1102925792562738,
          0,
          0.0904716716212683,
          0.0853908648119994,
          0.0992549687144796,
          0.0739989461138638,
          0.0802337486521696,
          0.108736321860193,
          0.1394224319410814,
          0.0683979350089087
         ],
         "xaxis": "x",
         "y": [
          0.2232308490449545,
          0.2888539749555275,
          0.1910192093031876,
          0.2701516552661139,
          0.1110166906064109,
          0.2756926704228278,
          0.2488118361121976,
          0.1809785818429702,
          0.1439929946395614,
          0.1957881486571538,
          0,
          0,
          0.2922804594734273,
          0.1749049971985431,
          0.1886163148184024,
          0.1762988784741487,
          0.2381790315079949,
          0.1767260097615776,
          0.1353306600257423,
          0.1797755092746835,
          0.2444551503463873,
          0,
          0.1648200808080275,
          0.3623072192882151,
          0.2777687382481968,
          0.2022559580783439,
          0.324607163092082,
          0.3252343690193486,
          0.3836005026191456,
          0.2251272885279243
         ],
         "yaxis": "y"
        }
       ],
       "frames": [
        {
         "data": [
          {
           "hovertemplate": "Chromosome=chr13<br>IntDens=%{x}<br>UBF_IntDens=%{y}<br>rDNARank=%{marker.color}<extra></extra>",
           "legendgroup": "",
           "marker": {
            "color": [
             2,
             1,
             1,
             2,
             2,
             1,
             2,
             1,
             2,
             1,
             1.5,
             1.5,
             2,
             1,
             1,
             2,
             1,
             2,
             1,
             2,
             1,
             2,
             1,
             2,
             1,
             2,
             2,
             1,
             1,
             2
            ],
            "coloraxis": "coloraxis",
            "symbol": "circle"
           },
           "mode": "markers",
           "name": "",
           "orientation": "v",
           "showlegend": false,
           "type": "scatter",
           "x": [
            0.0748888636147672,
            0.1107666281154252,
            0.1055075477998481,
            0.0749277589360829,
            0.0639698991866599,
            0.1442481861585217,
            0.0701366492958458,
            0.0912377537455288,
            0.0735113906638034,
            0.1142374109407076,
            0,
            0,
            0.1019819325661577,
            0.1035309295661129,
            0.0970672796083363,
            0.0853510492757153,
            0.0665402046533457,
            0.0507565720320131,
            0.1006768052057992,
            0.0871791802234355,
            0.1102925792562738,
            0,
            0.0904716716212683,
            0.0853908648119994,
            0.0992549687144796,
            0.0739989461138638,
            0.0802337486521696,
            0.108736321860193,
            0.1394224319410814,
            0.0683979350089087
           ],
           "xaxis": "x",
           "y": [
            0.2232308490449545,
            0.2888539749555275,
            0.1910192093031876,
            0.2701516552661139,
            0.1110166906064109,
            0.2756926704228278,
            0.2488118361121976,
            0.1809785818429702,
            0.1439929946395614,
            0.1957881486571538,
            0,
            0,
            0.2922804594734273,
            0.1749049971985431,
            0.1886163148184024,
            0.1762988784741487,
            0.2381790315079949,
            0.1767260097615776,
            0.1353306600257423,
            0.1797755092746835,
            0.2444551503463873,
            0,
            0.1648200808080275,
            0.3623072192882151,
            0.2777687382481968,
            0.2022559580783439,
            0.324607163092082,
            0.3252343690193486,
            0.3836005026191456,
            0.2251272885279243
           ],
           "yaxis": "y"
          }
         ],
         "name": "chr13"
        },
        {
         "data": [
          {
           "hovertemplate": "Chromosome=chr14<br>IntDens=%{x}<br>UBF_IntDens=%{y}<br>rDNARank=%{marker.color}<extra></extra>",
           "legendgroup": "",
           "marker": {
            "color": [
             2,
             1,
             1,
             2,
             1,
             2,
             1,
             2,
             1,
             2,
             1,
             2,
             1,
             2,
             1,
             2,
             2,
             1,
             2,
             1,
             1,
             2,
             1,
             2,
             1,
             2,
             1,
             2,
             2,
             1,
             1,
             2,
             2,
             1,
             1,
             2,
             2,
             1
            ],
            "coloraxis": "coloraxis",
            "symbol": "circle"
           },
           "mode": "markers",
           "name": "",
           "orientation": "v",
           "showlegend": false,
           "type": "scatter",
           "x": [
            0.0431801285903279,
            0.0610982193541031,
            0.0705971800173152,
            0.0661555478707879,
            0.1147829336410242,
            0.0537742404972006,
            0.0670316509052888,
            0,
            0.0515167547040881,
            0.0243574798444601,
            0.0776747598977192,
            0.032765716927897,
            0.0575658777073949,
            0.0535424204998007,
            0.0725061682552461,
            0.0546225771639283,
            0.0578308454135577,
            0.0768462491034354,
            0.0312321741498836,
            0.0587038968914286,
            0.0512774790769433,
            0.0473016666202669,
            0.0698994997521294,
            0.0602722498706995,
            0.0804034155976206,
            0.0173340012601961,
            0.0665762091652388,
            0.0642847897576075,
            0.0311833996562904,
            0.0507143568848167,
            0.0860318724905171,
            0.0520325361957247,
            0.0498863640447315,
            0.076201545572202,
            0.0769834277309008,
            0.0523491114147267,
            0.0525719890533045,
            0.071943211422759
           ],
           "xaxis": "x",
           "y": [
            -0.0035418674916929,
            0.1482267496910874,
            0.2044546824307384,
            -0.0032972188451676,
            0.2493668579772888,
            0.0007788920260928,
            -0.0023636650674981,
            0,
            0.0132172300833318,
            0.0503496670666594,
            0.0005635165092056,
            0.0791463022639403,
            -0.0030186687378289,
            0.1142102971200413,
            0.1335537240357352,
            0.1047679608442142,
            -0.0010755058949677,
            0.1355516635580645,
            -0.0027871433528882,
            0.1035041197548383,
            0.0025999604214753,
            0.1036719691138647,
            0.1457987073218984,
            -0.0008618248890289,
            0.1592845011867559,
            -0.0024028773485108,
            0.140874230669987,
            -0.0029024983472096,
            0.0942640783399867,
            -0.0024842291895244,
            0.2177735543892211,
            -0.003350730298257,
            -0.0017574318046014,
            0.0803344599542546,
            0.2073937901994149,
            -0.0027918932218318,
            -0.0073887248378065,
            0.2141912975960496
           ],
           "yaxis": "y"
          }
         ],
         "name": "chr14"
        },
        {
         "data": [
          {
           "hovertemplate": "Chromosome=chr15<br>IntDens=%{x}<br>UBF_IntDens=%{y}<br>rDNARank=%{marker.color}<extra></extra>",
           "legendgroup": "",
           "marker": {
            "color": [
             1,
             2,
             2,
             1,
             1,
             2,
             2,
             1,
             1,
             2,
             2,
             1,
             1,
             2,
             1,
             2,
             1,
             2,
             2,
             1,
             1,
             2,
             1,
             2,
             2,
             1,
             2,
             1,
             2,
             1,
             1,
             2,
             2,
             1
            ],
            "coloraxis": "coloraxis",
            "symbol": "circle"
           },
           "mode": "markers",
           "name": "",
           "orientation": "v",
           "showlegend": false,
           "type": "scatter",
           "x": [
            0.2464608706321887,
            0.1131482760920578,
            0.101728077387117,
            0.2651386946262505,
            0.2062935488422499,
            0.0972922289301907,
            0.0632714014094443,
            0.1049150317596939,
            0.103482105388894,
            0.0364678830590975,
            0.1180705791437845,
            0.214895766470111,
            0.2098132788869397,
            0.1138180756379879,
            0.1882259109459365,
            0.0995169645312635,
            0.2205875195550147,
            0.0775404892721377,
            0.0940766333002761,
            0.2060113012892316,
            0.214555060669832,
            0.111816227228154,
            0.2022831452750352,
            0.094477886359057,
            0.1085174405453092,
            0.2087168795524121,
            0.1258780349719461,
            0.2343739308084781,
            0.1057686066529076,
            0.2124298432498163,
            0.2014463809802946,
            0.1080964163105243,
            0.1162001492755634,
            0.2193713173380941
           ],
           "xaxis": "x",
           "y": [
            -0.0055203820867644,
            -0.0012836177555357,
            -0.0032523386064055,
            -0.0010140149381554,
            0.0001886292683017,
            -0.0042778992650631,
            0.0001205352778912,
            0.0013679488322877,
            -0.0043698302885779,
            0.0751394313005486,
            -0.0031542391215901,
            0.0007426642872896,
            -0.0091200576726736,
            -0.0082787462232513,
            0.0082021881675871,
            -0.0090014350113786,
            -0.001296247449015,
            -0.0004929821882245,
            -0.0054595226518132,
            -0.0116146265296988,
            -0.0167673085035871,
            -0.0109596250098603,
            -0.0093130085207845,
            -0.0022546236129814,
            -0.0048534407243849,
            -0.0062757285728468,
            0.0017199524516157,
            0.0025063991116481,
            0.0005948874647765,
            0.0023662854764455,
            -0.000204789741522,
            -0.0004008989490176,
            -0.0053587139015203,
            0.0060773283827986
           ],
           "yaxis": "y"
          }
         ],
         "name": "chr15"
        },
        {
         "data": [
          {
           "hovertemplate": "Chromosome=chr18<br>IntDens=%{x}<br>UBF_IntDens=%{y}<br>rDNARank=%{marker.color}<extra></extra>",
           "legendgroup": "",
           "marker": {
            "color": [
             1,
             2,
             2,
             1,
             2,
             1,
             2,
             1,
             2,
             1,
             1,
             2,
             1,
             2,
             2,
             1,
             2,
             1,
             1,
             2,
             1.5,
             1.5,
             1,
             2,
             2,
             1,
             2,
             1,
             2,
             1,
             2,
             1
            ],
            "coloraxis": "coloraxis",
            "symbol": "circle"
           },
           "mode": "markers",
           "name": "",
           "orientation": "v",
           "showlegend": false,
           "type": "scatter",
           "x": [
            0.0447485450598994,
            0,
            0.0054004274322202,
            0.052516585398699,
            0,
            0.0551779534191992,
            0,
            0.0372575678393633,
            0,
            0.0414325905317318,
            0.0284613690201063,
            0,
            0.0565986384357005,
            0,
            0,
            0.0478197209956362,
            0,
            0.0432706226981215,
            0.0506235672771899,
            0,
            0,
            0,
            0.0503761751617828,
            0,
            0,
            0.055771660211292,
            0.0462098838709211,
            0.0908227899483489,
            0,
            0.0454921881764715,
            0,
            0.0368801987285368
           ],
           "xaxis": "x",
           "y": [
            0.0552535181451818,
            0,
            -0.0005514685695541,
            0.1009841605176197,
            0,
            0.0792438398434475,
            0,
            0.1305088163407591,
            0,
            0.0520450075754485,
            0.050507025859264,
            0,
            0.0833350309259956,
            0,
            0,
            0.0420242120847541,
            0,
            0.1169323321854754,
            0.1426232386572486,
            0,
            0,
            0,
            0.0586967231455104,
            0,
            0,
            0.1734518632302909,
            0.0582261079340401,
            0.0089156074404775,
            0,
            0.066644279753956,
            0,
            0.0563531284329421
           ],
           "yaxis": "y"
          }
         ],
         "name": "chr18"
        },
        {
         "data": [
          {
           "hovertemplate": "Chromosome=chr21<br>IntDens=%{x}<br>UBF_IntDens=%{y}<br>rDNARank=%{marker.color}<extra></extra>",
           "legendgroup": "",
           "marker": {
            "color": [
             2,
             1,
             2,
             1,
             1,
             2,
             2,
             1,
             2,
             1,
             2,
             1,
             1,
             2,
             2,
             1,
             1,
             2,
             1,
             2,
             1,
             2,
             1,
             2,
             1,
             2,
             2,
             1
            ],
            "coloraxis": "coloraxis",
            "symbol": "circle"
           },
           "mode": "markers",
           "name": "",
           "orientation": "v",
           "showlegend": false,
           "type": "scatter",
           "x": [
            0,
            0.0295177684345349,
            0.0104764598280991,
            0.0316460459284308,
            0.0234608818575849,
            0,
            0.0151790260163385,
            0.0745973512237128,
            0.0030439202312546,
            0.0303357834358273,
            0,
            0.0290484091450758,
            0.0222778138682167,
            0,
            0.0079892214313495,
            0.0690626506326419,
            0.028906407683526,
            0,
            0.0235971297446116,
            0.0086542475358872,
            0.0237614896772962,
            0,
            0.027563008638145,
            0,
            0.0071412823776361,
            0,
            0.005683322824926,
            0.0312500249513681
           ],
           "xaxis": "x",
           "y": [
            0,
            0.0003910477097188,
            0.0159511617137027,
            -0.0032423496317701,
            -0.0009762625097876,
            0,
            0.0008514598761207,
            0.2085855226205218,
            0.0129386824839505,
            -0.0009691491849721,
            0,
            -0.000961766616689,
            -0.0027456274433441,
            0,
            0.0108832031405076,
            0.1870862134706874,
            0.0001879017621061,
            0,
            -0.0004573600695354,
            -0.0001025658737173,
            0.0009741901882288,
            0,
            -0.0003399301008443,
            0,
            0.0121231039671349,
            0,
            0.025658000012435,
            0.0264242254872477
           ],
           "yaxis": "y"
          }
         ],
         "name": "chr21"
        },
        {
         "data": [
          {
           "hovertemplate": "Chromosome=chr22<br>IntDens=%{x}<br>UBF_IntDens=%{y}<br>rDNARank=%{marker.color}<extra></extra>",
           "legendgroup": "",
           "marker": {
            "color": [
             2,
             1,
             2,
             1,
             2,
             1,
             2,
             1,
             2,
             1,
             1,
             2,
             2,
             1,
             1,
             2,
             2,
             1,
             1,
             2,
             2,
             1,
             2,
             1,
             2,
             1,
             2,
             1,
             2,
             1,
             1,
             2,
             2,
             1
            ],
            "coloraxis": "coloraxis",
            "symbol": "circle"
           },
           "mode": "markers",
           "name": "",
           "orientation": "v",
           "showlegend": false,
           "type": "scatter",
           "x": [
            0.0169184793087129,
            0.0567919303104131,
            0.0184326146318411,
            0.0534689385170762,
            0.0202703271412922,
            0.0672619426952633,
            0.0058159641537983,
            0.0572896124895642,
            0,
            0.0725281078805224,
            0.0679861551714355,
            0,
            0.018880643575362,
            0.0661591456180094,
            0.0808811958315909,
            0.0218038953456164,
            0.0191943064471809,
            0.0828835138323001,
            0.0713443144227235,
            0,
            0,
            0.0730510588567013,
            0.0237234690264908,
            0.0876685411267096,
            0.0211915416419092,
            0.066600440681323,
            0.0164981766212565,
            0.0757228786125645,
            0.0160384539181312,
            0.0805604862230529,
            0.0675958745261908,
            0.0107991202965962,
            0,
            0.0145689980934468
           ],
           "xaxis": "x",
           "y": [
            -0.0028015616671965,
            0.0532889578364969,
            -0.002517519516333,
            -0.0067347017601138,
            -0.0005880095231705,
            0.0593506224524622,
            0.0002095381845952,
            0.0829616831367753,
            0,
            0.0452946319664728,
            0.0910168418893878,
            0,
            -0.0019343688497776,
            0.0975648722747205,
            0.0801009700126271,
            -0.0013585034874459,
            -0.0011325863759839,
            0.0903749926471084,
            0.0613393665158371,
            0,
            0,
            0.1220919093476179,
            -0.0069482357174082,
            0.0616333425640812,
            -0.0004876587972858,
            0.0566851167258256,
            -0.0039287861611261,
            0.095699269370206,
            -0.0025573411685635,
            0.0773533858011598,
            0.1135762029189521,
            0.0048005250108134,
            0,
            -0.000007750476597321936
           ],
           "yaxis": "y"
          }
         ],
         "name": "chr22"
        },
        {
         "data": [
          {
           "hovertemplate": "Chromosome=chr2<br>IntDens=%{x}<br>UBF_IntDens=%{y}<br>rDNARank=%{marker.color}<extra></extra>",
           "legendgroup": "",
           "marker": {
            "color": [
             4,
             3,
             4,
             1,
             4,
             1,
             2,
             3,
             1,
             4,
             3,
             1,
             4,
             1,
             2,
             3,
             3,
             2,
             1,
             2,
             1,
             3,
             2,
             3,
             3,
             2,
             1,
             4,
             1,
             3,
             1,
             2,
             1,
             2,
             1,
             3,
             4,
             3,
             1,
             3,
             4,
             1,
             2,
             1,
             2,
             3,
             2,
             3,
             1,
             4,
             3,
             2,
             4,
             2,
             2,
             3,
             1,
             4,
             1,
             4,
             4,
             3,
             4,
             2,
             1,
             4,
             1,
             4,
             3,
             2,
             4,
             2,
             3,
             4,
             3,
             4,
             2,
             4,
             2,
             1,
             4,
             2,
             3,
             2
            ],
            "coloraxis": "coloraxis",
            "symbol": "circle"
           },
           "mode": "markers",
           "name": "",
           "orientation": "v",
           "showlegend": false,
           "type": "scatter",
           "x": [
            0,
            0.007853904266597,
            0.0104191823356908,
            0.0994095088971749,
            0.008115677957313,
            0.1022619253074295,
            0.0802596170801402,
            0.0267984758558525,
            0.0894485023796331,
            0.0387577872677513,
            0.0404667006350079,
            0.0941594921436101,
            0.0144358899864419,
            0.0934940925818322,
            0.0542756442471949,
            0.0414090600438769,
            0.0349787406396706,
            0.0446666483000486,
            0.1016783720494868,
            0.0474630313361431,
            0.1039998664771484,
            0.0081322634063032,
            0.0515845613312787,
            0.0326416217376833,
            0.0378463817319357,
            0.0438632600525537,
            0.138737283280608,
            0.0145536831798234,
            0.0518762691636529,
            0.0212571060852549,
            0.1040109770755233,
            0.0428155685769943,
            0.107289505017495,
            0.0510410051563987,
            0.1045360760609233,
            0.0359078891434851,
            0,
            0.0468461668553643,
            0.1246913004546827,
            0.0375936343480675,
            0.0112987559788975,
            0.0945615804920019,
            0.0479745182679076,
            0.1588638837021915,
            0.0436366290256233,
            0.0322978729050835,
            0.0446460123484474,
            0.0307423665548598,
            0.1870285651074381,
            0.0215281527473694,
            0.042400448327515,
            0.0537371511398853,
            0.0133123398359113,
            0.0465847520272021,
            0.0506507844276583,
            0.0327987604106139,
            0.0985077129902792,
            0.0073427820912405,
            0.0968684432986252,
            0.0091001758845339,
            0.004888524799788,
            0.0213130113965919,
            0,
            0.0380485996114304,
            0.0957342740824764,
            0.014344090276146,
            0.0977738552191785,
            0.0249834882363599,
            0.0391871951623376,
            0.0998696491452083,
            0.0192423130611885,
            0.0327997579184047,
            0.0325814896693548,
            0.0113827703281659,
            0.0352261597603384,
            0.0095081433658329,
            0.0452628850480564,
            0.0038154879781024,
            0.0468569971832816,
            0.0895351539947664,
            0.0166884987840429,
            0.0461814048767345,
            0.0402283203241659,
            0.040701392062142
           ],
           "xaxis": "x",
           "y": [
            0,
            -0.0026145676000581,
            -0.0013409544295237,
            0.125897968884716,
            -0.0012337456637661,
            0.1229672948200174,
            0.1377220324906768,
            0.0673366912370098,
            0.1197334668654134,
            0.0811571348299606,
            0.1125324070578167,
            0.1155544816129275,
            -0.0023762549161279,
            0.1880285912019438,
            0.1247442389341986,
            -0.0135896651583108,
            0.0628634363506475,
            -0.002553582309172,
            0.1365907478520807,
            -0.003141354342245,
            0.1336672313035267,
            0.0003173872549612,
            -0.0040144905130057,
            0.0861693509082813,
            0.1272293036443318,
            -0.0047014046287894,
            0.309115711977211,
            -0.0032050022579804,
            0.182036203583399,
            0.0402033258160358,
            0.1436497641229209,
            -0.0003645378878561,
            0.2470611948320825,
            -0.0015396999980092,
            0.2211129067664443,
            0.094053272807098,
            0,
            0.0911628401078253,
            0.2584500118146975,
            0.0808711036529442,
            -0.0002140741044345,
            0.2025288461907046,
            -0.0024025124068113,
            0.2737390353291383,
            -0.0012032000477631,
            0.0797729509268931,
            -0.0018145221834082,
            0.0842443439252585,
            -0.0037466719057553,
            0.036207863506314,
            -0.0017106187389124,
            -0.0032571565035657,
            -0.0028589695184877,
            -0.0046426539807193,
            -0.0026067063141422,
            0.1504520452293883,
            0.0540787115693439,
            -0.0049941982052671,
            0.088152250543762,
            -0.0008895322356932,
            -0.0005641814135531,
            0.0482585826947207,
            0,
            -0.00133647990729,
            0.1367562695283977,
            -0.0008594191012411,
            0.0976170995778397,
            0.00805280577109,
            -0.002114702989421,
            0.1836091777384285,
            0.0005401829672908,
            0.0654076433058724,
            0.0524287176217332,
            -0.0020213998383342,
            0.0435178319033304,
            -0.0004401364640773,
            -0.0004702673879139,
            -0.0004623835235836,
            0.0032017091520192,
            0.2108380067958858,
            -0.0009121346955612,
            -0.0049406461638278,
            0.0006554913693636,
            0.1312670857526016
           ],
           "yaxis": "y"
          }
         ],
         "name": "chr2"
        },
        {
         "data": [
          {
           "hovertemplate": "Chromosome=chr9<br>IntDens=%{x}<br>UBF_IntDens=%{y}<br>rDNARank=%{marker.color}<extra></extra>",
           "legendgroup": "",
           "marker": {
            "color": [
             1.5,
             1.5,
             1,
             2,
             2,
             1,
             1.5,
             1.5,
             1,
             2,
             2,
             1,
             1,
             2,
             2,
             1,
             2,
             1,
             2,
             1,
             1,
             2,
             1,
             2,
             1,
             2,
             2,
             1,
             1,
             2,
             2,
             1,
             1,
             2,
             2,
             1,
             1,
             2,
             1,
             2,
             1,
             2,
             2,
             1,
             2,
             1
            ],
            "coloraxis": "coloraxis",
            "symbol": "circle"
           },
           "mode": "markers",
           "name": "",
           "orientation": "v",
           "showlegend": false,
           "type": "scatter",
           "x": [
            0,
            0,
            0.0303321929369322,
            0.0194186497639429,
            0,
            0.0271056519430408,
            0,
            0,
            0.0473636750678947,
            0.014649922387144,
            0,
            0.0437173956743966,
            0.0320757183968234,
            0,
            0.0245925333922817,
            0.0317343581285018,
            0.027600511082102,
            0.0303411715414527,
            0.0251183957777203,
            0.0287657418886263,
            0.026409763736353,
            0.0232708888522312,
            0.0264743815421504,
            0.0188432963312489,
            0.0363470687241369,
            0.0304683715920476,
            0.0240142791720211,
            0.0328829440263053,
            0.0431349480185979,
            0,
            0.0306091284551687,
            0.0354158505275631,
            0.0252198056455344,
            0.0179739318216874,
            0,
            0.0355893110038636,
            0.0398051025941523,
            0.0235403135387816,
            0.1402435682065138,
            0.0220368931350136,
            0.0328202150909796,
            0.0274845296943341,
            0.0181239074852774,
            0.024893339851098,
            0,
            0.0416494526368264
           ],
           "xaxis": "x",
           "y": [
            0,
            0,
            0.0047160037002775,
            0.0298075855689176,
            0,
            0.0095399618401526,
            0,
            0,
            0.0268571681225879,
            -0.0007584897159111,
            0,
            0.0128854429691244,
            0.0454709085330269,
            0,
            -0.0055663998065398,
            0.020375826696557,
            0.0156756079925479,
            0.0160816480739875,
            -0.0014790187866928,
            -0.0019241263362426,
            0.0562662024782069,
            0.0382576950435334,
            0.0040547304650539,
            0.0256041783056634,
            0.0212918827902367,
            0.147677328940875,
            0.0311606673948107,
            0.015062429101696,
            0.0305925737307148,
            0,
            0.0126287748310054,
            0.0300700093111859,
            -0.0012722161229278,
            0.0151831694670737,
            0,
            0.0365990562179329,
            0.037150185585926,
            0.0165315438323514,
            0.1902178564802188,
            0.0178598294851327,
            0.0175281209338367,
            0.0293995512318061,
            0.0114617903690191,
            -0.0001890151431899,
            0,
            0.1375422311832339
           ],
           "yaxis": "y"
          }
         ],
         "name": "chr9"
        }
       ],
       "layout": {
        "coloraxis": {
         "colorbar": {
          "title": {
           "text": "rDNARank"
          }
         },
         "colorscale": [
          [
           0,
           "#0d0887"
          ],
          [
           0.1111111111111111,
           "#46039f"
          ],
          [
           0.2222222222222222,
           "#7201a8"
          ],
          [
           0.3333333333333333,
           "#9c179e"
          ],
          [
           0.4444444444444444,
           "#bd3786"
          ],
          [
           0.5555555555555556,
           "#d8576b"
          ],
          [
           0.6666666666666666,
           "#ed7953"
          ],
          [
           0.7777777777777778,
           "#fb9f3a"
          ],
          [
           0.8888888888888888,
           "#fdca26"
          ],
          [
           1,
           "#f0f921"
          ]
         ]
        },
        "legend": {
         "tracegroupgap": 0
        },
        "margin": {
         "t": 60
        },
        "sliders": [
         {
          "active": 0,
          "currentvalue": {
           "prefix": "Chromosome="
          },
          "len": 0.9,
          "pad": {
           "b": 10,
           "t": 60
          },
          "steps": [
           {
            "args": [
             [
              "chr13"
             ],
             {
              "frame": {
               "duration": 0,
               "redraw": false
              },
              "fromcurrent": true,
              "mode": "immediate",
              "transition": {
               "duration": 0,
               "easing": "linear"
              }
             }
            ],
            "label": "chr13",
            "method": "animate"
           },
           {
            "args": [
             [
              "chr14"
             ],
             {
              "frame": {
               "duration": 0,
               "redraw": false
              },
              "fromcurrent": true,
              "mode": "immediate",
              "transition": {
               "duration": 0,
               "easing": "linear"
              }
             }
            ],
            "label": "chr14",
            "method": "animate"
           },
           {
            "args": [
             [
              "chr15"
             ],
             {
              "frame": {
               "duration": 0,
               "redraw": false
              },
              "fromcurrent": true,
              "mode": "immediate",
              "transition": {
               "duration": 0,
               "easing": "linear"
              }
             }
            ],
            "label": "chr15",
            "method": "animate"
           },
           {
            "args": [
             [
              "chr18"
             ],
             {
              "frame": {
               "duration": 0,
               "redraw": false
              },
              "fromcurrent": true,
              "mode": "immediate",
              "transition": {
               "duration": 0,
               "easing": "linear"
              }
             }
            ],
            "label": "chr18",
            "method": "animate"
           },
           {
            "args": [
             [
              "chr21"
             ],
             {
              "frame": {
               "duration": 0,
               "redraw": false
              },
              "fromcurrent": true,
              "mode": "immediate",
              "transition": {
               "duration": 0,
               "easing": "linear"
              }
             }
            ],
            "label": "chr21",
            "method": "animate"
           },
           {
            "args": [
             [
              "chr22"
             ],
             {
              "frame": {
               "duration": 0,
               "redraw": false
              },
              "fromcurrent": true,
              "mode": "immediate",
              "transition": {
               "duration": 0,
               "easing": "linear"
              }
             }
            ],
            "label": "chr22",
            "method": "animate"
           },
           {
            "args": [
             [
              "chr2"
             ],
             {
              "frame": {
               "duration": 0,
               "redraw": false
              },
              "fromcurrent": true,
              "mode": "immediate",
              "transition": {
               "duration": 0,
               "easing": "linear"
              }
             }
            ],
            "label": "chr2",
            "method": "animate"
           },
           {
            "args": [
             [
              "chr9"
             ],
             {
              "frame": {
               "duration": 0,
               "redraw": false
              },
              "fromcurrent": true,
              "mode": "immediate",
              "transition": {
               "duration": 0,
               "easing": "linear"
              }
             }
            ],
            "label": "chr9",
            "method": "animate"
           }
          ],
          "x": 0.1,
          "xanchor": "left",
          "y": 0,
          "yanchor": "top"
         }
        ],
        "template": {
         "data": {
          "bar": [
           {
            "error_x": {
             "color": "#2a3f5f"
            },
            "error_y": {
             "color": "#2a3f5f"
            },
            "marker": {
             "line": {
              "color": "#E5ECF6",
              "width": 0.5
             },
             "pattern": {
              "fillmode": "overlay",
              "size": 10,
              "solidity": 0.2
             }
            },
            "type": "bar"
           }
          ],
          "barpolar": [
           {
            "marker": {
             "line": {
              "color": "#E5ECF6",
              "width": 0.5
             },
             "pattern": {
              "fillmode": "overlay",
              "size": 10,
              "solidity": 0.2
             }
            },
            "type": "barpolar"
           }
          ],
          "carpet": [
           {
            "aaxis": {
             "endlinecolor": "#2a3f5f",
             "gridcolor": "white",
             "linecolor": "white",
             "minorgridcolor": "white",
             "startlinecolor": "#2a3f5f"
            },
            "baxis": {
             "endlinecolor": "#2a3f5f",
             "gridcolor": "white",
             "linecolor": "white",
             "minorgridcolor": "white",
             "startlinecolor": "#2a3f5f"
            },
            "type": "carpet"
           }
          ],
          "choropleth": [
           {
            "colorbar": {
             "outlinewidth": 0,
             "ticks": ""
            },
            "type": "choropleth"
           }
          ],
          "contour": [
           {
            "colorbar": {
             "outlinewidth": 0,
             "ticks": ""
            },
            "colorscale": [
             [
              0,
              "#0d0887"
             ],
             [
              0.1111111111111111,
              "#46039f"
             ],
             [
              0.2222222222222222,
              "#7201a8"
             ],
             [
              0.3333333333333333,
              "#9c179e"
             ],
             [
              0.4444444444444444,
              "#bd3786"
             ],
             [
              0.5555555555555556,
              "#d8576b"
             ],
             [
              0.6666666666666666,
              "#ed7953"
             ],
             [
              0.7777777777777778,
              "#fb9f3a"
             ],
             [
              0.8888888888888888,
              "#fdca26"
             ],
             [
              1,
              "#f0f921"
             ]
            ],
            "type": "contour"
           }
          ],
          "contourcarpet": [
           {
            "colorbar": {
             "outlinewidth": 0,
             "ticks": ""
            },
            "type": "contourcarpet"
           }
          ],
          "heatmap": [
           {
            "colorbar": {
             "outlinewidth": 0,
             "ticks": ""
            },
            "colorscale": [
             [
              0,
              "#0d0887"
             ],
             [
              0.1111111111111111,
              "#46039f"
             ],
             [
              0.2222222222222222,
              "#7201a8"
             ],
             [
              0.3333333333333333,
              "#9c179e"
             ],
             [
              0.4444444444444444,
              "#bd3786"
             ],
             [
              0.5555555555555556,
              "#d8576b"
             ],
             [
              0.6666666666666666,
              "#ed7953"
             ],
             [
              0.7777777777777778,
              "#fb9f3a"
             ],
             [
              0.8888888888888888,
              "#fdca26"
             ],
             [
              1,
              "#f0f921"
             ]
            ],
            "type": "heatmap"
           }
          ],
          "heatmapgl": [
           {
            "colorbar": {
             "outlinewidth": 0,
             "ticks": ""
            },
            "colorscale": [
             [
              0,
              "#0d0887"
             ],
             [
              0.1111111111111111,
              "#46039f"
             ],
             [
              0.2222222222222222,
              "#7201a8"
             ],
             [
              0.3333333333333333,
              "#9c179e"
             ],
             [
              0.4444444444444444,
              "#bd3786"
             ],
             [
              0.5555555555555556,
              "#d8576b"
             ],
             [
              0.6666666666666666,
              "#ed7953"
             ],
             [
              0.7777777777777778,
              "#fb9f3a"
             ],
             [
              0.8888888888888888,
              "#fdca26"
             ],
             [
              1,
              "#f0f921"
             ]
            ],
            "type": "heatmapgl"
           }
          ],
          "histogram": [
           {
            "marker": {
             "pattern": {
              "fillmode": "overlay",
              "size": 10,
              "solidity": 0.2
             }
            },
            "type": "histogram"
           }
          ],
          "histogram2d": [
           {
            "colorbar": {
             "outlinewidth": 0,
             "ticks": ""
            },
            "colorscale": [
             [
              0,
              "#0d0887"
             ],
             [
              0.1111111111111111,
              "#46039f"
             ],
             [
              0.2222222222222222,
              "#7201a8"
             ],
             [
              0.3333333333333333,
              "#9c179e"
             ],
             [
              0.4444444444444444,
              "#bd3786"
             ],
             [
              0.5555555555555556,
              "#d8576b"
             ],
             [
              0.6666666666666666,
              "#ed7953"
             ],
             [
              0.7777777777777778,
              "#fb9f3a"
             ],
             [
              0.8888888888888888,
              "#fdca26"
             ],
             [
              1,
              "#f0f921"
             ]
            ],
            "type": "histogram2d"
           }
          ],
          "histogram2dcontour": [
           {
            "colorbar": {
             "outlinewidth": 0,
             "ticks": ""
            },
            "colorscale": [
             [
              0,
              "#0d0887"
             ],
             [
              0.1111111111111111,
              "#46039f"
             ],
             [
              0.2222222222222222,
              "#7201a8"
             ],
             [
              0.3333333333333333,
              "#9c179e"
             ],
             [
              0.4444444444444444,
              "#bd3786"
             ],
             [
              0.5555555555555556,
              "#d8576b"
             ],
             [
              0.6666666666666666,
              "#ed7953"
             ],
             [
              0.7777777777777778,
              "#fb9f3a"
             ],
             [
              0.8888888888888888,
              "#fdca26"
             ],
             [
              1,
              "#f0f921"
             ]
            ],
            "type": "histogram2dcontour"
           }
          ],
          "mesh3d": [
           {
            "colorbar": {
             "outlinewidth": 0,
             "ticks": ""
            },
            "type": "mesh3d"
           }
          ],
          "parcoords": [
           {
            "line": {
             "colorbar": {
              "outlinewidth": 0,
              "ticks": ""
             }
            },
            "type": "parcoords"
           }
          ],
          "pie": [
           {
            "automargin": true,
            "type": "pie"
           }
          ],
          "scatter": [
           {
            "fillpattern": {
             "fillmode": "overlay",
             "size": 10,
             "solidity": 0.2
            },
            "type": "scatter"
           }
          ],
          "scatter3d": [
           {
            "line": {
             "colorbar": {
              "outlinewidth": 0,
              "ticks": ""
             }
            },
            "marker": {
             "colorbar": {
              "outlinewidth": 0,
              "ticks": ""
             }
            },
            "type": "scatter3d"
           }
          ],
          "scattercarpet": [
           {
            "marker": {
             "colorbar": {
              "outlinewidth": 0,
              "ticks": ""
             }
            },
            "type": "scattercarpet"
           }
          ],
          "scattergeo": [
           {
            "marker": {
             "colorbar": {
              "outlinewidth": 0,
              "ticks": ""
             }
            },
            "type": "scattergeo"
           }
          ],
          "scattergl": [
           {
            "marker": {
             "colorbar": {
              "outlinewidth": 0,
              "ticks": ""
             }
            },
            "type": "scattergl"
           }
          ],
          "scattermapbox": [
           {
            "marker": {
             "colorbar": {
              "outlinewidth": 0,
              "ticks": ""
             }
            },
            "type": "scattermapbox"
           }
          ],
          "scatterpolar": [
           {
            "marker": {
             "colorbar": {
              "outlinewidth": 0,
              "ticks": ""
             }
            },
            "type": "scatterpolar"
           }
          ],
          "scatterpolargl": [
           {
            "marker": {
             "colorbar": {
              "outlinewidth": 0,
              "ticks": ""
             }
            },
            "type": "scatterpolargl"
           }
          ],
          "scatterternary": [
           {
            "marker": {
             "colorbar": {
              "outlinewidth": 0,
              "ticks": ""
             }
            },
            "type": "scatterternary"
           }
          ],
          "surface": [
           {
            "colorbar": {
             "outlinewidth": 0,
             "ticks": ""
            },
            "colorscale": [
             [
              0,
              "#0d0887"
             ],
             [
              0.1111111111111111,
              "#46039f"
             ],
             [
              0.2222222222222222,
              "#7201a8"
             ],
             [
              0.3333333333333333,
              "#9c179e"
             ],
             [
              0.4444444444444444,
              "#bd3786"
             ],
             [
              0.5555555555555556,
              "#d8576b"
             ],
             [
              0.6666666666666666,
              "#ed7953"
             ],
             [
              0.7777777777777778,
              "#fb9f3a"
             ],
             [
              0.8888888888888888,
              "#fdca26"
             ],
             [
              1,
              "#f0f921"
             ]
            ],
            "type": "surface"
           }
          ],
          "table": [
           {
            "cells": {
             "fill": {
              "color": "#EBF0F8"
             },
             "line": {
              "color": "white"
             }
            },
            "header": {
             "fill": {
              "color": "#C8D4E3"
             },
             "line": {
              "color": "white"
             }
            },
            "type": "table"
           }
          ]
         },
         "layout": {
          "annotationdefaults": {
           "arrowcolor": "#2a3f5f",
           "arrowhead": 0,
           "arrowwidth": 1
          },
          "autotypenumbers": "strict",
          "coloraxis": {
           "colorbar": {
            "outlinewidth": 0,
            "ticks": ""
           }
          },
          "colorscale": {
           "diverging": [
            [
             0,
             "#8e0152"
            ],
            [
             0.1,
             "#c51b7d"
            ],
            [
             0.2,
             "#de77ae"
            ],
            [
             0.3,
             "#f1b6da"
            ],
            [
             0.4,
             "#fde0ef"
            ],
            [
             0.5,
             "#f7f7f7"
            ],
            [
             0.6,
             "#e6f5d0"
            ],
            [
             0.7,
             "#b8e186"
            ],
            [
             0.8,
             "#7fbc41"
            ],
            [
             0.9,
             "#4d9221"
            ],
            [
             1,
             "#276419"
            ]
           ],
           "sequential": [
            [
             0,
             "#0d0887"
            ],
            [
             0.1111111111111111,
             "#46039f"
            ],
            [
             0.2222222222222222,
             "#7201a8"
            ],
            [
             0.3333333333333333,
             "#9c179e"
            ],
            [
             0.4444444444444444,
             "#bd3786"
            ],
            [
             0.5555555555555556,
             "#d8576b"
            ],
            [
             0.6666666666666666,
             "#ed7953"
            ],
            [
             0.7777777777777778,
             "#fb9f3a"
            ],
            [
             0.8888888888888888,
             "#fdca26"
            ],
            [
             1,
             "#f0f921"
            ]
           ],
           "sequentialminus": [
            [
             0,
             "#0d0887"
            ],
            [
             0.1111111111111111,
             "#46039f"
            ],
            [
             0.2222222222222222,
             "#7201a8"
            ],
            [
             0.3333333333333333,
             "#9c179e"
            ],
            [
             0.4444444444444444,
             "#bd3786"
            ],
            [
             0.5555555555555556,
             "#d8576b"
            ],
            [
             0.6666666666666666,
             "#ed7953"
            ],
            [
             0.7777777777777778,
             "#fb9f3a"
            ],
            [
             0.8888888888888888,
             "#fdca26"
            ],
            [
             1,
             "#f0f921"
            ]
           ]
          },
          "colorway": [
           "#636efa",
           "#EF553B",
           "#00cc96",
           "#ab63fa",
           "#FFA15A",
           "#19d3f3",
           "#FF6692",
           "#B6E880",
           "#FF97FF",
           "#FECB52"
          ],
          "font": {
           "color": "#2a3f5f"
          },
          "geo": {
           "bgcolor": "white",
           "lakecolor": "white",
           "landcolor": "#E5ECF6",
           "showlakes": true,
           "showland": true,
           "subunitcolor": "white"
          },
          "hoverlabel": {
           "align": "left"
          },
          "hovermode": "closest",
          "mapbox": {
           "style": "light"
          },
          "paper_bgcolor": "white",
          "plot_bgcolor": "#E5ECF6",
          "polar": {
           "angularaxis": {
            "gridcolor": "white",
            "linecolor": "white",
            "ticks": ""
           },
           "bgcolor": "#E5ECF6",
           "radialaxis": {
            "gridcolor": "white",
            "linecolor": "white",
            "ticks": ""
           }
          },
          "scene": {
           "xaxis": {
            "backgroundcolor": "#E5ECF6",
            "gridcolor": "white",
            "gridwidth": 2,
            "linecolor": "white",
            "showbackground": true,
            "ticks": "",
            "zerolinecolor": "white"
           },
           "yaxis": {
            "backgroundcolor": "#E5ECF6",
            "gridcolor": "white",
            "gridwidth": 2,
            "linecolor": "white",
            "showbackground": true,
            "ticks": "",
            "zerolinecolor": "white"
           },
           "zaxis": {
            "backgroundcolor": "#E5ECF6",
            "gridcolor": "white",
            "gridwidth": 2,
            "linecolor": "white",
            "showbackground": true,
            "ticks": "",
            "zerolinecolor": "white"
           }
          },
          "shapedefaults": {
           "line": {
            "color": "#2a3f5f"
           }
          },
          "ternary": {
           "aaxis": {
            "gridcolor": "white",
            "linecolor": "white",
            "ticks": ""
           },
           "baxis": {
            "gridcolor": "white",
            "linecolor": "white",
            "ticks": ""
           },
           "bgcolor": "#E5ECF6",
           "caxis": {
            "gridcolor": "white",
            "linecolor": "white",
            "ticks": ""
           }
          },
          "title": {
           "x": 0.05
          },
          "xaxis": {
           "automargin": true,
           "gridcolor": "white",
           "linecolor": "white",
           "ticks": "",
           "title": {
            "standoff": 15
           },
           "zerolinecolor": "white",
           "zerolinewidth": 2
          },
          "yaxis": {
           "automargin": true,
           "gridcolor": "white",
           "linecolor": "white",
           "ticks": "",
           "title": {
            "standoff": 15
           },
           "zerolinecolor": "white",
           "zerolinewidth": 2
          }
         }
        },
        "updatemenus": [
         {
          "buttons": [
           {
            "args": [
             null,
             {
              "frame": {
               "duration": 500,
               "redraw": false
              },
              "fromcurrent": true,
              "mode": "immediate",
              "transition": {
               "duration": 500,
               "easing": "linear"
              }
             }
            ],
            "label": "&#9654;",
            "method": "animate"
           },
           {
            "args": [
             [
              null
             ],
             {
              "frame": {
               "duration": 0,
               "redraw": false
              },
              "fromcurrent": true,
              "mode": "immediate",
              "transition": {
               "duration": 0,
               "easing": "linear"
              }
             }
            ],
            "label": "&#9724;",
            "method": "animate"
           }
          ],
          "direction": "left",
          "pad": {
           "r": 10,
           "t": 70
          },
          "showactive": false,
          "type": "buttons",
          "x": 0.1,
          "xanchor": "right",
          "y": 0,
          "yanchor": "top"
         }
        ],
        "xaxis": {
         "anchor": "y",
         "domain": [
          0,
          1
         ],
         "range": [
          -0.02,
          0.34
         ],
         "title": {
          "text": "IntDens"
         }
        },
        "yaxis": {
         "anchor": "x",
         "domain": [
          0,
          1
         ],
         "range": [
          -0.02,
          0.44
         ],
         "title": {
          "text": "UBF_IntDens"
         }
        }
       }
      }
     },
     "metadata": {},
     "output_type": "display_data"
    }
   ],
   "source": [
    "px.scatter(combined_df, x='IntDens', y='UBF_IntDens', animation_frame='Chromosome', range_x=[-.02,0.34], range_y=[-.02,.44], color='rDNARank')"
   ]
  },
  {
   "cell_type": "code",
   "execution_count": null,
   "metadata": {},
   "outputs": [],
   "source": []
  }
 ],
 "metadata": {
  "accelerator": "GPU",
  "colab": {
   "collapsed_sections": [],
   "name": "Copy of run_cellpose_GPU.ipynb",
   "provenance": [],
   "toc_visible": true
  },
  "kernelspec": {
   "display_name": "Python 3 (ipykernel)",
   "language": "python",
   "name": "python3"
  },
  "language_info": {
   "codemirror_mode": {
    "name": "ipython",
    "version": 3
   },
   "file_extension": ".py",
   "mimetype": "text/x-python",
   "name": "python",
   "nbconvert_exporter": "python",
   "pygments_lexer": "ipython3",
   "version": "3.10.13"
  }
 },
 "nbformat": 4,
 "nbformat_minor": 4
}

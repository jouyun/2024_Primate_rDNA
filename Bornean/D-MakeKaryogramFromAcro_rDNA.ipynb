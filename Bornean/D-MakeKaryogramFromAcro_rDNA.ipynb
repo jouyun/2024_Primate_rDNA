{
 "cells": [
  {
   "cell_type": "code",
   "execution_count": 1,
   "metadata": {
    "colab": {
     "base_uri": "https://localhost:8080/"
    },
    "id": "hG3LSmJmLylT",
    "outputId": "90648520-16bd-4847-f62e-50cd5684d6ad"
   },
   "outputs": [],
   "source": [
    "import numpy as np\n",
    "import time, os, sys\n",
    "from urllib.parse import urlparse\n",
    "import skimage.io\n",
    "import scipy as sp\n",
    "import tifffile\n",
    "from cellpose import plot\n",
    "import pandas as pd\n",
    "import glob\n",
    "\n",
    "from urllib.parse import urlparse\n",
    "from cellpose import models\n",
    "import skimage.measure as measure\n",
    "import skimage.transform as transform\n",
    "import plotly.graph_objs as go\n",
    "\n",
    "import cv2\n",
    "import napari\n",
    "import scipy.ndimage as ndimage\n",
    "from roifile import ImagejRoi\n",
    "from cellpose import models\n",
    "import glob\n",
    "import plotly.express as px\n",
    "from scipy import stats"
   ]
  },
  {
   "cell_type": "code",
   "execution_count": 2,
   "metadata": {},
   "outputs": [],
   "source": [
    "viewer = napari.Viewer()"
   ]
  },
  {
   "cell_type": "markdown",
   "metadata": {},
   "source": [
    "# Real Work"
   ]
  },
  {
   "cell_type": "code",
   "execution_count": 3,
   "metadata": {},
   "outputs": [],
   "source": [
    "wwidth=65\n",
    "wheight=130\n"
   ]
  },
  {
   "cell_type": "code",
   "execution_count": 4,
   "metadata": {},
   "outputs": [],
   "source": [
    "UBF_channel = 3\n",
    "marker_channel = 2\n",
    "rDNA_channel = 1\n",
    "DAPI_channel = 0"
   ]
  },
  {
   "cell_type": "code",
   "execution_count": 5,
   "metadata": {},
   "outputs": [],
   "source": [
    "def pad_image_to(img, width, height):\n",
    "    shp = img.shape\n",
    "    newimg = img.copy()\n",
    "    \n",
    "    if (shp[-2]>width):\n",
    "        offset = int(np.round((shp[-2]-width)/2))\n",
    "        newimg = newimg[offset:(offset+width),:]\n",
    "    if (shp[-1]>height):\n",
    "        offset = int(np.round((shp[-1]-height)/2))\n",
    "        newimg = newimg[:,offset:(offset+height)]\n",
    "\n",
    "    shp = newimg.shape\n",
    "    w = width-shp[-2]\n",
    "    padl = int(np.round(w/2))\n",
    "    padr = width-padl-shp[-2]\n",
    "    h = height-shp[-1]\n",
    "    padu = int(np.round(h/2))\n",
    "    padd = height-padu-shp[-1]\n",
    "    \n",
    "    newimg = np.pad(newimg, ((padl, padr), (padu, padd)))\n",
    "    return newimg"
   ]
  },
  {
   "cell_type": "code",
   "execution_count": 6,
   "metadata": {},
   "outputs": [],
   "source": [
    "def crop_and_rotate(img, mask, angle):\n",
    "    xs, ys = np.where(mask)\n",
    "    border = 4\n",
    "    bounds = np.array([[np.min(xs), np.min(ys)], [np.max(xs), np.max(ys)]])\n",
    "    min_x = np.max([bounds[0,0]-border, 0])\n",
    "    min_y = np.max([bounds[0,1]-border, 0])\n",
    "    max_x = np.min([bounds[1,0]+border, img.shape[1]])\n",
    "    max_y = np.min([bounds[1,1]+border, img.shape[2]])\n",
    "\n",
    "    new_img = img[:,min_x:max_x, min_y:max_y]\n",
    "    new_mask = mask[min_x:max_x, min_y:max_y]\n",
    "    new_mask = pad_image_to(transform.rotate(new_mask, angle=-angle, resize=True), wheight, wwidth)\n",
    "    \n",
    "    \n",
    "    tmp = new_mask.astype(np.uint8)\n",
    "    kernel = np.ones((1, 1), np.uint8)\n",
    "    new_mask = cv2.dilate(tmp, kernel) \n",
    "    \n",
    "    new_img = np.array([pad_image_to(transform.rotate(ab, angle=-angle, resize=True,\n",
    "                                                      preserve_range=True), wheight, wwidth) for ab in new_img])\n",
    "    top = np.sum((new_img)[rDNA_channel,0:int(wheight/2),:])/np.sum((new_img>0)[rDNA_channel,0:int(wheight/2),:])\n",
    "    bottom = np.sum((new_img)[rDNA_channel,-1:-int(wheight/2):-1,:])/np.sum((new_img>0)[rDNA_channel,-1:-int(wheight/2):-1,:])\n",
    "    if top<bottom:\n",
    "        new_img = new_img[:,::-1,:]\n",
    "        new_mask = new_mask[::-1,:]\n",
    "    return new_img, new_mask\n",
    "    "
   ]
  },
  {
   "cell_type": "code",
   "execution_count": 7,
   "metadata": {},
   "outputs": [],
   "source": [
    "def fast_backsub(inp, display=False):\n",
    "    smoothed = sp.ndimage.gaussian_filter(inp, sigma=4.0)\n",
    "    min_filter = sp.ndimage.minimum_filter(smoothed, 20.0)\n",
    "    min_smoothed = sp.ndimage.gaussian_filter(min_filter, sigma=20.0)\n",
    "    backsub = inp.astype(np.single) - min_smoothed\n",
    "    \n",
    "    if (display):\n",
    "        viewer.add_image(min_filter, blending='additive', colormap='green')\n",
    "        viewer.add_image(min_smoothed, blending='additive', colormap='green')\n",
    "        viewer.add_image(backsub, blending='additive', colormap='magenta')\n",
    "    return backsub"
   ]
  },
  {
   "cell_type": "code",
   "execution_count": 8,
   "metadata": {},
   "outputs": [],
   "source": [
    "def find_rDNA_masks(rDNA_img, chromosomes, initial_threshold=100, display=False):\n",
    "    \n",
    "    backsubbed = fast_backsub(rDNA_img, display=False)    \n",
    "    backsubbed = backsubbed-0\n",
    "    backsubbed[backsubbed<0] = 0\n",
    "    blurred = sp.ndimage.gaussian_filter(backsubbed, sigma=2)\n",
    "    rDNA = blurred>initial_threshold\n",
    "    \n",
    "    labels = ndimage.label(rDNA)[0]\n",
    "    maxes = sp.ndimage.labeled_comprehension(blurred, labels, np.arange(0,np.max(labels)+1),\n",
    "                                                  np.max, np.single, 0)\n",
    "    #print(maxes)\n",
    "    max_image = maxes[labels]\n",
    "    threshed_image = blurred>(0.4*max_image)\n",
    "    threshed_image[labels==0] = 0\n",
    "    \n",
    "    if (display):\n",
    "        viewer.add_image(backsubbed, blending='additive', colormap='green')\n",
    "        viewer.add_image(blurred, blending='additive', colormap='green')\n",
    "        viewer.add_labels(labels)\n",
    "        #viewer.add_image(rDNA, blending='additive', colormap='magenta')\n",
    "        viewer.add_image(threshed_image, blending='additive', colormap='magenta')\n",
    "        \n",
    "        \n",
    "    return threshed_image"
   ]
  },
  {
   "cell_type": "code",
   "execution_count": 9,
   "metadata": {},
   "outputs": [],
   "source": [
    "def merge_rDNA_labels(rDNA_labels, chromosome_labels):\n",
    "    rtn_labels = np.zeros(rDNA_labels.shape)\n",
    "    for a in range(1,np.max(rDNA_labels)+1):\n",
    "        sub = chromosome_labels[rDNA_labels==a]\n",
    "        candidate = stats.mode(sub[sub>0])[0]\n",
    "        if np.isnan(candidate):\n",
    "            candidate = 0\n",
    "        rtn_labels[rDNA_labels==a] = candidate\n",
    "    return rtn_labels.astype(int)"
   ]
  },
  {
   "cell_type": "code",
   "execution_count": 10,
   "metadata": {},
   "outputs": [],
   "source": [
    "def ptile(inp):\n",
    "    return np.percentile(inp, 50)"
   ]
  },
  {
   "cell_type": "code",
   "execution_count": 11,
   "metadata": {},
   "outputs": [],
   "source": [
    "def cleanup_labels(labels):\n",
    "    news = labels.copy()\n",
    "    objs = len(np.unique(labels))-1\n",
    "    lab_list = np.unique(labels)\n",
    "    lab_list = lab_list[lab_list!=0]\n",
    "    for a in np.arange(1,objs+1):\n",
    "        old_id = lab_list[a-1]\n",
    "        news[news==old_id] = a\n",
    "    return news"
   ]
  },
  {
   "cell_type": "markdown",
   "metadata": {},
   "source": [
    "# Cleanup labels"
   ]
  },
  {
   "cell_type": "code",
   "execution_count": 12,
   "metadata": {},
   "outputs": [],
   "source": [
    "fnames = glob.glob('./acrocentric_inferred/*.tif')\n",
    "for f in fnames:\n",
    "    img = tifffile.imread(f)\n",
    "    img[-1] = cleanup_labels(img[-1])\n",
    "    tifffile.imwrite(f, img.astype(np.ushort), imagej=True)"
   ]
  },
  {
   "cell_type": "markdown",
   "metadata": {},
   "source": [
    "Just testing results"
   ]
  },
  {
   "cell_type": "code",
   "execution_count": 13,
   "metadata": {},
   "outputs": [],
   "source": [
    "fnames = glob.glob('./acrocentric_inferred/*.tif')\n",
    "f = fnames[16]"
   ]
  },
  {
   "cell_type": "code",
   "execution_count": 14,
   "metadata": {},
   "outputs": [],
   "source": [
    "img = tifffile.imread(f)\n",
    "chromosomes = img[-1].astype(int)\n",
    "img = img[0:-1]\n",
    "rDNA = tifffile.imread(f.replace('acrocentric_inferred', 'rDNA_inferred'))[-1].astype(int)"
   ]
  },
  {
   "cell_type": "code",
   "execution_count": 15,
   "metadata": {},
   "outputs": [],
   "source": [
    "rDNA_merged = merge_rDNA_labels(rDNA, chromosomes)"
   ]
  },
  {
   "cell_type": "code",
   "execution_count": 16,
   "metadata": {},
   "outputs": [
    {
     "data": {
      "text/plain": [
       "<Labels layer 'rDNA_merged' at 0x2428f2fafb0>"
      ]
     },
     "execution_count": 16,
     "metadata": {},
     "output_type": "execute_result"
    }
   ],
   "source": [
    "viewer.layers.clear()\n",
    "viewer.add_image(img, channel_axis=0, name='img')\n",
    "viewer.add_labels(chromosomes, name='chromosomes')\n",
    "viewer.add_labels(rDNA, name='rDNA', visible=False)\n",
    "viewer.add_labels(rDNA_merged, name='rDNA_merged')"
   ]
  },
  {
   "cell_type": "markdown",
   "metadata": {},
   "source": [
    "# Find rDNA, UBF, markers and save"
   ]
  },
  {
   "cell_type": "code",
   "execution_count": 17,
   "metadata": {
    "scrolled": true
   },
   "outputs": [
    {
     "name": "stdout",
     "output_type": "stream",
     "text": [
      "./acrocentric_inferred\\B.Orang_chr13_UBF_1001-1.tif\n"
     ]
    },
    {
     "name": "stderr",
     "output_type": "stream",
     "text": [
      "C:\\Users\\smc\\AppData\\Local\\Temp\\ipykernel_15900\\1547421789.py:60: RuntimeWarning: invalid value encountered in divide\n",
      "  'Areas':areas, 'Mean':intdens/rDNA_areas, 'Marker_Mean':marker_intdens,\n"
     ]
    },
    {
     "name": "stdout",
     "output_type": "stream",
     "text": [
      "./acrocentric_inferred\\B.Orang_chr13_UBF_1002-1.tif\n"
     ]
    },
    {
     "name": "stderr",
     "output_type": "stream",
     "text": [
      "C:\\Users\\smc\\AppData\\Local\\Temp\\ipykernel_15900\\1547421789.py:60: RuntimeWarning: invalid value encountered in divide\n",
      "  'Areas':areas, 'Mean':intdens/rDNA_areas, 'Marker_Mean':marker_intdens,\n"
     ]
    },
    {
     "name": "stdout",
     "output_type": "stream",
     "text": [
      "./acrocentric_inferred\\B.Orang_chr13_UBF_1003-1.tif\n"
     ]
    },
    {
     "name": "stderr",
     "output_type": "stream",
     "text": [
      "C:\\Users\\smc\\AppData\\Local\\Temp\\ipykernel_15900\\1547421789.py:60: RuntimeWarning: invalid value encountered in divide\n",
      "  'Areas':areas, 'Mean':intdens/rDNA_areas, 'Marker_Mean':marker_intdens,\n"
     ]
    },
    {
     "name": "stdout",
     "output_type": "stream",
     "text": [
      "./acrocentric_inferred\\B.Orang_chr13_UBF_1004-1.tif\n"
     ]
    },
    {
     "name": "stderr",
     "output_type": "stream",
     "text": [
      "C:\\Users\\smc\\AppData\\Local\\Temp\\ipykernel_15900\\1547421789.py:60: RuntimeWarning: invalid value encountered in divide\n",
      "  'Areas':areas, 'Mean':intdens/rDNA_areas, 'Marker_Mean':marker_intdens,\n"
     ]
    },
    {
     "name": "stdout",
     "output_type": "stream",
     "text": [
      "./acrocentric_inferred\\B.Orang_chr13_UBF_1005-1.tif\n"
     ]
    },
    {
     "name": "stderr",
     "output_type": "stream",
     "text": [
      "C:\\Users\\smc\\AppData\\Local\\Temp\\ipykernel_15900\\1547421789.py:60: RuntimeWarning: invalid value encountered in divide\n",
      "  'Areas':areas, 'Mean':intdens/rDNA_areas, 'Marker_Mean':marker_intdens,\n"
     ]
    },
    {
     "name": "stdout",
     "output_type": "stream",
     "text": [
      "./acrocentric_inferred\\B.Orang_chr13_UBF_1006-1.tif\n"
     ]
    },
    {
     "name": "stderr",
     "output_type": "stream",
     "text": [
      "C:\\Users\\smc\\AppData\\Local\\Temp\\ipykernel_15900\\1547421789.py:60: RuntimeWarning: invalid value encountered in divide\n",
      "  'Areas':areas, 'Mean':intdens/rDNA_areas, 'Marker_Mean':marker_intdens,\n"
     ]
    },
    {
     "name": "stdout",
     "output_type": "stream",
     "text": [
      "./acrocentric_inferred\\B.Orang_chr13_UBF_1007-1.tif\n"
     ]
    },
    {
     "name": "stderr",
     "output_type": "stream",
     "text": [
      "C:\\Users\\smc\\AppData\\Local\\Temp\\ipykernel_15900\\1547421789.py:60: RuntimeWarning: invalid value encountered in divide\n",
      "  'Areas':areas, 'Mean':intdens/rDNA_areas, 'Marker_Mean':marker_intdens,\n"
     ]
    },
    {
     "name": "stdout",
     "output_type": "stream",
     "text": [
      "./acrocentric_inferred\\B.Orang_chr13_UBF_1008-1.tif\n"
     ]
    },
    {
     "name": "stderr",
     "output_type": "stream",
     "text": [
      "C:\\Users\\smc\\AppData\\Local\\Temp\\ipykernel_15900\\1547421789.py:60: RuntimeWarning: invalid value encountered in divide\n",
      "  'Areas':areas, 'Mean':intdens/rDNA_areas, 'Marker_Mean':marker_intdens,\n"
     ]
    },
    {
     "name": "stdout",
     "output_type": "stream",
     "text": [
      "./acrocentric_inferred\\B.Orang_chr13_UBF_1009-1.tif\n"
     ]
    },
    {
     "name": "stderr",
     "output_type": "stream",
     "text": [
      "C:\\Users\\smc\\AppData\\Local\\Temp\\ipykernel_15900\\1547421789.py:60: RuntimeWarning: invalid value encountered in divide\n",
      "  'Areas':areas, 'Mean':intdens/rDNA_areas, 'Marker_Mean':marker_intdens,\n"
     ]
    },
    {
     "name": "stdout",
     "output_type": "stream",
     "text": [
      "./acrocentric_inferred\\B.Orang_chr13_UBF_1011-1.tif\n"
     ]
    },
    {
     "name": "stderr",
     "output_type": "stream",
     "text": [
      "C:\\Users\\smc\\AppData\\Local\\Temp\\ipykernel_15900\\1547421789.py:60: RuntimeWarning: invalid value encountered in divide\n",
      "  'Areas':areas, 'Mean':intdens/rDNA_areas, 'Marker_Mean':marker_intdens,\n"
     ]
    },
    {
     "name": "stdout",
     "output_type": "stream",
     "text": [
      "./acrocentric_inferred\\B.Orang_chr13_UBF_1012-1.tif\n"
     ]
    },
    {
     "name": "stderr",
     "output_type": "stream",
     "text": [
      "C:\\Users\\smc\\AppData\\Local\\Temp\\ipykernel_15900\\1547421789.py:60: RuntimeWarning: invalid value encountered in divide\n",
      "  'Areas':areas, 'Mean':intdens/rDNA_areas, 'Marker_Mean':marker_intdens,\n"
     ]
    },
    {
     "name": "stdout",
     "output_type": "stream",
     "text": [
      "./acrocentric_inferred\\B.Orang_chr13_UBF_1013-1.tif\n"
     ]
    },
    {
     "name": "stderr",
     "output_type": "stream",
     "text": [
      "C:\\Users\\smc\\AppData\\Local\\Temp\\ipykernel_15900\\1547421789.py:60: RuntimeWarning: invalid value encountered in divide\n",
      "  'Areas':areas, 'Mean':intdens/rDNA_areas, 'Marker_Mean':marker_intdens,\n"
     ]
    },
    {
     "name": "stdout",
     "output_type": "stream",
     "text": [
      "./acrocentric_inferred\\B.Orang_chr13_UBF_1014-1.tif\n"
     ]
    },
    {
     "name": "stderr",
     "output_type": "stream",
     "text": [
      "C:\\Users\\smc\\AppData\\Local\\Temp\\ipykernel_15900\\1547421789.py:60: RuntimeWarning: invalid value encountered in divide\n",
      "  'Areas':areas, 'Mean':intdens/rDNA_areas, 'Marker_Mean':marker_intdens,\n"
     ]
    },
    {
     "name": "stdout",
     "output_type": "stream",
     "text": [
      "./acrocentric_inferred\\B.Orang_chr13_UBF_1015-1.tif\n"
     ]
    },
    {
     "name": "stderr",
     "output_type": "stream",
     "text": [
      "C:\\Users\\smc\\AppData\\Local\\Temp\\ipykernel_15900\\1547421789.py:60: RuntimeWarning: invalid value encountered in divide\n",
      "  'Areas':areas, 'Mean':intdens/rDNA_areas, 'Marker_Mean':marker_intdens,\n"
     ]
    },
    {
     "name": "stdout",
     "output_type": "stream",
     "text": [
      "./acrocentric_inferred\\B.Orang_chr13_UBF_1016-1.tif\n"
     ]
    },
    {
     "name": "stderr",
     "output_type": "stream",
     "text": [
      "C:\\Users\\smc\\AppData\\Local\\Temp\\ipykernel_15900\\1547421789.py:60: RuntimeWarning: invalid value encountered in divide\n",
      "  'Areas':areas, 'Mean':intdens/rDNA_areas, 'Marker_Mean':marker_intdens,\n"
     ]
    },
    {
     "name": "stdout",
     "output_type": "stream",
     "text": [
      "./acrocentric_inferred\\B.Orang_chr13_UBF_1017-1.tif\n"
     ]
    },
    {
     "name": "stderr",
     "output_type": "stream",
     "text": [
      "C:\\Users\\smc\\AppData\\Local\\Temp\\ipykernel_15900\\1547421789.py:60: RuntimeWarning: invalid value encountered in divide\n",
      "  'Areas':areas, 'Mean':intdens/rDNA_areas, 'Marker_Mean':marker_intdens,\n"
     ]
    },
    {
     "name": "stdout",
     "output_type": "stream",
     "text": [
      "./acrocentric_inferred\\B.Orang_chr13_UBF_1018-1.tif\n"
     ]
    },
    {
     "name": "stderr",
     "output_type": "stream",
     "text": [
      "C:\\Users\\smc\\AppData\\Local\\Temp\\ipykernel_15900\\1547421789.py:60: RuntimeWarning: invalid value encountered in divide\n",
      "  'Areas':areas, 'Mean':intdens/rDNA_areas, 'Marker_Mean':marker_intdens,\n"
     ]
    },
    {
     "name": "stdout",
     "output_type": "stream",
     "text": [
      "./acrocentric_inferred\\B.Orang_chr13_UBF_1019-1.tif\n"
     ]
    },
    {
     "name": "stderr",
     "output_type": "stream",
     "text": [
      "C:\\Users\\smc\\AppData\\Local\\Temp\\ipykernel_15900\\1547421789.py:60: RuntimeWarning: invalid value encountered in divide\n",
      "  'Areas':areas, 'Mean':intdens/rDNA_areas, 'Marker_Mean':marker_intdens,\n"
     ]
    },
    {
     "name": "stdout",
     "output_type": "stream",
     "text": [
      "./acrocentric_inferred\\B.Orang_chr13_UBF_1020-1.tif\n"
     ]
    },
    {
     "name": "stderr",
     "output_type": "stream",
     "text": [
      "C:\\Users\\smc\\AppData\\Local\\Temp\\ipykernel_15900\\1547421789.py:60: RuntimeWarning: invalid value encountered in divide\n",
      "  'Areas':areas, 'Mean':intdens/rDNA_areas, 'Marker_Mean':marker_intdens,\n"
     ]
    },
    {
     "name": "stdout",
     "output_type": "stream",
     "text": [
      "./acrocentric_inferred\\B.Orang_chr13_UBF_1021-1.tif\n"
     ]
    },
    {
     "name": "stderr",
     "output_type": "stream",
     "text": [
      "C:\\Users\\smc\\AppData\\Local\\Temp\\ipykernel_15900\\1547421789.py:60: RuntimeWarning: invalid value encountered in divide\n",
      "  'Areas':areas, 'Mean':intdens/rDNA_areas, 'Marker_Mean':marker_intdens,\n"
     ]
    },
    {
     "name": "stdout",
     "output_type": "stream",
     "text": [
      "./acrocentric_inferred\\B.Orang_chr14_UBF_1001-1.tif\n"
     ]
    },
    {
     "name": "stderr",
     "output_type": "stream",
     "text": [
      "C:\\Users\\smc\\AppData\\Local\\Temp\\ipykernel_15900\\1547421789.py:60: RuntimeWarning: invalid value encountered in divide\n",
      "  'Areas':areas, 'Mean':intdens/rDNA_areas, 'Marker_Mean':marker_intdens,\n"
     ]
    },
    {
     "name": "stdout",
     "output_type": "stream",
     "text": [
      "./acrocentric_inferred\\B.Orang_chr14_UBF_1002-1.tif\n"
     ]
    },
    {
     "name": "stderr",
     "output_type": "stream",
     "text": [
      "C:\\Users\\smc\\AppData\\Local\\Temp\\ipykernel_15900\\1547421789.py:60: RuntimeWarning: invalid value encountered in divide\n",
      "  'Areas':areas, 'Mean':intdens/rDNA_areas, 'Marker_Mean':marker_intdens,\n"
     ]
    },
    {
     "name": "stdout",
     "output_type": "stream",
     "text": [
      "./acrocentric_inferred\\B.Orang_chr14_UBF_1003-1.tif\n"
     ]
    },
    {
     "name": "stderr",
     "output_type": "stream",
     "text": [
      "C:\\Users\\smc\\AppData\\Local\\Temp\\ipykernel_15900\\1547421789.py:60: RuntimeWarning: invalid value encountered in divide\n",
      "  'Areas':areas, 'Mean':intdens/rDNA_areas, 'Marker_Mean':marker_intdens,\n"
     ]
    },
    {
     "name": "stdout",
     "output_type": "stream",
     "text": [
      "./acrocentric_inferred\\B.Orang_chr14_UBF_1004-1.tif\n"
     ]
    },
    {
     "name": "stderr",
     "output_type": "stream",
     "text": [
      "C:\\Users\\smc\\AppData\\Local\\Temp\\ipykernel_15900\\1547421789.py:60: RuntimeWarning: invalid value encountered in divide\n",
      "  'Areas':areas, 'Mean':intdens/rDNA_areas, 'Marker_Mean':marker_intdens,\n"
     ]
    },
    {
     "name": "stdout",
     "output_type": "stream",
     "text": [
      "./acrocentric_inferred\\B.Orang_chr14_UBF_1005-1.tif\n"
     ]
    },
    {
     "name": "stderr",
     "output_type": "stream",
     "text": [
      "C:\\Users\\smc\\AppData\\Local\\Temp\\ipykernel_15900\\1547421789.py:60: RuntimeWarning: invalid value encountered in divide\n",
      "  'Areas':areas, 'Mean':intdens/rDNA_areas, 'Marker_Mean':marker_intdens,\n"
     ]
    },
    {
     "name": "stdout",
     "output_type": "stream",
     "text": [
      "./acrocentric_inferred\\B.Orang_chr14_UBF_1006-1.tif\n"
     ]
    },
    {
     "name": "stderr",
     "output_type": "stream",
     "text": [
      "C:\\Users\\smc\\AppData\\Local\\Temp\\ipykernel_15900\\1547421789.py:60: RuntimeWarning: invalid value encountered in divide\n",
      "  'Areas':areas, 'Mean':intdens/rDNA_areas, 'Marker_Mean':marker_intdens,\n"
     ]
    },
    {
     "name": "stdout",
     "output_type": "stream",
     "text": [
      "./acrocentric_inferred\\B.Orang_chr14_UBF_1007-1.tif\n"
     ]
    },
    {
     "name": "stderr",
     "output_type": "stream",
     "text": [
      "C:\\Users\\smc\\AppData\\Local\\Temp\\ipykernel_15900\\1547421789.py:60: RuntimeWarning: invalid value encountered in divide\n",
      "  'Areas':areas, 'Mean':intdens/rDNA_areas, 'Marker_Mean':marker_intdens,\n"
     ]
    },
    {
     "name": "stdout",
     "output_type": "stream",
     "text": [
      "./acrocentric_inferred\\B.Orang_chr14_UBF_1009-1.tif\n"
     ]
    },
    {
     "name": "stderr",
     "output_type": "stream",
     "text": [
      "C:\\Users\\smc\\AppData\\Local\\Temp\\ipykernel_15900\\1547421789.py:60: RuntimeWarning: invalid value encountered in divide\n",
      "  'Areas':areas, 'Mean':intdens/rDNA_areas, 'Marker_Mean':marker_intdens,\n"
     ]
    },
    {
     "name": "stdout",
     "output_type": "stream",
     "text": [
      "./acrocentric_inferred\\B.Orang_chr14_UBF_1010-1.tif\n"
     ]
    },
    {
     "name": "stderr",
     "output_type": "stream",
     "text": [
      "C:\\Users\\smc\\AppData\\Local\\Temp\\ipykernel_15900\\1547421789.py:60: RuntimeWarning: invalid value encountered in divide\n",
      "  'Areas':areas, 'Mean':intdens/rDNA_areas, 'Marker_Mean':marker_intdens,\n"
     ]
    },
    {
     "name": "stdout",
     "output_type": "stream",
     "text": [
      "./acrocentric_inferred\\B.Orang_chr14_UBF_1011-1.tif\n"
     ]
    },
    {
     "name": "stderr",
     "output_type": "stream",
     "text": [
      "C:\\Users\\smc\\AppData\\Local\\Temp\\ipykernel_15900\\1547421789.py:60: RuntimeWarning: invalid value encountered in divide\n",
      "  'Areas':areas, 'Mean':intdens/rDNA_areas, 'Marker_Mean':marker_intdens,\n"
     ]
    },
    {
     "name": "stdout",
     "output_type": "stream",
     "text": [
      "./acrocentric_inferred\\B.Orang_chr14_UBF_1012-1.tif\n"
     ]
    },
    {
     "name": "stderr",
     "output_type": "stream",
     "text": [
      "C:\\Users\\smc\\AppData\\Local\\Temp\\ipykernel_15900\\1547421789.py:60: RuntimeWarning: invalid value encountered in divide\n",
      "  'Areas':areas, 'Mean':intdens/rDNA_areas, 'Marker_Mean':marker_intdens,\n"
     ]
    },
    {
     "name": "stdout",
     "output_type": "stream",
     "text": [
      "./acrocentric_inferred\\B.Orang_chr14_UBF_1013-1.tif\n"
     ]
    },
    {
     "name": "stderr",
     "output_type": "stream",
     "text": [
      "C:\\Users\\smc\\AppData\\Local\\Temp\\ipykernel_15900\\1547421789.py:60: RuntimeWarning: invalid value encountered in divide\n",
      "  'Areas':areas, 'Mean':intdens/rDNA_areas, 'Marker_Mean':marker_intdens,\n"
     ]
    },
    {
     "name": "stdout",
     "output_type": "stream",
     "text": [
      "./acrocentric_inferred\\B.Orang_chr14_UBF_1014-1.tif\n"
     ]
    },
    {
     "name": "stderr",
     "output_type": "stream",
     "text": [
      "C:\\Users\\smc\\AppData\\Local\\Temp\\ipykernel_15900\\1547421789.py:60: RuntimeWarning: invalid value encountered in divide\n",
      "  'Areas':areas, 'Mean':intdens/rDNA_areas, 'Marker_Mean':marker_intdens,\n"
     ]
    },
    {
     "name": "stdout",
     "output_type": "stream",
     "text": [
      "./acrocentric_inferred\\B.Orang_chr14_UBF_1015-1.tif\n"
     ]
    },
    {
     "name": "stderr",
     "output_type": "stream",
     "text": [
      "C:\\Users\\smc\\AppData\\Local\\Temp\\ipykernel_15900\\1547421789.py:60: RuntimeWarning: invalid value encountered in divide\n",
      "  'Areas':areas, 'Mean':intdens/rDNA_areas, 'Marker_Mean':marker_intdens,\n"
     ]
    },
    {
     "name": "stdout",
     "output_type": "stream",
     "text": [
      "./acrocentric_inferred\\B.Orang_chr14_UBF_1016-1.tif\n"
     ]
    },
    {
     "name": "stderr",
     "output_type": "stream",
     "text": [
      "C:\\Users\\smc\\AppData\\Local\\Temp\\ipykernel_15900\\1547421789.py:60: RuntimeWarning: invalid value encountered in divide\n",
      "  'Areas':areas, 'Mean':intdens/rDNA_areas, 'Marker_Mean':marker_intdens,\n"
     ]
    },
    {
     "name": "stdout",
     "output_type": "stream",
     "text": [
      "./acrocentric_inferred\\B.Orang_chr14_UBF_1017-1.tif\n"
     ]
    },
    {
     "name": "stderr",
     "output_type": "stream",
     "text": [
      "C:\\Users\\smc\\AppData\\Local\\Temp\\ipykernel_15900\\1547421789.py:60: RuntimeWarning: invalid value encountered in divide\n",
      "  'Areas':areas, 'Mean':intdens/rDNA_areas, 'Marker_Mean':marker_intdens,\n"
     ]
    },
    {
     "name": "stdout",
     "output_type": "stream",
     "text": [
      "./acrocentric_inferred\\B.Orang_chr14_UBF_1018-1.tif\n"
     ]
    },
    {
     "name": "stderr",
     "output_type": "stream",
     "text": [
      "C:\\Users\\smc\\AppData\\Local\\Temp\\ipykernel_15900\\1547421789.py:60: RuntimeWarning: invalid value encountered in divide\n",
      "  'Areas':areas, 'Mean':intdens/rDNA_areas, 'Marker_Mean':marker_intdens,\n"
     ]
    },
    {
     "name": "stdout",
     "output_type": "stream",
     "text": [
      "./acrocentric_inferred\\B.Orang_chr14_UBF_1019-1.tif\n"
     ]
    },
    {
     "name": "stderr",
     "output_type": "stream",
     "text": [
      "C:\\Users\\smc\\AppData\\Local\\Temp\\ipykernel_15900\\1547421789.py:60: RuntimeWarning: invalid value encountered in divide\n",
      "  'Areas':areas, 'Mean':intdens/rDNA_areas, 'Marker_Mean':marker_intdens,\n"
     ]
    },
    {
     "name": "stdout",
     "output_type": "stream",
     "text": [
      "./acrocentric_inferred\\B.Orang_chr14_UBF_1020-1.tif\n"
     ]
    },
    {
     "name": "stderr",
     "output_type": "stream",
     "text": [
      "C:\\Users\\smc\\AppData\\Local\\Temp\\ipykernel_15900\\1547421789.py:60: RuntimeWarning: invalid value encountered in divide\n",
      "  'Areas':areas, 'Mean':intdens/rDNA_areas, 'Marker_Mean':marker_intdens,\n"
     ]
    },
    {
     "name": "stdout",
     "output_type": "stream",
     "text": [
      "./acrocentric_inferred\\B.Orang_chr14_UBF_1021-1.tif\n",
      "./acrocentric_inferred\\B.Orang_chr14_UBF_1022-1.tif\n"
     ]
    },
    {
     "name": "stderr",
     "output_type": "stream",
     "text": [
      "C:\\Users\\smc\\AppData\\Local\\Temp\\ipykernel_15900\\1547421789.py:60: RuntimeWarning: invalid value encountered in divide\n",
      "  'Areas':areas, 'Mean':intdens/rDNA_areas, 'Marker_Mean':marker_intdens,\n"
     ]
    },
    {
     "name": "stdout",
     "output_type": "stream",
     "text": [
      "./acrocentric_inferred\\B.Orang_chr15_UBF_1002-1.tif\n"
     ]
    },
    {
     "name": "stderr",
     "output_type": "stream",
     "text": [
      "C:\\Users\\smc\\AppData\\Local\\Temp\\ipykernel_15900\\1547421789.py:60: RuntimeWarning: invalid value encountered in divide\n",
      "  'Areas':areas, 'Mean':intdens/rDNA_areas, 'Marker_Mean':marker_intdens,\n"
     ]
    },
    {
     "name": "stdout",
     "output_type": "stream",
     "text": [
      "./acrocentric_inferred\\B.Orang_chr15_UBF_1003-1.tif\n"
     ]
    },
    {
     "name": "stderr",
     "output_type": "stream",
     "text": [
      "C:\\Users\\smc\\AppData\\Local\\Temp\\ipykernel_15900\\1547421789.py:60: RuntimeWarning: invalid value encountered in divide\n",
      "  'Areas':areas, 'Mean':intdens/rDNA_areas, 'Marker_Mean':marker_intdens,\n"
     ]
    },
    {
     "name": "stdout",
     "output_type": "stream",
     "text": [
      "./acrocentric_inferred\\B.Orang_chr15_UBF_1004-1.tif\n"
     ]
    },
    {
     "name": "stderr",
     "output_type": "stream",
     "text": [
      "C:\\Users\\smc\\AppData\\Local\\Temp\\ipykernel_15900\\1547421789.py:60: RuntimeWarning: invalid value encountered in divide\n",
      "  'Areas':areas, 'Mean':intdens/rDNA_areas, 'Marker_Mean':marker_intdens,\n"
     ]
    },
    {
     "name": "stdout",
     "output_type": "stream",
     "text": [
      "./acrocentric_inferred\\B.Orang_chr15_UBF_1005-1.tif\n"
     ]
    },
    {
     "name": "stderr",
     "output_type": "stream",
     "text": [
      "C:\\Users\\smc\\AppData\\Local\\Temp\\ipykernel_15900\\1547421789.py:60: RuntimeWarning: invalid value encountered in divide\n",
      "  'Areas':areas, 'Mean':intdens/rDNA_areas, 'Marker_Mean':marker_intdens,\n"
     ]
    },
    {
     "name": "stdout",
     "output_type": "stream",
     "text": [
      "./acrocentric_inferred\\B.Orang_chr15_UBF_1006-1.tif\n"
     ]
    },
    {
     "name": "stderr",
     "output_type": "stream",
     "text": [
      "C:\\Users\\smc\\AppData\\Local\\Temp\\ipykernel_15900\\1547421789.py:60: RuntimeWarning: invalid value encountered in divide\n",
      "  'Areas':areas, 'Mean':intdens/rDNA_areas, 'Marker_Mean':marker_intdens,\n"
     ]
    },
    {
     "name": "stdout",
     "output_type": "stream",
     "text": [
      "./acrocentric_inferred\\B.Orang_chr15_UBF_1007-1.tif\n"
     ]
    },
    {
     "name": "stderr",
     "output_type": "stream",
     "text": [
      "C:\\Users\\smc\\AppData\\Local\\Temp\\ipykernel_15900\\1547421789.py:60: RuntimeWarning: invalid value encountered in divide\n",
      "  'Areas':areas, 'Mean':intdens/rDNA_areas, 'Marker_Mean':marker_intdens,\n"
     ]
    },
    {
     "name": "stdout",
     "output_type": "stream",
     "text": [
      "./acrocentric_inferred\\B.Orang_chr15_UBF_1008-1.tif\n"
     ]
    },
    {
     "name": "stderr",
     "output_type": "stream",
     "text": [
      "C:\\Users\\smc\\AppData\\Local\\Temp\\ipykernel_15900\\1547421789.py:60: RuntimeWarning: invalid value encountered in divide\n",
      "  'Areas':areas, 'Mean':intdens/rDNA_areas, 'Marker_Mean':marker_intdens,\n"
     ]
    },
    {
     "name": "stdout",
     "output_type": "stream",
     "text": [
      "./acrocentric_inferred\\B.Orang_chr15_UBF_1009-1.tif\n"
     ]
    },
    {
     "name": "stderr",
     "output_type": "stream",
     "text": [
      "C:\\Users\\smc\\AppData\\Local\\Temp\\ipykernel_15900\\1547421789.py:60: RuntimeWarning: invalid value encountered in divide\n",
      "  'Areas':areas, 'Mean':intdens/rDNA_areas, 'Marker_Mean':marker_intdens,\n"
     ]
    },
    {
     "name": "stdout",
     "output_type": "stream",
     "text": [
      "./acrocentric_inferred\\B.Orang_chr15_UBF_1010-1.tif\n"
     ]
    },
    {
     "name": "stderr",
     "output_type": "stream",
     "text": [
      "C:\\Users\\smc\\AppData\\Local\\Temp\\ipykernel_15900\\1547421789.py:60: RuntimeWarning: invalid value encountered in divide\n",
      "  'Areas':areas, 'Mean':intdens/rDNA_areas, 'Marker_Mean':marker_intdens,\n"
     ]
    },
    {
     "name": "stdout",
     "output_type": "stream",
     "text": [
      "./acrocentric_inferred\\B.Orang_chr15_UBF_1011-1.tif\n",
      "./acrocentric_inferred\\B.Orang_chr15_UBF_1012-1.tif\n"
     ]
    },
    {
     "name": "stderr",
     "output_type": "stream",
     "text": [
      "C:\\Users\\smc\\AppData\\Local\\Temp\\ipykernel_15900\\1547421789.py:60: RuntimeWarning: invalid value encountered in divide\n",
      "  'Areas':areas, 'Mean':intdens/rDNA_areas, 'Marker_Mean':marker_intdens,\n"
     ]
    },
    {
     "name": "stdout",
     "output_type": "stream",
     "text": [
      "./acrocentric_inferred\\B.Orang_chr15_UBF_1013-1.tif\n"
     ]
    },
    {
     "name": "stderr",
     "output_type": "stream",
     "text": [
      "C:\\Users\\smc\\AppData\\Local\\Temp\\ipykernel_15900\\1547421789.py:60: RuntimeWarning: invalid value encountered in divide\n",
      "  'Areas':areas, 'Mean':intdens/rDNA_areas, 'Marker_Mean':marker_intdens,\n"
     ]
    },
    {
     "name": "stdout",
     "output_type": "stream",
     "text": [
      "./acrocentric_inferred\\B.Orang_chr15_UBF_1014-1.tif\n"
     ]
    },
    {
     "name": "stderr",
     "output_type": "stream",
     "text": [
      "C:\\Users\\smc\\AppData\\Local\\Temp\\ipykernel_15900\\1547421789.py:60: RuntimeWarning: invalid value encountered in divide\n",
      "  'Areas':areas, 'Mean':intdens/rDNA_areas, 'Marker_Mean':marker_intdens,\n"
     ]
    },
    {
     "name": "stdout",
     "output_type": "stream",
     "text": [
      "./acrocentric_inferred\\B.Orang_chr15_UBF_1015-1.tif\n"
     ]
    },
    {
     "name": "stderr",
     "output_type": "stream",
     "text": [
      "C:\\Users\\smc\\AppData\\Local\\Temp\\ipykernel_15900\\1547421789.py:60: RuntimeWarning: invalid value encountered in divide\n",
      "  'Areas':areas, 'Mean':intdens/rDNA_areas, 'Marker_Mean':marker_intdens,\n"
     ]
    },
    {
     "name": "stdout",
     "output_type": "stream",
     "text": [
      "./acrocentric_inferred\\B.Orang_chr15_UBF_1016-1.tif\n"
     ]
    },
    {
     "name": "stderr",
     "output_type": "stream",
     "text": [
      "C:\\Users\\smc\\AppData\\Local\\Temp\\ipykernel_15900\\1547421789.py:60: RuntimeWarning: invalid value encountered in divide\n",
      "  'Areas':areas, 'Mean':intdens/rDNA_areas, 'Marker_Mean':marker_intdens,\n"
     ]
    },
    {
     "name": "stdout",
     "output_type": "stream",
     "text": [
      "./acrocentric_inferred\\B.Orang_chr15_UBF_1017-1.tif\n"
     ]
    },
    {
     "name": "stderr",
     "output_type": "stream",
     "text": [
      "C:\\Users\\smc\\AppData\\Local\\Temp\\ipykernel_15900\\1547421789.py:60: RuntimeWarning: invalid value encountered in divide\n",
      "  'Areas':areas, 'Mean':intdens/rDNA_areas, 'Marker_Mean':marker_intdens,\n"
     ]
    },
    {
     "name": "stdout",
     "output_type": "stream",
     "text": [
      "./acrocentric_inferred\\B.Orang_chr15_UBF_1018-1.tif\n"
     ]
    },
    {
     "name": "stderr",
     "output_type": "stream",
     "text": [
      "C:\\Users\\smc\\AppData\\Local\\Temp\\ipykernel_15900\\1547421789.py:60: RuntimeWarning: invalid value encountered in divide\n",
      "  'Areas':areas, 'Mean':intdens/rDNA_areas, 'Marker_Mean':marker_intdens,\n"
     ]
    },
    {
     "name": "stdout",
     "output_type": "stream",
     "text": [
      "./acrocentric_inferred\\B.Orang_chr15_UBF_1019-1.tif\n"
     ]
    },
    {
     "name": "stderr",
     "output_type": "stream",
     "text": [
      "C:\\Users\\smc\\AppData\\Local\\Temp\\ipykernel_15900\\1547421789.py:60: RuntimeWarning: invalid value encountered in divide\n",
      "  'Areas':areas, 'Mean':intdens/rDNA_areas, 'Marker_Mean':marker_intdens,\n"
     ]
    },
    {
     "name": "stdout",
     "output_type": "stream",
     "text": [
      "./acrocentric_inferred\\B.Orang_chr15_UBF_1020-1.tif\n"
     ]
    },
    {
     "name": "stderr",
     "output_type": "stream",
     "text": [
      "C:\\Users\\smc\\AppData\\Local\\Temp\\ipykernel_15900\\1547421789.py:60: RuntimeWarning: invalid value encountered in divide\n",
      "  'Areas':areas, 'Mean':intdens/rDNA_areas, 'Marker_Mean':marker_intdens,\n"
     ]
    },
    {
     "name": "stdout",
     "output_type": "stream",
     "text": [
      "./acrocentric_inferred\\B.Orang_chr18_UBF_1001-1.tif\n"
     ]
    },
    {
     "name": "stderr",
     "output_type": "stream",
     "text": [
      "C:\\Users\\smc\\AppData\\Local\\Temp\\ipykernel_15900\\1547421789.py:60: RuntimeWarning: invalid value encountered in divide\n",
      "  'Areas':areas, 'Mean':intdens/rDNA_areas, 'Marker_Mean':marker_intdens,\n"
     ]
    },
    {
     "name": "stdout",
     "output_type": "stream",
     "text": [
      "./acrocentric_inferred\\B.Orang_chr18_UBF_1003-1.tif\n"
     ]
    },
    {
     "name": "stderr",
     "output_type": "stream",
     "text": [
      "C:\\Users\\smc\\AppData\\Local\\Temp\\ipykernel_15900\\1547421789.py:60: RuntimeWarning: invalid value encountered in divide\n",
      "  'Areas':areas, 'Mean':intdens/rDNA_areas, 'Marker_Mean':marker_intdens,\n"
     ]
    },
    {
     "name": "stdout",
     "output_type": "stream",
     "text": [
      "./acrocentric_inferred\\B.Orang_chr18_UBF_1004-1.tif\n"
     ]
    },
    {
     "name": "stderr",
     "output_type": "stream",
     "text": [
      "C:\\Users\\smc\\AppData\\Local\\Temp\\ipykernel_15900\\1547421789.py:60: RuntimeWarning: invalid value encountered in divide\n",
      "  'Areas':areas, 'Mean':intdens/rDNA_areas, 'Marker_Mean':marker_intdens,\n"
     ]
    },
    {
     "name": "stdout",
     "output_type": "stream",
     "text": [
      "./acrocentric_inferred\\B.Orang_chr18_UBF_1005-1.tif\n"
     ]
    },
    {
     "name": "stderr",
     "output_type": "stream",
     "text": [
      "C:\\Users\\smc\\AppData\\Local\\Temp\\ipykernel_15900\\1547421789.py:60: RuntimeWarning: invalid value encountered in divide\n",
      "  'Areas':areas, 'Mean':intdens/rDNA_areas, 'Marker_Mean':marker_intdens,\n"
     ]
    },
    {
     "name": "stdout",
     "output_type": "stream",
     "text": [
      "./acrocentric_inferred\\B.Orang_chr18_UBF_1006-1.tif\n"
     ]
    },
    {
     "name": "stderr",
     "output_type": "stream",
     "text": [
      "C:\\Users\\smc\\AppData\\Local\\Temp\\ipykernel_15900\\1547421789.py:60: RuntimeWarning: invalid value encountered in divide\n",
      "  'Areas':areas, 'Mean':intdens/rDNA_areas, 'Marker_Mean':marker_intdens,\n"
     ]
    },
    {
     "name": "stdout",
     "output_type": "stream",
     "text": [
      "./acrocentric_inferred\\B.Orang_chr18_UBF_1007-1.tif\n"
     ]
    },
    {
     "name": "stderr",
     "output_type": "stream",
     "text": [
      "C:\\Users\\smc\\AppData\\Local\\Temp\\ipykernel_15900\\1547421789.py:60: RuntimeWarning: invalid value encountered in divide\n",
      "  'Areas':areas, 'Mean':intdens/rDNA_areas, 'Marker_Mean':marker_intdens,\n"
     ]
    },
    {
     "name": "stdout",
     "output_type": "stream",
     "text": [
      "./acrocentric_inferred\\B.Orang_chr18_UBF_1008-1.tif\n"
     ]
    },
    {
     "name": "stderr",
     "output_type": "stream",
     "text": [
      "C:\\Users\\smc\\AppData\\Local\\Temp\\ipykernel_15900\\1547421789.py:60: RuntimeWarning: invalid value encountered in divide\n",
      "  'Areas':areas, 'Mean':intdens/rDNA_areas, 'Marker_Mean':marker_intdens,\n"
     ]
    },
    {
     "name": "stdout",
     "output_type": "stream",
     "text": [
      "./acrocentric_inferred\\B.Orang_chr18_UBF_1009-1.tif\n"
     ]
    },
    {
     "name": "stderr",
     "output_type": "stream",
     "text": [
      "C:\\Users\\smc\\AppData\\Local\\Temp\\ipykernel_15900\\1547421789.py:60: RuntimeWarning: invalid value encountered in divide\n",
      "  'Areas':areas, 'Mean':intdens/rDNA_areas, 'Marker_Mean':marker_intdens,\n"
     ]
    },
    {
     "name": "stdout",
     "output_type": "stream",
     "text": [
      "./acrocentric_inferred\\B.Orang_chr18_UBF_1010-1.tif\n"
     ]
    },
    {
     "name": "stderr",
     "output_type": "stream",
     "text": [
      "C:\\Users\\smc\\AppData\\Local\\Temp\\ipykernel_15900\\1547421789.py:60: RuntimeWarning: invalid value encountered in divide\n",
      "  'Areas':areas, 'Mean':intdens/rDNA_areas, 'Marker_Mean':marker_intdens,\n"
     ]
    },
    {
     "name": "stdout",
     "output_type": "stream",
     "text": [
      "./acrocentric_inferred\\B.Orang_chr18_UBF_1011-1.tif\n"
     ]
    },
    {
     "name": "stderr",
     "output_type": "stream",
     "text": [
      "C:\\Users\\smc\\AppData\\Local\\Temp\\ipykernel_15900\\1547421789.py:60: RuntimeWarning: invalid value encountered in divide\n",
      "  'Areas':areas, 'Mean':intdens/rDNA_areas, 'Marker_Mean':marker_intdens,\n"
     ]
    },
    {
     "name": "stdout",
     "output_type": "stream",
     "text": [
      "./acrocentric_inferred\\B.Orang_chr18_UBF_1012-1.tif\n"
     ]
    },
    {
     "name": "stderr",
     "output_type": "stream",
     "text": [
      "C:\\Users\\smc\\AppData\\Local\\Temp\\ipykernel_15900\\1547421789.py:60: RuntimeWarning: invalid value encountered in divide\n",
      "  'Areas':areas, 'Mean':intdens/rDNA_areas, 'Marker_Mean':marker_intdens,\n"
     ]
    },
    {
     "name": "stdout",
     "output_type": "stream",
     "text": [
      "./acrocentric_inferred\\B.Orang_chr18_UBF_1013-1.tif\n"
     ]
    },
    {
     "name": "stderr",
     "output_type": "stream",
     "text": [
      "C:\\Users\\smc\\AppData\\Local\\Temp\\ipykernel_15900\\1547421789.py:60: RuntimeWarning: invalid value encountered in divide\n",
      "  'Areas':areas, 'Mean':intdens/rDNA_areas, 'Marker_Mean':marker_intdens,\n"
     ]
    },
    {
     "name": "stdout",
     "output_type": "stream",
     "text": [
      "./acrocentric_inferred\\B.Orang_chr18_UBF_1014-1.tif\n"
     ]
    },
    {
     "name": "stderr",
     "output_type": "stream",
     "text": [
      "C:\\Users\\smc\\AppData\\Local\\Temp\\ipykernel_15900\\1547421789.py:60: RuntimeWarning: invalid value encountered in divide\n",
      "  'Areas':areas, 'Mean':intdens/rDNA_areas, 'Marker_Mean':marker_intdens,\n"
     ]
    },
    {
     "name": "stdout",
     "output_type": "stream",
     "text": [
      "./acrocentric_inferred\\B.Orang_chr18_UBF_1015-1.tif\n"
     ]
    },
    {
     "name": "stderr",
     "output_type": "stream",
     "text": [
      "C:\\Users\\smc\\AppData\\Local\\Temp\\ipykernel_15900\\1547421789.py:60: RuntimeWarning: invalid value encountered in divide\n",
      "  'Areas':areas, 'Mean':intdens/rDNA_areas, 'Marker_Mean':marker_intdens,\n"
     ]
    },
    {
     "name": "stdout",
     "output_type": "stream",
     "text": [
      "./acrocentric_inferred\\B.Orang_chr18_UBF_1016-1.tif\n"
     ]
    },
    {
     "name": "stderr",
     "output_type": "stream",
     "text": [
      "C:\\Users\\smc\\AppData\\Local\\Temp\\ipykernel_15900\\1547421789.py:60: RuntimeWarning: invalid value encountered in divide\n",
      "  'Areas':areas, 'Mean':intdens/rDNA_areas, 'Marker_Mean':marker_intdens,\n"
     ]
    },
    {
     "name": "stdout",
     "output_type": "stream",
     "text": [
      "./acrocentric_inferred\\B.Orang_chr18_UBF_1017-1.tif\n"
     ]
    },
    {
     "name": "stderr",
     "output_type": "stream",
     "text": [
      "C:\\Users\\smc\\AppData\\Local\\Temp\\ipykernel_15900\\1547421789.py:60: RuntimeWarning: invalid value encountered in divide\n",
      "  'Areas':areas, 'Mean':intdens/rDNA_areas, 'Marker_Mean':marker_intdens,\n"
     ]
    },
    {
     "name": "stdout",
     "output_type": "stream",
     "text": [
      "./acrocentric_inferred\\B.Orang_chr18_UBF_1018-1.tif\n",
      "./acrocentric_inferred\\B.Orang_chr18_UBF_1019-1.tif\n"
     ]
    },
    {
     "name": "stderr",
     "output_type": "stream",
     "text": [
      "C:\\Users\\smc\\AppData\\Local\\Temp\\ipykernel_15900\\1547421789.py:60: RuntimeWarning: invalid value encountered in divide\n",
      "  'Areas':areas, 'Mean':intdens/rDNA_areas, 'Marker_Mean':marker_intdens,\n"
     ]
    },
    {
     "name": "stdout",
     "output_type": "stream",
     "text": [
      "./acrocentric_inferred\\B.Orang_chr18_UBF_1020-1.tif\n"
     ]
    },
    {
     "name": "stderr",
     "output_type": "stream",
     "text": [
      "C:\\Users\\smc\\AppData\\Local\\Temp\\ipykernel_15900\\1547421789.py:60: RuntimeWarning: invalid value encountered in divide\n",
      "  'Areas':areas, 'Mean':intdens/rDNA_areas, 'Marker_Mean':marker_intdens,\n"
     ]
    },
    {
     "name": "stdout",
     "output_type": "stream",
     "text": [
      "./acrocentric_inferred\\B.Orang_chr21_UBF_1001-1.tif\n"
     ]
    },
    {
     "name": "stderr",
     "output_type": "stream",
     "text": [
      "C:\\Users\\smc\\AppData\\Local\\Temp\\ipykernel_15900\\1547421789.py:60: RuntimeWarning: invalid value encountered in divide\n",
      "  'Areas':areas, 'Mean':intdens/rDNA_areas, 'Marker_Mean':marker_intdens,\n"
     ]
    },
    {
     "name": "stdout",
     "output_type": "stream",
     "text": [
      "./acrocentric_inferred\\B.Orang_chr21_UBF_1002-1.tif\n"
     ]
    },
    {
     "name": "stderr",
     "output_type": "stream",
     "text": [
      "C:\\Users\\smc\\AppData\\Local\\Temp\\ipykernel_15900\\1547421789.py:60: RuntimeWarning: invalid value encountered in divide\n",
      "  'Areas':areas, 'Mean':intdens/rDNA_areas, 'Marker_Mean':marker_intdens,\n"
     ]
    },
    {
     "name": "stdout",
     "output_type": "stream",
     "text": [
      "./acrocentric_inferred\\B.Orang_chr21_UBF_1004-1.tif\n"
     ]
    },
    {
     "name": "stderr",
     "output_type": "stream",
     "text": [
      "C:\\Users\\smc\\AppData\\Local\\Temp\\ipykernel_15900\\1547421789.py:60: RuntimeWarning: invalid value encountered in divide\n",
      "  'Areas':areas, 'Mean':intdens/rDNA_areas, 'Marker_Mean':marker_intdens,\n"
     ]
    },
    {
     "name": "stdout",
     "output_type": "stream",
     "text": [
      "./acrocentric_inferred\\B.Orang_chr21_UBF_1005-1.tif\n"
     ]
    },
    {
     "name": "stderr",
     "output_type": "stream",
     "text": [
      "C:\\Users\\smc\\AppData\\Local\\Temp\\ipykernel_15900\\1547421789.py:60: RuntimeWarning: invalid value encountered in divide\n",
      "  'Areas':areas, 'Mean':intdens/rDNA_areas, 'Marker_Mean':marker_intdens,\n"
     ]
    },
    {
     "name": "stdout",
     "output_type": "stream",
     "text": [
      "./acrocentric_inferred\\B.Orang_chr21_UBF_1006-1.tif\n"
     ]
    },
    {
     "name": "stderr",
     "output_type": "stream",
     "text": [
      "C:\\Users\\smc\\AppData\\Local\\Temp\\ipykernel_15900\\1547421789.py:60: RuntimeWarning: invalid value encountered in divide\n",
      "  'Areas':areas, 'Mean':intdens/rDNA_areas, 'Marker_Mean':marker_intdens,\n"
     ]
    },
    {
     "name": "stdout",
     "output_type": "stream",
     "text": [
      "./acrocentric_inferred\\B.Orang_chr21_UBF_1007-1.tif\n"
     ]
    },
    {
     "name": "stderr",
     "output_type": "stream",
     "text": [
      "C:\\Users\\smc\\AppData\\Local\\Temp\\ipykernel_15900\\1547421789.py:60: RuntimeWarning: invalid value encountered in divide\n",
      "  'Areas':areas, 'Mean':intdens/rDNA_areas, 'Marker_Mean':marker_intdens,\n"
     ]
    },
    {
     "name": "stdout",
     "output_type": "stream",
     "text": [
      "./acrocentric_inferred\\B.Orang_chr21_UBF_1008-1.tif\n"
     ]
    },
    {
     "name": "stderr",
     "output_type": "stream",
     "text": [
      "C:\\Users\\smc\\AppData\\Local\\Temp\\ipykernel_15900\\1547421789.py:60: RuntimeWarning: invalid value encountered in divide\n",
      "  'Areas':areas, 'Mean':intdens/rDNA_areas, 'Marker_Mean':marker_intdens,\n"
     ]
    },
    {
     "name": "stdout",
     "output_type": "stream",
     "text": [
      "./acrocentric_inferred\\B.Orang_chr21_UBF_1009-1.tif\n"
     ]
    },
    {
     "name": "stderr",
     "output_type": "stream",
     "text": [
      "C:\\Users\\smc\\AppData\\Local\\Temp\\ipykernel_15900\\1547421789.py:60: RuntimeWarning: invalid value encountered in divide\n",
      "  'Areas':areas, 'Mean':intdens/rDNA_areas, 'Marker_Mean':marker_intdens,\n"
     ]
    },
    {
     "name": "stdout",
     "output_type": "stream",
     "text": [
      "./acrocentric_inferred\\B.Orang_chr21_UBF_1010-1.tif\n"
     ]
    },
    {
     "name": "stderr",
     "output_type": "stream",
     "text": [
      "C:\\Users\\smc\\AppData\\Local\\Temp\\ipykernel_15900\\1547421789.py:60: RuntimeWarning: invalid value encountered in divide\n",
      "  'Areas':areas, 'Mean':intdens/rDNA_areas, 'Marker_Mean':marker_intdens,\n"
     ]
    },
    {
     "name": "stdout",
     "output_type": "stream",
     "text": [
      "./acrocentric_inferred\\B.Orang_chr21_UBF_1011-1.tif\n"
     ]
    },
    {
     "name": "stderr",
     "output_type": "stream",
     "text": [
      "C:\\Users\\smc\\AppData\\Local\\Temp\\ipykernel_15900\\1547421789.py:60: RuntimeWarning: invalid value encountered in divide\n",
      "  'Areas':areas, 'Mean':intdens/rDNA_areas, 'Marker_Mean':marker_intdens,\n"
     ]
    },
    {
     "name": "stdout",
     "output_type": "stream",
     "text": [
      "./acrocentric_inferred\\B.Orang_chr21_UBF_1012-1.tif\n"
     ]
    },
    {
     "name": "stderr",
     "output_type": "stream",
     "text": [
      "C:\\Users\\smc\\AppData\\Local\\Temp\\ipykernel_15900\\1547421789.py:60: RuntimeWarning: invalid value encountered in divide\n",
      "  'Areas':areas, 'Mean':intdens/rDNA_areas, 'Marker_Mean':marker_intdens,\n"
     ]
    },
    {
     "name": "stdout",
     "output_type": "stream",
     "text": [
      "./acrocentric_inferred\\B.Orang_chr21_UBF_1013-1.tif\n"
     ]
    },
    {
     "name": "stderr",
     "output_type": "stream",
     "text": [
      "C:\\Users\\smc\\AppData\\Local\\Temp\\ipykernel_15900\\1547421789.py:60: RuntimeWarning: invalid value encountered in divide\n",
      "  'Areas':areas, 'Mean':intdens/rDNA_areas, 'Marker_Mean':marker_intdens,\n"
     ]
    },
    {
     "name": "stdout",
     "output_type": "stream",
     "text": [
      "./acrocentric_inferred\\B.Orang_chr21_UBF_1014-1.tif\n"
     ]
    },
    {
     "name": "stderr",
     "output_type": "stream",
     "text": [
      "C:\\Users\\smc\\AppData\\Local\\Temp\\ipykernel_15900\\1547421789.py:60: RuntimeWarning: invalid value encountered in divide\n",
      "  'Areas':areas, 'Mean':intdens/rDNA_areas, 'Marker_Mean':marker_intdens,\n"
     ]
    },
    {
     "name": "stdout",
     "output_type": "stream",
     "text": [
      "./acrocentric_inferred\\B.Orang_chr21_UBF_1015-1.tif\n"
     ]
    },
    {
     "name": "stderr",
     "output_type": "stream",
     "text": [
      "C:\\Users\\smc\\AppData\\Local\\Temp\\ipykernel_15900\\1547421789.py:60: RuntimeWarning: invalid value encountered in divide\n",
      "  'Areas':areas, 'Mean':intdens/rDNA_areas, 'Marker_Mean':marker_intdens,\n"
     ]
    },
    {
     "name": "stdout",
     "output_type": "stream",
     "text": [
      "./acrocentric_inferred\\B.Orang_chr21_UBF_1016-1.tif\n"
     ]
    },
    {
     "name": "stderr",
     "output_type": "stream",
     "text": [
      "C:\\Users\\smc\\AppData\\Local\\Temp\\ipykernel_15900\\1547421789.py:60: RuntimeWarning: invalid value encountered in divide\n",
      "  'Areas':areas, 'Mean':intdens/rDNA_areas, 'Marker_Mean':marker_intdens,\n"
     ]
    },
    {
     "name": "stdout",
     "output_type": "stream",
     "text": [
      "./acrocentric_inferred\\B.Orang_chr21_UBF_1017-1.tif\n",
      "./acrocentric_inferred\\B.Orang_chr21_UBF_1018-1.tif\n"
     ]
    },
    {
     "name": "stderr",
     "output_type": "stream",
     "text": [
      "C:\\Users\\smc\\AppData\\Local\\Temp\\ipykernel_15900\\1547421789.py:60: RuntimeWarning: invalid value encountered in divide\n",
      "  'Areas':areas, 'Mean':intdens/rDNA_areas, 'Marker_Mean':marker_intdens,\n"
     ]
    },
    {
     "name": "stdout",
     "output_type": "stream",
     "text": [
      "./acrocentric_inferred\\B.Orang_chr21_UBF_1019-1.tif\n",
      "./acrocentric_inferred\\B.Orang_chr22_UBF_1001-1.tif\n"
     ]
    },
    {
     "name": "stderr",
     "output_type": "stream",
     "text": [
      "C:\\Users\\smc\\AppData\\Local\\Temp\\ipykernel_15900\\1547421789.py:60: RuntimeWarning: invalid value encountered in divide\n",
      "  'Areas':areas, 'Mean':intdens/rDNA_areas, 'Marker_Mean':marker_intdens,\n"
     ]
    },
    {
     "name": "stdout",
     "output_type": "stream",
     "text": [
      "./acrocentric_inferred\\B.Orang_chr22_UBF_1002-1.tif\n"
     ]
    },
    {
     "name": "stderr",
     "output_type": "stream",
     "text": [
      "C:\\Users\\smc\\AppData\\Local\\Temp\\ipykernel_15900\\1547421789.py:60: RuntimeWarning: invalid value encountered in divide\n",
      "  'Areas':areas, 'Mean':intdens/rDNA_areas, 'Marker_Mean':marker_intdens,\n"
     ]
    },
    {
     "name": "stdout",
     "output_type": "stream",
     "text": [
      "./acrocentric_inferred\\B.Orang_chr22_UBF_1003-1.tif\n"
     ]
    },
    {
     "name": "stderr",
     "output_type": "stream",
     "text": [
      "C:\\Users\\smc\\AppData\\Local\\Temp\\ipykernel_15900\\1547421789.py:60: RuntimeWarning: invalid value encountered in divide\n",
      "  'Areas':areas, 'Mean':intdens/rDNA_areas, 'Marker_Mean':marker_intdens,\n"
     ]
    },
    {
     "name": "stdout",
     "output_type": "stream",
     "text": [
      "./acrocentric_inferred\\B.Orang_chr22_UBF_1004-1.tif\n"
     ]
    },
    {
     "name": "stderr",
     "output_type": "stream",
     "text": [
      "C:\\Users\\smc\\AppData\\Local\\Temp\\ipykernel_15900\\1547421789.py:60: RuntimeWarning: invalid value encountered in divide\n",
      "  'Areas':areas, 'Mean':intdens/rDNA_areas, 'Marker_Mean':marker_intdens,\n"
     ]
    },
    {
     "name": "stdout",
     "output_type": "stream",
     "text": [
      "./acrocentric_inferred\\B.Orang_chr22_UBF_1005-1.tif\n"
     ]
    },
    {
     "name": "stderr",
     "output_type": "stream",
     "text": [
      "C:\\Users\\smc\\AppData\\Local\\Temp\\ipykernel_15900\\1547421789.py:60: RuntimeWarning: invalid value encountered in divide\n",
      "  'Areas':areas, 'Mean':intdens/rDNA_areas, 'Marker_Mean':marker_intdens,\n"
     ]
    },
    {
     "name": "stdout",
     "output_type": "stream",
     "text": [
      "./acrocentric_inferred\\B.Orang_chr22_UBF_1006-1.tif\n"
     ]
    },
    {
     "name": "stderr",
     "output_type": "stream",
     "text": [
      "C:\\Users\\smc\\AppData\\Local\\Temp\\ipykernel_15900\\1547421789.py:60: RuntimeWarning: invalid value encountered in divide\n",
      "  'Areas':areas, 'Mean':intdens/rDNA_areas, 'Marker_Mean':marker_intdens,\n"
     ]
    },
    {
     "name": "stdout",
     "output_type": "stream",
     "text": [
      "./acrocentric_inferred\\B.Orang_chr22_UBF_1007-1.tif\n"
     ]
    },
    {
     "name": "stderr",
     "output_type": "stream",
     "text": [
      "C:\\Users\\smc\\AppData\\Local\\Temp\\ipykernel_15900\\1547421789.py:60: RuntimeWarning: invalid value encountered in divide\n",
      "  'Areas':areas, 'Mean':intdens/rDNA_areas, 'Marker_Mean':marker_intdens,\n"
     ]
    },
    {
     "name": "stdout",
     "output_type": "stream",
     "text": [
      "./acrocentric_inferred\\B.Orang_chr22_UBF_1008-1.tif\n"
     ]
    },
    {
     "name": "stderr",
     "output_type": "stream",
     "text": [
      "C:\\Users\\smc\\AppData\\Local\\Temp\\ipykernel_15900\\1547421789.py:60: RuntimeWarning: invalid value encountered in divide\n",
      "  'Areas':areas, 'Mean':intdens/rDNA_areas, 'Marker_Mean':marker_intdens,\n"
     ]
    },
    {
     "name": "stdout",
     "output_type": "stream",
     "text": [
      "./acrocentric_inferred\\B.Orang_chr22_UBF_1009-1.tif\n"
     ]
    },
    {
     "name": "stderr",
     "output_type": "stream",
     "text": [
      "C:\\Users\\smc\\AppData\\Local\\Temp\\ipykernel_15900\\1547421789.py:60: RuntimeWarning: invalid value encountered in divide\n",
      "  'Areas':areas, 'Mean':intdens/rDNA_areas, 'Marker_Mean':marker_intdens,\n"
     ]
    },
    {
     "name": "stdout",
     "output_type": "stream",
     "text": [
      "./acrocentric_inferred\\B.Orang_chr22_UBF_1010-1.tif\n"
     ]
    },
    {
     "name": "stderr",
     "output_type": "stream",
     "text": [
      "C:\\Users\\smc\\AppData\\Local\\Temp\\ipykernel_15900\\1547421789.py:60: RuntimeWarning: invalid value encountered in divide\n",
      "  'Areas':areas, 'Mean':intdens/rDNA_areas, 'Marker_Mean':marker_intdens,\n"
     ]
    },
    {
     "name": "stdout",
     "output_type": "stream",
     "text": [
      "./acrocentric_inferred\\B.Orang_chr22_UBF_1011-1.tif\n"
     ]
    },
    {
     "name": "stderr",
     "output_type": "stream",
     "text": [
      "C:\\Users\\smc\\AppData\\Local\\Temp\\ipykernel_15900\\1547421789.py:60: RuntimeWarning: invalid value encountered in divide\n",
      "  'Areas':areas, 'Mean':intdens/rDNA_areas, 'Marker_Mean':marker_intdens,\n"
     ]
    },
    {
     "name": "stdout",
     "output_type": "stream",
     "text": [
      "./acrocentric_inferred\\B.Orang_chr22_UBF_1013-1.tif\n"
     ]
    },
    {
     "name": "stderr",
     "output_type": "stream",
     "text": [
      "C:\\Users\\smc\\AppData\\Local\\Temp\\ipykernel_15900\\1547421789.py:60: RuntimeWarning: invalid value encountered in divide\n",
      "  'Areas':areas, 'Mean':intdens/rDNA_areas, 'Marker_Mean':marker_intdens,\n"
     ]
    },
    {
     "name": "stdout",
     "output_type": "stream",
     "text": [
      "./acrocentric_inferred\\B.Orang_chr22_UBF_1014-1.tif\n"
     ]
    },
    {
     "name": "stderr",
     "output_type": "stream",
     "text": [
      "C:\\Users\\smc\\AppData\\Local\\Temp\\ipykernel_15900\\1547421789.py:60: RuntimeWarning: invalid value encountered in divide\n",
      "  'Areas':areas, 'Mean':intdens/rDNA_areas, 'Marker_Mean':marker_intdens,\n"
     ]
    },
    {
     "name": "stdout",
     "output_type": "stream",
     "text": [
      "./acrocentric_inferred\\B.Orang_chr22_UBF_1015-1.tif\n"
     ]
    },
    {
     "name": "stderr",
     "output_type": "stream",
     "text": [
      "C:\\Users\\smc\\AppData\\Local\\Temp\\ipykernel_15900\\1547421789.py:60: RuntimeWarning: invalid value encountered in divide\n",
      "  'Areas':areas, 'Mean':intdens/rDNA_areas, 'Marker_Mean':marker_intdens,\n"
     ]
    },
    {
     "name": "stdout",
     "output_type": "stream",
     "text": [
      "./acrocentric_inferred\\B.Orang_chr22_UBF_1016-1.tif\n"
     ]
    },
    {
     "name": "stderr",
     "output_type": "stream",
     "text": [
      "C:\\Users\\smc\\AppData\\Local\\Temp\\ipykernel_15900\\1547421789.py:60: RuntimeWarning: invalid value encountered in divide\n",
      "  'Areas':areas, 'Mean':intdens/rDNA_areas, 'Marker_Mean':marker_intdens,\n"
     ]
    },
    {
     "name": "stdout",
     "output_type": "stream",
     "text": [
      "./acrocentric_inferred\\B.Orang_chr22_UBF_1017-1.tif\n"
     ]
    },
    {
     "name": "stderr",
     "output_type": "stream",
     "text": [
      "C:\\Users\\smc\\AppData\\Local\\Temp\\ipykernel_15900\\1547421789.py:60: RuntimeWarning: invalid value encountered in divide\n",
      "  'Areas':areas, 'Mean':intdens/rDNA_areas, 'Marker_Mean':marker_intdens,\n"
     ]
    },
    {
     "name": "stdout",
     "output_type": "stream",
     "text": [
      "./acrocentric_inferred\\B.Orang_chr22_UBF_1018-1.tif\n"
     ]
    },
    {
     "name": "stderr",
     "output_type": "stream",
     "text": [
      "C:\\Users\\smc\\AppData\\Local\\Temp\\ipykernel_15900\\1547421789.py:60: RuntimeWarning: invalid value encountered in divide\n",
      "  'Areas':areas, 'Mean':intdens/rDNA_areas, 'Marker_Mean':marker_intdens,\n"
     ]
    },
    {
     "name": "stdout",
     "output_type": "stream",
     "text": [
      "./acrocentric_inferred\\B.Orang_chr22_UBF_1019-1.tif\n"
     ]
    },
    {
     "name": "stderr",
     "output_type": "stream",
     "text": [
      "C:\\Users\\smc\\AppData\\Local\\Temp\\ipykernel_15900\\1547421789.py:60: RuntimeWarning: invalid value encountered in divide\n",
      "  'Areas':areas, 'Mean':intdens/rDNA_areas, 'Marker_Mean':marker_intdens,\n"
     ]
    },
    {
     "name": "stdout",
     "output_type": "stream",
     "text": [
      "./acrocentric_inferred\\B.Orang_chr22_UBF_1020-1.tif\n"
     ]
    },
    {
     "name": "stderr",
     "output_type": "stream",
     "text": [
      "C:\\Users\\smc\\AppData\\Local\\Temp\\ipykernel_15900\\1547421789.py:60: RuntimeWarning: invalid value encountered in divide\n",
      "  'Areas':areas, 'Mean':intdens/rDNA_areas, 'Marker_Mean':marker_intdens,\n"
     ]
    },
    {
     "name": "stdout",
     "output_type": "stream",
     "text": [
      "./acrocentric_inferred\\B.Orang_chr2_UBF_1001-1.tif\n"
     ]
    },
    {
     "name": "stderr",
     "output_type": "stream",
     "text": [
      "C:\\Users\\smc\\AppData\\Local\\Temp\\ipykernel_15900\\1547421789.py:60: RuntimeWarning: invalid value encountered in divide\n",
      "  'Areas':areas, 'Mean':intdens/rDNA_areas, 'Marker_Mean':marker_intdens,\n"
     ]
    },
    {
     "name": "stdout",
     "output_type": "stream",
     "text": [
      "./acrocentric_inferred\\B.Orang_chr2_UBF_1002-1.tif\n"
     ]
    },
    {
     "name": "stderr",
     "output_type": "stream",
     "text": [
      "C:\\Users\\smc\\AppData\\Local\\Temp\\ipykernel_15900\\1547421789.py:60: RuntimeWarning: invalid value encountered in divide\n",
      "  'Areas':areas, 'Mean':intdens/rDNA_areas, 'Marker_Mean':marker_intdens,\n"
     ]
    },
    {
     "name": "stdout",
     "output_type": "stream",
     "text": [
      "./acrocentric_inferred\\B.Orang_chr2_UBF_1003-1.tif\n"
     ]
    },
    {
     "name": "stderr",
     "output_type": "stream",
     "text": [
      "C:\\Users\\smc\\AppData\\Local\\Temp\\ipykernel_15900\\1547421789.py:60: RuntimeWarning: invalid value encountered in divide\n",
      "  'Areas':areas, 'Mean':intdens/rDNA_areas, 'Marker_Mean':marker_intdens,\n"
     ]
    },
    {
     "name": "stdout",
     "output_type": "stream",
     "text": [
      "./acrocentric_inferred\\B.Orang_chr2_UBF_1004-1.tif\n"
     ]
    },
    {
     "name": "stderr",
     "output_type": "stream",
     "text": [
      "C:\\Users\\smc\\AppData\\Local\\Temp\\ipykernel_15900\\1547421789.py:60: RuntimeWarning: invalid value encountered in divide\n",
      "  'Areas':areas, 'Mean':intdens/rDNA_areas, 'Marker_Mean':marker_intdens,\n"
     ]
    },
    {
     "name": "stdout",
     "output_type": "stream",
     "text": [
      "./acrocentric_inferred\\B.Orang_chr2_UBF_1005-1.tif\n"
     ]
    },
    {
     "name": "stderr",
     "output_type": "stream",
     "text": [
      "C:\\Users\\smc\\AppData\\Local\\Temp\\ipykernel_15900\\1547421789.py:60: RuntimeWarning: invalid value encountered in divide\n",
      "  'Areas':areas, 'Mean':intdens/rDNA_areas, 'Marker_Mean':marker_intdens,\n"
     ]
    },
    {
     "name": "stdout",
     "output_type": "stream",
     "text": [
      "./acrocentric_inferred\\B.Orang_chr2_UBF_1006-1.tif\n"
     ]
    },
    {
     "name": "stderr",
     "output_type": "stream",
     "text": [
      "C:\\Users\\smc\\AppData\\Local\\Temp\\ipykernel_15900\\1547421789.py:60: RuntimeWarning: invalid value encountered in divide\n",
      "  'Areas':areas, 'Mean':intdens/rDNA_areas, 'Marker_Mean':marker_intdens,\n"
     ]
    },
    {
     "name": "stdout",
     "output_type": "stream",
     "text": [
      "./acrocentric_inferred\\B.Orang_chr2_UBF_1007-1.tif\n"
     ]
    },
    {
     "name": "stderr",
     "output_type": "stream",
     "text": [
      "C:\\Users\\smc\\AppData\\Local\\Temp\\ipykernel_15900\\1547421789.py:60: RuntimeWarning: invalid value encountered in divide\n",
      "  'Areas':areas, 'Mean':intdens/rDNA_areas, 'Marker_Mean':marker_intdens,\n"
     ]
    },
    {
     "name": "stdout",
     "output_type": "stream",
     "text": [
      "./acrocentric_inferred\\B.Orang_chr2_UBF_1008-1.tif\n"
     ]
    },
    {
     "name": "stderr",
     "output_type": "stream",
     "text": [
      "C:\\Users\\smc\\AppData\\Local\\Temp\\ipykernel_15900\\1547421789.py:60: RuntimeWarning: invalid value encountered in divide\n",
      "  'Areas':areas, 'Mean':intdens/rDNA_areas, 'Marker_Mean':marker_intdens,\n"
     ]
    },
    {
     "name": "stdout",
     "output_type": "stream",
     "text": [
      "./acrocentric_inferred\\B.Orang_chr2_UBF_1009-1.tif\n"
     ]
    },
    {
     "name": "stderr",
     "output_type": "stream",
     "text": [
      "C:\\Users\\smc\\AppData\\Local\\Temp\\ipykernel_15900\\1547421789.py:60: RuntimeWarning: invalid value encountered in divide\n",
      "  'Areas':areas, 'Mean':intdens/rDNA_areas, 'Marker_Mean':marker_intdens,\n"
     ]
    },
    {
     "name": "stdout",
     "output_type": "stream",
     "text": [
      "./acrocentric_inferred\\B.Orang_chr2_UBF_1010-1.tif\n"
     ]
    },
    {
     "name": "stderr",
     "output_type": "stream",
     "text": [
      "C:\\Users\\smc\\AppData\\Local\\Temp\\ipykernel_15900\\1547421789.py:60: RuntimeWarning: invalid value encountered in divide\n",
      "  'Areas':areas, 'Mean':intdens/rDNA_areas, 'Marker_Mean':marker_intdens,\n"
     ]
    },
    {
     "name": "stdout",
     "output_type": "stream",
     "text": [
      "./acrocentric_inferred\\B.Orang_chr2_UBF_1011-1.tif\n"
     ]
    },
    {
     "name": "stderr",
     "output_type": "stream",
     "text": [
      "C:\\Users\\smc\\AppData\\Local\\Temp\\ipykernel_15900\\1547421789.py:60: RuntimeWarning: invalid value encountered in divide\n",
      "  'Areas':areas, 'Mean':intdens/rDNA_areas, 'Marker_Mean':marker_intdens,\n"
     ]
    },
    {
     "name": "stdout",
     "output_type": "stream",
     "text": [
      "./acrocentric_inferred\\B.Orang_chr2_UBF_1012-1.tif\n"
     ]
    },
    {
     "name": "stderr",
     "output_type": "stream",
     "text": [
      "C:\\Users\\smc\\AppData\\Local\\Temp\\ipykernel_15900\\1547421789.py:60: RuntimeWarning: invalid value encountered in divide\n",
      "  'Areas':areas, 'Mean':intdens/rDNA_areas, 'Marker_Mean':marker_intdens,\n"
     ]
    },
    {
     "name": "stdout",
     "output_type": "stream",
     "text": [
      "./acrocentric_inferred\\B.Orang_chr2_UBF_1013-1.tif\n"
     ]
    },
    {
     "name": "stderr",
     "output_type": "stream",
     "text": [
      "C:\\Users\\smc\\AppData\\Local\\Temp\\ipykernel_15900\\1547421789.py:60: RuntimeWarning: invalid value encountered in divide\n",
      "  'Areas':areas, 'Mean':intdens/rDNA_areas, 'Marker_Mean':marker_intdens,\n"
     ]
    },
    {
     "name": "stdout",
     "output_type": "stream",
     "text": [
      "./acrocentric_inferred\\B.Orang_chr2_UBF_1014-1.tif\n"
     ]
    },
    {
     "name": "stderr",
     "output_type": "stream",
     "text": [
      "C:\\Users\\smc\\AppData\\Local\\Temp\\ipykernel_15900\\1547421789.py:60: RuntimeWarning: invalid value encountered in divide\n",
      "  'Areas':areas, 'Mean':intdens/rDNA_areas, 'Marker_Mean':marker_intdens,\n"
     ]
    },
    {
     "name": "stdout",
     "output_type": "stream",
     "text": [
      "./acrocentric_inferred\\B.Orang_chr2_UBF_1015-1.tif\n"
     ]
    },
    {
     "name": "stderr",
     "output_type": "stream",
     "text": [
      "C:\\Users\\smc\\AppData\\Local\\Temp\\ipykernel_15900\\1547421789.py:60: RuntimeWarning: invalid value encountered in divide\n",
      "  'Areas':areas, 'Mean':intdens/rDNA_areas, 'Marker_Mean':marker_intdens,\n"
     ]
    },
    {
     "name": "stdout",
     "output_type": "stream",
     "text": [
      "./acrocentric_inferred\\B.Orang_chr2_UBF_1016-1.tif\n"
     ]
    },
    {
     "name": "stderr",
     "output_type": "stream",
     "text": [
      "C:\\Users\\smc\\AppData\\Local\\Temp\\ipykernel_15900\\1547421789.py:60: RuntimeWarning: invalid value encountered in divide\n",
      "  'Areas':areas, 'Mean':intdens/rDNA_areas, 'Marker_Mean':marker_intdens,\n"
     ]
    },
    {
     "name": "stdout",
     "output_type": "stream",
     "text": [
      "./acrocentric_inferred\\B.Orang_chr2_UBF_1017-1.tif\n"
     ]
    },
    {
     "name": "stderr",
     "output_type": "stream",
     "text": [
      "C:\\Users\\smc\\AppData\\Local\\Temp\\ipykernel_15900\\1547421789.py:60: RuntimeWarning: invalid value encountered in divide\n",
      "  'Areas':areas, 'Mean':intdens/rDNA_areas, 'Marker_Mean':marker_intdens,\n"
     ]
    },
    {
     "name": "stdout",
     "output_type": "stream",
     "text": [
      "./acrocentric_inferred\\B.Orang_chr2_UBF_1018-2.tif\n"
     ]
    },
    {
     "name": "stderr",
     "output_type": "stream",
     "text": [
      "C:\\Users\\smc\\AppData\\Local\\Temp\\ipykernel_15900\\1547421789.py:60: RuntimeWarning: invalid value encountered in divide\n",
      "  'Areas':areas, 'Mean':intdens/rDNA_areas, 'Marker_Mean':marker_intdens,\n"
     ]
    },
    {
     "name": "stdout",
     "output_type": "stream",
     "text": [
      "./acrocentric_inferred\\B.Orang_chr2_UBF_1018.tif\n"
     ]
    },
    {
     "name": "stderr",
     "output_type": "stream",
     "text": [
      "C:\\Users\\smc\\AppData\\Local\\Temp\\ipykernel_15900\\1547421789.py:60: RuntimeWarning: invalid value encountered in divide\n",
      "  'Areas':areas, 'Mean':intdens/rDNA_areas, 'Marker_Mean':marker_intdens,\n"
     ]
    },
    {
     "name": "stdout",
     "output_type": "stream",
     "text": [
      "./acrocentric_inferred\\B.Orang_chr2_UBF_1019-1.tif\n",
      "./acrocentric_inferred\\B.Orang_chr2_UBF_1020-1.tif\n"
     ]
    },
    {
     "name": "stderr",
     "output_type": "stream",
     "text": [
      "C:\\Users\\smc\\AppData\\Local\\Temp\\ipykernel_15900\\1547421789.py:60: RuntimeWarning: invalid value encountered in divide\n",
      "  'Areas':areas, 'Mean':intdens/rDNA_areas, 'Marker_Mean':marker_intdens,\n"
     ]
    },
    {
     "name": "stdout",
     "output_type": "stream",
     "text": [
      "./acrocentric_inferred\\B.Orang_chr2_UBF_1021-1.tif\n"
     ]
    },
    {
     "name": "stderr",
     "output_type": "stream",
     "text": [
      "C:\\Users\\smc\\AppData\\Local\\Temp\\ipykernel_15900\\1547421789.py:60: RuntimeWarning: invalid value encountered in divide\n",
      "  'Areas':areas, 'Mean':intdens/rDNA_areas, 'Marker_Mean':marker_intdens,\n"
     ]
    },
    {
     "name": "stdout",
     "output_type": "stream",
     "text": [
      "./acrocentric_inferred\\B.Orang_chr2_UBF_1022-1.tif\n"
     ]
    },
    {
     "name": "stderr",
     "output_type": "stream",
     "text": [
      "C:\\Users\\smc\\AppData\\Local\\Temp\\ipykernel_15900\\1547421789.py:60: RuntimeWarning: invalid value encountered in divide\n",
      "  'Areas':areas, 'Mean':intdens/rDNA_areas, 'Marker_Mean':marker_intdens,\n"
     ]
    },
    {
     "name": "stdout",
     "output_type": "stream",
     "text": [
      "./acrocentric_inferred\\B.Orang_chr2_UBF_1023-1.tif\n",
      "./acrocentric_inferred\\B.Orang_chr2_UBF_1024-1.tif\n"
     ]
    },
    {
     "name": "stderr",
     "output_type": "stream",
     "text": [
      "C:\\Users\\smc\\AppData\\Local\\Temp\\ipykernel_15900\\1547421789.py:60: RuntimeWarning: invalid value encountered in divide\n",
      "  'Areas':areas, 'Mean':intdens/rDNA_areas, 'Marker_Mean':marker_intdens,\n"
     ]
    },
    {
     "name": "stdout",
     "output_type": "stream",
     "text": [
      "./acrocentric_inferred\\B.Orang_chr2_UBF_1025-1.tif\n"
     ]
    },
    {
     "name": "stderr",
     "output_type": "stream",
     "text": [
      "C:\\Users\\smc\\AppData\\Local\\Temp\\ipykernel_15900\\1547421789.py:60: RuntimeWarning: invalid value encountered in divide\n",
      "  'Areas':areas, 'Mean':intdens/rDNA_areas, 'Marker_Mean':marker_intdens,\n"
     ]
    },
    {
     "name": "stdout",
     "output_type": "stream",
     "text": [
      "./acrocentric_inferred\\B.Orang_chr2_UBF_1026-1.tif\n",
      "./acrocentric_inferred\\B.Orang_chr9_UBF_1001-1.tif\n"
     ]
    },
    {
     "name": "stderr",
     "output_type": "stream",
     "text": [
      "C:\\Users\\smc\\AppData\\Local\\Temp\\ipykernel_15900\\1547421789.py:60: RuntimeWarning: invalid value encountered in divide\n",
      "  'Areas':areas, 'Mean':intdens/rDNA_areas, 'Marker_Mean':marker_intdens,\n"
     ]
    },
    {
     "name": "stdout",
     "output_type": "stream",
     "text": [
      "./acrocentric_inferred\\B.Orang_chr9_UBF_1003-1.tif\n"
     ]
    },
    {
     "name": "stderr",
     "output_type": "stream",
     "text": [
      "C:\\Users\\smc\\AppData\\Local\\Temp\\ipykernel_15900\\1547421789.py:60: RuntimeWarning: invalid value encountered in divide\n",
      "  'Areas':areas, 'Mean':intdens/rDNA_areas, 'Marker_Mean':marker_intdens,\n"
     ]
    },
    {
     "name": "stdout",
     "output_type": "stream",
     "text": [
      "./acrocentric_inferred\\B.Orang_chr9_UBF_1004-1.tif\n"
     ]
    },
    {
     "name": "stderr",
     "output_type": "stream",
     "text": [
      "C:\\Users\\smc\\AppData\\Local\\Temp\\ipykernel_15900\\1547421789.py:60: RuntimeWarning: invalid value encountered in divide\n",
      "  'Areas':areas, 'Mean':intdens/rDNA_areas, 'Marker_Mean':marker_intdens,\n"
     ]
    },
    {
     "name": "stdout",
     "output_type": "stream",
     "text": [
      "./acrocentric_inferred\\B.Orang_chr9_UBF_1008-1.tif\n"
     ]
    },
    {
     "name": "stderr",
     "output_type": "stream",
     "text": [
      "C:\\Users\\smc\\AppData\\Local\\Temp\\ipykernel_15900\\1547421789.py:60: RuntimeWarning: invalid value encountered in divide\n",
      "  'Areas':areas, 'Mean':intdens/rDNA_areas, 'Marker_Mean':marker_intdens,\n"
     ]
    },
    {
     "name": "stdout",
     "output_type": "stream",
     "text": [
      "./acrocentric_inferred\\B.Orang_chr9_UBF_1009-1.tif\n"
     ]
    },
    {
     "name": "stderr",
     "output_type": "stream",
     "text": [
      "C:\\Users\\smc\\AppData\\Local\\Temp\\ipykernel_15900\\1547421789.py:60: RuntimeWarning: invalid value encountered in divide\n",
      "  'Areas':areas, 'Mean':intdens/rDNA_areas, 'Marker_Mean':marker_intdens,\n"
     ]
    },
    {
     "name": "stdout",
     "output_type": "stream",
     "text": [
      "./acrocentric_inferred\\B.Orang_chr9_UBF_1012-1.tif\n"
     ]
    },
    {
     "name": "stderr",
     "output_type": "stream",
     "text": [
      "C:\\Users\\smc\\AppData\\Local\\Temp\\ipykernel_15900\\1547421789.py:60: RuntimeWarning: invalid value encountered in divide\n",
      "  'Areas':areas, 'Mean':intdens/rDNA_areas, 'Marker_Mean':marker_intdens,\n"
     ]
    },
    {
     "name": "stdout",
     "output_type": "stream",
     "text": [
      "./acrocentric_inferred\\B.Orang_chr9_UBF_1014-1.tif\n"
     ]
    },
    {
     "name": "stderr",
     "output_type": "stream",
     "text": [
      "C:\\Users\\smc\\AppData\\Local\\Temp\\ipykernel_15900\\1547421789.py:60: RuntimeWarning: invalid value encountered in divide\n",
      "  'Areas':areas, 'Mean':intdens/rDNA_areas, 'Marker_Mean':marker_intdens,\n"
     ]
    },
    {
     "name": "stdout",
     "output_type": "stream",
     "text": [
      "./acrocentric_inferred\\B.Orang_chr9_UBF_1015-1.tif\n"
     ]
    },
    {
     "name": "stderr",
     "output_type": "stream",
     "text": [
      "C:\\Users\\smc\\AppData\\Local\\Temp\\ipykernel_15900\\1547421789.py:60: RuntimeWarning: invalid value encountered in divide\n",
      "  'Areas':areas, 'Mean':intdens/rDNA_areas, 'Marker_Mean':marker_intdens,\n"
     ]
    },
    {
     "name": "stdout",
     "output_type": "stream",
     "text": [
      "./acrocentric_inferred\\B.Orang_chr9_UBF_1016-1.tif\n"
     ]
    },
    {
     "name": "stderr",
     "output_type": "stream",
     "text": [
      "C:\\Users\\smc\\AppData\\Local\\Temp\\ipykernel_15900\\1547421789.py:60: RuntimeWarning: invalid value encountered in divide\n",
      "  'Areas':areas, 'Mean':intdens/rDNA_areas, 'Marker_Mean':marker_intdens,\n"
     ]
    },
    {
     "name": "stdout",
     "output_type": "stream",
     "text": [
      "./acrocentric_inferred\\B.Orang_chr9_UBF_1017-1.tif\n"
     ]
    },
    {
     "name": "stderr",
     "output_type": "stream",
     "text": [
      "C:\\Users\\smc\\AppData\\Local\\Temp\\ipykernel_15900\\1547421789.py:60: RuntimeWarning: invalid value encountered in divide\n",
      "  'Areas':areas, 'Mean':intdens/rDNA_areas, 'Marker_Mean':marker_intdens,\n"
     ]
    },
    {
     "name": "stdout",
     "output_type": "stream",
     "text": [
      "./acrocentric_inferred\\B.Orang_chr9_UBF_1017-2.tif\n"
     ]
    },
    {
     "name": "stderr",
     "output_type": "stream",
     "text": [
      "C:\\Users\\smc\\AppData\\Local\\Temp\\ipykernel_15900\\1547421789.py:60: RuntimeWarning: invalid value encountered in divide\n",
      "  'Areas':areas, 'Mean':intdens/rDNA_areas, 'Marker_Mean':marker_intdens,\n"
     ]
    },
    {
     "name": "stdout",
     "output_type": "stream",
     "text": [
      "./acrocentric_inferred\\B.Orang_chr9_UBF_1018-1.tif\n"
     ]
    },
    {
     "name": "stderr",
     "output_type": "stream",
     "text": [
      "C:\\Users\\smc\\AppData\\Local\\Temp\\ipykernel_15900\\1547421789.py:60: RuntimeWarning: invalid value encountered in divide\n",
      "  'Areas':areas, 'Mean':intdens/rDNA_areas, 'Marker_Mean':marker_intdens,\n"
     ]
    },
    {
     "name": "stdout",
     "output_type": "stream",
     "text": [
      "./acrocentric_inferred\\B.Orang_chr9_UBF_1019-1.tif\n"
     ]
    },
    {
     "name": "stderr",
     "output_type": "stream",
     "text": [
      "C:\\Users\\smc\\AppData\\Local\\Temp\\ipykernel_15900\\1547421789.py:60: RuntimeWarning: invalid value encountered in divide\n",
      "  'Areas':areas, 'Mean':intdens/rDNA_areas, 'Marker_Mean':marker_intdens,\n"
     ]
    },
    {
     "name": "stdout",
     "output_type": "stream",
     "text": [
      "./acrocentric_inferred\\B.Orang_chr9_UBF_1020-1.tif\n"
     ]
    },
    {
     "name": "stderr",
     "output_type": "stream",
     "text": [
      "C:\\Users\\smc\\AppData\\Local\\Temp\\ipykernel_15900\\1547421789.py:60: RuntimeWarning: invalid value encountered in divide\n",
      "  'Areas':areas, 'Mean':intdens/rDNA_areas, 'Marker_Mean':marker_intdens,\n"
     ]
    },
    {
     "name": "stdout",
     "output_type": "stream",
     "text": [
      "./acrocentric_inferred\\B.Orang_chr9_UBF_1021-1.tif\n"
     ]
    },
    {
     "name": "stderr",
     "output_type": "stream",
     "text": [
      "C:\\Users\\smc\\AppData\\Local\\Temp\\ipykernel_15900\\1547421789.py:60: RuntimeWarning: invalid value encountered in divide\n",
      "  'Areas':areas, 'Mean':intdens/rDNA_areas, 'Marker_Mean':marker_intdens,\n"
     ]
    },
    {
     "name": "stdout",
     "output_type": "stream",
     "text": [
      "./acrocentric_inferred\\B.Orang_chr9_UBF_1022-1.tif\n"
     ]
    },
    {
     "name": "stderr",
     "output_type": "stream",
     "text": [
      "C:\\Users\\smc\\AppData\\Local\\Temp\\ipykernel_15900\\1547421789.py:60: RuntimeWarning: invalid value encountered in divide\n",
      "  'Areas':areas, 'Mean':intdens/rDNA_areas, 'Marker_Mean':marker_intdens,\n"
     ]
    },
    {
     "name": "stdout",
     "output_type": "stream",
     "text": [
      "./acrocentric_inferred\\B.Orang_chr9_UBF_1023-1.tif\n"
     ]
    },
    {
     "name": "stderr",
     "output_type": "stream",
     "text": [
      "C:\\Users\\smc\\AppData\\Local\\Temp\\ipykernel_15900\\1547421789.py:60: RuntimeWarning: invalid value encountered in divide\n",
      "  'Areas':areas, 'Mean':intdens/rDNA_areas, 'Marker_Mean':marker_intdens,\n"
     ]
    },
    {
     "name": "stdout",
     "output_type": "stream",
     "text": [
      "./acrocentric_inferred\\B.Orang_chr9_UBF_1024-1.tif\n"
     ]
    },
    {
     "name": "stderr",
     "output_type": "stream",
     "text": [
      "C:\\Users\\smc\\AppData\\Local\\Temp\\ipykernel_15900\\1547421789.py:60: RuntimeWarning: invalid value encountered in divide\n",
      "  'Areas':areas, 'Mean':intdens/rDNA_areas, 'Marker_Mean':marker_intdens,\n"
     ]
    },
    {
     "name": "stdout",
     "output_type": "stream",
     "text": [
      "./acrocentric_inferred\\B.Orang_chr9_UBF_1025-1.tif\n"
     ]
    },
    {
     "name": "stderr",
     "output_type": "stream",
     "text": [
      "C:\\Users\\smc\\AppData\\Local\\Temp\\ipykernel_15900\\1547421789.py:60: RuntimeWarning: invalid value encountered in divide\n",
      "  'Areas':areas, 'Mean':intdens/rDNA_areas, 'Marker_Mean':marker_intdens,\n"
     ]
    },
    {
     "name": "stdout",
     "output_type": "stream",
     "text": [
      "./acrocentric_inferred\\B.Orang_chr9_UBF_1026-1.tif\n"
     ]
    },
    {
     "name": "stderr",
     "output_type": "stream",
     "text": [
      "C:\\Users\\smc\\AppData\\Local\\Temp\\ipykernel_15900\\1547421789.py:60: RuntimeWarning: invalid value encountered in divide\n",
      "  'Areas':areas, 'Mean':intdens/rDNA_areas, 'Marker_Mean':marker_intdens,\n"
     ]
    },
    {
     "name": "stdout",
     "output_type": "stream",
     "text": [
      "./acrocentric_inferred\\B.Orang_chr9_UBF_1027-1.tif\n"
     ]
    },
    {
     "name": "stderr",
     "output_type": "stream",
     "text": [
      "C:\\Users\\smc\\AppData\\Local\\Temp\\ipykernel_15900\\1547421789.py:60: RuntimeWarning: invalid value encountered in divide\n",
      "  'Areas':areas, 'Mean':intdens/rDNA_areas, 'Marker_Mean':marker_intdens,\n"
     ]
    },
    {
     "name": "stdout",
     "output_type": "stream",
     "text": [
      "./acrocentric_inferred\\B.Orang_chr9_UBF_1028-1.tif\n"
     ]
    },
    {
     "name": "stderr",
     "output_type": "stream",
     "text": [
      "C:\\Users\\smc\\AppData\\Local\\Temp\\ipykernel_15900\\1547421789.py:60: RuntimeWarning: invalid value encountered in divide\n",
      "  'Areas':areas, 'Mean':intdens/rDNA_areas, 'Marker_Mean':marker_intdens,\n"
     ]
    },
    {
     "name": "stdout",
     "output_type": "stream",
     "text": [
      "./acrocentric_inferred\\B.Orang_chr9_UBF_1029-1.tif\n"
     ]
    },
    {
     "name": "stderr",
     "output_type": "stream",
     "text": [
      "C:\\Users\\smc\\AppData\\Local\\Temp\\ipykernel_15900\\1547421789.py:60: RuntimeWarning: invalid value encountered in divide\n",
      "  'Areas':areas, 'Mean':intdens/rDNA_areas, 'Marker_Mean':marker_intdens,\n"
     ]
    },
    {
     "name": "stdout",
     "output_type": "stream",
     "text": [
      "./acrocentric_inferred\\B.Orang_chr9_UBF_1030-1.tif\n"
     ]
    },
    {
     "name": "stderr",
     "output_type": "stream",
     "text": [
      "C:\\Users\\smc\\AppData\\Local\\Temp\\ipykernel_15900\\1547421789.py:60: RuntimeWarning: invalid value encountered in divide\n",
      "  'Areas':areas, 'Mean':intdens/rDNA_areas, 'Marker_Mean':marker_intdens,\n"
     ]
    },
    {
     "name": "stdout",
     "output_type": "stream",
     "text": [
      "./acrocentric_inferred\\B.Orang_chr9_UBF_1031-1.tif\n"
     ]
    },
    {
     "name": "stderr",
     "output_type": "stream",
     "text": [
      "C:\\Users\\smc\\AppData\\Local\\Temp\\ipykernel_15900\\1547421789.py:60: RuntimeWarning: invalid value encountered in divide\n",
      "  'Areas':areas, 'Mean':intdens/rDNA_areas, 'Marker_Mean':marker_intdens,\n"
     ]
    },
    {
     "name": "stdout",
     "output_type": "stream",
     "text": [
      "./acrocentric_inferred\\B.Orang_chr9_UBF_1032-1.tif\n"
     ]
    },
    {
     "name": "stderr",
     "output_type": "stream",
     "text": [
      "C:\\Users\\smc\\AppData\\Local\\Temp\\ipykernel_15900\\1547421789.py:60: RuntimeWarning: invalid value encountered in divide\n",
      "  'Areas':areas, 'Mean':intdens/rDNA_areas, 'Marker_Mean':marker_intdens,\n"
     ]
    },
    {
     "name": "stdout",
     "output_type": "stream",
     "text": [
      "./acrocentric_inferred\\B.Orang_chr9_UBF_1033-1.tif\n"
     ]
    },
    {
     "name": "stderr",
     "output_type": "stream",
     "text": [
      "C:\\Users\\smc\\AppData\\Local\\Temp\\ipykernel_15900\\1547421789.py:60: RuntimeWarning: invalid value encountered in divide\n",
      "  'Areas':areas, 'Mean':intdens/rDNA_areas, 'Marker_Mean':marker_intdens,\n"
     ]
    },
    {
     "name": "stdout",
     "output_type": "stream",
     "text": [
      "./acrocentric_inferred\\B.Orang_chr9_UBF_1034-1.tif\n"
     ]
    },
    {
     "name": "stderr",
     "output_type": "stream",
     "text": [
      "C:\\Users\\smc\\AppData\\Local\\Temp\\ipykernel_15900\\1547421789.py:60: RuntimeWarning: invalid value encountered in divide\n",
      "  'Areas':areas, 'Mean':intdens/rDNA_areas, 'Marker_Mean':marker_intdens,\n"
     ]
    },
    {
     "name": "stdout",
     "output_type": "stream",
     "text": [
      "./acrocentric_inferred\\B.Orang_chr9_UBF_1035-1.tif\n"
     ]
    },
    {
     "name": "stderr",
     "output_type": "stream",
     "text": [
      "C:\\Users\\smc\\AppData\\Local\\Temp\\ipykernel_15900\\1547421789.py:60: RuntimeWarning: invalid value encountered in divide\n",
      "  'Areas':areas, 'Mean':intdens/rDNA_areas, 'Marker_Mean':marker_intdens,\n"
     ]
    }
   ],
   "source": [
    "df = pd.DataFrame()\n",
    "\n",
    "for f in glob.glob('./acrocentric_inferred/*.tif'):\n",
    "#for f in glob.glob('./test/*.tif'):\n",
    "    print(f)\n",
    "    img = tifffile.imread(f)\n",
    "    chromosomes = img[-1].astype(int)\n",
    "    img = img[0:-1]\n",
    "    \n",
    "    rDNA = tifffile.imread(f.replace('acrocentric_inferred', 'rDNA_inferred'))[-1].astype(int)\n",
    "    rDNA_merged = merge_rDNA_labels(rDNA, chromosomes)\n",
    "\n",
    "    intdens = []\n",
    "    rDNA_areas = []\n",
    "    ubfintdens = []\n",
    "    medians = sp.ndimage.labeled_comprehension(img[rDNA_channel], chromosomes, np.arange(1,np.max(chromosomes)+1),\n",
    "                                                  ptile, np.single, 0)\n",
    "    areas = sp.ndimage.labeled_comprehension(chromosomes, chromosomes, np.arange(1,np.max(chromosomes)+1),\n",
    "                                                  len, np.single, 0)\n",
    "    marker_medians = sp.ndimage.labeled_comprehension(img[marker_channel], chromosomes, np.arange(1,np.max(chromosomes)+1),\n",
    "                                                  np.median, np.single, 0)\n",
    "    marker_intdens = sp.ndimage.labeled_comprehension(img[marker_channel], chromosomes, np.arange(1,np.max(chromosomes)+1),\n",
    "                                                  np.mean, np.single, 0)\n",
    "    labs = sp.ndimage.labeled_comprehension(chromosomes, chromosomes, np.arange(1,np.max(chromosomes)+1),\n",
    "                                                  np.median, np.single, 0)\n",
    "    # Removed for Orangutan dataset as the marker stains the ENTIRE chromosome\n",
    "    #marker_intdens = marker_intdens - marker_medians\n",
    "    \n",
    "    #print(medians)\n",
    "    medians = np.median(medians)\n",
    "    for a in np.arange(1, np.max(chromosomes)+1):\n",
    "        pixels_with_rDNA = (rDNA_merged==a)\n",
    "\n",
    "        #New added as of 20220614\n",
    "        pixels_in_chromosome_but_not_rDNA = (chromosomes==a) & ~(pixels_with_rDNA)\n",
    "        background = np.median(img[rDNA_channel][pixels_in_chromosome_but_not_rDNA])\n",
    "        UBF_background = np.median(img[UBF_channel][pixels_in_chromosome_but_not_rDNA])\n",
    "        \n",
    "        #background = medians\n",
    "        back_subbed = img[rDNA_channel][pixels_with_rDNA] - background\n",
    "        back_subbed_ubf = img[UBF_channel][pixels_with_rDNA] - UBF_background\n",
    "        if np.sum(pixels_with_rDNA)>0:\n",
    "            intdens.append(np.sum(back_subbed))\n",
    "            ubfintdens.append(np.sum(back_subbed_ubf))\n",
    "        else:\n",
    "            intdens.append(0)\n",
    "            ubfintdens.append(0)\n",
    "        rDNA_areas.append(np.sum(pixels_with_rDNA))\n",
    "    intdens = np.array(intdens)\n",
    "    rDNA_areas = np.array(rDNA_areas)\n",
    "    ubfintdens = np.array(ubfintdens)\n",
    "    #tifffile.imwrite('./rDNAMasks/'+f.split('\\\\')[-1], \n",
    "    #                 np.array([img[DAPI_channel], img[rDNA_channel], img[marker_channel], rDNA_mask]).astype(np.single), \n",
    "    #                 imagej=True)\n",
    "\n",
    "    values = np.concatenate([[0], intdens])[chromosomes]\n",
    "\n",
    "    tdf = pd.DataFrame({'File':f, 'IntDens':intdens/np.sum(intdens), \n",
    "                       'rDNA_Areas':rDNA_areas, \n",
    "                       'Areas':areas, 'Mean':intdens/rDNA_areas, 'Marker_Mean':marker_intdens,\n",
    "                       'UBF_Mean':ubfintdens, 'UBF_IntDens':ubfintdens/np.sum(ubfintdens), 'labels':labs})\n",
    "\n",
    "    props = measure.regionprops(chromosomes)\n",
    "    angles = np.array([p['orientation'] for p in props])\n",
    "    areas = np.array([p['Area'] for p in props])\n",
    "\n",
    "    lst = np.arange(1,np.max(chromosomes)+1)\n",
    "\n",
    "    sorted_chromosomes = lst[np.argsort(-marker_intdens)]\n",
    "    tdf = tdf.sort_values(by='Marker_Mean', ascending=False)\n",
    "\n",
    "    nimgs = []\n",
    "    nmasks = []\n",
    "    for a in sorted_chromosomes:\n",
    "        nimg, nmask = crop_and_rotate(img, chromosomes==a, angles[a-1]/np.pi*180)\n",
    "        nimg = np.concatenate([nimg, [nmask]])\n",
    "        nimgs.append(nimg)\n",
    "        nmasks.append(nmask)\n",
    "\n",
    "\n",
    "    columns = 20\n",
    "    rows = int(np.ceil(len(nimgs)/columns))\n",
    "\n",
    "    master_img = np.zeros([5, wheight*rows, wwidth*columns])\n",
    "    idx = 0\n",
    "    \n",
    "    for y in np.arange(0,wheight*rows, wheight):\n",
    "        for x in np.arange(0,wwidth*columns, wwidth):\n",
    "            master_img[:,y:(y+wheight), x:(x+wwidth)] = nimgs[idx]\n",
    "            idx = idx+1\n",
    "            if idx>=len(nimgs):\n",
    "                break\n",
    "\n",
    "    viewer.layers.clear()\n",
    "    viewer.add_image(master_img, channel_axis=0)\n",
    "    viewer.layers[1].colormap='red'\n",
    "    viewer.layers[2].colormap='green'\n",
    "    viewer.layers[3].colormap='blue'\n",
    "\n",
    "    tifffile.imwrite('./Karyos/'+f.split('\\\\')[-1], master_img.astype(np.ushort), imagej=True)\n",
    "    df = pd.concat([df, tdf])"
   ]
  },
  {
   "cell_type": "code",
   "execution_count": 18,
   "metadata": {},
   "outputs": [
    {
     "data": {
      "text/html": [
       "<div>\n",
       "<style scoped>\n",
       "    .dataframe tbody tr th:only-of-type {\n",
       "        vertical-align: middle;\n",
       "    }\n",
       "\n",
       "    .dataframe tbody tr th {\n",
       "        vertical-align: top;\n",
       "    }\n",
       "\n",
       "    .dataframe thead th {\n",
       "        text-align: right;\n",
       "    }\n",
       "</style>\n",
       "<table border=\"1\" class=\"dataframe\">\n",
       "  <thead>\n",
       "    <tr style=\"text-align: right;\">\n",
       "      <th></th>\n",
       "      <th>Areas</th>\n",
       "    </tr>\n",
       "    <tr>\n",
       "      <th>File</th>\n",
       "      <th></th>\n",
       "    </tr>\n",
       "  </thead>\n",
       "  <tbody>\n",
       "    <tr>\n",
       "      <th>./acrocentric_inferred\\B.Orang_chr13_UBF_1001-1.tif</th>\n",
       "      <td>18</td>\n",
       "    </tr>\n",
       "    <tr>\n",
       "      <th>./acrocentric_inferred\\B.Orang_chr13_UBF_1002-1.tif</th>\n",
       "      <td>18</td>\n",
       "    </tr>\n",
       "    <tr>\n",
       "      <th>./acrocentric_inferred\\B.Orang_chr13_UBF_1003-1.tif</th>\n",
       "      <td>18</td>\n",
       "    </tr>\n",
       "    <tr>\n",
       "      <th>./acrocentric_inferred\\B.Orang_chr13_UBF_1004-1.tif</th>\n",
       "      <td>15</td>\n",
       "    </tr>\n",
       "    <tr>\n",
       "      <th>./acrocentric_inferred\\B.Orang_chr13_UBF_1005-1.tif</th>\n",
       "      <td>17</td>\n",
       "    </tr>\n",
       "    <tr>\n",
       "      <th>...</th>\n",
       "      <td>...</td>\n",
       "    </tr>\n",
       "    <tr>\n",
       "      <th>./acrocentric_inferred\\B.Orang_chr9_UBF_1031-1.tif</th>\n",
       "      <td>18</td>\n",
       "    </tr>\n",
       "    <tr>\n",
       "      <th>./acrocentric_inferred\\B.Orang_chr9_UBF_1032-1.tif</th>\n",
       "      <td>18</td>\n",
       "    </tr>\n",
       "    <tr>\n",
       "      <th>./acrocentric_inferred\\B.Orang_chr9_UBF_1033-1.tif</th>\n",
       "      <td>18</td>\n",
       "    </tr>\n",
       "    <tr>\n",
       "      <th>./acrocentric_inferred\\B.Orang_chr9_UBF_1034-1.tif</th>\n",
       "      <td>18</td>\n",
       "    </tr>\n",
       "    <tr>\n",
       "      <th>./acrocentric_inferred\\B.Orang_chr9_UBF_1035-1.tif</th>\n",
       "      <td>18</td>\n",
       "    </tr>\n",
       "  </tbody>\n",
       "</table>\n",
       "<p>172 rows × 1 columns</p>\n",
       "</div>"
      ],
      "text/plain": [
       "                                                    Areas\n",
       "File                                                     \n",
       "./acrocentric_inferred\\B.Orang_chr13_UBF_1001-1...     18\n",
       "./acrocentric_inferred\\B.Orang_chr13_UBF_1002-1...     18\n",
       "./acrocentric_inferred\\B.Orang_chr13_UBF_1003-1...     18\n",
       "./acrocentric_inferred\\B.Orang_chr13_UBF_1004-1...     15\n",
       "./acrocentric_inferred\\B.Orang_chr13_UBF_1005-1...     17\n",
       "...                                                   ...\n",
       "./acrocentric_inferred\\B.Orang_chr9_UBF_1031-1.tif     18\n",
       "./acrocentric_inferred\\B.Orang_chr9_UBF_1032-1.tif     18\n",
       "./acrocentric_inferred\\B.Orang_chr9_UBF_1033-1.tif     18\n",
       "./acrocentric_inferred\\B.Orang_chr9_UBF_1034-1.tif     18\n",
       "./acrocentric_inferred\\B.Orang_chr9_UBF_1035-1.tif     18\n",
       "\n",
       "[172 rows x 1 columns]"
      ]
     },
     "execution_count": 18,
     "metadata": {},
     "output_type": "execute_result"
    }
   ],
   "source": [
    "df.pivot_table(index='File', values='Areas', aggfunc=len)"
   ]
  },
  {
   "cell_type": "code",
   "execution_count": 19,
   "metadata": {},
   "outputs": [
    {
     "data": {
      "text/plain": [
       "14    chr13\n",
       "6     chr13\n",
       "8     chr13\n",
       "11    chr13\n",
       "17    chr13\n",
       "      ...  \n",
       "10     chr9\n",
       "7      chr9\n",
       "3      chr9\n",
       "9      chr9\n",
       "0      chr9\n",
       "Name: File, Length: 3030, dtype: object"
      ]
     },
     "execution_count": 19,
     "metadata": {},
     "output_type": "execute_result"
    }
   ],
   "source": [
    "df['File'].str.split('_').str[2]"
   ]
  },
  {
   "cell_type": "code",
   "execution_count": 20,
   "metadata": {},
   "outputs": [
    {
     "name": "stdout",
     "output_type": "stream",
     "text": [
      "                                                 File   IntDens  rDNA_Areas  \\\n",
      "14  ./acrocentric_inferred\\B.Orang_chr13_UBF_1001-...  0.074889         129   \n",
      "6   ./acrocentric_inferred\\B.Orang_chr13_UBF_1001-...  0.110767         150   \n",
      "8   ./acrocentric_inferred\\B.Orang_chr13_UBF_1001-...  0.014362          93   \n",
      "11  ./acrocentric_inferred\\B.Orang_chr13_UBF_1001-...  0.000000           0   \n",
      "17  ./acrocentric_inferred\\B.Orang_chr13_UBF_1001-...  0.024165          68   \n",
      "..                                                ...       ...         ...   \n",
      "10  ./acrocentric_inferred\\B.Orang_chr9_UBF_1035-1...  0.080987         102   \n",
      "7   ./acrocentric_inferred\\B.Orang_chr9_UBF_1035-1...  0.254754         189   \n",
      "3   ./acrocentric_inferred\\B.Orang_chr9_UBF_1035-1...  0.024907          68   \n",
      "9   ./acrocentric_inferred\\B.Orang_chr9_UBF_1035-1...  0.095712         140   \n",
      "0   ./acrocentric_inferred\\B.Orang_chr9_UBF_1035-1...  0.020922          86   \n",
      "\n",
      "    Areas         Mean  Marker_Mean   UBF_Mean  UBF_IntDens  labels  \n",
      "14  441.0   589.550388  3117.437744  2648432.0     0.223231    15.0  \n",
      "6   475.0   749.913333  3101.433594  3426991.0     0.288854     7.0  \n",
      "8   460.0   156.827957  2178.217285    -7312.0    -0.000616     9.0  \n",
      "11  333.0          NaN  2159.123047        0.0     0.000000    12.0  \n",
      "17  509.0   360.882353  2143.451904   183059.0     0.015430    18.0  \n",
      "..    ...          ...          ...        ...          ...     ...  \n",
      "10  410.0   692.833333  2486.529297   173986.0     0.063036    11.0  \n",
      "7   467.0  1176.169312  2476.809326    -2622.0    -0.000950     8.0  \n",
      "3   349.0   319.617647  2446.985596   138608.0     0.050218     4.0  \n",
      "9   500.0   596.557143  2443.478027   241533.0     0.087509    10.0  \n",
      "0   290.0   212.279070  2330.562012    37834.0     0.013707     1.0  \n",
      "\n",
      "[3030 rows x 9 columns]\n"
     ]
    }
   ],
   "source": [
    "print(df)"
   ]
  },
  {
   "cell_type": "code",
   "execution_count": 21,
   "metadata": {},
   "outputs": [],
   "source": [
    "df['Chromosome'] = df['File'].str.split('_').str[2]\n",
    "#df.loc[df['Chromosome']=='rDNA', 'Chromosome'] = df.loc[df['Chromosome']=='rDNA', 'File'].str.split('_').str[4]"
   ]
  },
  {
   "cell_type": "code",
   "execution_count": 22,
   "metadata": {},
   "outputs": [
    {
     "data": {
      "application/vnd.plotly.v1+json": {
       "config": {
        "plotlyServerURL": "https://plot.ly"
       },
       "data": [
        {
         "alignmentgroup": "True",
         "boxpoints": "all",
         "customdata": [
          [
           "./acrocentric_inferred\\B.Orang_chr13_UBF_1001-1.tif"
          ],
          [
           "./acrocentric_inferred\\B.Orang_chr13_UBF_1002-1.tif"
          ],
          [
           "./acrocentric_inferred\\B.Orang_chr13_UBF_1003-1.tif"
          ],
          [
           "./acrocentric_inferred\\B.Orang_chr13_UBF_1004-1.tif"
          ],
          [
           "./acrocentric_inferred\\B.Orang_chr13_UBF_1005-1.tif"
          ],
          [
           "./acrocentric_inferred\\B.Orang_chr13_UBF_1006-1.tif"
          ],
          [
           "./acrocentric_inferred\\B.Orang_chr13_UBF_1007-1.tif"
          ],
          [
           "./acrocentric_inferred\\B.Orang_chr13_UBF_1008-1.tif"
          ],
          [
           "./acrocentric_inferred\\B.Orang_chr13_UBF_1009-1.tif"
          ],
          [
           "./acrocentric_inferred\\B.Orang_chr13_UBF_1011-1.tif"
          ],
          [
           "./acrocentric_inferred\\B.Orang_chr13_UBF_1012-1.tif"
          ],
          [
           "./acrocentric_inferred\\B.Orang_chr13_UBF_1013-1.tif"
          ],
          [
           "./acrocentric_inferred\\B.Orang_chr13_UBF_1014-1.tif"
          ],
          [
           "./acrocentric_inferred\\B.Orang_chr13_UBF_1015-1.tif"
          ],
          [
           "./acrocentric_inferred\\B.Orang_chr13_UBF_1016-1.tif"
          ],
          [
           "./acrocentric_inferred\\B.Orang_chr13_UBF_1017-1.tif"
          ],
          [
           "./acrocentric_inferred\\B.Orang_chr13_UBF_1018-1.tif"
          ],
          [
           "./acrocentric_inferred\\B.Orang_chr13_UBF_1019-1.tif"
          ],
          [
           "./acrocentric_inferred\\B.Orang_chr13_UBF_1020-1.tif"
          ],
          [
           "./acrocentric_inferred\\B.Orang_chr13_UBF_1021-1.tif"
          ],
          [
           "./acrocentric_inferred\\B.Orang_chr14_UBF_1001-1.tif"
          ],
          [
           "./acrocentric_inferred\\B.Orang_chr14_UBF_1002-1.tif"
          ],
          [
           "./acrocentric_inferred\\B.Orang_chr14_UBF_1003-1.tif"
          ],
          [
           "./acrocentric_inferred\\B.Orang_chr14_UBF_1004-1.tif"
          ],
          [
           "./acrocentric_inferred\\B.Orang_chr14_UBF_1005-1.tif"
          ],
          [
           "./acrocentric_inferred\\B.Orang_chr14_UBF_1006-1.tif"
          ],
          [
           "./acrocentric_inferred\\B.Orang_chr14_UBF_1007-1.tif"
          ],
          [
           "./acrocentric_inferred\\B.Orang_chr14_UBF_1009-1.tif"
          ],
          [
           "./acrocentric_inferred\\B.Orang_chr14_UBF_1010-1.tif"
          ],
          [
           "./acrocentric_inferred\\B.Orang_chr14_UBF_1011-1.tif"
          ],
          [
           "./acrocentric_inferred\\B.Orang_chr14_UBF_1012-1.tif"
          ],
          [
           "./acrocentric_inferred\\B.Orang_chr14_UBF_1013-1.tif"
          ],
          [
           "./acrocentric_inferred\\B.Orang_chr14_UBF_1014-1.tif"
          ],
          [
           "./acrocentric_inferred\\B.Orang_chr14_UBF_1015-1.tif"
          ],
          [
           "./acrocentric_inferred\\B.Orang_chr14_UBF_1016-1.tif"
          ],
          [
           "./acrocentric_inferred\\B.Orang_chr14_UBF_1017-1.tif"
          ],
          [
           "./acrocentric_inferred\\B.Orang_chr14_UBF_1018-1.tif"
          ],
          [
           "./acrocentric_inferred\\B.Orang_chr14_UBF_1019-1.tif"
          ],
          [
           "./acrocentric_inferred\\B.Orang_chr14_UBF_1020-1.tif"
          ],
          [
           "./acrocentric_inferred\\B.Orang_chr14_UBF_1021-1.tif"
          ],
          [
           "./acrocentric_inferred\\B.Orang_chr14_UBF_1022-1.tif"
          ],
          [
           "./acrocentric_inferred\\B.Orang_chr15_UBF_1002-1.tif"
          ],
          [
           "./acrocentric_inferred\\B.Orang_chr15_UBF_1003-1.tif"
          ],
          [
           "./acrocentric_inferred\\B.Orang_chr15_UBF_1004-1.tif"
          ],
          [
           "./acrocentric_inferred\\B.Orang_chr15_UBF_1005-1.tif"
          ],
          [
           "./acrocentric_inferred\\B.Orang_chr15_UBF_1006-1.tif"
          ],
          [
           "./acrocentric_inferred\\B.Orang_chr15_UBF_1007-1.tif"
          ],
          [
           "./acrocentric_inferred\\B.Orang_chr15_UBF_1008-1.tif"
          ],
          [
           "./acrocentric_inferred\\B.Orang_chr15_UBF_1009-1.tif"
          ],
          [
           "./acrocentric_inferred\\B.Orang_chr15_UBF_1010-1.tif"
          ],
          [
           "./acrocentric_inferred\\B.Orang_chr15_UBF_1011-1.tif"
          ],
          [
           "./acrocentric_inferred\\B.Orang_chr15_UBF_1012-1.tif"
          ],
          [
           "./acrocentric_inferred\\B.Orang_chr15_UBF_1013-1.tif"
          ],
          [
           "./acrocentric_inferred\\B.Orang_chr15_UBF_1014-1.tif"
          ],
          [
           "./acrocentric_inferred\\B.Orang_chr15_UBF_1015-1.tif"
          ],
          [
           "./acrocentric_inferred\\B.Orang_chr15_UBF_1016-1.tif"
          ],
          [
           "./acrocentric_inferred\\B.Orang_chr15_UBF_1017-1.tif"
          ],
          [
           "./acrocentric_inferred\\B.Orang_chr15_UBF_1018-1.tif"
          ],
          [
           "./acrocentric_inferred\\B.Orang_chr15_UBF_1019-1.tif"
          ],
          [
           "./acrocentric_inferred\\B.Orang_chr15_UBF_1020-1.tif"
          ],
          [
           "./acrocentric_inferred\\B.Orang_chr18_UBF_1001-1.tif"
          ],
          [
           "./acrocentric_inferred\\B.Orang_chr18_UBF_1003-1.tif"
          ],
          [
           "./acrocentric_inferred\\B.Orang_chr18_UBF_1004-1.tif"
          ],
          [
           "./acrocentric_inferred\\B.Orang_chr18_UBF_1005-1.tif"
          ],
          [
           "./acrocentric_inferred\\B.Orang_chr18_UBF_1006-1.tif"
          ],
          [
           "./acrocentric_inferred\\B.Orang_chr18_UBF_1007-1.tif"
          ],
          [
           "./acrocentric_inferred\\B.Orang_chr18_UBF_1008-1.tif"
          ],
          [
           "./acrocentric_inferred\\B.Orang_chr18_UBF_1009-1.tif"
          ],
          [
           "./acrocentric_inferred\\B.Orang_chr18_UBF_1010-1.tif"
          ],
          [
           "./acrocentric_inferred\\B.Orang_chr18_UBF_1011-1.tif"
          ],
          [
           "./acrocentric_inferred\\B.Orang_chr18_UBF_1012-1.tif"
          ],
          [
           "./acrocentric_inferred\\B.Orang_chr18_UBF_1013-1.tif"
          ],
          [
           "./acrocentric_inferred\\B.Orang_chr18_UBF_1014-1.tif"
          ],
          [
           "./acrocentric_inferred\\B.Orang_chr18_UBF_1015-1.tif"
          ],
          [
           "./acrocentric_inferred\\B.Orang_chr18_UBF_1016-1.tif"
          ],
          [
           "./acrocentric_inferred\\B.Orang_chr18_UBF_1017-1.tif"
          ],
          [
           "./acrocentric_inferred\\B.Orang_chr18_UBF_1018-1.tif"
          ],
          [
           "./acrocentric_inferred\\B.Orang_chr18_UBF_1019-1.tif"
          ],
          [
           "./acrocentric_inferred\\B.Orang_chr18_UBF_1020-1.tif"
          ],
          [
           "./acrocentric_inferred\\B.Orang_chr21_UBF_1001-1.tif"
          ],
          [
           "./acrocentric_inferred\\B.Orang_chr21_UBF_1002-1.tif"
          ],
          [
           "./acrocentric_inferred\\B.Orang_chr21_UBF_1004-1.tif"
          ],
          [
           "./acrocentric_inferred\\B.Orang_chr21_UBF_1005-1.tif"
          ],
          [
           "./acrocentric_inferred\\B.Orang_chr21_UBF_1006-1.tif"
          ],
          [
           "./acrocentric_inferred\\B.Orang_chr21_UBF_1007-1.tif"
          ],
          [
           "./acrocentric_inferred\\B.Orang_chr21_UBF_1008-1.tif"
          ],
          [
           "./acrocentric_inferred\\B.Orang_chr21_UBF_1009-1.tif"
          ],
          [
           "./acrocentric_inferred\\B.Orang_chr21_UBF_1010-1.tif"
          ],
          [
           "./acrocentric_inferred\\B.Orang_chr21_UBF_1011-1.tif"
          ],
          [
           "./acrocentric_inferred\\B.Orang_chr21_UBF_1012-1.tif"
          ],
          [
           "./acrocentric_inferred\\B.Orang_chr21_UBF_1013-1.tif"
          ],
          [
           "./acrocentric_inferred\\B.Orang_chr21_UBF_1014-1.tif"
          ],
          [
           "./acrocentric_inferred\\B.Orang_chr21_UBF_1015-1.tif"
          ],
          [
           "./acrocentric_inferred\\B.Orang_chr21_UBF_1016-1.tif"
          ],
          [
           "./acrocentric_inferred\\B.Orang_chr21_UBF_1017-1.tif"
          ],
          [
           "./acrocentric_inferred\\B.Orang_chr21_UBF_1018-1.tif"
          ],
          [
           "./acrocentric_inferred\\B.Orang_chr21_UBF_1019-1.tif"
          ],
          [
           "./acrocentric_inferred\\B.Orang_chr22_UBF_1001-1.tif"
          ],
          [
           "./acrocentric_inferred\\B.Orang_chr22_UBF_1002-1.tif"
          ],
          [
           "./acrocentric_inferred\\B.Orang_chr22_UBF_1003-1.tif"
          ],
          [
           "./acrocentric_inferred\\B.Orang_chr22_UBF_1004-1.tif"
          ],
          [
           "./acrocentric_inferred\\B.Orang_chr22_UBF_1005-1.tif"
          ],
          [
           "./acrocentric_inferred\\B.Orang_chr22_UBF_1006-1.tif"
          ],
          [
           "./acrocentric_inferred\\B.Orang_chr22_UBF_1007-1.tif"
          ],
          [
           "./acrocentric_inferred\\B.Orang_chr22_UBF_1008-1.tif"
          ],
          [
           "./acrocentric_inferred\\B.Orang_chr22_UBF_1009-1.tif"
          ],
          [
           "./acrocentric_inferred\\B.Orang_chr22_UBF_1010-1.tif"
          ],
          [
           "./acrocentric_inferred\\B.Orang_chr22_UBF_1011-1.tif"
          ],
          [
           "./acrocentric_inferred\\B.Orang_chr22_UBF_1013-1.tif"
          ],
          [
           "./acrocentric_inferred\\B.Orang_chr22_UBF_1014-1.tif"
          ],
          [
           "./acrocentric_inferred\\B.Orang_chr22_UBF_1015-1.tif"
          ],
          [
           "./acrocentric_inferred\\B.Orang_chr22_UBF_1016-1.tif"
          ],
          [
           "./acrocentric_inferred\\B.Orang_chr22_UBF_1017-1.tif"
          ],
          [
           "./acrocentric_inferred\\B.Orang_chr22_UBF_1018-1.tif"
          ],
          [
           "./acrocentric_inferred\\B.Orang_chr22_UBF_1019-1.tif"
          ],
          [
           "./acrocentric_inferred\\B.Orang_chr22_UBF_1020-1.tif"
          ],
          [
           "./acrocentric_inferred\\B.Orang_chr2_UBF_1001-1.tif"
          ],
          [
           "./acrocentric_inferred\\B.Orang_chr2_UBF_1002-1.tif"
          ],
          [
           "./acrocentric_inferred\\B.Orang_chr2_UBF_1003-1.tif"
          ],
          [
           "./acrocentric_inferred\\B.Orang_chr2_UBF_1004-1.tif"
          ],
          [
           "./acrocentric_inferred\\B.Orang_chr2_UBF_1005-1.tif"
          ],
          [
           "./acrocentric_inferred\\B.Orang_chr2_UBF_1006-1.tif"
          ],
          [
           "./acrocentric_inferred\\B.Orang_chr2_UBF_1007-1.tif"
          ],
          [
           "./acrocentric_inferred\\B.Orang_chr2_UBF_1008-1.tif"
          ],
          [
           "./acrocentric_inferred\\B.Orang_chr2_UBF_1009-1.tif"
          ],
          [
           "./acrocentric_inferred\\B.Orang_chr2_UBF_1010-1.tif"
          ],
          [
           "./acrocentric_inferred\\B.Orang_chr2_UBF_1011-1.tif"
          ],
          [
           "./acrocentric_inferred\\B.Orang_chr2_UBF_1012-1.tif"
          ],
          [
           "./acrocentric_inferred\\B.Orang_chr2_UBF_1013-1.tif"
          ],
          [
           "./acrocentric_inferred\\B.Orang_chr2_UBF_1014-1.tif"
          ],
          [
           "./acrocentric_inferred\\B.Orang_chr2_UBF_1015-1.tif"
          ],
          [
           "./acrocentric_inferred\\B.Orang_chr2_UBF_1016-1.tif"
          ],
          [
           "./acrocentric_inferred\\B.Orang_chr2_UBF_1017-1.tif"
          ],
          [
           "./acrocentric_inferred\\B.Orang_chr2_UBF_1018-2.tif"
          ],
          [
           "./acrocentric_inferred\\B.Orang_chr2_UBF_1018.tif"
          ],
          [
           "./acrocentric_inferred\\B.Orang_chr2_UBF_1019-1.tif"
          ],
          [
           "./acrocentric_inferred\\B.Orang_chr2_UBF_1020-1.tif"
          ],
          [
           "./acrocentric_inferred\\B.Orang_chr2_UBF_1021-1.tif"
          ],
          [
           "./acrocentric_inferred\\B.Orang_chr2_UBF_1022-1.tif"
          ],
          [
           "./acrocentric_inferred\\B.Orang_chr2_UBF_1023-1.tif"
          ],
          [
           "./acrocentric_inferred\\B.Orang_chr2_UBF_1024-1.tif"
          ],
          [
           "./acrocentric_inferred\\B.Orang_chr2_UBF_1025-1.tif"
          ],
          [
           "./acrocentric_inferred\\B.Orang_chr2_UBF_1026-1.tif"
          ],
          [
           "./acrocentric_inferred\\B.Orang_chr9_UBF_1001-1.tif"
          ],
          [
           "./acrocentric_inferred\\B.Orang_chr9_UBF_1003-1.tif"
          ],
          [
           "./acrocentric_inferred\\B.Orang_chr9_UBF_1004-1.tif"
          ],
          [
           "./acrocentric_inferred\\B.Orang_chr9_UBF_1008-1.tif"
          ],
          [
           "./acrocentric_inferred\\B.Orang_chr9_UBF_1009-1.tif"
          ],
          [
           "./acrocentric_inferred\\B.Orang_chr9_UBF_1012-1.tif"
          ],
          [
           "./acrocentric_inferred\\B.Orang_chr9_UBF_1014-1.tif"
          ],
          [
           "./acrocentric_inferred\\B.Orang_chr9_UBF_1015-1.tif"
          ],
          [
           "./acrocentric_inferred\\B.Orang_chr9_UBF_1016-1.tif"
          ],
          [
           "./acrocentric_inferred\\B.Orang_chr9_UBF_1017-1.tif"
          ],
          [
           "./acrocentric_inferred\\B.Orang_chr9_UBF_1017-2.tif"
          ],
          [
           "./acrocentric_inferred\\B.Orang_chr9_UBF_1018-1.tif"
          ],
          [
           "./acrocentric_inferred\\B.Orang_chr9_UBF_1019-1.tif"
          ],
          [
           "./acrocentric_inferred\\B.Orang_chr9_UBF_1020-1.tif"
          ],
          [
           "./acrocentric_inferred\\B.Orang_chr9_UBF_1021-1.tif"
          ],
          [
           "./acrocentric_inferred\\B.Orang_chr9_UBF_1022-1.tif"
          ],
          [
           "./acrocentric_inferred\\B.Orang_chr9_UBF_1023-1.tif"
          ],
          [
           "./acrocentric_inferred\\B.Orang_chr9_UBF_1024-1.tif"
          ],
          [
           "./acrocentric_inferred\\B.Orang_chr9_UBF_1025-1.tif"
          ],
          [
           "./acrocentric_inferred\\B.Orang_chr9_UBF_1026-1.tif"
          ],
          [
           "./acrocentric_inferred\\B.Orang_chr9_UBF_1027-1.tif"
          ],
          [
           "./acrocentric_inferred\\B.Orang_chr9_UBF_1028-1.tif"
          ],
          [
           "./acrocentric_inferred\\B.Orang_chr9_UBF_1029-1.tif"
          ],
          [
           "./acrocentric_inferred\\B.Orang_chr9_UBF_1030-1.tif"
          ],
          [
           "./acrocentric_inferred\\B.Orang_chr9_UBF_1031-1.tif"
          ],
          [
           "./acrocentric_inferred\\B.Orang_chr9_UBF_1032-1.tif"
          ],
          [
           "./acrocentric_inferred\\B.Orang_chr9_UBF_1033-1.tif"
          ],
          [
           "./acrocentric_inferred\\B.Orang_chr9_UBF_1034-1.tif"
          ],
          [
           "./acrocentric_inferred\\B.Orang_chr9_UBF_1035-1.tif"
          ]
         ],
         "hovertemplate": "Chromosome=%{x}<br>Areas=%{y}<br>File=%{customdata[0]}<extra></extra>",
         "legendgroup": "",
         "marker": {
          "color": "#636efa"
         },
         "name": "",
         "notched": false,
         "offsetgroup": "",
         "orientation": "v",
         "showlegend": false,
         "type": "box",
         "x": [
          "chr13",
          "chr13",
          "chr13",
          "chr13",
          "chr13",
          "chr13",
          "chr13",
          "chr13",
          "chr13",
          "chr13",
          "chr13",
          "chr13",
          "chr13",
          "chr13",
          "chr13",
          "chr13",
          "chr13",
          "chr13",
          "chr13",
          "chr13",
          "chr14",
          "chr14",
          "chr14",
          "chr14",
          "chr14",
          "chr14",
          "chr14",
          "chr14",
          "chr14",
          "chr14",
          "chr14",
          "chr14",
          "chr14",
          "chr14",
          "chr14",
          "chr14",
          "chr14",
          "chr14",
          "chr14",
          "chr14",
          "chr14",
          "chr15",
          "chr15",
          "chr15",
          "chr15",
          "chr15",
          "chr15",
          "chr15",
          "chr15",
          "chr15",
          "chr15",
          "chr15",
          "chr15",
          "chr15",
          "chr15",
          "chr15",
          "chr15",
          "chr15",
          "chr15",
          "chr15",
          "chr18",
          "chr18",
          "chr18",
          "chr18",
          "chr18",
          "chr18",
          "chr18",
          "chr18",
          "chr18",
          "chr18",
          "chr18",
          "chr18",
          "chr18",
          "chr18",
          "chr18",
          "chr18",
          "chr18",
          "chr18",
          "chr18",
          "chr21",
          "chr21",
          "chr21",
          "chr21",
          "chr21",
          "chr21",
          "chr21",
          "chr21",
          "chr21",
          "chr21",
          "chr21",
          "chr21",
          "chr21",
          "chr21",
          "chr21",
          "chr21",
          "chr21",
          "chr21",
          "chr22",
          "chr22",
          "chr22",
          "chr22",
          "chr22",
          "chr22",
          "chr22",
          "chr22",
          "chr22",
          "chr22",
          "chr22",
          "chr22",
          "chr22",
          "chr22",
          "chr22",
          "chr22",
          "chr22",
          "chr22",
          "chr22",
          "chr2",
          "chr2",
          "chr2",
          "chr2",
          "chr2",
          "chr2",
          "chr2",
          "chr2",
          "chr2",
          "chr2",
          "chr2",
          "chr2",
          "chr2",
          "chr2",
          "chr2",
          "chr2",
          "chr2",
          "chr2",
          "chr2",
          "chr2",
          "chr2",
          "chr2",
          "chr2",
          "chr2",
          "chr2",
          "chr2",
          "chr2",
          "chr9",
          "chr9",
          "chr9",
          "chr9",
          "chr9",
          "chr9",
          "chr9",
          "chr9",
          "chr9",
          "chr9",
          "chr9",
          "chr9",
          "chr9",
          "chr9",
          "chr9",
          "chr9",
          "chr9",
          "chr9",
          "chr9",
          "chr9",
          "chr9",
          "chr9",
          "chr9",
          "chr9",
          "chr9",
          "chr9",
          "chr9",
          "chr9",
          "chr9"
         ],
         "x0": " ",
         "xaxis": "x",
         "y": [
          18,
          18,
          18,
          15,
          17,
          18,
          15,
          16,
          18,
          18,
          18,
          18,
          18,
          18,
          15,
          19,
          18,
          18,
          18,
          18,
          18,
          18,
          17,
          18,
          18,
          17,
          18,
          18,
          18,
          18,
          18,
          18,
          19,
          18,
          18,
          18,
          18,
          18,
          18,
          18,
          18,
          18,
          18,
          18,
          18,
          18,
          17,
          18,
          18,
          18,
          18,
          18,
          18,
          18,
          18,
          17,
          18,
          18,
          18,
          19,
          18,
          18,
          18,
          18,
          17,
          18,
          18,
          18,
          18,
          16,
          18,
          19,
          13,
          20,
          18,
          18,
          18,
          18,
          18,
          17,
          18,
          18,
          18,
          17,
          18,
          17,
          19,
          18,
          19,
          18,
          18,
          18,
          18,
          18,
          15,
          18,
          18,
          18,
          18,
          17,
          18,
          18,
          18,
          18,
          18,
          18,
          18,
          18,
          18,
          18,
          18,
          17,
          18,
          18,
          18,
          18,
          18,
          16,
          18,
          18,
          13,
          13,
          22,
          18,
          17,
          20,
          18,
          18,
          18,
          18,
          18,
          18,
          18,
          18,
          36,
          17,
          18,
          18,
          19,
          13,
          18,
          18,
          18,
          17,
          16,
          18,
          4,
          18,
          11,
          18,
          5,
          18,
          18,
          18,
          18,
          18,
          19,
          18,
          18,
          6,
          18,
          18,
          18,
          18,
          18,
          18,
          18,
          18,
          18,
          18,
          18,
          18
         ],
         "y0": " ",
         "yaxis": "y"
        }
       ],
       "layout": {
        "boxmode": "group",
        "legend": {
         "tracegroupgap": 0
        },
        "margin": {
         "t": 60
        },
        "template": {
         "data": {
          "bar": [
           {
            "error_x": {
             "color": "#2a3f5f"
            },
            "error_y": {
             "color": "#2a3f5f"
            },
            "marker": {
             "line": {
              "color": "#E5ECF6",
              "width": 0.5
             },
             "pattern": {
              "fillmode": "overlay",
              "size": 10,
              "solidity": 0.2
             }
            },
            "type": "bar"
           }
          ],
          "barpolar": [
           {
            "marker": {
             "line": {
              "color": "#E5ECF6",
              "width": 0.5
             },
             "pattern": {
              "fillmode": "overlay",
              "size": 10,
              "solidity": 0.2
             }
            },
            "type": "barpolar"
           }
          ],
          "carpet": [
           {
            "aaxis": {
             "endlinecolor": "#2a3f5f",
             "gridcolor": "white",
             "linecolor": "white",
             "minorgridcolor": "white",
             "startlinecolor": "#2a3f5f"
            },
            "baxis": {
             "endlinecolor": "#2a3f5f",
             "gridcolor": "white",
             "linecolor": "white",
             "minorgridcolor": "white",
             "startlinecolor": "#2a3f5f"
            },
            "type": "carpet"
           }
          ],
          "choropleth": [
           {
            "colorbar": {
             "outlinewidth": 0,
             "ticks": ""
            },
            "type": "choropleth"
           }
          ],
          "contour": [
           {
            "colorbar": {
             "outlinewidth": 0,
             "ticks": ""
            },
            "colorscale": [
             [
              0,
              "#0d0887"
             ],
             [
              0.1111111111111111,
              "#46039f"
             ],
             [
              0.2222222222222222,
              "#7201a8"
             ],
             [
              0.3333333333333333,
              "#9c179e"
             ],
             [
              0.4444444444444444,
              "#bd3786"
             ],
             [
              0.5555555555555556,
              "#d8576b"
             ],
             [
              0.6666666666666666,
              "#ed7953"
             ],
             [
              0.7777777777777778,
              "#fb9f3a"
             ],
             [
              0.8888888888888888,
              "#fdca26"
             ],
             [
              1,
              "#f0f921"
             ]
            ],
            "type": "contour"
           }
          ],
          "contourcarpet": [
           {
            "colorbar": {
             "outlinewidth": 0,
             "ticks": ""
            },
            "type": "contourcarpet"
           }
          ],
          "heatmap": [
           {
            "colorbar": {
             "outlinewidth": 0,
             "ticks": ""
            },
            "colorscale": [
             [
              0,
              "#0d0887"
             ],
             [
              0.1111111111111111,
              "#46039f"
             ],
             [
              0.2222222222222222,
              "#7201a8"
             ],
             [
              0.3333333333333333,
              "#9c179e"
             ],
             [
              0.4444444444444444,
              "#bd3786"
             ],
             [
              0.5555555555555556,
              "#d8576b"
             ],
             [
              0.6666666666666666,
              "#ed7953"
             ],
             [
              0.7777777777777778,
              "#fb9f3a"
             ],
             [
              0.8888888888888888,
              "#fdca26"
             ],
             [
              1,
              "#f0f921"
             ]
            ],
            "type": "heatmap"
           }
          ],
          "heatmapgl": [
           {
            "colorbar": {
             "outlinewidth": 0,
             "ticks": ""
            },
            "colorscale": [
             [
              0,
              "#0d0887"
             ],
             [
              0.1111111111111111,
              "#46039f"
             ],
             [
              0.2222222222222222,
              "#7201a8"
             ],
             [
              0.3333333333333333,
              "#9c179e"
             ],
             [
              0.4444444444444444,
              "#bd3786"
             ],
             [
              0.5555555555555556,
              "#d8576b"
             ],
             [
              0.6666666666666666,
              "#ed7953"
             ],
             [
              0.7777777777777778,
              "#fb9f3a"
             ],
             [
              0.8888888888888888,
              "#fdca26"
             ],
             [
              1,
              "#f0f921"
             ]
            ],
            "type": "heatmapgl"
           }
          ],
          "histogram": [
           {
            "marker": {
             "pattern": {
              "fillmode": "overlay",
              "size": 10,
              "solidity": 0.2
             }
            },
            "type": "histogram"
           }
          ],
          "histogram2d": [
           {
            "colorbar": {
             "outlinewidth": 0,
             "ticks": ""
            },
            "colorscale": [
             [
              0,
              "#0d0887"
             ],
             [
              0.1111111111111111,
              "#46039f"
             ],
             [
              0.2222222222222222,
              "#7201a8"
             ],
             [
              0.3333333333333333,
              "#9c179e"
             ],
             [
              0.4444444444444444,
              "#bd3786"
             ],
             [
              0.5555555555555556,
              "#d8576b"
             ],
             [
              0.6666666666666666,
              "#ed7953"
             ],
             [
              0.7777777777777778,
              "#fb9f3a"
             ],
             [
              0.8888888888888888,
              "#fdca26"
             ],
             [
              1,
              "#f0f921"
             ]
            ],
            "type": "histogram2d"
           }
          ],
          "histogram2dcontour": [
           {
            "colorbar": {
             "outlinewidth": 0,
             "ticks": ""
            },
            "colorscale": [
             [
              0,
              "#0d0887"
             ],
             [
              0.1111111111111111,
              "#46039f"
             ],
             [
              0.2222222222222222,
              "#7201a8"
             ],
             [
              0.3333333333333333,
              "#9c179e"
             ],
             [
              0.4444444444444444,
              "#bd3786"
             ],
             [
              0.5555555555555556,
              "#d8576b"
             ],
             [
              0.6666666666666666,
              "#ed7953"
             ],
             [
              0.7777777777777778,
              "#fb9f3a"
             ],
             [
              0.8888888888888888,
              "#fdca26"
             ],
             [
              1,
              "#f0f921"
             ]
            ],
            "type": "histogram2dcontour"
           }
          ],
          "mesh3d": [
           {
            "colorbar": {
             "outlinewidth": 0,
             "ticks": ""
            },
            "type": "mesh3d"
           }
          ],
          "parcoords": [
           {
            "line": {
             "colorbar": {
              "outlinewidth": 0,
              "ticks": ""
             }
            },
            "type": "parcoords"
           }
          ],
          "pie": [
           {
            "automargin": true,
            "type": "pie"
           }
          ],
          "scatter": [
           {
            "fillpattern": {
             "fillmode": "overlay",
             "size": 10,
             "solidity": 0.2
            },
            "type": "scatter"
           }
          ],
          "scatter3d": [
           {
            "line": {
             "colorbar": {
              "outlinewidth": 0,
              "ticks": ""
             }
            },
            "marker": {
             "colorbar": {
              "outlinewidth": 0,
              "ticks": ""
             }
            },
            "type": "scatter3d"
           }
          ],
          "scattercarpet": [
           {
            "marker": {
             "colorbar": {
              "outlinewidth": 0,
              "ticks": ""
             }
            },
            "type": "scattercarpet"
           }
          ],
          "scattergeo": [
           {
            "marker": {
             "colorbar": {
              "outlinewidth": 0,
              "ticks": ""
             }
            },
            "type": "scattergeo"
           }
          ],
          "scattergl": [
           {
            "marker": {
             "colorbar": {
              "outlinewidth": 0,
              "ticks": ""
             }
            },
            "type": "scattergl"
           }
          ],
          "scattermapbox": [
           {
            "marker": {
             "colorbar": {
              "outlinewidth": 0,
              "ticks": ""
             }
            },
            "type": "scattermapbox"
           }
          ],
          "scatterpolar": [
           {
            "marker": {
             "colorbar": {
              "outlinewidth": 0,
              "ticks": ""
             }
            },
            "type": "scatterpolar"
           }
          ],
          "scatterpolargl": [
           {
            "marker": {
             "colorbar": {
              "outlinewidth": 0,
              "ticks": ""
             }
            },
            "type": "scatterpolargl"
           }
          ],
          "scatterternary": [
           {
            "marker": {
             "colorbar": {
              "outlinewidth": 0,
              "ticks": ""
             }
            },
            "type": "scatterternary"
           }
          ],
          "surface": [
           {
            "colorbar": {
             "outlinewidth": 0,
             "ticks": ""
            },
            "colorscale": [
             [
              0,
              "#0d0887"
             ],
             [
              0.1111111111111111,
              "#46039f"
             ],
             [
              0.2222222222222222,
              "#7201a8"
             ],
             [
              0.3333333333333333,
              "#9c179e"
             ],
             [
              0.4444444444444444,
              "#bd3786"
             ],
             [
              0.5555555555555556,
              "#d8576b"
             ],
             [
              0.6666666666666666,
              "#ed7953"
             ],
             [
              0.7777777777777778,
              "#fb9f3a"
             ],
             [
              0.8888888888888888,
              "#fdca26"
             ],
             [
              1,
              "#f0f921"
             ]
            ],
            "type": "surface"
           }
          ],
          "table": [
           {
            "cells": {
             "fill": {
              "color": "#EBF0F8"
             },
             "line": {
              "color": "white"
             }
            },
            "header": {
             "fill": {
              "color": "#C8D4E3"
             },
             "line": {
              "color": "white"
             }
            },
            "type": "table"
           }
          ]
         },
         "layout": {
          "annotationdefaults": {
           "arrowcolor": "#2a3f5f",
           "arrowhead": 0,
           "arrowwidth": 1
          },
          "autotypenumbers": "strict",
          "coloraxis": {
           "colorbar": {
            "outlinewidth": 0,
            "ticks": ""
           }
          },
          "colorscale": {
           "diverging": [
            [
             0,
             "#8e0152"
            ],
            [
             0.1,
             "#c51b7d"
            ],
            [
             0.2,
             "#de77ae"
            ],
            [
             0.3,
             "#f1b6da"
            ],
            [
             0.4,
             "#fde0ef"
            ],
            [
             0.5,
             "#f7f7f7"
            ],
            [
             0.6,
             "#e6f5d0"
            ],
            [
             0.7,
             "#b8e186"
            ],
            [
             0.8,
             "#7fbc41"
            ],
            [
             0.9,
             "#4d9221"
            ],
            [
             1,
             "#276419"
            ]
           ],
           "sequential": [
            [
             0,
             "#0d0887"
            ],
            [
             0.1111111111111111,
             "#46039f"
            ],
            [
             0.2222222222222222,
             "#7201a8"
            ],
            [
             0.3333333333333333,
             "#9c179e"
            ],
            [
             0.4444444444444444,
             "#bd3786"
            ],
            [
             0.5555555555555556,
             "#d8576b"
            ],
            [
             0.6666666666666666,
             "#ed7953"
            ],
            [
             0.7777777777777778,
             "#fb9f3a"
            ],
            [
             0.8888888888888888,
             "#fdca26"
            ],
            [
             1,
             "#f0f921"
            ]
           ],
           "sequentialminus": [
            [
             0,
             "#0d0887"
            ],
            [
             0.1111111111111111,
             "#46039f"
            ],
            [
             0.2222222222222222,
             "#7201a8"
            ],
            [
             0.3333333333333333,
             "#9c179e"
            ],
            [
             0.4444444444444444,
             "#bd3786"
            ],
            [
             0.5555555555555556,
             "#d8576b"
            ],
            [
             0.6666666666666666,
             "#ed7953"
            ],
            [
             0.7777777777777778,
             "#fb9f3a"
            ],
            [
             0.8888888888888888,
             "#fdca26"
            ],
            [
             1,
             "#f0f921"
            ]
           ]
          },
          "colorway": [
           "#636efa",
           "#EF553B",
           "#00cc96",
           "#ab63fa",
           "#FFA15A",
           "#19d3f3",
           "#FF6692",
           "#B6E880",
           "#FF97FF",
           "#FECB52"
          ],
          "font": {
           "color": "#2a3f5f"
          },
          "geo": {
           "bgcolor": "white",
           "lakecolor": "white",
           "landcolor": "#E5ECF6",
           "showlakes": true,
           "showland": true,
           "subunitcolor": "white"
          },
          "hoverlabel": {
           "align": "left"
          },
          "hovermode": "closest",
          "mapbox": {
           "style": "light"
          },
          "paper_bgcolor": "white",
          "plot_bgcolor": "#E5ECF6",
          "polar": {
           "angularaxis": {
            "gridcolor": "white",
            "linecolor": "white",
            "ticks": ""
           },
           "bgcolor": "#E5ECF6",
           "radialaxis": {
            "gridcolor": "white",
            "linecolor": "white",
            "ticks": ""
           }
          },
          "scene": {
           "xaxis": {
            "backgroundcolor": "#E5ECF6",
            "gridcolor": "white",
            "gridwidth": 2,
            "linecolor": "white",
            "showbackground": true,
            "ticks": "",
            "zerolinecolor": "white"
           },
           "yaxis": {
            "backgroundcolor": "#E5ECF6",
            "gridcolor": "white",
            "gridwidth": 2,
            "linecolor": "white",
            "showbackground": true,
            "ticks": "",
            "zerolinecolor": "white"
           },
           "zaxis": {
            "backgroundcolor": "#E5ECF6",
            "gridcolor": "white",
            "gridwidth": 2,
            "linecolor": "white",
            "showbackground": true,
            "ticks": "",
            "zerolinecolor": "white"
           }
          },
          "shapedefaults": {
           "line": {
            "color": "#2a3f5f"
           }
          },
          "ternary": {
           "aaxis": {
            "gridcolor": "white",
            "linecolor": "white",
            "ticks": ""
           },
           "baxis": {
            "gridcolor": "white",
            "linecolor": "white",
            "ticks": ""
           },
           "bgcolor": "#E5ECF6",
           "caxis": {
            "gridcolor": "white",
            "linecolor": "white",
            "ticks": ""
           }
          },
          "title": {
           "x": 0.05
          },
          "xaxis": {
           "automargin": true,
           "gridcolor": "white",
           "linecolor": "white",
           "ticks": "",
           "title": {
            "standoff": 15
           },
           "zerolinecolor": "white",
           "zerolinewidth": 2
          },
          "yaxis": {
           "automargin": true,
           "gridcolor": "white",
           "linecolor": "white",
           "ticks": "",
           "title": {
            "standoff": 15
           },
           "zerolinecolor": "white",
           "zerolinewidth": 2
          }
         }
        },
        "xaxis": {
         "anchor": "y",
         "domain": [
          0,
          1
         ],
         "title": {
          "text": "Chromosome"
         }
        },
        "yaxis": {
         "anchor": "x",
         "domain": [
          0,
          1
         ],
         "title": {
          "text": "Areas"
         }
        }
       }
      }
     },
     "metadata": {},
     "output_type": "display_data"
    }
   ],
   "source": [
    "cdf = df.pivot_table(index='File', values='Areas', aggfunc=len).reset_index()\n",
    "cdf = df.groupby(['File', 'Chromosome']).agg({'Areas':len}).reset_index()\n",
    "#cdf['Strain'] = cdf['File'].str.split('H').str[1].str[1:6]\n",
    "px.box(cdf, x='Chromosome', y='Areas', points='all', hover_data=['File'])"
   ]
  },
  {
   "cell_type": "code",
   "execution_count": 23,
   "metadata": {},
   "outputs": [],
   "source": [
    "df.to_csv('Results.csv')"
   ]
  },
  {
   "cell_type": "code",
   "execution_count": null,
   "metadata": {},
   "outputs": [],
   "source": []
  },
  {
   "cell_type": "code",
   "execution_count": null,
   "metadata": {},
   "outputs": [],
   "source": []
  }
 ],
 "metadata": {
  "accelerator": "GPU",
  "colab": {
   "collapsed_sections": [],
   "name": "Copy of run_cellpose_GPU.ipynb",
   "provenance": [],
   "toc_visible": true
  },
  "kernelspec": {
   "display_name": "Python 3 (ipykernel)",
   "language": "python",
   "name": "python3"
  },
  "language_info": {
   "codemirror_mode": {
    "name": "ipython",
    "version": 3
   },
   "file_extension": ".py",
   "mimetype": "text/x-python",
   "name": "python",
   "nbconvert_exporter": "python",
   "pygments_lexer": "ipython3",
   "version": "3.10.13"
  }
 },
 "nbformat": 4,
 "nbformat_minor": 1
}

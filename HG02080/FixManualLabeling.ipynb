{
 "cells": [
  {
   "cell_type": "code",
   "execution_count": 1,
   "metadata": {
    "colab": {
     "base_uri": "https://localhost:8080/"
    },
    "id": "hG3LSmJmLylT",
    "outputId": "90648520-16bd-4847-f62e-50cd5684d6ad"
   },
   "outputs": [],
   "source": [
    "import numpy as np\n",
    "import tifffile\n",
    "import glob\n",
    "\n",
    "import napari\n"
   ]
  },
  {
   "cell_type": "code",
   "execution_count": 2,
   "metadata": {},
   "outputs": [],
   "source": [
    "viewer = napari.Viewer()"
   ]
  },
  {
   "cell_type": "code",
   "execution_count": 3,
   "metadata": {},
   "outputs": [],
   "source": [
    "flist = glob.glob('./acrocentric_inferred/*.tif')"
   ]
  },
  {
   "cell_type": "code",
   "execution_count": 4,
   "metadata": {},
   "outputs": [],
   "source": [
    "flist = np.random.choice(flist, size=len(flist), replace=False)"
   ]
  },
  {
   "cell_type": "code",
   "execution_count": 5,
   "metadata": {},
   "outputs": [],
   "source": [
    "DAPI_channel = 3\n",
    "rDNA_channel = 2\n",
    "marker_channel = 1"
   ]
  },
  {
   "cell_type": "code",
   "execution_count": 6,
   "metadata": {},
   "outputs": [],
   "source": [
    "just_starting = True\n",
    "idx = 1"
   ]
  },
  {
   "cell_type": "code",
   "execution_count": 7,
   "metadata": {},
   "outputs": [],
   "source": [
    "@viewer.bind_key('Q', overwrite=True)\n",
    "def turn_off_DAPI(viewer):\n",
    "    if viewer.layers[DAPI_channel].visible:\n",
    "        viewer.layers[DAPI_channel].visible=False\n",
    "    else:\n",
    "        viewer.layers[DAPI_channel].visible=True"
   ]
  },
  {
   "cell_type": "code",
   "execution_count": 8,
   "metadata": {},
   "outputs": [],
   "source": [
    "@viewer.bind_key('W', overwrite=True)\n",
    "def turn_off_rDNA(viewer):\n",
    "    if viewer.layers[rDNA_channel].visible:\n",
    "        viewer.layers[rDNA_channel].visible=False\n",
    "    else:\n",
    "        viewer.layers[rDNA_channel].visible=True"
   ]
  },
  {
   "cell_type": "code",
   "execution_count": 9,
   "metadata": {},
   "outputs": [],
   "source": [
    "@viewer.bind_key('E', overwrite=True)\n",
    "def turn_off_rDNA(viewer):\n",
    "    if viewer.layers[-1].visible:\n",
    "        viewer.layers[-1].visible=False\n",
    "    else:\n",
    "        viewer.layers[-1].visible=True"
   ]
  },
  {
   "cell_type": "code",
   "execution_count": 10,
   "metadata": {},
   "outputs": [],
   "source": [
    "@viewer.bind_key('R', overwrite=True)\n",
    "def turn_off_rDNA(viewer):\n",
    "    if viewer.layers[marker_channel].visible:\n",
    "        viewer.layers[marker_channel].visible=False\n",
    "    else:\n",
    "        viewer.layers[marker_channel].visible=True"
   ]
  },
  {
   "cell_type": "code",
   "execution_count": 11,
   "metadata": {},
   "outputs": [
    {
     "name": "stdout",
     "output_type": "stream",
     "text": [
      "./acrocentric_inferred\\HG02080_1004.tif\n",
      "./acrocentric_inferred\\HG02082_1002.tif\n",
      "./acrocentric_inferred\\HG02081_1.tif\n",
      "./acrocentric_inferred\\HG02082_1025.tif\n",
      "./acrocentric_inferred\\HG02081_1027.tif\n",
      "./acrocentric_inferred\\HG02081_1010.tif\n",
      "./acrocentric_inferred\\HG02082_1027.tif\n",
      "./acrocentric_inferred\\HG02080_1028.tif\n",
      "./acrocentric_inferred\\HG02081_1002.tif\n",
      "./acrocentric_inferred\\HG02080_1026.tif\n",
      "./acrocentric_inferred\\HG02082_1019.tif\n",
      "./acrocentric_inferred\\HG02081_1018.tif\n",
      "./acrocentric_inferred\\HG02081_1004.tif\n",
      "./acrocentric_inferred\\HG02081_1001.tif\n",
      "./acrocentric_inferred\\HG02082_1004.tif\n",
      "./acrocentric_inferred\\HG02081_1030.tif\n"
     ]
    }
   ],
   "source": [
    "@viewer.bind_key('F', overwrite=True)\n",
    "def go_to_next(viewer):\n",
    "    global just_starting\n",
    "    global idx\n",
    "    global flist\n",
    "    if just_starting:\n",
    "        just_starting=False\n",
    "    else:\n",
    "        tmp = np.array([v.data for v in viewer.layers])\n",
    "        tifffile.imwrite(flist[idx-1], np.array([v.data for v in viewer.layers]).astype(np.ushort), imagej=True)\n",
    "    viewer.layers.clear()\n",
    "    img = tifffile.imread(flist[idx])\n",
    "    print(flist[idx])\n",
    "    viewer.add_image(img[[0,1,2,3]], channel_axis=0)\n",
    "    viewer.layers[DAPI_channel].colormap='cyan'\n",
    "    viewer.layers[marker_channel].contrast_limits=[20,1500]\n",
    "    viewer.layers[rDNA_channel].colormap='green'\n",
    "    viewer.layers[rDNA_channel].contrast_limits=[np.percentile(viewer.layers[rDNA_channel].data, 30),\n",
    "                                                 np.percentile(viewer.layers[rDNA_channel].data, 99.9)]\n",
    "    viewer.layers[marker_channel].colormap='red'\n",
    "    viewer.layers[marker_channel].visible=True\n",
    "    viewer.layers[DAPI_channel].visible=True\n",
    "    viewer.add_labels(img[-1].astype(int))\n",
    "    idx = idx+1\n",
    "    \n"
   ]
  },
  {
   "cell_type": "markdown",
   "metadata": {},
   "source": []
  }
 ],
 "metadata": {
  "accelerator": "GPU",
  "colab": {
   "collapsed_sections": [],
   "name": "Copy of run_cellpose_GPU.ipynb",
   "provenance": [],
   "toc_visible": true
  },
  "kernelspec": {
   "display_name": "Python 3 (ipykernel)",
   "language": "python",
   "name": "python3"
  },
  "language_info": {
   "codemirror_mode": {
    "name": "ipython",
    "version": 3
   },
   "file_extension": ".py",
   "mimetype": "text/x-python",
   "name": "python",
   "nbconvert_exporter": "python",
   "pygments_lexer": "ipython3",
   "version": "3.8.13"
  }
 },
 "nbformat": 4,
 "nbformat_minor": 1
}

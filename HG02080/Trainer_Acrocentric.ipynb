{
 "cells": [
  {
   "cell_type": "markdown",
   "metadata": {
    "id": "Q7c7V4yEqDc_"
   },
   "source": [
    "# Running cellpose in colab with a GPU\n",
    "\n",
    "(thanks to Matteo Carandini for setting this up)\n",
    "\n",
    "UPDATED DEC 2020 for TORCH VERSION cellpose v0.6"
   ]
  },
  {
   "cell_type": "markdown",
   "metadata": {
    "id": "VbqFni8kuFar"
   },
   "source": [
    "## installation"
   ]
  },
  {
   "cell_type": "markdown",
   "metadata": {
    "id": "e2cBEO1PLuO7"
   },
   "source": [
    "Check CUDA version and GPU first"
   ]
  },
  {
   "cell_type": "markdown",
   "metadata": {
    "id": "h_iAN7cAthma"
   },
   "source": [
    "import libraries and check GPU (the first time you import cellpose the models will download)."
   ]
  },
  {
   "cell_type": "code",
   "execution_count": 3,
   "metadata": {
    "colab": {
     "base_uri": "https://localhost:8080/"
    },
    "id": "hG3LSmJmLylT",
    "outputId": "90648520-16bd-4847-f62e-50cd5684d6ad"
   },
   "outputs": [],
   "source": [
    "import numpy as np\n",
    "import time, os, sys\n",
    "from urllib.parse import urlparse\n",
    "import skimage.io\n",
    "import scipy as sp\n",
    "import tifffile\n",
    "from cellpose import plot\n",
    "import pandas as pd\n",
    "import glob\n",
    "%gui qt5\n",
    "\n",
    "from urllib.parse import urlparse\n",
    "from cellpose import models\n",
    "import skimage.measure as measure\n",
    "import skimage.transform as transform\n",
    "import plotly.graph_objs as go\n",
    "\n",
    "import cv2\n",
    "import napari\n",
    "import scipy.ndimage as ndimage\n",
    "from cellpose import models\n",
    "import glob\n",
    "import plotly.express as px"
   ]
  },
  {
   "cell_type": "code",
   "execution_count": null,
   "metadata": {},
   "outputs": [],
   "source": []
  },
  {
   "cell_type": "code",
   "execution_count": 4,
   "metadata": {},
   "outputs": [],
   "source": [
    "imgs = []\n",
    "labels = []\n",
    "\n",
    "for f in glob.glob('./rDNA_train/*.tif'):\n",
    "    labels.append(tifffile.imread(f)[-1])\n",
    "    imgname = 'rgb/'+f.split('\\\\')[1]\n",
    "    imgs.append(tifffile.imread(imgname))"
   ]
  },
  {
   "cell_type": "code",
   "execution_count": 5,
   "metadata": {},
   "outputs": [
    {
     "name": "stderr",
     "output_type": "stream",
     "text": [
      "100%|██████████████████████████████████████████████████████████████████████████████████| 21/21 [00:01<00:00, 12.18it/s]\n"
     ]
    }
   ],
   "source": [
    "cpm = models.CellposeModel(gpu=True, pretrained_model='S:/micro/jeg/tpo/smc/UBF_iFISH_HG02055_family/models/rDNA_model_v7', diam_mean=30)\n",
    "\n",
    "svm = cpm.train(imgs, labels, test_data=None, test_labels=None,\n",
    "          channels=[3,2], save_path='.', n_epochs=1000, rescale=True,\n",
    "         normalize=True, batch_size=50)\n"
   ]
  },
  {
   "cell_type": "code",
   "execution_count": 5,
   "metadata": {},
   "outputs": [],
   "source": [
    "cpm.train?"
   ]
  },
  {
   "cell_type": "code",
   "execution_count": 1,
   "metadata": {},
   "outputs": [
    {
     "ename": "NameError",
     "evalue": "name 'models' is not defined",
     "output_type": "error",
     "traceback": [
      "\u001b[1;31m---------------------------------------------------------------------------\u001b[0m",
      "\u001b[1;31mNameError\u001b[0m                                 Traceback (most recent call last)",
      "Input \u001b[1;32mIn [1]\u001b[0m, in \u001b[0;36m<cell line: 1>\u001b[1;34m()\u001b[0m\n\u001b[1;32m----> 1\u001b[0m model \u001b[38;5;241m=\u001b[39m \u001b[43mmodels\u001b[49m\u001b[38;5;241m.\u001b[39mCellpose(gpu\u001b[38;5;241m=\u001b[39m\u001b[38;5;28;01mTrue\u001b[39;00m, model_type\u001b[38;5;241m=\u001b[39m\u001b[38;5;124m'\u001b[39m\u001b[38;5;124mcyto\u001b[39m\u001b[38;5;124m'\u001b[39m)\n",
      "\u001b[1;31mNameError\u001b[0m: name 'models' is not defined"
     ]
    }
   ],
   "source": [
    "model = models.Cellpose(gpu=True, model_type='cyto')\n",
    "#model = models.Cellpose(gpu=True, model_type='bact_omni')\n",
    "#model = models.CellposeModel(gpu=True, pretrained_model='c:/Users/catseanjohn/Dropbox/Work/TPO/models/acrocentric_model')\n"
   ]
  },
  {
   "cell_type": "code",
   "execution_count": 8,
   "metadata": {},
   "outputs": [],
   "source": [
    "viewer = napari.Viewer()"
   ]
  },
  {
   "cell_type": "code",
   "execution_count": 6,
   "metadata": {},
   "outputs": [],
   "source": [
    "model_chromosomes = models.CellposeModel(gpu=True, pretrained_model='models/rDNA_model_v7')"
   ]
  },
  {
   "cell_type": "code",
   "execution_count": 14,
   "metadata": {},
   "outputs": [],
   "source": [
    "files = glob.glob('./rgb/*.tif')\n",
    "idx = 32"
   ]
  },
  {
   "cell_type": "code",
   "execution_count": 15,
   "metadata": {},
   "outputs": [
    {
     "data": {
      "text/plain": [
       "<Labels layer 'chromosomes' at 0x1e384ea3670>"
      ]
     },
     "execution_count": 15,
     "metadata": {},
     "output_type": "execute_result"
    }
   ],
   "source": [
    "current_file = files[idx]\n",
    "img = tifffile.imread(current_file)\n",
    "chromosomes = model_chromosomes.eval([img], channels=[3,2], diameter=30,\n",
    "               normalize=True, resample=False)[0][0]\n",
    "\n",
    "viewer.layers.clear()\n",
    "viewer.add_image(img, blending='additive', channel_axis=2)\n",
    "viewer.add_labels(chromosomes)\n",
    "#viewer.add_points(np.array([x,y]).T)"
   ]
  },
  {
   "cell_type": "code",
   "execution_count": 46,
   "metadata": {},
   "outputs": [
    {
     "data": {
      "text/plain": [
       "'./rgb\\\\HG002_1018.tif'"
      ]
     },
     "execution_count": 46,
     "metadata": {},
     "output_type": "execute_result"
    }
   ],
   "source": [
    "files[idx]"
   ]
  },
  {
   "cell_type": "code",
   "execution_count": null,
   "metadata": {},
   "outputs": [],
   "source": []
  },
  {
   "cell_type": "code",
   "execution_count": 95,
   "metadata": {},
   "outputs": [],
   "source": [
    "tifffile.imsave('./masks/'+current_file.split('\\\\')[1], viewer.layers[-1].data.astype(np.ushort), imagej=True)\n",
    "idx = idx+1"
   ]
  },
  {
   "cell_type": "code",
   "execution_count": null,
   "metadata": {},
   "outputs": [],
   "source": []
  },
  {
   "cell_type": "code",
   "execution_count": null,
   "metadata": {},
   "outputs": [],
   "source": []
  },
  {
   "cell_type": "code",
   "execution_count": null,
   "metadata": {},
   "outputs": [],
   "source": []
  },
  {
   "cell_type": "code",
   "execution_count": 66,
   "metadata": {},
   "outputs": [],
   "source": [
    "def check_to_find(pts1, pts2):\n",
    "    rslt = np.array([c==p for c in cpts for p in pts ])\n",
    "    return np.sum(np.sum(rslt, axis=1)==2)==1"
   ]
  },
  {
   "cell_type": "code",
   "execution_count": 67,
   "metadata": {},
   "outputs": [],
   "source": [
    "bads = []\n",
    "for a in range(1,np.max(chromosomes)+1):\n",
    "    nx, ny = np.where(chromosomes==a)\n",
    "    cpts = np.array([nx, ny]).T\n",
    "    found = check_to_find(pts, cpts)\n",
    "    if found==False:\n",
    "        bads.append(a)\n",
    "bads = np.array(bads)"
   ]
  },
  {
   "cell_type": "code",
   "execution_count": 68,
   "metadata": {},
   "outputs": [],
   "source": [
    "tmp = np.sum(np.array([chromosomes==b for b in bads]), axis=0)"
   ]
  },
  {
   "cell_type": "code",
   "execution_count": 69,
   "metadata": {},
   "outputs": [
    {
     "data": {
      "text/plain": [
       "<Image layer 'tmp' at 0x1c51ca858c8>"
      ]
     },
     "execution_count": 69,
     "metadata": {},
     "output_type": "execute_result"
    }
   ],
   "source": [
    "viewer.add_image(tmp, blending='additive')"
   ]
  },
  {
   "cell_type": "code",
   "execution_count": 47,
   "metadata": {},
   "outputs": [],
   "source": []
  },
  {
   "cell_type": "code",
   "execution_count": 48,
   "metadata": {},
   "outputs": [],
   "source": []
  },
  {
   "cell_type": "code",
   "execution_count": 49,
   "metadata": {},
   "outputs": [],
   "source": [
    "rslt = np.array([c==p for c in cpts for p in pts ])"
   ]
  },
  {
   "cell_type": "code",
   "execution_count": 50,
   "metadata": {},
   "outputs": [
    {
     "data": {
      "text/plain": [
       "1"
      ]
     },
     "execution_count": 50,
     "metadata": {},
     "output_type": "execute_result"
    }
   ],
   "source": [
    "np.sum(np.sum(rslt, axis=1)==2)"
   ]
  },
  {
   "cell_type": "code",
   "execution_count": null,
   "metadata": {},
   "outputs": [],
   "source": []
  },
  {
   "cell_type": "code",
   "execution_count": 24,
   "metadata": {},
   "outputs": [
    {
     "data": {
      "text/plain": [
       "4"
      ]
     },
     "execution_count": 24,
     "metadata": {},
     "output_type": "execute_result"
    }
   ],
   "source": [
    "idx"
   ]
  },
  {
   "cell_type": "code",
   "execution_count": 19,
   "metadata": {},
   "outputs": [],
   "source": [
    "idx = idx+1"
   ]
  },
  {
   "cell_type": "code",
   "execution_count": null,
   "metadata": {},
   "outputs": [],
   "source": []
  },
  {
   "cell_type": "code",
   "execution_count": null,
   "metadata": {},
   "outputs": [],
   "source": []
  },
  {
   "cell_type": "code",
   "execution_count": 386,
   "metadata": {},
   "outputs": [],
   "source": [
    "wwidth=65\n",
    "wheight=130\n"
   ]
  },
  {
   "cell_type": "code",
   "execution_count": 387,
   "metadata": {},
   "outputs": [],
   "source": []
  },
  {
   "cell_type": "code",
   "execution_count": 388,
   "metadata": {},
   "outputs": [],
   "source": [
    "def peak_finder(img, tol=300):\n",
    "    x,y= findmaxima.findmaxima(img, tol)\n",
    "    rtn = np.zeros(img.shape)\n",
    "    rtn[x,y] = 255\n",
    "    return rtn"
   ]
  },
  {
   "cell_type": "code",
   "execution_count": 389,
   "metadata": {},
   "outputs": [],
   "source": [
    "def ptile(inp):\n",
    "    return np.percentile(inp, 85)"
   ]
  },
  {
   "cell_type": "code",
   "execution_count": 390,
   "metadata": {},
   "outputs": [],
   "source": [
    "def uniquer(inp):\n",
    "    return len(np.unique(inp))"
   ]
  },
  {
   "cell_type": "markdown",
   "metadata": {
    "id": "d1Ta76yatmjH"
   },
   "source": [
    "Download sample images"
   ]
  },
  {
   "cell_type": "code",
   "execution_count": 391,
   "metadata": {},
   "outputs": [],
   "source": [
    "def generate_pt_list_edt(chromosomes, edt, medt, a):\n",
    "    length = np.max(medt*(chromosomes==a).astype(int))\n",
    "    pts = []\n",
    "    for step in np.arange(0,1,0.2):\n",
    "        cdis = np.round(step*length)\n",
    "        tx, ty = np.unravel_index((edt*(np.round(medt)==cdis)).argmax(), medt.shape)\n",
    "        pts.append([tx, ty])\n",
    "    return pts"
   ]
  },
  {
   "cell_type": "code",
   "execution_count": 392,
   "metadata": {},
   "outputs": [],
   "source": [
    "def generate_pt_list_cm(chromosomes, edt, medt, a):\n",
    "    obj_mask = (chromosomes==a)\n",
    "    length = np.max(medt*(obj_mask).astype(int))\n",
    "    pts = []\n",
    "    for step in np.arange(0,1.2,0.2):\n",
    "        cdis = np.round(step*length)\n",
    "        tx, ty = np.where((obj_mask*(np.round(medt)==cdis)))\n",
    "        pts.append([np.mean(tx), np.mean(ty)])\n",
    "    return pts"
   ]
  },
  {
   "cell_type": "code",
   "execution_count": 393,
   "metadata": {},
   "outputs": [],
   "source": [
    "def get_closest_edge_point(chromosome_mask, medt, startx, starty):\n",
    "    tmp = chromosome_mask.astype(np.uint8)\n",
    "    kernel = np.ones((3, 3), np.uint8)\n",
    "    image = cv2.erode(tmp, kernel) \n",
    "    \n",
    "    \n",
    "    image = chromosome_mask.astype(np.uint8)-image\n",
    "    tmp = medt*image.astype(int)\n",
    "    tmp[tmp==0] = 1000\n",
    "    minimum = np.min(tmp)\n",
    "    xs, ys = np.where(tmp==minimum)\n",
    "    return np.mean(xs), np.mean(ys)"
   ]
  },
  {
   "cell_type": "code",
   "execution_count": 394,
   "metadata": {},
   "outputs": [],
   "source": [
    "def redistribute_points_uniformly(pts):\n",
    "    diff = pts[1:] - pts[0:-1]\n",
    "    dists = np.sqrt(diff[:,0]**2 + diff[:,1]**2)\n",
    "    total_length = np.sum(dists)\n",
    "    dists = np.concatenate([[0], dists])\n",
    "    dists = np.cumsum(dists)\n",
    "    xf = sp.interpolate.interp1d(dists, pts[:,0])\n",
    "    yf = sp.interpolate.interp1d(dists, pts[:,1])\n",
    "    rs = np.arange(0,total_length, np.round(total_length/5))\n",
    "    nx = xf(rs)\n",
    "    ny = yf(rs)\n",
    "    return np.stack([nx, ny]).T"
   ]
  },
  {
   "cell_type": "code",
   "execution_count": 395,
   "metadata": {},
   "outputs": [],
   "source": [
    "def get_angle_from_uniform_pts(pts):\n",
    "    diff = pts[1:] - pts[0:-1]\n",
    "    dists = np.sqrt(diff[:,0]**2 + diff[:,1]**2)\n",
    "    total_length = np.sum(dists)\n",
    "    dists = np.concatenate([[0], dists])\n",
    "    dists = np.cumsum(dists)\n",
    "    \n",
    "    r = np.mean(diff[1:], axis=0)\n",
    "    angle = np.arctan2(r[1], r[0])/3.1415926*180\n",
    "    return angle"
   ]
  },
  {
   "cell_type": "code",
   "execution_count": 396,
   "metadata": {},
   "outputs": [],
   "source": [
    "def pad_image_to(img, width, height):\n",
    "    shp = img.shape\n",
    "    newimg = img.copy()\n",
    "    \n",
    "    if (shp[-2]>width):\n",
    "        offset = int(np.round((shp[-2]-width)/2))\n",
    "        newimg = newimg[offset:(offset+width),:]\n",
    "    if (shp[-1]>height):\n",
    "        offset = int(np.round((shp[-1]-height)/2))\n",
    "        newimg = newimg[:,offset:(offset+height)]\n",
    "\n",
    "    shp = newimg.shape\n",
    "    w = width-shp[-2]\n",
    "    padl = int(np.round(w/2))\n",
    "    padr = width-padl-shp[-2]\n",
    "    h = height-shp[-1]\n",
    "    padu = int(np.round(h/2))\n",
    "    padd = height-padu-shp[-1]\n",
    "    \n",
    "    newimg = np.pad(newimg, ((padl, padr), (padu, padd)))\n",
    "    return newimg"
   ]
  },
  {
   "cell_type": "code",
   "execution_count": 397,
   "metadata": {},
   "outputs": [],
   "source": [
    "def crop_and_rotate(img, mask, angle):\n",
    "    xs, ys = np.where(mask)\n",
    "    bounds = np.array([[np.min(xs), np.min(ys)], [np.max(xs), np.max(ys)]])\n",
    "    new_img = img[:,bounds[0,0]:bounds[1,0], bounds[0,1]:bounds[1,1]]\n",
    "    new_mask = mask[bounds[0,0]:bounds[1,0], bounds[0,1]:bounds[1,1]]\n",
    "    new_mask = pad_image_to(transform.rotate(new_mask, angle=-angle, resize=True), wheight, wwidth)\n",
    "    \n",
    "    \n",
    "    tmp = new_mask.astype(np.uint8)\n",
    "    kernel = np.ones((3, 3), np.uint8)\n",
    "    new_mask = cv2.dilate(tmp, kernel) \n",
    "    \n",
    "    new_img = np.array([pad_image_to(transform.rotate(ab, angle=-angle, resize=True), wheight, wwidth)*new_mask for ab in new_img])\n",
    "    return new_img, new_mask\n",
    "    "
   ]
  },
  {
   "cell_type": "code",
   "execution_count": 368,
   "metadata": {
    "scrolled": false
   },
   "outputs": [],
   "source": [
    "img = tifffile.imread(glob.glob('./All/*.tif')[48])\n",
    "DAPI = img[2]\n",
    "chromosomes = model.eval([DAPI], channels=[0,0], diameter=60,\n",
    "               normalize=True, resample=False)[0][0]\n",
    "clear_layers()\n",
    "viewer.add_image(img, channel_axis=0, blending='additive')\n",
    "viewer.add_labels(chromosomes)\n",
    "\n",
    "\n",
    "smoothed = sp.ndimage.gaussian_filter(DAPI, sigma=1.5)\n",
    "edts = np.zeros(chromosomes.shape)\n",
    "tips = np.zeros(chromosomes.shape)\n",
    "\n",
    "start_list = []\n",
    "stop_list = []\n",
    "\n",
    "pt_list = []\n",
    "nimgs = []\n",
    "nmasks = []\n",
    "\n",
    "props = measure.regionprops(chromosomes)\n",
    "areas = np.array([p['Area'] for p in props])\n",
    "sorted_chromosomes = np.argsort(-areas)+1\n",
    "\n",
    "#for a in range(1, np.max(chromosomes)+1):\n",
    "for a in sorted_chromosomes:\n",
    "    bound = np.percentile(smoothed[chromosomes==a], 98)\n",
    "    tmask = (smoothed>bound) & (chromosomes==a)\n",
    "    tips[tmask] = a\n",
    "    \n",
    "    ttips = np.zeros(chromosomes.shape)\n",
    "    ttips[tmask] = a\n",
    "    labs = measure.label((ttips>0).astype(int))\n",
    "    props = measure.regionprops(labs)\n",
    "    startx, starty = props[0]['centroid']\n",
    "    \n",
    "    xs, ys = np.where(labs>0)\n",
    "    startx = np.round(np.mean(xs))\n",
    "    starty = np.round(np.mean(ys))\n",
    "    start_list.append([startx, starty])\n",
    "    \n",
    "    \n",
    "    \n",
    "    to_transform = np.ones(chromosomes.shape)\n",
    "    to_transform[int(startx), int(starty)] = 0\n",
    "    #medt = cv2.distanceTransform((1-labs).astype(np.ubyte), cv2.DIST_L2,  maskSize = cv2.DIST_MASK_PRECISE)\n",
    "    medt = cv2.distanceTransform(to_transform.astype(np.ubyte), cv2.DIST_L2,  maskSize = cv2.DIST_MASK_PRECISE)\n",
    "    newx, newy = get_closest_edge_point(chromosomes==a, medt, startx, starty)\n",
    "    endx, endy = np.unravel_index((medt*(chromosomes==a)).argmax(), medt.shape)\n",
    "    stop_list.append([endx, endy])\n",
    "    \n",
    "    edt = cv2.distanceTransform((chromosomes==a).astype(np.ubyte), cv2.DIST_L2,  maskSize = cv2.DIST_MASK_PRECISE)\n",
    "    edts = edts+edt\n",
    "    \n",
    "    current_pt_list = generate_pt_list_cm(chromosomes, edt, medt, a)\n",
    "    nimg, nmask = crop_and_rotate(img, chromosomes==a, get_angle_from_uniform_pts(np.array(current_pt_list)))\n",
    "    nimgs.append(nimg)\n",
    "    nmasks.append(nmask)\n",
    "    pt_list.append(current_pt_list)\n",
    "\n",
    "viewer.add_labels(tips.astype(int))\n",
    "viewer.add_image(edts, blending='additive')    \n",
    "pt_list = np.array(pt_list)"
   ]
  },
  {
   "cell_type": "code",
   "execution_count": 369,
   "metadata": {},
   "outputs": [],
   "source": [
    "\n",
    "columns = 12\n",
    "rows = int(np.ceil(len(nimgs)/12))\n",
    "\n",
    "master_img = np.zeros([3, wheight*rows, wwidth*columns])\n",
    "idx = 0\n",
    "for y in np.arange(0,wheight*rows, wheight):\n",
    "    for x in np.arange(0,wwidth*columns, wwidth):\n",
    "        master_img[:,y:(y+wheight), x:(x+wwidth)] = nimgs[idx]\n",
    "        idx = idx+1\n",
    "        if idx>=len(nimgs):\n",
    "            break\n",
    "clear_layers()\n",
    "viewer.add_image(master_img, channel_axis=0)\n",
    "viewer.layers[0].colormap='red'\n",
    "viewer.layers[1].colormap='green'\n",
    "viewer.layers[2].colormap='blue'\n",
    "viewer.layers[1].contrast_limits=[60,600]"
   ]
  },
  {
   "cell_type": "code",
   "execution_count": 398,
   "metadata": {},
   "outputs": [
    {
     "name": "stderr",
     "output_type": "stream",
     "text": [
      "Mean of empty slice.\n",
      "invalid value encountered in double_scalars\n",
      "Mean of empty slice.\n",
      "invalid value encountered in double_scalars\n",
      "Mean of empty slice.\n",
      "invalid value encountered in double_scalars\n",
      "Mean of empty slice.\n",
      "invalid value encountered in double_scalars\n",
      "Mean of empty slice.\n",
      "invalid value encountered in double_scalars\n"
     ]
    }
   ],
   "source": [
    "for f in glob.glob('./All/*.tif'):\n",
    "    img = tifffile.imread(f)\n",
    "    DAPI = img[2]\n",
    "    chromosomes = model.eval([DAPI], channels=[0,0], diameter=60,\n",
    "                   normalize=True, resample=False)[0][0]\n",
    "    clear_layers()\n",
    "    viewer.add_image(img, channel_axis=0, blending='additive')\n",
    "    viewer.add_labels(chromosomes)\n",
    "\n",
    "\n",
    "    smoothed = sp.ndimage.gaussian_filter(DAPI, sigma=1.5)\n",
    "    edts = np.zeros(chromosomes.shape)\n",
    "    tips = np.zeros(chromosomes.shape)\n",
    "\n",
    "    start_list = []\n",
    "    stop_list = []\n",
    "\n",
    "    pt_list = []\n",
    "    nimgs = []\n",
    "    nmasks = []\n",
    "\n",
    "    props = measure.regionprops(chromosomes)\n",
    "    areas = np.array([p['Area'] for p in props])\n",
    "    sorted_chromosomes = np.argsort(-areas)+1\n",
    "\n",
    "    #for a in range(1, np.max(chromosomes)+1):\n",
    "    for a in sorted_chromosomes:\n",
    "        bound = np.percentile(smoothed[chromosomes==a], 98)\n",
    "        tmask = (smoothed>bound) & (chromosomes==a)\n",
    "        tips[tmask] = a\n",
    "\n",
    "        ttips = np.zeros(chromosomes.shape)\n",
    "        ttips[tmask] = a\n",
    "        labs = measure.label((ttips>0).astype(int))\n",
    "        props = measure.regionprops(labs)\n",
    "        startx, starty = props[0]['centroid']\n",
    "\n",
    "        xs, ys = np.where(labs>0)\n",
    "        startx = np.round(np.mean(xs))\n",
    "        starty = np.round(np.mean(ys))\n",
    "        start_list.append([startx, starty])\n",
    "\n",
    "\n",
    "\n",
    "        to_transform = np.ones(chromosomes.shape)\n",
    "        to_transform[int(startx), int(starty)] = 0\n",
    "        #medt = cv2.distanceTransform((1-labs).astype(np.ubyte), cv2.DIST_L2,  maskSize = cv2.DIST_MASK_PRECISE)\n",
    "        medt = cv2.distanceTransform(to_transform.astype(np.ubyte), cv2.DIST_L2,  maskSize = cv2.DIST_MASK_PRECISE)\n",
    "        newx, newy = get_closest_edge_point(chromosomes==a, medt, startx, starty)\n",
    "        endx, endy = np.unravel_index((medt*(chromosomes==a)).argmax(), medt.shape)\n",
    "        stop_list.append([endx, endy])\n",
    "\n",
    "        edt = cv2.distanceTransform((chromosomes==a).astype(np.ubyte), cv2.DIST_L2,  maskSize = cv2.DIST_MASK_PRECISE)\n",
    "        edts = edts+edt\n",
    "\n",
    "        current_pt_list = generate_pt_list_cm(chromosomes, edt, medt, a)\n",
    "        nimg, nmask = crop_and_rotate(img, chromosomes==a, get_angle_from_uniform_pts(np.array(current_pt_list)))\n",
    "        nimgs.append(nimg)\n",
    "        nmasks.append(nmask)\n",
    "        pt_list.append(current_pt_list)\n",
    "\n",
    "    viewer.add_labels(tips.astype(int))\n",
    "    viewer.add_image(edts, blending='additive')    \n",
    "    pt_list = np.array(pt_list)\n",
    "    \n",
    "    columns = 12\n",
    "    rows = int(np.ceil(len(nimgs)/12))\n",
    "\n",
    "    master_img = np.zeros([3, wheight*rows, wwidth*columns])\n",
    "    idx = 0\n",
    "    for y in np.arange(0,wheight*rows, wheight):\n",
    "        for x in np.arange(0,wwidth*columns, wwidth):\n",
    "            master_img[:,y:(y+wheight), x:(x+wwidth)] = nimgs[idx]\n",
    "            idx = idx+1\n",
    "            if idx>=len(nimgs):\n",
    "                break\n",
    "    tifffile.imsave('./Karyos/'+f.split('\\\\')[1], master_img.astype(np.single), imagej=True)"
   ]
  },
  {
   "cell_type": "code",
   "execution_count": null,
   "metadata": {},
   "outputs": [],
   "source": []
  },
  {
   "cell_type": "code",
   "execution_count": 215,
   "metadata": {},
   "outputs": [],
   "source": [
    "corrected_pts = [redistribute_points_uniformly(pts) for pts in pt_list]\n",
    "corrected_pts = np.concatenate(corrected_pts)"
   ]
  },
  {
   "cell_type": "code",
   "execution_count": 199,
   "metadata": {
    "scrolled": true
   },
   "outputs": [
    {
     "data": {
      "text/plain": [
       "<Points layer 'Points' at 0x1f1ed7d3bc8>"
      ]
     },
     "execution_count": 199,
     "metadata": {},
     "output_type": "execute_result"
    }
   ],
   "source": [
    "viewer.add_points(corrected_pts.reshape([-1,2]), size=4)"
   ]
  },
  {
   "cell_type": "code",
   "execution_count": 200,
   "metadata": {},
   "outputs": [
    {
     "data": {
      "text/plain": [
       "<Points layer 'Points [2]' at 0x1f1ed86f348>"
      ]
     },
     "execution_count": 200,
     "metadata": {},
     "output_type": "execute_result"
    }
   ],
   "source": [
    "viewer.add_points(np.array(start_list))\n",
    "viewer.add_points(np.array(stop_list))"
   ]
  },
  {
   "cell_type": "code",
   "execution_count": null,
   "metadata": {},
   "outputs": [],
   "source": []
  },
  {
   "cell_type": "code",
   "execution_count": null,
   "metadata": {},
   "outputs": [],
   "source": []
  },
  {
   "cell_type": "code",
   "execution_count": null,
   "metadata": {},
   "outputs": [],
   "source": []
  },
  {
   "cell_type": "code",
   "execution_count": 111,
   "metadata": {},
   "outputs": [],
   "source": [
    "master = np.array([[100,100], [100,200], [100,300], [100, 400], [100,500]])"
   ]
  },
  {
   "cell_type": "code",
   "execution_count": 167,
   "metadata": {},
   "outputs": [
    {
     "data": {
      "text/plain": [
       "array([[145, 210],\n",
       "       [134, 209],\n",
       "       [122, 207],\n",
       "       [111, 205],\n",
       "       [100, 202]], dtype=int64)"
      ]
     },
     "execution_count": 167,
     "metadata": {},
     "output_type": "execute_result"
    }
   ],
   "source": [
    "pt_list[0]"
   ]
  },
  {
   "cell_type": "code",
   "execution_count": 173,
   "metadata": {},
   "outputs": [],
   "source": [
    "h, status = cv2.findHomography(np.float32(pt_list[0]).reshape(-1,1,2), np.float32(master).reshape(-1,1,2))"
   ]
  },
  {
   "cell_type": "code",
   "execution_count": 174,
   "metadata": {},
   "outputs": [],
   "source": [
    "h"
   ]
  },
  {
   "cell_type": "code",
   "execution_count": 135,
   "metadata": {},
   "outputs": [],
   "source": [
    "test = np.swapaxes(img, 0,2).astype(float)"
   ]
  },
  {
   "cell_type": "code",
   "execution_count": 164,
   "metadata": {},
   "outputs": [],
   "source": [
    "im_out = cv2.warpPerspective(img[2], h, (600,600))"
   ]
  },
  {
   "cell_type": "code",
   "execution_count": 165,
   "metadata": {},
   "outputs": [
    {
     "data": {
      "text/plain": [
       "(600, 600)"
      ]
     },
     "execution_count": 165,
     "metadata": {},
     "output_type": "execute_result"
    }
   ],
   "source": [
    "im_out.shape"
   ]
  },
  {
   "cell_type": "code",
   "execution_count": 166,
   "metadata": {},
   "outputs": [
    {
     "data": {
      "text/plain": [
       "<Image layer 'im_out [2]' at 0x227d760a188>"
      ]
     },
     "execution_count": 166,
     "metadata": {},
     "output_type": "execute_result"
    }
   ],
   "source": [
    "viewer.add_image(im_out)"
   ]
  },
  {
   "cell_type": "code",
   "execution_count": 147,
   "metadata": {},
   "outputs": [],
   "source": [
    "pt_A = [41, 2001]\n",
    "pt_B = [2438, 2986]\n",
    "pt_C = [3266, 371]\n",
    "pt_D = [1772, 136]"
   ]
  },
  {
   "cell_type": "code",
   "execution_count": 148,
   "metadata": {},
   "outputs": [],
   "source": [
    "input_pts = np.float32([pt_A, pt_B, pt_C, pt_D])"
   ]
  },
  {
   "cell_type": "code",
   "execution_count": 149,
   "metadata": {},
   "outputs": [
    {
     "data": {
      "text/plain": [
       "(4, 2)"
      ]
     },
     "execution_count": 149,
     "metadata": {},
     "output_type": "execute_result"
    }
   ],
   "source": [
    "input_pts.shape"
   ]
  },
  {
   "cell_type": "code",
   "execution_count": 150,
   "metadata": {},
   "outputs": [
    {
     "ename": "error",
     "evalue": "OpenCV(4.5.5) D:\\a\\opencv-python\\opencv-python\\opencv\\modules\\imgproc\\src\\imgwarp.cpp:3168: error: (-215:Assertion failed) (M0.type() == CV_32F || M0.type() == CV_64F) && M0.rows == 3 && M0.cols == 3 in function 'cv::warpPerspective'\n",
     "output_type": "error",
     "traceback": [
      "\u001b[1;31m---------------------------------------------------------------------------\u001b[0m",
      "\u001b[1;31merror\u001b[0m                                     Traceback (most recent call last)",
      "\u001b[1;32m<ipython-input-150-eb9c91f23f98>\u001b[0m in \u001b[0;36m<module>\u001b[1;34m\u001b[0m\n\u001b[1;32m----> 1\u001b[1;33m \u001b[0mim_out\u001b[0m \u001b[1;33m=\u001b[0m \u001b[0mcv2\u001b[0m\u001b[1;33m.\u001b[0m\u001b[0mwarpPerspective\u001b[0m\u001b[1;33m(\u001b[0m\u001b[0minput_pts\u001b[0m\u001b[1;33m,\u001b[0m \u001b[0minput_pts\u001b[0m\u001b[1;33m*\u001b[0m\u001b[1;36m2\u001b[0m\u001b[1;33m,\u001b[0m \u001b[1;33m(\u001b[0m\u001b[1;36m200\u001b[0m\u001b[1;33m,\u001b[0m\u001b[1;36m600\u001b[0m\u001b[1;33m)\u001b[0m\u001b[1;33m)\u001b[0m\u001b[1;33m\u001b[0m\u001b[1;33m\u001b[0m\u001b[0m\n\u001b[0m",
      "\u001b[1;31merror\u001b[0m: OpenCV(4.5.5) D:\\a\\opencv-python\\opencv-python\\opencv\\modules\\imgproc\\src\\imgwarp.cpp:3168: error: (-215:Assertion failed) (M0.type() == CV_32F || M0.type() == CV_64F) && M0.rows == 3 && M0.cols == 3 in function 'cv::warpPerspective'\n"
     ]
    }
   ],
   "source": [
    "im_out = cv2.warpPerspective(input_pts, input_pts*2, (200,600))"
   ]
  },
  {
   "cell_type": "code",
   "execution_count": 152,
   "metadata": {},
   "outputs": [],
   "source": [
    "M = cv2.getPerspectiveTransform(input_pts,input_pts*2)"
   ]
  },
  {
   "cell_type": "code",
   "execution_count": 56,
   "metadata": {},
   "outputs": [],
   "source": [
    "sub = -edts[360:400, 300:340]\n",
    "ptA = [33,14]\n",
    "ptB=[11,35]"
   ]
  },
  {
   "cell_type": "code",
   "execution_count": null,
   "metadata": {},
   "outputs": [],
   "source": []
  },
  {
   "cell_type": "code",
   "execution_count": 22,
   "metadata": {
    "scrolled": false
   },
   "outputs": [
    {
     "data": {
      "text/plain": [
       "(                        File  Areas         IntDen  Chromosome  SeedSpots\n",
       " 0   ./All\\EPC_C2_022_MAX.tif   37.0   39393.535156         7.0        1.0\n",
       " 1   ./All\\EPC_C2_022_MAX.tif   37.0   39747.281250         7.0        1.0\n",
       " 2   ./All\\EPC_C2_022_MAX.tif   37.0   14571.961914        11.0        1.0\n",
       " 3   ./All\\EPC_C2_022_MAX.tif   58.0   36312.796875        12.0        1.0\n",
       " 4   ./All\\EPC_C2_022_MAX.tif   37.0   57336.195312        17.0        0.0\n",
       " 5   ./All\\EPC_C2_022_MAX.tif   37.0   49852.398438        27.0        1.0\n",
       " 6   ./All\\EPC_C2_022_MAX.tif   37.0   49953.988281        27.0        1.0\n",
       " 7   ./All\\EPC_C2_022_MAX.tif   37.0  104855.687500        33.0        1.0\n",
       " 8   ./All\\EPC_C2_022_MAX.tif   37.0  112719.085938        33.0        1.0\n",
       " 9   ./All\\EPC_C2_022_MAX.tif   74.0   97729.906250        35.0        2.0\n",
       " 10  ./All\\EPC_C2_022_MAX.tif   37.0   69155.898438        37.0        1.0\n",
       " 11  ./All\\EPC_C2_022_MAX.tif   37.0   15943.268555        38.0        1.0\n",
       " 12  ./All\\EPC_C2_022_MAX.tif   37.0   52599.984375        40.0        1.0,\n",
       "                         File  Areas        IntDen\n",
       " 0   ./All\\EPC_C2_022_MAX.tif   37.0  24257.380859\n",
       " 1   ./All\\EPC_C2_022_MAX.tif   37.0  20248.871094\n",
       " 2   ./All\\EPC_C2_022_MAX.tif   37.0   4498.545898\n",
       " 3   ./All\\EPC_C2_022_MAX.tif   37.0  21325.701172\n",
       " 4   ./All\\EPC_C2_022_MAX.tif   37.0  20768.482422\n",
       " 5   ./All\\EPC_C2_022_MAX.tif   37.0  39386.867188\n",
       " 6   ./All\\EPC_C2_022_MAX.tif   37.0  27642.607422\n",
       " 7   ./All\\EPC_C2_022_MAX.tif   37.0  22145.771484\n",
       " 8   ./All\\EPC_C2_022_MAX.tif   37.0  23428.832031\n",
       " 9   ./All\\EPC_C2_022_MAX.tif   37.0  26263.291016\n",
       " 10  ./All\\EPC_C2_022_MAX.tif   37.0  20843.453125\n",
       " 11  ./All\\EPC_C2_022_MAX.tif   37.0  18591.337891\n",
       " 12  ./All\\EPC_C2_022_MAX.tif   37.0  25127.255859\n",
       " 13  ./All\\EPC_C2_022_MAX.tif   37.0   4435.911621\n",
       " 14  ./All\\EPC_C2_022_MAX.tif   37.0  26862.484375)"
      ]
     },
     "execution_count": 22,
     "metadata": {},
     "output_type": "execute_result"
    }
   ],
   "source": [
    "process_file(glob.glob('./All/*.tif')[16], display=True)"
   ]
  },
  {
   "cell_type": "code",
   "execution_count": 41,
   "metadata": {},
   "outputs": [],
   "source": [
    "df_UBF = pd.DataFrame()\n",
    "df_rDNA = pd.DataFrame()\n",
    "for f in glob.glob('./All/*.tif'):\n",
    "    tmpU, tmpr = process_file(f)\n",
    "    df_UBF = pd.concat([df_UBF,tmpU])\n",
    "    df_rDNA = pd.concat([df_rDNA,tmpr])"
   ]
  },
  {
   "cell_type": "code",
   "execution_count": 42,
   "metadata": {},
   "outputs": [],
   "source": [
    "df_UBF['Type'] = df_UBF['File'].str.split('\\\\').str[1].str.split('_').str[0]\n",
    "df_rDNA['Type'] = df_rDNA['File'].str.split('\\\\').str[1].str.split('_').str[0]"
   ]
  },
  {
   "cell_type": "code",
   "execution_count": 43,
   "metadata": {},
   "outputs": [],
   "source": [
    "df_UBF.to_csv('Results_UBF.csv')\n",
    "df_rDNA.to_csv('Results_rDNA.csv')"
   ]
  },
  {
   "cell_type": "markdown",
   "metadata": {},
   "source": [
    "# Analyze"
   ]
  },
  {
   "cell_type": "markdown",
   "metadata": {},
   "source": [
    "### rDNA"
   ]
  },
  {
   "cell_type": "code",
   "execution_count": 293,
   "metadata": {},
   "outputs": [
    {
     "data": {
      "application/vnd.jupyter.widget-view+json": {
       "model_id": "87637e5b4fa9426caf07df2dcc685e9f",
       "version_major": 2,
       "version_minor": 0
      },
      "text/plain": [
       "FigureWidget({\n",
       "    'data': [{'alignmentgroup': 'True',\n",
       "              'boxpoints': 'all',\n",
       "              'custom…"
      ]
     },
     "metadata": {},
     "output_type": "display_data"
    }
   ],
   "source": [
    "df = pd.read_csv('Results_rDNA.csv')\n",
    "df['Mean'] = df['IntDen']/df['Areas']\n",
    "\n",
    "f=go.FigureWidget(\n",
    "    px.box(df, y='Mean', x='Type', hover_data=['File'], points='all')\n",
    "    )\n",
    "\n",
    "                \n",
    "def click_fn(trace, points, state):\n",
    "    if (len(points.point_inds)>0):\n",
    "        fname = f.data[points.trace_index]['customdata'][points.point_inds[-1]][0]\n",
    "        print(fname)\n",
    "        process_file(fname, display=True)\n",
    "        \n",
    "for a in f.data:\n",
    "    a.on_click(click_fn)\n",
    "\n",
    "f"
   ]
  },
  {
   "cell_type": "code",
   "execution_count": 294,
   "metadata": {},
   "outputs": [],
   "source": [
    "fig = px.box(df, y='Mean', x='Type', hover_data=['File'], points='all')\n",
    "fig.write_html(\"rDNA.html\")"
   ]
  },
  {
   "cell_type": "code",
   "execution_count": 295,
   "metadata": {},
   "outputs": [
    {
     "name": "stdout",
     "output_type": "stream",
     "text": [
      "EPC,EPC: 0.4999584557824599\n",
      "EPC,Naive: 6.781791631298397e-24\n",
      "EPC,Neuron: 8.47872025743551e-22\n",
      "Naive,EPC: 6.781791631298397e-24\n",
      "Naive,Naive: 0.4999382698043157\n",
      "Naive,Neuron: 0.4411815528481688\n",
      "Neuron,EPC: 8.47872025743551e-22\n",
      "Neuron,Naive: 0.4411815528481688\n",
      "Neuron,Neuron: 0.4998107016796531\n"
     ]
    }
   ],
   "source": [
    "for a in df['Type'].unique():\n",
    "    for b in df['Type'].unique():\n",
    "        rslt = sp.stats.mannwhitneyu(df[df['Type']==a]['IntDen'], df[df['Type']==b]['IntDen'])\n",
    "        print(a+','+b+': '+str(rslt[1]))"
   ]
  },
  {
   "cell_type": "markdown",
   "metadata": {},
   "source": [
    "### UBF"
   ]
  },
  {
   "cell_type": "code",
   "execution_count": 296,
   "metadata": {},
   "outputs": [
    {
     "data": {
      "application/vnd.jupyter.widget-view+json": {
       "model_id": "82dab01f32d642acab8bfd005ac0f6be",
       "version_major": 2,
       "version_minor": 0
      },
      "text/plain": [
       "FigureWidget({\n",
       "    'data': [{'alignmentgroup': 'True',\n",
       "              'boxpoints': 'all',\n",
       "              'custom…"
      ]
     },
     "metadata": {},
     "output_type": "display_data"
    }
   ],
   "source": [
    "df = pd.read_csv('Results_UBF.csv')\n",
    "df['Mean'] = df['IntDen']/df['Areas']\n",
    "\n",
    "f=go.FigureWidget(\n",
    "    px.box(df, y='Mean', x='Type', hover_data=['File'], points='all')\n",
    "    )\n",
    "\n",
    "                \n",
    "def click_fn(trace, points, state):\n",
    "    if (len(points.point_inds)>0):\n",
    "        fname = f.data[points.trace_index]['customdata'][points.point_inds[-1]][0]\n",
    "        print(fname)\n",
    "        process_file(fname, display=True)\n",
    "        \n",
    "for a in f.data:\n",
    "    a.on_click(click_fn)\n",
    "\n",
    "f"
   ]
  },
  {
   "cell_type": "code",
   "execution_count": 297,
   "metadata": {},
   "outputs": [],
   "source": [
    "fig = px.box(df, y='Mean', x='Type', hover_data=['File'], points='all')\n",
    "fig.write_html(\"UBF.html\")"
   ]
  },
  {
   "cell_type": "code",
   "execution_count": null,
   "metadata": {},
   "outputs": [],
   "source": [
    "for a in df['Type'].unique():\n",
    "    for b in df['Type'].unique():\n",
    "        rslt = sp.stats.mannwhitneyu(df[df['Type']==a]['IntDen'], df[df['Type']==b]['IntDen'])\n",
    "        print(a+','+b+': '+str(rslt[1]))"
   ]
  },
  {
   "cell_type": "markdown",
   "metadata": {},
   "source": [
    "### Ratio UBF/rDNA signal"
   ]
  },
  {
   "cell_type": "code",
   "execution_count": 139,
   "metadata": {},
   "outputs": [],
   "source": [
    "df_UBF = pd.read_csv('Results_UBF.csv')\n",
    "df_rDNA = pd.read_csv('Results_rDNA.csv')\n",
    "\n",
    "df_UBF['Mean'] = df_UBF['IntDen']/df_UBF['Areas']\n",
    "df_rDNA['Mean'] = df_rDNA['IntDen']/df_rDNA['Areas']"
   ]
  },
  {
   "cell_type": "code",
   "execution_count": 140,
   "metadata": {},
   "outputs": [],
   "source": [
    "aggA = df_UBF.groupby(['Type', 'File']).agg({'Mean':np.median}).reset_index()\n",
    "aggB = df_rDNA.groupby(['Type', 'File']).agg({'Mean':np.median}).reset_index()\n",
    "\n",
    "agg = aggA.merge(aggB, on=['Type', 'File'])"
   ]
  },
  {
   "cell_type": "code",
   "execution_count": 141,
   "metadata": {},
   "outputs": [],
   "source": [
    "agg['Ratio'] = agg['Mean_x']/agg['Mean_y']"
   ]
  },
  {
   "cell_type": "code",
   "execution_count": 142,
   "metadata": {},
   "outputs": [
    {
     "data": {
      "application/vnd.jupyter.widget-view+json": {
       "model_id": "1a2eb45add85499ba32ea75e719ee2b6",
       "version_major": 2,
       "version_minor": 0
      },
      "text/plain": [
       "FigureWidget({\n",
       "    'data': [{'alignmentgroup': 'True',\n",
       "              'boxpoints': 'all',\n",
       "              'custom…"
      ]
     },
     "metadata": {},
     "output_type": "display_data"
    },
    {
     "name": "stdout",
     "output_type": "stream",
     "text": [
      "./All\\Naive_C2_047_MAX.tif\n"
     ]
    }
   ],
   "source": [
    "\n",
    "f=go.FigureWidget(\n",
    "    px.box(agg, x='Type', y='Ratio', points='all', hover_data=['File'])\n",
    "    )\n",
    "\n",
    "                \n",
    "def click_fn(trace, points, state):\n",
    "    if (len(points.point_inds)>0):\n",
    "        fname = f.data[points.trace_index]['customdata'][points.point_inds[-1]][0]\n",
    "        print(fname)\n",
    "        process_file(fname, display=True)\n",
    "        viewer.layers[0].colormap='green'\n",
    "        for a in [0,1,2,3,4,5,6,7,8,9]:\n",
    "            viewer.layers[a].visible=False\n",
    "        for a in [0,2,9]:\n",
    "            viewer.layers[a].visible=True\n",
    "        \n",
    "for a in f.data:\n",
    "    a.on_click(click_fn)\n",
    "\n",
    "f"
   ]
  },
  {
   "cell_type": "code",
   "execution_count": 54,
   "metadata": {},
   "outputs": [
    {
     "name": "stdout",
     "output_type": "stream",
     "text": [
      "EPC,EPC: 0.4977528596899483\n",
      "EPC,Naive: 8.318954067270528e-09\n",
      "EPC,Neuron: 0.0006668950251175237\n",
      "Naive,EPC: 8.318954067270528e-09\n",
      "Naive,Naive: 0.4978429747012865\n",
      "Naive,Neuron: 0.0005550743851390979\n",
      "Neuron,EPC: 0.0006668950251175237\n",
      "Neuron,Naive: 0.0005550743851390979\n",
      "Neuron,Neuron: 0.49081796615144946\n"
     ]
    }
   ],
   "source": [
    "for a in agg['Type'].unique():\n",
    "    for b in agg['Type'].unique():\n",
    "        rslt = sp.stats.mannwhitneyu(agg[agg['Type']==a]['Ratio'], agg[agg['Type']==b]['Ratio'])\n",
    "        print(a+','+b+': '+str(rslt[1]))"
   ]
  },
  {
   "cell_type": "code",
   "execution_count": 74,
   "metadata": {},
   "outputs": [],
   "source": [
    "fig = px.box(agg, x='Type', y='Ratio', points='all', hover_data=['File'], title='Ratio of UBF to rDNA signal')\n",
    "fig.write_html(\"ratio.html\")"
   ]
  },
  {
   "cell_type": "markdown",
   "metadata": {},
   "source": [
    "See how often the original seeds from channel 1 got merged in the channel 2 mask"
   ]
  },
  {
   "cell_type": "code",
   "execution_count": 62,
   "metadata": {},
   "outputs": [],
   "source": [
    "agged = df.groupby(['File', 'Type']).agg({'SeedSpots':np.mean}).reset_index()"
   ]
  },
  {
   "cell_type": "code",
   "execution_count": 63,
   "metadata": {},
   "outputs": [
    {
     "data": {
      "application/vnd.plotly.v1+json": {
       "config": {
        "plotlyServerURL": "https://plot.ly"
       },
       "data": [
        {
         "alignmentgroup": "True",
         "boxpoints": "all",
         "hovertemplate": "Type=%{x}<br>SeedSpots=%{y}<extra></extra>",
         "legendgroup": "",
         "marker": {
          "color": "#636efa"
         },
         "name": "",
         "notched": false,
         "offsetgroup": "",
         "orientation": "v",
         "showlegend": false,
         "type": "box",
         "x": [
          "EPC",
          "EPC",
          "EPC",
          "EPC",
          "EPC",
          "EPC",
          "EPC",
          "EPC",
          "EPC",
          "EPC",
          "EPC",
          "EPC",
          "EPC",
          "EPC",
          "EPC",
          "EPC",
          "EPC",
          "EPC",
          "EPC",
          "EPC",
          "EPC",
          "EPC",
          "EPC",
          "EPC",
          "EPC",
          "EPC",
          "EPC",
          "EPC",
          "EPC",
          "EPC",
          "EPC",
          "EPC",
          "EPC",
          "EPC",
          "EPC",
          "EPC",
          "Naive",
          "Naive",
          "Naive",
          "Naive",
          "Naive",
          "Naive",
          "Naive",
          "Naive",
          "Naive",
          "Naive",
          "Naive",
          "Naive",
          "Naive",
          "Naive",
          "Naive",
          "Naive",
          "Naive",
          "Naive",
          "Naive",
          "Naive",
          "Naive",
          "Naive",
          "Naive",
          "Naive",
          "Naive",
          "Naive",
          "Naive",
          "Naive",
          "Naive",
          "Naive",
          "Naive",
          "Naive",
          "Naive",
          "Naive",
          "Naive",
          "Naive",
          "Naive",
          "Neuron",
          "Neuron",
          "Neuron",
          "Neuron",
          "Neuron",
          "Neuron",
          "Neuron",
          "Neuron",
          "Neuron",
          "Neuron",
          "Neuron",
          "Neuron",
          "Neuron",
          "Neuron"
         ],
         "x0": " ",
         "xaxis": "x",
         "y": [
          0.9285714285714286,
          0.75,
          0.75,
          0.875,
          0.875,
          0.5714285714285714,
          0.9230769230769231,
          0.9411764705882353,
          0.9375,
          0.6923076923076923,
          0.8823529411764706,
          0.75,
          0.9333333333333333,
          0.7058823529411765,
          0.9333333333333333,
          0.6428571428571429,
          1,
          0.9230769230769231,
          0.9230769230769231,
          1,
          0.8125,
          0.8421052631578947,
          0.9333333333333333,
          0.9090909090909091,
          0.7777777777777778,
          0.9230769230769231,
          1,
          0.8888888888888888,
          1,
          0.7333333333333333,
          1,
          0.8888888888888888,
          0.8461538461538461,
          1,
          0.7333333333333333,
          1,
          0.6666666666666666,
          1,
          0.9,
          1,
          0.7777777777777778,
          0.9333333333333333,
          0.6,
          0.75,
          0.7777777777777778,
          0.9166666666666666,
          0.8461538461538461,
          0.625,
          0.9375,
          0.7142857142857143,
          0.7,
          1,
          0.7142857142857143,
          0.7894736842105263,
          0.9375,
          1,
          1,
          0.5,
          0.8888888888888888,
          1,
          0.8181818181818182,
          1,
          0.8333333333333334,
          0.8333333333333334,
          0.75,
          0.8333333333333334,
          0.6666666666666666,
          0.9,
          0.9166666666666666,
          0.9285714285714286,
          0.7142857142857143,
          0.7777777777777778,
          0.75,
          0.9166666666666666,
          0.9285714285714286,
          1,
          0.9166666666666666,
          1,
          1.1111111111111112,
          0.8571428571428571,
          0.8,
          0.9375,
          1,
          1,
          1,
          0.8666666666666667,
          1
         ],
         "y0": " ",
         "yaxis": "y"
        }
       ],
       "layout": {
        "boxmode": "group",
        "legend": {
         "tracegroupgap": 0
        },
        "margin": {
         "t": 60
        },
        "template": {
         "data": {
          "bar": [
           {
            "error_x": {
             "color": "#2a3f5f"
            },
            "error_y": {
             "color": "#2a3f5f"
            },
            "marker": {
             "line": {
              "color": "#E5ECF6",
              "width": 0.5
             }
            },
            "type": "bar"
           }
          ],
          "barpolar": [
           {
            "marker": {
             "line": {
              "color": "#E5ECF6",
              "width": 0.5
             }
            },
            "type": "barpolar"
           }
          ],
          "carpet": [
           {
            "aaxis": {
             "endlinecolor": "#2a3f5f",
             "gridcolor": "white",
             "linecolor": "white",
             "minorgridcolor": "white",
             "startlinecolor": "#2a3f5f"
            },
            "baxis": {
             "endlinecolor": "#2a3f5f",
             "gridcolor": "white",
             "linecolor": "white",
             "minorgridcolor": "white",
             "startlinecolor": "#2a3f5f"
            },
            "type": "carpet"
           }
          ],
          "choropleth": [
           {
            "colorbar": {
             "outlinewidth": 0,
             "ticks": ""
            },
            "type": "choropleth"
           }
          ],
          "contour": [
           {
            "colorbar": {
             "outlinewidth": 0,
             "ticks": ""
            },
            "colorscale": [
             [
              0,
              "#0d0887"
             ],
             [
              0.1111111111111111,
              "#46039f"
             ],
             [
              0.2222222222222222,
              "#7201a8"
             ],
             [
              0.3333333333333333,
              "#9c179e"
             ],
             [
              0.4444444444444444,
              "#bd3786"
             ],
             [
              0.5555555555555556,
              "#d8576b"
             ],
             [
              0.6666666666666666,
              "#ed7953"
             ],
             [
              0.7777777777777778,
              "#fb9f3a"
             ],
             [
              0.8888888888888888,
              "#fdca26"
             ],
             [
              1,
              "#f0f921"
             ]
            ],
            "type": "contour"
           }
          ],
          "contourcarpet": [
           {
            "colorbar": {
             "outlinewidth": 0,
             "ticks": ""
            },
            "type": "contourcarpet"
           }
          ],
          "heatmap": [
           {
            "colorbar": {
             "outlinewidth": 0,
             "ticks": ""
            },
            "colorscale": [
             [
              0,
              "#0d0887"
             ],
             [
              0.1111111111111111,
              "#46039f"
             ],
             [
              0.2222222222222222,
              "#7201a8"
             ],
             [
              0.3333333333333333,
              "#9c179e"
             ],
             [
              0.4444444444444444,
              "#bd3786"
             ],
             [
              0.5555555555555556,
              "#d8576b"
             ],
             [
              0.6666666666666666,
              "#ed7953"
             ],
             [
              0.7777777777777778,
              "#fb9f3a"
             ],
             [
              0.8888888888888888,
              "#fdca26"
             ],
             [
              1,
              "#f0f921"
             ]
            ],
            "type": "heatmap"
           }
          ],
          "heatmapgl": [
           {
            "colorbar": {
             "outlinewidth": 0,
             "ticks": ""
            },
            "colorscale": [
             [
              0,
              "#0d0887"
             ],
             [
              0.1111111111111111,
              "#46039f"
             ],
             [
              0.2222222222222222,
              "#7201a8"
             ],
             [
              0.3333333333333333,
              "#9c179e"
             ],
             [
              0.4444444444444444,
              "#bd3786"
             ],
             [
              0.5555555555555556,
              "#d8576b"
             ],
             [
              0.6666666666666666,
              "#ed7953"
             ],
             [
              0.7777777777777778,
              "#fb9f3a"
             ],
             [
              0.8888888888888888,
              "#fdca26"
             ],
             [
              1,
              "#f0f921"
             ]
            ],
            "type": "heatmapgl"
           }
          ],
          "histogram": [
           {
            "marker": {
             "colorbar": {
              "outlinewidth": 0,
              "ticks": ""
             }
            },
            "type": "histogram"
           }
          ],
          "histogram2d": [
           {
            "colorbar": {
             "outlinewidth": 0,
             "ticks": ""
            },
            "colorscale": [
             [
              0,
              "#0d0887"
             ],
             [
              0.1111111111111111,
              "#46039f"
             ],
             [
              0.2222222222222222,
              "#7201a8"
             ],
             [
              0.3333333333333333,
              "#9c179e"
             ],
             [
              0.4444444444444444,
              "#bd3786"
             ],
             [
              0.5555555555555556,
              "#d8576b"
             ],
             [
              0.6666666666666666,
              "#ed7953"
             ],
             [
              0.7777777777777778,
              "#fb9f3a"
             ],
             [
              0.8888888888888888,
              "#fdca26"
             ],
             [
              1,
              "#f0f921"
             ]
            ],
            "type": "histogram2d"
           }
          ],
          "histogram2dcontour": [
           {
            "colorbar": {
             "outlinewidth": 0,
             "ticks": ""
            },
            "colorscale": [
             [
              0,
              "#0d0887"
             ],
             [
              0.1111111111111111,
              "#46039f"
             ],
             [
              0.2222222222222222,
              "#7201a8"
             ],
             [
              0.3333333333333333,
              "#9c179e"
             ],
             [
              0.4444444444444444,
              "#bd3786"
             ],
             [
              0.5555555555555556,
              "#d8576b"
             ],
             [
              0.6666666666666666,
              "#ed7953"
             ],
             [
              0.7777777777777778,
              "#fb9f3a"
             ],
             [
              0.8888888888888888,
              "#fdca26"
             ],
             [
              1,
              "#f0f921"
             ]
            ],
            "type": "histogram2dcontour"
           }
          ],
          "mesh3d": [
           {
            "colorbar": {
             "outlinewidth": 0,
             "ticks": ""
            },
            "type": "mesh3d"
           }
          ],
          "parcoords": [
           {
            "line": {
             "colorbar": {
              "outlinewidth": 0,
              "ticks": ""
             }
            },
            "type": "parcoords"
           }
          ],
          "pie": [
           {
            "automargin": true,
            "type": "pie"
           }
          ],
          "scatter": [
           {
            "marker": {
             "colorbar": {
              "outlinewidth": 0,
              "ticks": ""
             }
            },
            "type": "scatter"
           }
          ],
          "scatter3d": [
           {
            "line": {
             "colorbar": {
              "outlinewidth": 0,
              "ticks": ""
             }
            },
            "marker": {
             "colorbar": {
              "outlinewidth": 0,
              "ticks": ""
             }
            },
            "type": "scatter3d"
           }
          ],
          "scattercarpet": [
           {
            "marker": {
             "colorbar": {
              "outlinewidth": 0,
              "ticks": ""
             }
            },
            "type": "scattercarpet"
           }
          ],
          "scattergeo": [
           {
            "marker": {
             "colorbar": {
              "outlinewidth": 0,
              "ticks": ""
             }
            },
            "type": "scattergeo"
           }
          ],
          "scattergl": [
           {
            "marker": {
             "colorbar": {
              "outlinewidth": 0,
              "ticks": ""
             }
            },
            "type": "scattergl"
           }
          ],
          "scattermapbox": [
           {
            "marker": {
             "colorbar": {
              "outlinewidth": 0,
              "ticks": ""
             }
            },
            "type": "scattermapbox"
           }
          ],
          "scatterpolar": [
           {
            "marker": {
             "colorbar": {
              "outlinewidth": 0,
              "ticks": ""
             }
            },
            "type": "scatterpolar"
           }
          ],
          "scatterpolargl": [
           {
            "marker": {
             "colorbar": {
              "outlinewidth": 0,
              "ticks": ""
             }
            },
            "type": "scatterpolargl"
           }
          ],
          "scatterternary": [
           {
            "marker": {
             "colorbar": {
              "outlinewidth": 0,
              "ticks": ""
             }
            },
            "type": "scatterternary"
           }
          ],
          "surface": [
           {
            "colorbar": {
             "outlinewidth": 0,
             "ticks": ""
            },
            "colorscale": [
             [
              0,
              "#0d0887"
             ],
             [
              0.1111111111111111,
              "#46039f"
             ],
             [
              0.2222222222222222,
              "#7201a8"
             ],
             [
              0.3333333333333333,
              "#9c179e"
             ],
             [
              0.4444444444444444,
              "#bd3786"
             ],
             [
              0.5555555555555556,
              "#d8576b"
             ],
             [
              0.6666666666666666,
              "#ed7953"
             ],
             [
              0.7777777777777778,
              "#fb9f3a"
             ],
             [
              0.8888888888888888,
              "#fdca26"
             ],
             [
              1,
              "#f0f921"
             ]
            ],
            "type": "surface"
           }
          ],
          "table": [
           {
            "cells": {
             "fill": {
              "color": "#EBF0F8"
             },
             "line": {
              "color": "white"
             }
            },
            "header": {
             "fill": {
              "color": "#C8D4E3"
             },
             "line": {
              "color": "white"
             }
            },
            "type": "table"
           }
          ]
         },
         "layout": {
          "annotationdefaults": {
           "arrowcolor": "#2a3f5f",
           "arrowhead": 0,
           "arrowwidth": 1
          },
          "autotypenumbers": "strict",
          "coloraxis": {
           "colorbar": {
            "outlinewidth": 0,
            "ticks": ""
           }
          },
          "colorscale": {
           "diverging": [
            [
             0,
             "#8e0152"
            ],
            [
             0.1,
             "#c51b7d"
            ],
            [
             0.2,
             "#de77ae"
            ],
            [
             0.3,
             "#f1b6da"
            ],
            [
             0.4,
             "#fde0ef"
            ],
            [
             0.5,
             "#f7f7f7"
            ],
            [
             0.6,
             "#e6f5d0"
            ],
            [
             0.7,
             "#b8e186"
            ],
            [
             0.8,
             "#7fbc41"
            ],
            [
             0.9,
             "#4d9221"
            ],
            [
             1,
             "#276419"
            ]
           ],
           "sequential": [
            [
             0,
             "#0d0887"
            ],
            [
             0.1111111111111111,
             "#46039f"
            ],
            [
             0.2222222222222222,
             "#7201a8"
            ],
            [
             0.3333333333333333,
             "#9c179e"
            ],
            [
             0.4444444444444444,
             "#bd3786"
            ],
            [
             0.5555555555555556,
             "#d8576b"
            ],
            [
             0.6666666666666666,
             "#ed7953"
            ],
            [
             0.7777777777777778,
             "#fb9f3a"
            ],
            [
             0.8888888888888888,
             "#fdca26"
            ],
            [
             1,
             "#f0f921"
            ]
           ],
           "sequentialminus": [
            [
             0,
             "#0d0887"
            ],
            [
             0.1111111111111111,
             "#46039f"
            ],
            [
             0.2222222222222222,
             "#7201a8"
            ],
            [
             0.3333333333333333,
             "#9c179e"
            ],
            [
             0.4444444444444444,
             "#bd3786"
            ],
            [
             0.5555555555555556,
             "#d8576b"
            ],
            [
             0.6666666666666666,
             "#ed7953"
            ],
            [
             0.7777777777777778,
             "#fb9f3a"
            ],
            [
             0.8888888888888888,
             "#fdca26"
            ],
            [
             1,
             "#f0f921"
            ]
           ]
          },
          "colorway": [
           "#636efa",
           "#EF553B",
           "#00cc96",
           "#ab63fa",
           "#FFA15A",
           "#19d3f3",
           "#FF6692",
           "#B6E880",
           "#FF97FF",
           "#FECB52"
          ],
          "font": {
           "color": "#2a3f5f"
          },
          "geo": {
           "bgcolor": "white",
           "lakecolor": "white",
           "landcolor": "#E5ECF6",
           "showlakes": true,
           "showland": true,
           "subunitcolor": "white"
          },
          "hoverlabel": {
           "align": "left"
          },
          "hovermode": "closest",
          "mapbox": {
           "style": "light"
          },
          "paper_bgcolor": "white",
          "plot_bgcolor": "#E5ECF6",
          "polar": {
           "angularaxis": {
            "gridcolor": "white",
            "linecolor": "white",
            "ticks": ""
           },
           "bgcolor": "#E5ECF6",
           "radialaxis": {
            "gridcolor": "white",
            "linecolor": "white",
            "ticks": ""
           }
          },
          "scene": {
           "xaxis": {
            "backgroundcolor": "#E5ECF6",
            "gridcolor": "white",
            "gridwidth": 2,
            "linecolor": "white",
            "showbackground": true,
            "ticks": "",
            "zerolinecolor": "white"
           },
           "yaxis": {
            "backgroundcolor": "#E5ECF6",
            "gridcolor": "white",
            "gridwidth": 2,
            "linecolor": "white",
            "showbackground": true,
            "ticks": "",
            "zerolinecolor": "white"
           },
           "zaxis": {
            "backgroundcolor": "#E5ECF6",
            "gridcolor": "white",
            "gridwidth": 2,
            "linecolor": "white",
            "showbackground": true,
            "ticks": "",
            "zerolinecolor": "white"
           }
          },
          "shapedefaults": {
           "line": {
            "color": "#2a3f5f"
           }
          },
          "ternary": {
           "aaxis": {
            "gridcolor": "white",
            "linecolor": "white",
            "ticks": ""
           },
           "baxis": {
            "gridcolor": "white",
            "linecolor": "white",
            "ticks": ""
           },
           "bgcolor": "#E5ECF6",
           "caxis": {
            "gridcolor": "white",
            "linecolor": "white",
            "ticks": ""
           }
          },
          "title": {
           "x": 0.05
          },
          "xaxis": {
           "automargin": true,
           "gridcolor": "white",
           "linecolor": "white",
           "ticks": "",
           "title": {
            "standoff": 15
           },
           "zerolinecolor": "white",
           "zerolinewidth": 2
          },
          "yaxis": {
           "automargin": true,
           "gridcolor": "white",
           "linecolor": "white",
           "ticks": "",
           "title": {
            "standoff": 15
           },
           "zerolinecolor": "white",
           "zerolinewidth": 2
          }
         }
        },
        "xaxis": {
         "anchor": "y",
         "domain": [
          0,
          1
         ],
         "title": {
          "text": "Type"
         }
        },
        "yaxis": {
         "anchor": "x",
         "domain": [
          0,
          1
         ],
         "title": {
          "text": "SeedSpots"
         }
        }
       }
      },
      "text/html": [
       "<div>                            <div id=\"2d4e2872-98b1-4cf0-8d3d-c9747d514d8b\" class=\"plotly-graph-div\" style=\"height:525px; width:100%;\"></div>            <script type=\"text/javascript\">                require([\"plotly\"], function(Plotly) {                    window.PLOTLYENV=window.PLOTLYENV || {};                                    if (document.getElementById(\"2d4e2872-98b1-4cf0-8d3d-c9747d514d8b\")) {                    Plotly.newPlot(                        \"2d4e2872-98b1-4cf0-8d3d-c9747d514d8b\",                        [{\"alignmentgroup\": \"True\", \"boxpoints\": \"all\", \"hovertemplate\": \"Type=%{x}<br>SeedSpots=%{y}<extra></extra>\", \"legendgroup\": \"\", \"marker\": {\"color\": \"#636efa\"}, \"name\": \"\", \"notched\": false, \"offsetgroup\": \"\", \"orientation\": \"v\", \"showlegend\": false, \"type\": \"box\", \"x\": [\"EPC\", \"EPC\", \"EPC\", \"EPC\", \"EPC\", \"EPC\", \"EPC\", \"EPC\", \"EPC\", \"EPC\", \"EPC\", \"EPC\", \"EPC\", \"EPC\", \"EPC\", \"EPC\", \"EPC\", \"EPC\", \"EPC\", \"EPC\", \"EPC\", \"EPC\", \"EPC\", \"EPC\", \"EPC\", \"EPC\", \"EPC\", \"EPC\", \"EPC\", \"EPC\", \"EPC\", \"EPC\", \"EPC\", \"EPC\", \"EPC\", \"EPC\", \"Naive\", \"Naive\", \"Naive\", \"Naive\", \"Naive\", \"Naive\", \"Naive\", \"Naive\", \"Naive\", \"Naive\", \"Naive\", \"Naive\", \"Naive\", \"Naive\", \"Naive\", \"Naive\", \"Naive\", \"Naive\", \"Naive\", \"Naive\", \"Naive\", \"Naive\", \"Naive\", \"Naive\", \"Naive\", \"Naive\", \"Naive\", \"Naive\", \"Naive\", \"Naive\", \"Naive\", \"Naive\", \"Naive\", \"Naive\", \"Naive\", \"Naive\", \"Naive\", \"Neuron\", \"Neuron\", \"Neuron\", \"Neuron\", \"Neuron\", \"Neuron\", \"Neuron\", \"Neuron\", \"Neuron\", \"Neuron\", \"Neuron\", \"Neuron\", \"Neuron\", \"Neuron\"], \"x0\": \" \", \"xaxis\": \"x\", \"y\": [0.9285714285714286, 0.75, 0.75, 0.875, 0.875, 0.5714285714285714, 0.9230769230769231, 0.9411764705882353, 0.9375, 0.6923076923076923, 0.8823529411764706, 0.75, 0.9333333333333333, 0.7058823529411765, 0.9333333333333333, 0.6428571428571429, 1.0, 0.9230769230769231, 0.9230769230769231, 1.0, 0.8125, 0.8421052631578947, 0.9333333333333333, 0.9090909090909091, 0.7777777777777778, 0.9230769230769231, 1.0, 0.8888888888888888, 1.0, 0.7333333333333333, 1.0, 0.8888888888888888, 0.8461538461538461, 1.0, 0.7333333333333333, 1.0, 0.6666666666666666, 1.0, 0.9, 1.0, 0.7777777777777778, 0.9333333333333333, 0.6, 0.75, 0.7777777777777778, 0.9166666666666666, 0.8461538461538461, 0.625, 0.9375, 0.7142857142857143, 0.7, 1.0, 0.7142857142857143, 0.7894736842105263, 0.9375, 1.0, 1.0, 0.5, 0.8888888888888888, 1.0, 0.8181818181818182, 1.0, 0.8333333333333334, 0.8333333333333334, 0.75, 0.8333333333333334, 0.6666666666666666, 0.9, 0.9166666666666666, 0.9285714285714286, 0.7142857142857143, 0.7777777777777778, 0.75, 0.9166666666666666, 0.9285714285714286, 1.0, 0.9166666666666666, 1.0, 1.1111111111111112, 0.8571428571428571, 0.8, 0.9375, 1.0, 1.0, 1.0, 0.8666666666666667, 1.0], \"y0\": \" \", \"yaxis\": \"y\"}],                        {\"boxmode\": \"group\", \"legend\": {\"tracegroupgap\": 0}, \"margin\": {\"t\": 60}, \"template\": {\"data\": {\"bar\": [{\"error_x\": {\"color\": \"#2a3f5f\"}, \"error_y\": {\"color\": \"#2a3f5f\"}, \"marker\": {\"line\": {\"color\": \"#E5ECF6\", \"width\": 0.5}}, \"type\": \"bar\"}], \"barpolar\": [{\"marker\": {\"line\": {\"color\": \"#E5ECF6\", \"width\": 0.5}}, \"type\": \"barpolar\"}], \"carpet\": [{\"aaxis\": {\"endlinecolor\": \"#2a3f5f\", \"gridcolor\": \"white\", \"linecolor\": \"white\", \"minorgridcolor\": \"white\", \"startlinecolor\": \"#2a3f5f\"}, \"baxis\": {\"endlinecolor\": \"#2a3f5f\", \"gridcolor\": \"white\", \"linecolor\": \"white\", \"minorgridcolor\": \"white\", \"startlinecolor\": \"#2a3f5f\"}, \"type\": \"carpet\"}], \"choropleth\": [{\"colorbar\": {\"outlinewidth\": 0, \"ticks\": \"\"}, \"type\": \"choropleth\"}], \"contour\": [{\"colorbar\": {\"outlinewidth\": 0, \"ticks\": \"\"}, \"colorscale\": [[0.0, \"#0d0887\"], [0.1111111111111111, \"#46039f\"], [0.2222222222222222, \"#7201a8\"], [0.3333333333333333, \"#9c179e\"], [0.4444444444444444, \"#bd3786\"], [0.5555555555555556, \"#d8576b\"], [0.6666666666666666, \"#ed7953\"], [0.7777777777777778, \"#fb9f3a\"], [0.8888888888888888, \"#fdca26\"], [1.0, \"#f0f921\"]], \"type\": \"contour\"}], \"contourcarpet\": [{\"colorbar\": {\"outlinewidth\": 0, \"ticks\": \"\"}, \"type\": \"contourcarpet\"}], \"heatmap\": [{\"colorbar\": {\"outlinewidth\": 0, \"ticks\": \"\"}, \"colorscale\": [[0.0, \"#0d0887\"], [0.1111111111111111, \"#46039f\"], [0.2222222222222222, \"#7201a8\"], [0.3333333333333333, \"#9c179e\"], [0.4444444444444444, \"#bd3786\"], [0.5555555555555556, \"#d8576b\"], [0.6666666666666666, \"#ed7953\"], [0.7777777777777778, \"#fb9f3a\"], [0.8888888888888888, \"#fdca26\"], [1.0, \"#f0f921\"]], \"type\": \"heatmap\"}], \"heatmapgl\": [{\"colorbar\": {\"outlinewidth\": 0, \"ticks\": \"\"}, \"colorscale\": [[0.0, \"#0d0887\"], [0.1111111111111111, \"#46039f\"], [0.2222222222222222, \"#7201a8\"], [0.3333333333333333, \"#9c179e\"], [0.4444444444444444, \"#bd3786\"], [0.5555555555555556, \"#d8576b\"], [0.6666666666666666, \"#ed7953\"], [0.7777777777777778, \"#fb9f3a\"], [0.8888888888888888, \"#fdca26\"], [1.0, \"#f0f921\"]], \"type\": \"heatmapgl\"}], \"histogram\": [{\"marker\": {\"colorbar\": {\"outlinewidth\": 0, \"ticks\": \"\"}}, \"type\": \"histogram\"}], \"histogram2d\": [{\"colorbar\": {\"outlinewidth\": 0, \"ticks\": \"\"}, \"colorscale\": [[0.0, \"#0d0887\"], [0.1111111111111111, \"#46039f\"], [0.2222222222222222, \"#7201a8\"], [0.3333333333333333, \"#9c179e\"], [0.4444444444444444, \"#bd3786\"], [0.5555555555555556, \"#d8576b\"], [0.6666666666666666, \"#ed7953\"], [0.7777777777777778, \"#fb9f3a\"], [0.8888888888888888, \"#fdca26\"], [1.0, \"#f0f921\"]], \"type\": \"histogram2d\"}], \"histogram2dcontour\": [{\"colorbar\": {\"outlinewidth\": 0, \"ticks\": \"\"}, \"colorscale\": [[0.0, \"#0d0887\"], [0.1111111111111111, \"#46039f\"], [0.2222222222222222, \"#7201a8\"], [0.3333333333333333, \"#9c179e\"], [0.4444444444444444, \"#bd3786\"], [0.5555555555555556, \"#d8576b\"], [0.6666666666666666, \"#ed7953\"], [0.7777777777777778, \"#fb9f3a\"], [0.8888888888888888, \"#fdca26\"], [1.0, \"#f0f921\"]], \"type\": \"histogram2dcontour\"}], \"mesh3d\": [{\"colorbar\": {\"outlinewidth\": 0, \"ticks\": \"\"}, \"type\": \"mesh3d\"}], \"parcoords\": [{\"line\": {\"colorbar\": {\"outlinewidth\": 0, \"ticks\": \"\"}}, \"type\": \"parcoords\"}], \"pie\": [{\"automargin\": true, \"type\": \"pie\"}], \"scatter\": [{\"marker\": {\"colorbar\": {\"outlinewidth\": 0, \"ticks\": \"\"}}, \"type\": \"scatter\"}], \"scatter3d\": [{\"line\": {\"colorbar\": {\"outlinewidth\": 0, \"ticks\": \"\"}}, \"marker\": {\"colorbar\": {\"outlinewidth\": 0, \"ticks\": \"\"}}, \"type\": \"scatter3d\"}], \"scattercarpet\": [{\"marker\": {\"colorbar\": {\"outlinewidth\": 0, \"ticks\": \"\"}}, \"type\": \"scattercarpet\"}], \"scattergeo\": [{\"marker\": {\"colorbar\": {\"outlinewidth\": 0, \"ticks\": \"\"}}, \"type\": \"scattergeo\"}], \"scattergl\": [{\"marker\": {\"colorbar\": {\"outlinewidth\": 0, \"ticks\": \"\"}}, \"type\": \"scattergl\"}], \"scattermapbox\": [{\"marker\": {\"colorbar\": {\"outlinewidth\": 0, \"ticks\": \"\"}}, \"type\": \"scattermapbox\"}], \"scatterpolar\": [{\"marker\": {\"colorbar\": {\"outlinewidth\": 0, \"ticks\": \"\"}}, \"type\": \"scatterpolar\"}], \"scatterpolargl\": [{\"marker\": {\"colorbar\": {\"outlinewidth\": 0, \"ticks\": \"\"}}, \"type\": \"scatterpolargl\"}], \"scatterternary\": [{\"marker\": {\"colorbar\": {\"outlinewidth\": 0, \"ticks\": \"\"}}, \"type\": \"scatterternary\"}], \"surface\": [{\"colorbar\": {\"outlinewidth\": 0, \"ticks\": \"\"}, \"colorscale\": [[0.0, \"#0d0887\"], [0.1111111111111111, \"#46039f\"], [0.2222222222222222, \"#7201a8\"], [0.3333333333333333, \"#9c179e\"], [0.4444444444444444, \"#bd3786\"], [0.5555555555555556, \"#d8576b\"], [0.6666666666666666, \"#ed7953\"], [0.7777777777777778, \"#fb9f3a\"], [0.8888888888888888, \"#fdca26\"], [1.0, \"#f0f921\"]], \"type\": \"surface\"}], \"table\": [{\"cells\": {\"fill\": {\"color\": \"#EBF0F8\"}, \"line\": {\"color\": \"white\"}}, \"header\": {\"fill\": {\"color\": \"#C8D4E3\"}, \"line\": {\"color\": \"white\"}}, \"type\": \"table\"}]}, \"layout\": {\"annotationdefaults\": {\"arrowcolor\": \"#2a3f5f\", \"arrowhead\": 0, \"arrowwidth\": 1}, \"autotypenumbers\": \"strict\", \"coloraxis\": {\"colorbar\": {\"outlinewidth\": 0, \"ticks\": \"\"}}, \"colorscale\": {\"diverging\": [[0, \"#8e0152\"], [0.1, \"#c51b7d\"], [0.2, \"#de77ae\"], [0.3, \"#f1b6da\"], [0.4, \"#fde0ef\"], [0.5, \"#f7f7f7\"], [0.6, \"#e6f5d0\"], [0.7, \"#b8e186\"], [0.8, \"#7fbc41\"], [0.9, \"#4d9221\"], [1, \"#276419\"]], \"sequential\": [[0.0, \"#0d0887\"], [0.1111111111111111, \"#46039f\"], [0.2222222222222222, \"#7201a8\"], [0.3333333333333333, \"#9c179e\"], [0.4444444444444444, \"#bd3786\"], [0.5555555555555556, \"#d8576b\"], [0.6666666666666666, \"#ed7953\"], [0.7777777777777778, \"#fb9f3a\"], [0.8888888888888888, \"#fdca26\"], [1.0, \"#f0f921\"]], \"sequentialminus\": [[0.0, \"#0d0887\"], [0.1111111111111111, \"#46039f\"], [0.2222222222222222, \"#7201a8\"], [0.3333333333333333, \"#9c179e\"], [0.4444444444444444, \"#bd3786\"], [0.5555555555555556, \"#d8576b\"], [0.6666666666666666, \"#ed7953\"], [0.7777777777777778, \"#fb9f3a\"], [0.8888888888888888, \"#fdca26\"], [1.0, \"#f0f921\"]]}, \"colorway\": [\"#636efa\", \"#EF553B\", \"#00cc96\", \"#ab63fa\", \"#FFA15A\", \"#19d3f3\", \"#FF6692\", \"#B6E880\", \"#FF97FF\", \"#FECB52\"], \"font\": {\"color\": \"#2a3f5f\"}, \"geo\": {\"bgcolor\": \"white\", \"lakecolor\": \"white\", \"landcolor\": \"#E5ECF6\", \"showlakes\": true, \"showland\": true, \"subunitcolor\": \"white\"}, \"hoverlabel\": {\"align\": \"left\"}, \"hovermode\": \"closest\", \"mapbox\": {\"style\": \"light\"}, \"paper_bgcolor\": \"white\", \"plot_bgcolor\": \"#E5ECF6\", \"polar\": {\"angularaxis\": {\"gridcolor\": \"white\", \"linecolor\": \"white\", \"ticks\": \"\"}, \"bgcolor\": \"#E5ECF6\", \"radialaxis\": {\"gridcolor\": \"white\", \"linecolor\": \"white\", \"ticks\": \"\"}}, \"scene\": {\"xaxis\": {\"backgroundcolor\": \"#E5ECF6\", \"gridcolor\": \"white\", \"gridwidth\": 2, \"linecolor\": \"white\", \"showbackground\": true, \"ticks\": \"\", \"zerolinecolor\": \"white\"}, \"yaxis\": {\"backgroundcolor\": \"#E5ECF6\", \"gridcolor\": \"white\", \"gridwidth\": 2, \"linecolor\": \"white\", \"showbackground\": true, \"ticks\": \"\", \"zerolinecolor\": \"white\"}, \"zaxis\": {\"backgroundcolor\": \"#E5ECF6\", \"gridcolor\": \"white\", \"gridwidth\": 2, \"linecolor\": \"white\", \"showbackground\": true, \"ticks\": \"\", \"zerolinecolor\": \"white\"}}, \"shapedefaults\": {\"line\": {\"color\": \"#2a3f5f\"}}, \"ternary\": {\"aaxis\": {\"gridcolor\": \"white\", \"linecolor\": \"white\", \"ticks\": \"\"}, \"baxis\": {\"gridcolor\": \"white\", \"linecolor\": \"white\", \"ticks\": \"\"}, \"bgcolor\": \"#E5ECF6\", \"caxis\": {\"gridcolor\": \"white\", \"linecolor\": \"white\", \"ticks\": \"\"}}, \"title\": {\"x\": 0.05}, \"xaxis\": {\"automargin\": true, \"gridcolor\": \"white\", \"linecolor\": \"white\", \"ticks\": \"\", \"title\": {\"standoff\": 15}, \"zerolinecolor\": \"white\", \"zerolinewidth\": 2}, \"yaxis\": {\"automargin\": true, \"gridcolor\": \"white\", \"linecolor\": \"white\", \"ticks\": \"\", \"title\": {\"standoff\": 15}, \"zerolinecolor\": \"white\", \"zerolinewidth\": 2}}}, \"xaxis\": {\"anchor\": \"y\", \"domain\": [0.0, 1.0], \"title\": {\"text\": \"Type\"}}, \"yaxis\": {\"anchor\": \"x\", \"domain\": [0.0, 1.0], \"title\": {\"text\": \"SeedSpots\"}}},                        {\"responsive\": true}                    ).then(function(){\n",
       "                            \n",
       "var gd = document.getElementById('2d4e2872-98b1-4cf0-8d3d-c9747d514d8b');\n",
       "var x = new MutationObserver(function (mutations, observer) {{\n",
       "        var display = window.getComputedStyle(gd).display;\n",
       "        if (!display || display === 'none') {{\n",
       "            console.log([gd, 'removed!']);\n",
       "            Plotly.purge(gd);\n",
       "            observer.disconnect();\n",
       "        }}\n",
       "}});\n",
       "\n",
       "// Listen for the removal of the full notebook cells\n",
       "var notebookContainer = gd.closest('#notebook-container');\n",
       "if (notebookContainer) {{\n",
       "    x.observe(notebookContainer, {childList: true});\n",
       "}}\n",
       "\n",
       "// Listen for the clearing of the current output cell\n",
       "var outputEl = gd.closest('.output');\n",
       "if (outputEl) {{\n",
       "    x.observe(outputEl, {childList: true});\n",
       "}}\n",
       "\n",
       "                        })                };                });            </script>        </div>"
      ]
     },
     "metadata": {},
     "output_type": "display_data"
    }
   ],
   "source": [
    "px.box(agged, x='Type', y='SeedSpots', points='all')"
   ]
  },
  {
   "cell_type": "code",
   "execution_count": null,
   "metadata": {},
   "outputs": [],
   "source": []
  },
  {
   "cell_type": "code",
   "execution_count": null,
   "metadata": {},
   "outputs": [],
   "source": []
  },
  {
   "cell_type": "code",
   "execution_count": 46,
   "metadata": {},
   "outputs": [],
   "source": [
    "cdf = df.groupby(['File', 'Chromosome', 'Type']).agg({'IntDen':len}).reset_index()"
   ]
  },
  {
   "cell_type": "code",
   "execution_count": 47,
   "metadata": {},
   "outputs": [],
   "source": [
    "agged = cdf.groupby(['File', 'Type']).agg({'IntDen':np.mean}).reset_index()"
   ]
  },
  {
   "cell_type": "code",
   "execution_count": 48,
   "metadata": {},
   "outputs": [
    {
     "data": {
      "text/html": [
       "<div>\n",
       "<style scoped>\n",
       "    .dataframe tbody tr th:only-of-type {\n",
       "        vertical-align: middle;\n",
       "    }\n",
       "\n",
       "    .dataframe tbody tr th {\n",
       "        vertical-align: top;\n",
       "    }\n",
       "\n",
       "    .dataframe thead th {\n",
       "        text-align: right;\n",
       "    }\n",
       "</style>\n",
       "<table border=\"1\" class=\"dataframe\">\n",
       "  <thead>\n",
       "    <tr style=\"text-align: right;\">\n",
       "      <th></th>\n",
       "      <th>File</th>\n",
       "      <th>Type</th>\n",
       "      <th>IntDen</th>\n",
       "    </tr>\n",
       "  </thead>\n",
       "  <tbody>\n",
       "    <tr>\n",
       "      <th>0</th>\n",
       "      <td>./All\\EPC_C2_001_MAX.tif</td>\n",
       "      <td>EPC</td>\n",
       "      <td>1.400000</td>\n",
       "    </tr>\n",
       "    <tr>\n",
       "      <th>1</th>\n",
       "      <td>./All\\EPC_C2_002_MAX.tif</td>\n",
       "      <td>EPC</td>\n",
       "      <td>1.000000</td>\n",
       "    </tr>\n",
       "    <tr>\n",
       "      <th>2</th>\n",
       "      <td>./All\\EPC_C2_003_MAX.tif</td>\n",
       "      <td>EPC</td>\n",
       "      <td>1.750000</td>\n",
       "    </tr>\n",
       "    <tr>\n",
       "      <th>3</th>\n",
       "      <td>./All\\EPC_C2_004_MAX.tif</td>\n",
       "      <td>EPC</td>\n",
       "      <td>1.600000</td>\n",
       "    </tr>\n",
       "    <tr>\n",
       "      <th>4</th>\n",
       "      <td>./All\\EPC_C2_005_MAX.tif</td>\n",
       "      <td>EPC</td>\n",
       "      <td>1.230769</td>\n",
       "    </tr>\n",
       "    <tr>\n",
       "      <th>...</th>\n",
       "      <td>...</td>\n",
       "      <td>...</td>\n",
       "      <td>...</td>\n",
       "    </tr>\n",
       "    <tr>\n",
       "      <th>82</th>\n",
       "      <td>./All\\Neuron_C2_024_MAX.tif</td>\n",
       "      <td>Neuron</td>\n",
       "      <td>1.875000</td>\n",
       "    </tr>\n",
       "    <tr>\n",
       "      <th>83</th>\n",
       "      <td>./All\\Neuron_C2_025_MAX.tif</td>\n",
       "      <td>Neuron</td>\n",
       "      <td>14.000000</td>\n",
       "    </tr>\n",
       "    <tr>\n",
       "      <th>84</th>\n",
       "      <td>./All\\Neuron_C2_026_MAX.tif</td>\n",
       "      <td>Neuron</td>\n",
       "      <td>1.625000</td>\n",
       "    </tr>\n",
       "    <tr>\n",
       "      <th>85</th>\n",
       "      <td>./All\\Neuron_C2_027_MAX.tif</td>\n",
       "      <td>Neuron</td>\n",
       "      <td>1.875000</td>\n",
       "    </tr>\n",
       "    <tr>\n",
       "      <th>86</th>\n",
       "      <td>./All\\Neuron_C2_028_MAX.tif</td>\n",
       "      <td>Neuron</td>\n",
       "      <td>2.333333</td>\n",
       "    </tr>\n",
       "  </tbody>\n",
       "</table>\n",
       "<p>87 rows × 3 columns</p>\n",
       "</div>"
      ],
      "text/plain": [
       "                           File    Type     IntDen\n",
       "0      ./All\\EPC_C2_001_MAX.tif     EPC   1.400000\n",
       "1      ./All\\EPC_C2_002_MAX.tif     EPC   1.000000\n",
       "2      ./All\\EPC_C2_003_MAX.tif     EPC   1.750000\n",
       "3      ./All\\EPC_C2_004_MAX.tif     EPC   1.600000\n",
       "4      ./All\\EPC_C2_005_MAX.tif     EPC   1.230769\n",
       "..                          ...     ...        ...\n",
       "82  ./All\\Neuron_C2_024_MAX.tif  Neuron   1.875000\n",
       "83  ./All\\Neuron_C2_025_MAX.tif  Neuron  14.000000\n",
       "84  ./All\\Neuron_C2_026_MAX.tif  Neuron   1.625000\n",
       "85  ./All\\Neuron_C2_027_MAX.tif  Neuron   1.875000\n",
       "86  ./All\\Neuron_C2_028_MAX.tif  Neuron   2.333333\n",
       "\n",
       "[87 rows x 3 columns]"
      ]
     },
     "execution_count": 48,
     "metadata": {},
     "output_type": "execute_result"
    }
   ],
   "source": [
    "agged"
   ]
  },
  {
   "cell_type": "code",
   "execution_count": 18,
   "metadata": {},
   "outputs": [
    {
     "data": {
      "application/vnd.jupyter.widget-view+json": {
       "model_id": "69ebc36bcb3045f780a6d3f6198389fe",
       "version_major": 2,
       "version_minor": 0
      },
      "text/plain": [
       "FigureWidget({\n",
       "    'data': [{'alignmentgroup': 'True',\n",
       "              'boxpoints': 'all',\n",
       "              'custom…"
      ]
     },
     "metadata": {},
     "output_type": "display_data"
    },
    {
     "name": "stdout",
     "output_type": "stream",
     "text": [
      "./All\\Neuron_C2_025_MAX.tif\n",
      "./All\\Neuron_C2_017_MAX.tif\n",
      "./All\\Neuron_C2_027_MAX.tif\n",
      "./All\\Naive_C2_001_MAX.tif\n",
      "./All\\Naive_C2_005_MAX.tif\n",
      "./All\\Naive_C2_016_MAX.tif\n",
      "./All\\Naive_C2_023_MAX.tif\n",
      "./All\\EPC_C2_002_MAX.tif\n",
      "./All\\Neuron_C2_026_MAX.tif\n",
      "./All\\EPC_C2_001_MAX.tif\n",
      "./All\\Neuron_C2_009_MAX.tif\n",
      "./All\\Neuron_C2_009_MAX.tif\n"
     ]
    }
   ],
   "source": [
    "f=go.FigureWidget(\n",
    "    px.box(agged, x='Type', y='IntDen', points='all', hover_data=['File'])\n",
    "    )\n",
    "\n",
    "                \n",
    "def click_fn(trace, points, state):\n",
    "    if (len(points.point_inds)>0):\n",
    "        fname = f.data[points.trace_index]['customdata'][points.point_inds[-1]][0]\n",
    "        print(fname)\n",
    "        process_file(fname, display=True)\n",
    "        \n",
    "for a in f.data:\n",
    "    a.on_click(click_fn)\n",
    "\n",
    "f"
   ]
  },
  {
   "cell_type": "code",
   "execution_count": null,
   "metadata": {},
   "outputs": [],
   "source": []
  }
 ],
 "metadata": {
  "accelerator": "GPU",
  "colab": {
   "collapsed_sections": [],
   "name": "Copy of run_cellpose_GPU.ipynb",
   "provenance": [],
   "toc_visible": true
  },
  "kernelspec": {
   "display_name": "Python 3 (ipykernel)",
   "language": "python",
   "name": "python3"
  },
  "language_info": {
   "codemirror_mode": {
    "name": "ipython",
    "version": 3
   },
   "file_extension": ".py",
   "mimetype": "text/x-python",
   "name": "python",
   "nbconvert_exporter": "python",
   "pygments_lexer": "ipython3",
   "version": "3.8.13"
  }
 },
 "nbformat": 4,
 "nbformat_minor": 1
}
